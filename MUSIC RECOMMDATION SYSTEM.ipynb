{
  "cells": [
    {
      "cell_type": "markdown",
      "metadata": {
        "id": "iqfJK85NdoOz"
      },
      "source": [
        "# Import Libraries"
      ]
    },
    {
      "cell_type": "code",
      "execution_count": 1,
      "metadata": {
        "id": "eqhSe7cgxxyw"
      },
      "outputs": [],
      "source": [
        "import os\n",
        "import numpy as np\n",
        "import pandas as pd\n",
        "\n",
        "import seaborn as sns\n",
        "import plotly.express as px\n",
        "import matplotlib.pyplot as plt\n",
        "%matplotlib inline\n",
        "\n",
        "from sklearn.cluster import KMeans\n",
        "from sklearn.preprocessing import StandardScaler\n",
        "from sklearn.pipeline import Pipeline\n",
        "from sklearn.manifold import TSNE\n",
        "from sklearn.decomposition import PCA\n",
        "from sklearn.metrics import euclidean_distances\n",
        "from scipy.spatial.distance import cdist\n",
        "from collections import defaultdict\n",
        "import difflib\n",
        "\n",
        "import warnings\n",
        "warnings.filterwarnings(\"ignore\")"
      ]
    },
    {
      "cell_type": "markdown",
      "metadata": {
        "id": "QdtRNu6PdJ0-"
      },
      "source": [
        "# Read Dataset\n",
        "\n"
      ]
    },
    {
      "cell_type": "code",
      "execution_count": 2,
      "metadata": {
        "id": "DiFjZotzxb0m"
      },
      "outputs": [],
      "source": [
        "data = pd.read_csv(\"data.csv\")\n",
        "genre_data = pd.read_csv('data_by_genres.csv')\n",
        "year_data = pd.read_csv('data_by_year.csv')"
      ]
    },
    {
      "cell_type": "code",
      "execution_count": 3,
      "metadata": {
        "colab": {
          "base_uri": "https://localhost:8080/",
          "height": 504
        },
        "id": "abpCxAXD7SP-",
        "outputId": "218ec76f-b145-405e-d97c-f186e1e07c63"
      },
      "outputs": [
        {
          "data": {
            "text/html": [
              "<div>\n",
              "<style scoped>\n",
              "    .dataframe tbody tr th:only-of-type {\n",
              "        vertical-align: middle;\n",
              "    }\n",
              "\n",
              "    .dataframe tbody tr th {\n",
              "        vertical-align: top;\n",
              "    }\n",
              "\n",
              "    .dataframe thead th {\n",
              "        text-align: right;\n",
              "    }\n",
              "</style>\n",
              "<table border=\"1\" class=\"dataframe\">\n",
              "  <thead>\n",
              "    <tr style=\"text-align: right;\">\n",
              "      <th></th>\n",
              "      <th>valence</th>\n",
              "      <th>year</th>\n",
              "      <th>acousticness</th>\n",
              "      <th>artists</th>\n",
              "      <th>danceability</th>\n",
              "      <th>duration_ms</th>\n",
              "      <th>energy</th>\n",
              "      <th>explicit</th>\n",
              "      <th>id</th>\n",
              "      <th>instrumentalness</th>\n",
              "      <th>key</th>\n",
              "      <th>liveness</th>\n",
              "      <th>loudness</th>\n",
              "      <th>mode</th>\n",
              "      <th>name</th>\n",
              "      <th>popularity</th>\n",
              "      <th>release_date</th>\n",
              "      <th>speechiness</th>\n",
              "      <th>tempo</th>\n",
              "    </tr>\n",
              "  </thead>\n",
              "  <tbody>\n",
              "    <tr>\n",
              "      <th>0</th>\n",
              "      <td>0.0594</td>\n",
              "      <td>1921</td>\n",
              "      <td>0.982</td>\n",
              "      <td>Sergei Rachmaninoff James Levine Berliner Phil...</td>\n",
              "      <td>0.279</td>\n",
              "      <td>831667</td>\n",
              "      <td>0.211</td>\n",
              "      <td>0</td>\n",
              "      <td>4BJqT0PrAfrxzMOxytFOIz</td>\n",
              "      <td>0.878000</td>\n",
              "      <td>10</td>\n",
              "      <td>0.665</td>\n",
              "      <td>-20.096</td>\n",
              "      <td>1</td>\n",
              "      <td>Piano Concerto No. 3 in D Minor, Op. 30: III. ...</td>\n",
              "      <td>4</td>\n",
              "      <td>1921</td>\n",
              "      <td>0.0366</td>\n",
              "      <td>80.954</td>\n",
              "    </tr>\n",
              "    <tr>\n",
              "      <th>1</th>\n",
              "      <td>0.9630</td>\n",
              "      <td>1921</td>\n",
              "      <td>0.732</td>\n",
              "      <td>Dennis Day</td>\n",
              "      <td>0.819</td>\n",
              "      <td>180533</td>\n",
              "      <td>0.341</td>\n",
              "      <td>0</td>\n",
              "      <td>7xPhfUan2yNtyFG0cUWkt8</td>\n",
              "      <td>0.000000</td>\n",
              "      <td>7</td>\n",
              "      <td>0.160</td>\n",
              "      <td>-12.441</td>\n",
              "      <td>1</td>\n",
              "      <td>Clancy Lowered the Boom</td>\n",
              "      <td>5</td>\n",
              "      <td>1921</td>\n",
              "      <td>0.4150</td>\n",
              "      <td>60.936</td>\n",
              "    </tr>\n",
              "    <tr>\n",
              "      <th>2</th>\n",
              "      <td>0.0394</td>\n",
              "      <td>1921</td>\n",
              "      <td>0.961</td>\n",
              "      <td>KHP Kridhamardawa Karaton Ngayogyakarta Hadini...</td>\n",
              "      <td>0.328</td>\n",
              "      <td>500062</td>\n",
              "      <td>0.166</td>\n",
              "      <td>0</td>\n",
              "      <td>1o6I8BglA6ylDMrIELygv1</td>\n",
              "      <td>0.913000</td>\n",
              "      <td>3</td>\n",
              "      <td>0.101</td>\n",
              "      <td>-14.850</td>\n",
              "      <td>1</td>\n",
              "      <td>Gati Bali</td>\n",
              "      <td>5</td>\n",
              "      <td>1921</td>\n",
              "      <td>0.0339</td>\n",
              "      <td>110.339</td>\n",
              "    </tr>\n",
              "    <tr>\n",
              "      <th>3</th>\n",
              "      <td>0.1650</td>\n",
              "      <td>1921</td>\n",
              "      <td>0.967</td>\n",
              "      <td>Frank Parker</td>\n",
              "      <td>0.275</td>\n",
              "      <td>210000</td>\n",
              "      <td>0.309</td>\n",
              "      <td>0</td>\n",
              "      <td>3ftBPsC5vPBKxYSee08FDH</td>\n",
              "      <td>0.000028</td>\n",
              "      <td>5</td>\n",
              "      <td>0.381</td>\n",
              "      <td>-9.316</td>\n",
              "      <td>1</td>\n",
              "      <td>Danny Boy</td>\n",
              "      <td>3</td>\n",
              "      <td>1921</td>\n",
              "      <td>0.0354</td>\n",
              "      <td>100.109</td>\n",
              "    </tr>\n",
              "    <tr>\n",
              "      <th>4</th>\n",
              "      <td>0.2530</td>\n",
              "      <td>1921</td>\n",
              "      <td>0.957</td>\n",
              "      <td>Phil Regan</td>\n",
              "      <td>0.418</td>\n",
              "      <td>166693</td>\n",
              "      <td>0.193</td>\n",
              "      <td>0</td>\n",
              "      <td>4d6HGyGT8e121BsdKmw9v6</td>\n",
              "      <td>0.000002</td>\n",
              "      <td>3</td>\n",
              "      <td>0.229</td>\n",
              "      <td>-10.096</td>\n",
              "      <td>1</td>\n",
              "      <td>When Irish Eyes Are Smiling</td>\n",
              "      <td>2</td>\n",
              "      <td>1921</td>\n",
              "      <td>0.0380</td>\n",
              "      <td>101.665</td>\n",
              "    </tr>\n",
              "  </tbody>\n",
              "</table>\n",
              "</div>"
            ],
            "text/plain": [
              "   valence  year  acousticness  \\\n",
              "0   0.0594  1921         0.982   \n",
              "1   0.9630  1921         0.732   \n",
              "2   0.0394  1921         0.961   \n",
              "3   0.1650  1921         0.967   \n",
              "4   0.2530  1921         0.957   \n",
              "\n",
              "                                             artists  danceability  \\\n",
              "0  Sergei Rachmaninoff James Levine Berliner Phil...         0.279   \n",
              "1                                         Dennis Day         0.819   \n",
              "2  KHP Kridhamardawa Karaton Ngayogyakarta Hadini...         0.328   \n",
              "3                                       Frank Parker         0.275   \n",
              "4                                         Phil Regan         0.418   \n",
              "\n",
              "   duration_ms  energy  explicit                      id  instrumentalness  \\\n",
              "0       831667   0.211         0  4BJqT0PrAfrxzMOxytFOIz          0.878000   \n",
              "1       180533   0.341         0  7xPhfUan2yNtyFG0cUWkt8          0.000000   \n",
              "2       500062   0.166         0  1o6I8BglA6ylDMrIELygv1          0.913000   \n",
              "3       210000   0.309         0  3ftBPsC5vPBKxYSee08FDH          0.000028   \n",
              "4       166693   0.193         0  4d6HGyGT8e121BsdKmw9v6          0.000002   \n",
              "\n",
              "   key  liveness  loudness  mode  \\\n",
              "0   10     0.665   -20.096     1   \n",
              "1    7     0.160   -12.441     1   \n",
              "2    3     0.101   -14.850     1   \n",
              "3    5     0.381    -9.316     1   \n",
              "4    3     0.229   -10.096     1   \n",
              "\n",
              "                                                name  popularity release_date  \\\n",
              "0  Piano Concerto No. 3 in D Minor, Op. 30: III. ...           4         1921   \n",
              "1                            Clancy Lowered the Boom           5         1921   \n",
              "2                                          Gati Bali           5         1921   \n",
              "3                                          Danny Boy           3         1921   \n",
              "4                        When Irish Eyes Are Smiling           2         1921   \n",
              "\n",
              "   speechiness    tempo  \n",
              "0       0.0366   80.954  \n",
              "1       0.4150   60.936  \n",
              "2       0.0339  110.339  \n",
              "3       0.0354  100.109  \n",
              "4       0.0380  101.665  "
            ]
          },
          "execution_count": 3,
          "metadata": {},
          "output_type": "execute_result"
        }
      ],
      "source": [
        "data.head()"
      ]
    },
    {
      "cell_type": "code",
      "execution_count": 4,
      "metadata": {
        "colab": {
          "base_uri": "https://localhost:8080/",
          "height": 223
        },
        "id": "MTyuxID_7_PY",
        "outputId": "1db5e8d6-6a35-477d-d633-69c36ff5689f"
      },
      "outputs": [
        {
          "data": {
            "text/html": [
              "<div>\n",
              "<style scoped>\n",
              "    .dataframe tbody tr th:only-of-type {\n",
              "        vertical-align: middle;\n",
              "    }\n",
              "\n",
              "    .dataframe tbody tr th {\n",
              "        vertical-align: top;\n",
              "    }\n",
              "\n",
              "    .dataframe thead th {\n",
              "        text-align: right;\n",
              "    }\n",
              "</style>\n",
              "<table border=\"1\" class=\"dataframe\">\n",
              "  <thead>\n",
              "    <tr style=\"text-align: right;\">\n",
              "      <th></th>\n",
              "      <th>mode</th>\n",
              "      <th>genres</th>\n",
              "      <th>acousticness</th>\n",
              "      <th>danceability</th>\n",
              "      <th>duration_ms</th>\n",
              "      <th>energy</th>\n",
              "      <th>instrumentalness</th>\n",
              "      <th>liveness</th>\n",
              "      <th>loudness</th>\n",
              "      <th>speechiness</th>\n",
              "      <th>tempo</th>\n",
              "      <th>valence</th>\n",
              "      <th>popularity</th>\n",
              "      <th>key</th>\n",
              "    </tr>\n",
              "  </thead>\n",
              "  <tbody>\n",
              "    <tr>\n",
              "      <th>0</th>\n",
              "      <td>1</td>\n",
              "      <td>21st century classical</td>\n",
              "      <td>0.979333</td>\n",
              "      <td>0.162883</td>\n",
              "      <td>1.602977e+05</td>\n",
              "      <td>0.071317</td>\n",
              "      <td>0.606834</td>\n",
              "      <td>0.361600</td>\n",
              "      <td>-31.514333</td>\n",
              "      <td>0.040567</td>\n",
              "      <td>75.336500</td>\n",
              "      <td>0.103783</td>\n",
              "      <td>27.833333</td>\n",
              "      <td>6</td>\n",
              "    </tr>\n",
              "    <tr>\n",
              "      <th>1</th>\n",
              "      <td>1</td>\n",
              "      <td>432hz</td>\n",
              "      <td>0.494780</td>\n",
              "      <td>0.299333</td>\n",
              "      <td>1.048887e+06</td>\n",
              "      <td>0.450678</td>\n",
              "      <td>0.477762</td>\n",
              "      <td>0.131000</td>\n",
              "      <td>-16.854000</td>\n",
              "      <td>0.076817</td>\n",
              "      <td>120.285667</td>\n",
              "      <td>0.221750</td>\n",
              "      <td>52.500000</td>\n",
              "      <td>5</td>\n",
              "    </tr>\n",
              "    <tr>\n",
              "      <th>2</th>\n",
              "      <td>1</td>\n",
              "      <td>8-bit</td>\n",
              "      <td>0.762000</td>\n",
              "      <td>0.712000</td>\n",
              "      <td>1.151770e+05</td>\n",
              "      <td>0.818000</td>\n",
              "      <td>0.876000</td>\n",
              "      <td>0.126000</td>\n",
              "      <td>-9.180000</td>\n",
              "      <td>0.047000</td>\n",
              "      <td>133.444000</td>\n",
              "      <td>0.975000</td>\n",
              "      <td>48.000000</td>\n",
              "      <td>7</td>\n",
              "    </tr>\n",
              "    <tr>\n",
              "      <th>3</th>\n",
              "      <td>1</td>\n",
              "      <td>[]</td>\n",
              "      <td>0.651417</td>\n",
              "      <td>0.529093</td>\n",
              "      <td>2.328809e+05</td>\n",
              "      <td>0.419146</td>\n",
              "      <td>0.205309</td>\n",
              "      <td>0.218696</td>\n",
              "      <td>-12.288965</td>\n",
              "      <td>0.107872</td>\n",
              "      <td>112.857352</td>\n",
              "      <td>0.513604</td>\n",
              "      <td>20.859882</td>\n",
              "      <td>7</td>\n",
              "    </tr>\n",
              "    <tr>\n",
              "      <th>4</th>\n",
              "      <td>1</td>\n",
              "      <td>a cappella</td>\n",
              "      <td>0.676557</td>\n",
              "      <td>0.538961</td>\n",
              "      <td>1.906285e+05</td>\n",
              "      <td>0.316434</td>\n",
              "      <td>0.003003</td>\n",
              "      <td>0.172254</td>\n",
              "      <td>-12.479387</td>\n",
              "      <td>0.082851</td>\n",
              "      <td>112.110362</td>\n",
              "      <td>0.448249</td>\n",
              "      <td>45.820071</td>\n",
              "      <td>7</td>\n",
              "    </tr>\n",
              "  </tbody>\n",
              "</table>\n",
              "</div>"
            ],
            "text/plain": [
              "   mode                  genres  acousticness  danceability   duration_ms  \\\n",
              "0     1  21st century classical      0.979333      0.162883  1.602977e+05   \n",
              "1     1                   432hz      0.494780      0.299333  1.048887e+06   \n",
              "2     1                   8-bit      0.762000      0.712000  1.151770e+05   \n",
              "3     1                      []      0.651417      0.529093  2.328809e+05   \n",
              "4     1              a cappella      0.676557      0.538961  1.906285e+05   \n",
              "\n",
              "     energy  instrumentalness  liveness   loudness  speechiness       tempo  \\\n",
              "0  0.071317          0.606834  0.361600 -31.514333     0.040567   75.336500   \n",
              "1  0.450678          0.477762  0.131000 -16.854000     0.076817  120.285667   \n",
              "2  0.818000          0.876000  0.126000  -9.180000     0.047000  133.444000   \n",
              "3  0.419146          0.205309  0.218696 -12.288965     0.107872  112.857352   \n",
              "4  0.316434          0.003003  0.172254 -12.479387     0.082851  112.110362   \n",
              "\n",
              "    valence  popularity  key  \n",
              "0  0.103783   27.833333    6  \n",
              "1  0.221750   52.500000    5  \n",
              "2  0.975000   48.000000    7  \n",
              "3  0.513604   20.859882    7  \n",
              "4  0.448249   45.820071    7  "
            ]
          },
          "execution_count": 4,
          "metadata": {},
          "output_type": "execute_result"
        }
      ],
      "source": [
        "genre_data.head()"
      ]
    },
    {
      "cell_type": "code",
      "execution_count": 5,
      "metadata": {
        "colab": {
          "base_uri": "https://localhost:8080/"
        },
        "id": "DU_0G_Dmx_re",
        "outputId": "927ba69e-4df0-49a0-dfc4-9e311f8a69f7"
      },
      "outputs": [
        {
          "name": "stdout",
          "output_type": "stream",
          "text": [
            "<class 'pandas.core.frame.DataFrame'>\n",
            "RangeIndex: 170202 entries, 0 to 170201\n",
            "Data columns (total 19 columns):\n",
            " #   Column            Non-Null Count   Dtype  \n",
            "---  ------            --------------   -----  \n",
            " 0   valence           170202 non-null  float64\n",
            " 1   year              170202 non-null  int64  \n",
            " 2   acousticness      170202 non-null  float64\n",
            " 3   artists           170202 non-null  object \n",
            " 4   danceability      170202 non-null  float64\n",
            " 5   duration_ms       170202 non-null  int64  \n",
            " 6   energy            170202 non-null  float64\n",
            " 7   explicit          170202 non-null  int64  \n",
            " 8   id                170202 non-null  object \n",
            " 9   instrumentalness  170202 non-null  float64\n",
            " 10  key               170202 non-null  int64  \n",
            " 11  liveness          170202 non-null  float64\n",
            " 12  loudness          170202 non-null  float64\n",
            " 13  mode              170202 non-null  int64  \n",
            " 14  name              170202 non-null  object \n",
            " 15  popularity        170202 non-null  int64  \n",
            " 16  release_date      170202 non-null  object \n",
            " 17  speechiness       170202 non-null  float64\n",
            " 18  tempo             170202 non-null  float64\n",
            "dtypes: float64(9), int64(6), object(4)\n",
            "memory usage: 24.7+ MB\n"
          ]
        }
      ],
      "source": [
        "data.info()"
      ]
    },
    {
      "cell_type": "code",
      "execution_count": 6,
      "metadata": {
        "colab": {
          "base_uri": "https://localhost:8080/"
        },
        "id": "wg7H7q8428nA",
        "outputId": "c4794c01-4ff8-415c-9279-8d9da2216cfd"
      },
      "outputs": [
        {
          "name": "stdout",
          "output_type": "stream",
          "text": [
            "<class 'pandas.core.frame.DataFrame'>\n",
            "RangeIndex: 2973 entries, 0 to 2972\n",
            "Data columns (total 14 columns):\n",
            " #   Column            Non-Null Count  Dtype  \n",
            "---  ------            --------------  -----  \n",
            " 0   mode              2973 non-null   int64  \n",
            " 1   genres            2973 non-null   object \n",
            " 2   acousticness      2973 non-null   float64\n",
            " 3   danceability      2973 non-null   float64\n",
            " 4   duration_ms       2973 non-null   float64\n",
            " 5   energy            2973 non-null   float64\n",
            " 6   instrumentalness  2973 non-null   float64\n",
            " 7   liveness          2973 non-null   float64\n",
            " 8   loudness          2973 non-null   float64\n",
            " 9   speechiness       2973 non-null   float64\n",
            " 10  tempo             2973 non-null   float64\n",
            " 11  valence           2973 non-null   float64\n",
            " 12  popularity        2973 non-null   float64\n",
            " 13  key               2973 non-null   int64  \n",
            "dtypes: float64(11), int64(2), object(1)\n",
            "memory usage: 325.3+ KB\n"
          ]
        }
      ],
      "source": [
        "genre_data.info()"
      ]
    },
    {
      "cell_type": "markdown",
      "metadata": {
        "id": "lIT5i0zDdV4n"
      },
      "source": [
        "# Clean Dataset"
      ]
    },
    {
      "cell_type": "code",
      "execution_count": 7,
      "metadata": {
        "colab": {
          "base_uri": "https://localhost:8080/"
        },
        "id": "iRVKak6c8LFt",
        "outputId": "57990944-eb99-4789-e43b-d1163d2e4e91"
      },
      "outputs": [
        {
          "data": {
            "text/plain": [
              "0"
            ]
          },
          "execution_count": 7,
          "metadata": {},
          "output_type": "execute_result"
        }
      ],
      "source": [
        "data.isnull().sum().sum()"
      ]
    },
    {
      "cell_type": "code",
      "execution_count": 8,
      "metadata": {
        "colab": {
          "base_uri": "https://localhost:8080/"
        },
        "id": "a87rOc_S-erY",
        "outputId": "d28cb9b5-a0a7-4c89-c2ef-67fbbcfed9ba"
      },
      "outputs": [
        {
          "name": "stdout",
          "output_type": "stream",
          "text": [
            "Number of duplicate rows: 0\n",
            "Empty DataFrame\n",
            "Columns: [valence, year, acousticness, artists, danceability, duration_ms, energy, explicit, id, instrumentalness, key, liveness, loudness, mode, name, popularity, release_date, speechiness, tempo]\n",
            "Index: []\n"
          ]
        }
      ],
      "source": [
        "# Check for duplicate rows\n",
        "duplicates = data.duplicated()\n",
        "print(f'Number of duplicate rows: {duplicates.sum()}')\n",
        "duplicate_rows = data[duplicates]\n",
        "print(duplicate_rows)"
      ]
    },
    {
      "cell_type": "code",
      "execution_count": 9,
      "metadata": {
        "colab": {
          "base_uri": "https://localhost:8080/"
        },
        "id": "PP_aLAZ3BU7L",
        "outputId": "a0245c22-df18-4653-a70e-3e0609d4bf92"
      },
      "outputs": [
        {
          "name": "stdout",
          "output_type": "stream",
          "text": [
            "Number of duplicate rows: 0\n",
            "Empty DataFrame\n",
            "Columns: [mode, genres, acousticness, danceability, duration_ms, energy, instrumentalness, liveness, loudness, speechiness, tempo, valence, popularity, key]\n",
            "Index: []\n"
          ]
        }
      ],
      "source": [
        "# Check for duplicate rows\n",
        "duplicates = genre_data.duplicated()\n",
        "print(f'Number of duplicate rows: {duplicates.sum()}')\n",
        "duplicate_rows = genre_data[duplicates]\n",
        "print(duplicate_rows)"
      ]
    },
    {
      "cell_type": "markdown",
      "metadata": {
        "id": "Deci6dLj33JP"
      },
      "source": [
        "# Data Visualization"
      ]
    },
    {
      "cell_type": "code",
      "execution_count": 10,
      "metadata": {
        "colab": {
          "base_uri": "https://localhost:8080/",
          "height": 573
        },
        "id": "JTaF6bzCWsvt",
        "outputId": "1f00e3f3-a34a-44eb-e7c2-622dee9a7c14"
      },
      "outputs": [
        {
          "data": {
            "text/plain": [
              "<Axes: xlabel='count', ylabel='decade'>"
            ]
          },
          "execution_count": 10,
          "metadata": {},
          "output_type": "execute_result"
        },
        {
          "data": {
            "image/png": "[encoded data removed]",
            "text/plain": [
              "<Figure size 1100x600 with 1 Axes>"
            ]
          },
          "metadata": {},
          "output_type": "display_data"
        }
      ],
      "source": [
        "def get_decade(year):\n",
        "    period_start = int(year/10) * 10\n",
        "    decade = '{}s'.format(period_start)\n",
        "    return decade\n",
        "\n",
        "data['decade'] = data['year'].apply(get_decade)\n",
        "\n",
        "sns.set(rc={'figure.figsize':(11 ,6)})\n",
        "sns.countplot(data['decade'])"
      ]
    },
    {
      "cell_type": "code",
      "execution_count": 11,
      "metadata": {
        "colab": {
          "base_uri": "https://localhost:8080/",
          "height": 441
        },
        "id": "LVLu7etnHbKx",
        "outputId": "0d9e245a-a180-4d0f-b4ee-2081c23fcc73"
      },
      "outputs": [
        {
          "data": {
            "image/png": "[encoded data removed]",
            "text/plain": [
              "<Figure size 1200x400 with 1 Axes>"
            ]
          },
          "metadata": {},
          "output_type": "display_data"
        },
        {
          "data": {
            "text/plain": [
              "<Axes: title={'center': 'Features correlation with dependent variable'}, xlabel='Pearson Correlation'>"
            ]
          },
          "execution_count": 11,
          "metadata": {},
          "output_type": "execute_result"
        }
      ],
      "source": [
        "from yellowbrick.target import FeatureCorrelation\n",
        "\n",
        "feature_names = ['acousticness', 'danceability', 'energy', 'instrumentalness',\n",
        "       'liveness', 'loudness', 'speechiness', 'tempo', 'valence','duration_ms','explicit','key','mode','year']\n",
        "\n",
        "X, y = data[feature_names], data['popularity']\n",
        "\n",
        "# Create a list of the feature names\n",
        "features = np.array(feature_names)\n",
        "\n",
        "# Instantiate the visualizer\n",
        "visualizer = FeatureCorrelation(labels=features)\n",
        "\n",
        "plt.rcParams['figure.figsize']=(12,4)\n",
        "visualizer.fit(X, y)     # Fit the data to the visualizer\n",
        "visualizer.show()"
      ]
    },
    {
      "cell_type": "code",
      "execution_count": 12,
      "metadata": {
        "colab": {
          "base_uri": "https://localhost:8080/",
          "height": 542
        },
        "id": "lwFB5Q4Zc1UZ",
        "outputId": "784d27ea-bb61-4e5d-957b-a4411fa0490c"
      },
      "outputs": [
        {
          "data": {
            "application/vnd.plotly.v1+json": {
              "config": {
                "plotlyServerURL": "https://plot.ly"
              },
              "data": [
                {
                  "hovertemplate": "variable=acousticness<br>year=%{x}<br>value=%{y}<extra></extra>",
                  "legendgroup": "acousticness",
                  "line": {
                    "color": "#636efa",
                    "dash": "solid"
                  },
                  "marker": {
                    "symbol": "circle"
                  },
                  "mode": "lines",
                  "name": "acousticness",
                  "orientation": "v",
                  "showlegend": true,
                  "type": "scatter",
                  "x": [
                    1921,
                    1922,
                    1923,
                    1924,
                    1925,
                    1926,
                    1927,
                    1928,
                    1929,
                    1930,
                    1931,
                    1932,
                    1933,
                    1934,
                    1935,
                    1936,
                    1937,
                    1938,
                    1939,
                    1940,
                    1941,
                    1942,
                    1943,
                    1944,
                    1945,
                    1946,
                    1947,
                    1948,
                    1949,
                    1950,
                    1951,
                    1952,
                    1953,
                    1954,
                    1955,
                    1956,
                    1957,
                    1958,
                    1959,
                    1960,
                    1961,
                    1962,
                    1963,
                    1964,
                    1965,
                    1966,
                    1967,
                    1968,
                    1969,
                    1970,
                    1971,
                    1972,
                    1973,
                    1974,
                    1975,
                    1976,
                    1977,
                    1978,
                    1979,
                    1980,
                    1981,
                    1982,
                    1983,
                    1984,
                    1985,
                    1986,
                    1987,
                    1988,
                    1989,
                    1990,
                    1991,
                    1992,
                    1993,
                    1994,
                    1995,
                    1996,
                    1997,
                    1998,
                    1999,
                    2000,
                    2001,
                    2002,
                    2003,
                    2004,
                    2005,
                    2006,
                    2007,
                    2008,
                    2009,
                    2010,
                    2011,
                    2012,
                    2013,
                    2014,
                    2015,
                    2016,
                    2017,
                    2018,
                    2019,
                    2020
                  ],
                  "xaxis": "x",
                  "y": [
                    0.8868960000000005,
                    0.9385915492957748,
                    0.9572467913513516,
                    0.940199860169493,
                    0.9626070503597138,
                    0.660817216981134,
                    0.9361794552845558,
                    0.9386165035685952,
                    0.6014265861344558,
                    0.936714937370057,
                    0.8330399585921336,
                    0.9357705179282878,
                    0.899897909117222,
                    0.8911487501730107,
                    0.7783855599472987,
                    0.7723120800000008,
                    0.8654357853881286,
                    0.9192803908646014,
                    0.9087381000000004,
                    0.8476440499999951,
                    0.8957376562500025,
                    0.8529343703923857,
                    0.9027523185915528,
                    0.9076531914893636,
                    0.7096568630000005,
                    0.9199445823665852,
                    0.9139650224242392,
                    0.9221549999999956,
                    0.9075328949999956,
                    0.8539413005999965,
                    0.9022971956499974,
                    0.8743009244999965,
                    0.8909223502564074,
                    0.8650197272999992,
                    0.8405510069999986,
                    0.8230569899999975,
                    0.7928023589743608,
                    0.7796118650000005,
                    0.7793927897435907,
                    0.7671814843243259,
                    0.7519038684210535,
                    0.720607806842106,
                    0.7227048300000004,
                    0.6941005307692291,
                    0.6099113295384619,
                    0.5248094599699997,
                    0.5296103243521767,
                    0.4937702403500001,
                    0.4488463039999994,
                    0.4600571139500007,
                    0.4583362981000009,
                    0.4600428051999994,
                    0.4165241889999992,
                    0.4472074226000001,
                    0.4337738871950005,
                    0.3614706321099993,
                    0.3393025333750004,
                    0.3289685734499993,
                    0.29593224063,
                    0.284955397635897,
                    0.3012042267400006,
                    0.2895800382050001,
                    0.2947778916300001,
                    0.2877095803450008,
                    0.2965709032099995,
                    0.2850806564249999,
                    0.3116640663948722,
                    0.322009946512821,
                    0.3133512518150009,
                    0.3328699505850001,
                    0.3327652916307699,
                    0.3208087638250009,
                    0.3090685537400004,
                    0.3062343630899999,
                    0.3025118061200004,
                    0.3010268798000006,
                    0.3067156934549995,
                    0.2914894615700001,
                    0.2715901110661201,
                    0.2893227005163599,
                    0.2868424748428934,
                    0.282624289885001,
                    0.2564705181729783,
                    0.2805589466225845,
                    0.2557635068666665,
                    0.2799863520256408,
                    0.2540809575538463,
                    0.2491917627212275,
                    0.261928619096939,
                    0.2426866435515872,
                    0.2731826625185919,
                    0.2499530443804624,
                    0.2574880859564779,
                    0.249312645880299,
                    0.2539522577102332,
                    0.2841710299554814,
                    0.2860990665261043,
                    0.2676329907750836,
                    0.2782985863365824,
                    0.2199308880935964
                  ],
                  "yaxis": "y"
                },
                {
                  "hovertemplate": "variable=danceability<br>year=%{x}<br>value=%{y}<extra></extra>",
                  "legendgroup": "danceability",
                  "line": {
                    "color": "#EF553B",
                    "dash": "solid"
                  },
                  "marker": {
                    "symbol": "circle"
                  },
                  "mode": "lines",
                  "name": "danceability",
                  "orientation": "v",
                  "showlegend": true,
                  "type": "scatter",
                  "x": [
                    1921,
                    1922,
                    1923,
                    1924,
                    1925,
                    1926,
                    1927,
                    1928,
                    1929,
                    1930,
                    1931,
                    1932,
                    1933,
                    1934,
                    1935,
                    1936,
                    1937,
                    1938,
                    1939,
                    1940,
                    1941,
                    1942,
                    1943,
                    1944,
                    1945,
                    1946,
                    1947,
                    1948,
                    1949,
                    1950,
                    1951,
                    1952,
                    1953,
                    1954,
                    1955,
                    1956,
                    1957,
                    1958,
                    1959,
                    1960,
                    1961,
                    1962,
                    1963,
                    1964,
                    1965,
                    1966,
                    1967,
                    1968,
                    1969,
                    1970,
                    1971,
                    1972,
                    1973,
                    1974,
                    1975,
                    1976,
                    1977,
                    1978,
                    1979,
                    1980,
                    1981,
                    1982,
                    1983,
                    1984,
                    1985,
                    1986,
                    1987,
                    1988,
                    1989,
                    1990,
                    1991,
                    1992,
                    1993,
                    1994,
                    1995,
                    1996,
                    1997,
                    1998,
                    1999,
                    2000,
                    2001,
                    2002,
                    2003,
                    2004,
                    2005,
                    2006,
                    2007,
                    2008,
                    2009,
                    2010,
                    2011,
                    2012,
                    2013,
                    2014,
                    2015,
                    2016,
                    2017,
                    2018,
                    2019,
                    2020
                  ],
                  "xaxis": "x",
                  "y": [
                    0.4185973333333336,
                    0.4820422535211267,
                    0.5773405405405401,
                    0.5498940677966102,
                    0.5738633093525181,
                    0.5998802612481859,
                    0.6482682926829262,
                    0.5342878667724027,
                    0.6476698529411761,
                    0.5181758835758836,
                    0.5952217391304357,
                    0.5577976095617526,
                    0.57029030390738,
                    0.528705882352941,
                    0.5558691699604746,
                    0.5580055454545453,
                    0.5421572298325723,
                    0.479977977161501,
                    0.5126828,
                    0.52189235,
                    0.4804813541666676,
                    0.4646338882282997,
                    0.4551456338028168,
                    0.5001744680851068,
                    0.5191431500000011,
                    0.4144450116009276,
                    0.4713208484848491,
                    0.4633694736842109,
                    0.4421993999999996,
                    0.5042531000000008,
                    0.4624800999999999,
                    0.4570322000000001,
                    0.4374260512820513,
                    0.4656388999999994,
                    0.4881312,
                    0.4878145000000007,
                    0.5034812307692305,
                    0.4800213999999995,
                    0.4821143076923083,
                    0.4860292432432435,
                    0.4891655789473678,
                    0.4931643684210523,
                    0.48162135,
                    0.5041769743589742,
                    0.5034505641025638,
                    0.5070204999999981,
                    0.4926885942971483,
                    0.5010080999999997,
                    0.4880977999999999,
                    0.5063075000000004,
                    0.5042738499999999,
                    0.5209994499999997,
                    0.5154494500000005,
                    0.51533975,
                    0.5209980000000007,
                    0.5297624999999999,
                    0.5333237000000017,
                    0.5407746000000005,
                    0.5620453000000001,
                    0.5561523589743594,
                    0.5421846999999999,
                    0.5642594000000005,
                    0.5456292999999998,
                    0.5303089499999987,
                    0.5556424000000012,
                    0.5409334000000001,
                    0.5410193333333342,
                    0.5404594358974372,
                    0.5472274499999988,
                    0.5352986500000001,
                    0.5558243589743591,
                    0.5550648499999989,
                    0.5698781500000001,
                    0.5528299500000016,
                    0.5590457500000001,
                    0.5878306000000001,
                    0.5768138499999994,
                    0.5862116499999998,
                    0.5821579190158892,
                    0.590918047034764,
                    0.5833178553615969,
                    0.5761602999999997,
                    0.5757633060388944,
                    0.5676803662258397,
                    0.5722805641025652,
                    0.5682301538461539,
                    0.5634143589743592,
                    0.5791928388746803,
                    0.5641903571428577,
                    0.5724883432539687,
                    0.5528669806643526,
                    0.5708818508997433,
                    0.5711480263157896,
                    0.5899476807980057,
                    0.5937740628166152,
                    0.6002023928770179,
                    0.6122170180722886,
                    0.6635004755111744,
                    0.6448141097998967,
                    0.6929043349753701
                  ],
                  "yaxis": "y"
                },
                {
                  "hovertemplate": "variable=energy<br>year=%{x}<br>value=%{y}<extra></extra>",
                  "legendgroup": "energy",
                  "line": {
                    "color": "#00cc96",
                    "dash": "solid"
                  },
                  "marker": {
                    "symbol": "circle"
                  },
                  "mode": "lines",
                  "name": "energy",
                  "orientation": "v",
                  "showlegend": true,
                  "type": "scatter",
                  "x": [
                    1921,
                    1922,
                    1923,
                    1924,
                    1925,
                    1926,
                    1927,
                    1928,
                    1929,
                    1930,
                    1931,
                    1932,
                    1933,
                    1934,
                    1935,
                    1936,
                    1937,
                    1938,
                    1939,
                    1940,
                    1941,
                    1942,
                    1943,
                    1944,
                    1945,
                    1946,
                    1947,
                    1948,
                    1949,
                    1950,
                    1951,
                    1952,
                    1953,
                    1954,
                    1955,
                    1956,
                    1957,
                    1958,
                    1959,
                    1960,
                    1961,
                    1962,
                    1963,
                    1964,
                    1965,
                    1966,
                    1967,
                    1968,
                    1969,
                    1970,
                    1971,
                    1972,
                    1973,
                    1974,
                    1975,
                    1976,
                    1977,
                    1978,
                    1979,
                    1980,
                    1981,
                    1982,
                    1983,
                    1984,
                    1985,
                    1986,
                    1987,
                    1988,
                    1989,
                    1990,
                    1991,
                    1992,
                    1993,
                    1994,
                    1995,
                    1996,
                    1997,
                    1998,
                    1999,
                    2000,
                    2001,
                    2002,
                    2003,
                    2004,
                    2005,
                    2006,
                    2007,
                    2008,
                    2009,
                    2010,
                    2011,
                    2012,
                    2013,
                    2014,
                    2015,
                    2016,
                    2017,
                    2018,
                    2019,
                    2020
                  ],
                  "xaxis": "x",
                  "y": [
                    0.2318151333333333,
                    0.2378153521126759,
                    0.2624064864864865,
                    0.3443466101694912,
                    0.2785935251798561,
                    0.2114670907111756,
                    0.2643213008130081,
                    0.2079477954004757,
                    0.2418007352941172,
                    0.3335239189189189,
                    0.2344967732919257,
                    0.3020677290836656,
                    0.2798994211287988,
                    0.2621313148788928,
                    0.2463669762845848,
                    0.3083886092727274,
                    0.3110482952815827,
                    0.2809812398042416,
                    0.2826715000000002,
                    0.3108928949999999,
                    0.2656431979166666,
                    0.2560794708680144,
                    0.2799900422535211,
                    0.2534414494680852,
                    0.2260444155,
                    0.2221723085846866,
                    0.2635512000000002,
                    0.242464841052632,
                    0.2461146149999996,
                    0.3140711950000003,
                    0.254665655,
                    0.2536260100000002,
                    0.2661968307692306,
                    0.264347385,
                    0.2950963400000001,
                    0.3047611200000001,
                    0.2952791333333324,
                    0.3087957550000006,
                    0.3109944051282049,
                    0.3411423783783781,
                    0.3395318673684203,
                    0.3710257,
                    0.3653538849999999,
                    0.394438825641026,
                    0.4490272461538461,
                    0.482208465,
                    0.4468238319159585,
                    0.4569696500000004,
                    0.4876251299999994,
                    0.495633050000001,
                    0.4963612550000003,
                    0.5045261799999999,
                    0.5361382499999989,
                    0.5147236550000011,
                    0.5232085050000003,
                    0.5538432500000001,
                    0.560287959000001,
                    0.5614288650000007,
                    0.5910127149999996,
                    0.5977773948717964,
                    0.5993827249999998,
                    0.5909193894999996,
                    0.6014252350000012,
                    0.5910916750000013,
                    0.6015154800000013,
                    0.6149545999999998,
                    0.5798395538461533,
                    0.5856792461538458,
                    0.584046375000001,
                    0.5715913950000007,
                    0.5594023641025635,
                    0.5828642050000001,
                    0.5625599100000002,
                    0.578772685000001,
                    0.5785795100000009,
                    0.5860684750000011,
                    0.5986987151000001,
                    0.6051975050000015,
                    0.6375226022552535,
                    0.6254128323108387,
                    0.6269855221945144,
                    0.6412697960000012,
                    0.6601652610030712,
                    0.6488679450661226,
                    0.653208511282051,
                    0.6503262820512825,
                    0.6683047743589737,
                    0.6714608207672623,
                    0.6707487551020408,
                    0.6817778026289684,
                    0.6483008934060499,
                    0.6565714601542408,
                    0.6455968914473688,
                    0.6487954437905223,
                    0.6270642715298895,
                    0.5928552316082347,
                    0.5904210208835337,
                    0.6024346220161672,
                    0.5932240360184717,
                    0.6312316354679793
                  ],
                  "yaxis": "y"
                },
                {
                  "hovertemplate": "variable=instrumentalness<br>year=%{x}<br>value=%{y}<extra></extra>",
                  "legendgroup": "instrumentalness",
                  "line": {
                    "color": "#ab63fa",
                    "dash": "solid"
                  },
                  "marker": {
                    "symbol": "circle"
                  },
                  "mode": "lines",
                  "name": "instrumentalness",
                  "orientation": "v",
                  "showlegend": true,
                  "type": "scatter",
                  "x": [
                    1921,
                    1922,
                    1923,
                    1924,
                    1925,
                    1926,
                    1927,
                    1928,
                    1929,
                    1930,
                    1931,
                    1932,
                    1933,
                    1934,
                    1935,
                    1936,
                    1937,
                    1938,
                    1939,
                    1940,
                    1941,
                    1942,
                    1943,
                    1944,
                    1945,
                    1946,
                    1947,
                    1948,
                    1949,
                    1950,
                    1951,
                    1952,
                    1953,
                    1954,
                    1955,
                    1956,
                    1957,
                    1958,
                    1959,
                    1960,
                    1961,
                    1962,
                    1963,
                    1964,
                    1965,
                    1966,
                    1967,
                    1968,
                    1969,
                    1970,
                    1971,
                    1972,
                    1973,
                    1974,
                    1975,
                    1976,
                    1977,
                    1978,
                    1979,
                    1980,
                    1981,
                    1982,
                    1983,
                    1984,
                    1985,
                    1986,
                    1987,
                    1988,
                    1989,
                    1990,
                    1991,
                    1992,
                    1993,
                    1994,
                    1995,
                    1996,
                    1997,
                    1998,
                    1999,
                    2000,
                    2001,
                    2002,
                    2003,
                    2004,
                    2005,
                    2006,
                    2007,
                    2008,
                    2009,
                    2010,
                    2011,
                    2012,
                    2013,
                    2014,
                    2015,
                    2016,
                    2017,
                    2018,
                    2019,
                    2020
                  ],
                  "xaxis": "x",
                  "y": [
                    0.3448780588666665,
                    0.4341948697183099,
                    0.371732725027027,
                    0.5817009136440677,
                    0.4182973612230215,
                    0.3330931111175616,
                    0.3913284986504065,
                    0.4948354801348136,
                    0.2152040310609246,
                    0.3522059281652805,
                    0.2214196416149072,
                    0.2263565791633467,
                    0.1839489396816208,
                    0.276382266643599,
                    0.2258732980895915,
                    0.2571099957181816,
                    0.3270876216438359,
                    0.3784246349265906,
                    0.2776824694100001,
                    0.3168486998649998,
                    0.4449516393124999,
                    0.392882047871581,
                    0.4098969234647892,
                    0.4492919654122334,
                    0.2758942570149996,
                    0.4861264096461711,
                    0.3475934179090908,
                    0.3554848223842104,
                    0.2977615361899994,
                    0.245000820015,
                    0.3084378555850002,
                    0.2884126469300002,
                    0.3183223943230766,
                    0.2974400082799999,
                    0.2166044216900002,
                    0.2387634177800001,
                    0.1945206161692309,
                    0.1812411100599998,
                    0.1881481940615383,
                    0.1765021594216216,
                    0.2646232531421054,
                    0.1714715509421054,
                    0.18543231468,
                    0.1595978017794872,
                    0.1183659460923078,
                    0.1151259555649999,
                    0.1189468546723362,
                    0.112776949285,
                    0.1594527081650001,
                    0.1275670030849998,
                    0.12501788923,
                    0.1148803337599997,
                    0.0996802232299999,
                    0.11636098351,
                    0.1113220337449999,
                    0.12162904398,
                    0.1277210319449999,
                    0.1003812145099999,
                    0.1157513720150001,
                    0.1287510612717948,
                    0.1468379466199998,
                    0.100016383,
                    0.1454105232900004,
                    0.1451730397350004,
                    0.1137385580749998,
                    0.1099408543649999,
                    0.1019745174666666,
                    0.117190380220513,
                    0.1131825446149999,
                    0.1258262680949997,
                    0.1150923397999999,
                    0.1006900830649998,
                    0.11529396538,
                    0.1118857599499999,
                    0.1232687960699999,
                    0.0950528120350001,
                    0.1046901786199999,
                    0.1113257503499999,
                    0.0940681410661199,
                    0.1011677687934559,
                    0.1072140189925186,
                    0.0880483503149999,
                    0.0830492746673491,
                    0.0779340349084435,
                    0.0901943611846154,
                    0.0777014718769231,
                    0.0729572680512819,
                    0.0636620903171356,
                    0.0758720736836735,
                    0.0829805682192461,
                    0.103772332166584,
                    0.0852055206786631,
                    0.0983650539170038,
                    0.0765695548379051,
                    0.1067868780547114,
                    0.0939843871174179,
                    0.0970906090662649,
                    0.0542171216690441,
                    0.0776402469728064,
                    0.0163755243054187
                  ],
                  "yaxis": "y"
                },
                {
                  "hovertemplate": "variable=liveness<br>year=%{x}<br>value=%{y}<extra></extra>",
                  "legendgroup": "liveness",
                  "line": {
                    "color": "#FFA15A",
                    "dash": "solid"
                  },
                  "marker": {
                    "symbol": "circle"
                  },
                  "mode": "lines",
                  "name": "liveness",
                  "orientation": "v",
                  "showlegend": true,
                  "type": "scatter",
                  "x": [
                    1921,
                    1922,
                    1923,
                    1924,
                    1925,
                    1926,
                    1927,
                    1928,
                    1929,
                    1930,
                    1931,
                    1932,
                    1933,
                    1934,
                    1935,
                    1936,
                    1937,
                    1938,
                    1939,
                    1940,
                    1941,
                    1942,
                    1943,
                    1944,
                    1945,
                    1946,
                    1947,
                    1948,
                    1949,
                    1950,
                    1951,
                    1952,
                    1953,
                    1954,
                    1955,
                    1956,
                    1957,
                    1958,
                    1959,
                    1960,
                    1961,
                    1962,
                    1963,
                    1964,
                    1965,
                    1966,
                    1967,
                    1968,
                    1969,
                    1970,
                    1971,
                    1972,
                    1973,
                    1974,
                    1975,
                    1976,
                    1977,
                    1978,
                    1979,
                    1980,
                    1981,
                    1982,
                    1983,
                    1984,
                    1985,
                    1986,
                    1987,
                    1988,
                    1989,
                    1990,
                    1991,
                    1992,
                    1993,
                    1994,
                    1995,
                    1996,
                    1997,
                    1998,
                    1999,
                    2000,
                    2001,
                    2002,
                    2003,
                    2004,
                    2005,
                    2006,
                    2007,
                    2008,
                    2009,
                    2010,
                    2011,
                    2012,
                    2013,
                    2014,
                    2015,
                    2016,
                    2017,
                    2018,
                    2019,
                    2020
                  ],
                  "xaxis": "x",
                  "y": [
                    0.20571,
                    0.2407197183098592,
                    0.2274621621621621,
                    0.2352190677966101,
                    0.2376679856115108,
                    0.2323695936139332,
                    0.1684502439024389,
                    0.1752893735130848,
                    0.2360002100840333,
                    0.2213108627858629,
                    0.2274279503105589,
                    0.2324962151394422,
                    0.2090719247467437,
                    0.2134525951557092,
                    0.2292998682476943,
                    0.2214382727272726,
                    0.2259677321156773,
                    0.237111092985318,
                    0.2391015999999999,
                    0.2643351000000004,
                    0.2018398958333331,
                    0.2128784185493456,
                    0.2392107042253524,
                    0.2387719414893616,
                    0.2030099500000001,
                    0.2108183294663576,
                    0.2238293939393936,
                    0.2196935789473678,
                    0.2088585500000004,
                    0.2169584000000004,
                    0.2177773999999999,
                    0.2329722999999998,
                    0.221734051282051,
                    0.2178411499999996,
                    0.2214353500000001,
                    0.1822571500000002,
                    0.1827485641025636,
                    0.2058408500000003,
                    0.1918429230769232,
                    0.2078637297297298,
                    0.2089125789473681,
                    0.2018957368421054,
                    0.2037453000000002,
                    0.2172323589743596,
                    0.2138391282051284,
                    0.2180930999999999,
                    0.190917658829415,
                    0.2173509500000005,
                    0.2069658999999999,
                    0.2122688000000002,
                    0.2149145500000001,
                    0.2069549500000001,
                    0.2013747499999997,
                    0.2093463499999996,
                    0.2154413500000002,
                    0.2490321999999999,
                    0.2232140500000004,
                    0.2180709499999994,
                    0.2134431000000002,
                    0.2037541025641026,
                    0.2250998999999999,
                    0.20100675,
                    0.1989224500000002,
                    0.1977062,
                    0.1992064499999998,
                    0.2118794500000001,
                    0.202018102564103,
                    0.207707538461538,
                    0.1990802,
                    0.1909609,
                    0.1886289230769235,
                    0.2002455000000007,
                    0.1949322500000003,
                    0.1921651000000001,
                    0.2013737000000004,
                    0.1986863000000002,
                    0.1984788000000003,
                    0.1937308999999996,
                    0.206308047155305,
                    0.1976860429447853,
                    0.1870256359102248,
                    0.1939111999999998,
                    0.196976305015353,
                    0.2021994404883014,
                    0.1900816256410258,
                    0.1882892820512821,
                    0.1961265641025642,
                    0.1984314066496162,
                    0.2052522959183674,
                    0.1997006448412699,
                    0.2033088249876056,
                    0.1897330077120824,
                    0.1996308198380571,
                    0.1918215960099752,
                    0.1888564336372847,
                    0.181169894268225,
                    0.1917126004016064,
                    0.1763255349500711,
                    0.1726164186762446,
                    0.1785354187192117
                  ],
                  "yaxis": "y"
                },
                {
                  "hovertemplate": "variable=valence<br>year=%{x}<br>value=%{y}<extra></extra>",
                  "legendgroup": "valence",
                  "line": {
                    "color": "#19d3f3",
                    "dash": "solid"
                  },
                  "marker": {
                    "symbol": "circle"
                  },
                  "mode": "lines",
                  "name": "valence",
                  "orientation": "v",
                  "showlegend": true,
                  "type": "scatter",
                  "x": [
                    1921,
                    1922,
                    1923,
                    1924,
                    1925,
                    1926,
                    1927,
                    1928,
                    1929,
                    1930,
                    1931,
                    1932,
                    1933,
                    1934,
                    1935,
                    1936,
                    1937,
                    1938,
                    1939,
                    1940,
                    1941,
                    1942,
                    1943,
                    1944,
                    1945,
                    1946,
                    1947,
                    1948,
                    1949,
                    1950,
                    1951,
                    1952,
                    1953,
                    1954,
                    1955,
                    1956,
                    1957,
                    1958,
                    1959,
                    1960,
                    1961,
                    1962,
                    1963,
                    1964,
                    1965,
                    1966,
                    1967,
                    1968,
                    1969,
                    1970,
                    1971,
                    1972,
                    1973,
                    1974,
                    1975,
                    1976,
                    1977,
                    1978,
                    1979,
                    1980,
                    1981,
                    1982,
                    1983,
                    1984,
                    1985,
                    1986,
                    1987,
                    1988,
                    1989,
                    1990,
                    1991,
                    1992,
                    1993,
                    1994,
                    1995,
                    1996,
                    1997,
                    1998,
                    1999,
                    2000,
                    2001,
                    2002,
                    2003,
                    2004,
                    2005,
                    2006,
                    2007,
                    2008,
                    2009,
                    2010,
                    2011,
                    2012,
                    2013,
                    2014,
                    2015,
                    2016,
                    2017,
                    2018,
                    2019,
                    2020
                  ],
                  "xaxis": "x",
                  "y": [
                    0.3793266666666666,
                    0.5355492957746479,
                    0.6254924324324328,
                    0.6637254237288139,
                    0.6219287769784171,
                    0.4369104571843251,
                    0.6597004878048782,
                    0.4957126883425853,
                    0.6365298319327733,
                    0.6162376299376306,
                    0.5131170807453418,
                    0.5881599601593626,
                    0.5994099855282197,
                    0.5588046712802772,
                    0.5455777997364957,
                    0.5640635454545455,
                    0.5857894977168944,
                    0.5149111092985317,
                    0.5599248999999992,
                    0.6167094700000009,
                    0.4794560416666661,
                    0.4774088585017848,
                    0.4954545070422531,
                    0.5406954787234041,
                    0.4913613500000002,
                    0.3982538283062647,
                    0.5082125454545455,
                    0.4621423684210526,
                    0.4304195000000001,
                    0.5516497000000001,
                    0.44134755,
                    0.4431349620499994,
                    0.4291420512820513,
                    0.4523410500000002,
                    0.4724154999999997,
                    0.5084230500000003,
                    0.5110101538461542,
                    0.4976614999999994,
                    0.4784156410256422,
                    0.5239316756756759,
                    0.5128512105263155,
                    0.5477920526315792,
                    0.5415274500000008,
                    0.55726042051282,
                    0.5809506666666668,
                    0.5801445499999996,
                    0.5507916958479243,
                    0.5659936500000002,
                    0.5547452849999999,
                    0.5720753999999992,
                    0.5749132500000002,
                    0.5956881500000009,
                    0.5921162000000004,
                    0.5812744000000009,
                    0.5694151500000002,
                    0.5807332499999998,
                    0.58524655,
                    0.5895352500000014,
                    0.6099818000000005,
                    0.5980580512820513,
                    0.5829518500000006,
                    0.5864384500000001,
                    0.5721198999999989,
                    0.5516387100000003,
                    0.5655964500000001,
                    0.5509485500000019,
                    0.5414511794871785,
                    0.5464853897435901,
                    0.5483329000000007,
                    0.5265268499999999,
                    0.5486552307692295,
                    0.5590983000000014,
                    0.5555684500000001,
                    0.5266491500000006,
                    0.5302466999999994,
                    0.5608732500000001,
                    0.5485525000000002,
                    0.5377209,
                    0.5564528446950284,
                    0.5594754601226991,
                    0.541479107231919,
                    0.5423971500000008,
                    0.5305042476970324,
                    0.5244885554425227,
                    0.5325309230769236,
                    0.5200283076923078,
                    0.5167938461538473,
                    0.5275418925831203,
                    0.5071696617346935,
                    0.5208951587301589,
                    0.4724536787307882,
                    0.4627090128534706,
                    0.4547411943319834,
                    0.4630487780548628,
                    0.4320983687943254,
                    0.4315320589872012,
                    0.4164763112449793,
                    0.4479212743699474,
                    0.4588176295536167,
                    0.5010478078817729
                  ],
                  "yaxis": "y"
                }
              ],
              "layout": {
                "legend": {
                  "title": {
                    "text": "variable"
                  },
                  "tracegroupgap": 0
                },
                "template": {
                  "data": {
                    "bar": [
                      {
                        "error_x": {
                          "color": "#2a3f5f"
                        },
                        "error_y": {
                          "color": "#2a3f5f"
                        },
                        "marker": {
                          "line": {
                            "color": "#E5ECF6",
                            "width": 0.5
                          },
                          "pattern": {
                            "fillmode": "overlay",
                            "size": 10,
                            "solidity": 0.2
                          }
                        },
                        "type": "bar"
                      }
                    ],
                    "barpolar": [
                      {
                        "marker": {
                          "line": {
                            "color": "#E5ECF6",
                            "width": 0.5
                          },
                          "pattern": {
                            "fillmode": "overlay",
                            "size": 10,
                            "solidity": 0.2
                          }
                        },
                        "type": "barpolar"
                      }
                    ],
                    "carpet": [
                      {
                        "aaxis": {
                          "endlinecolor": "#2a3f5f",
                          "gridcolor": "white",
                          "linecolor": "white",
                          "minorgridcolor": "white",
                          "startlinecolor": "#2a3f5f"
                        },
                        "baxis": {
                          "endlinecolor": "#2a3f5f",
                          "gridcolor": "white",
                          "linecolor": "white",
                          "minorgridcolor": "white",
                          "startlinecolor": "#2a3f5f"
                        },
                        "type": "carpet"
                      }
                    ],
                    "choropleth": [
                      {
                        "colorbar": {
                          "outlinewidth": 0,
                          "ticks": ""
                        },
                        "type": "choropleth"
                      }
                    ],
                    "contour": [
                      {
                        "colorbar": {
                          "outlinewidth": 0,
                          "ticks": ""
                        },
                        "colorscale": [
                          [
                            0,
                            "#0d0887"
                          ],
                          [
                            0.1111111111111111,
                            "#46039f"
                          ],
                          [
                            0.2222222222222222,
                            "#7201a8"
                          ],
                          [
                            0.3333333333333333,
                            "#9c179e"
                          ],
                          [
                            0.4444444444444444,
                            "#bd3786"
                          ],
                          [
                            0.5555555555555556,
                            "#d8576b"
                          ],
                          [
                            0.6666666666666666,
                            "#ed7953"
                          ],
                          [
                            0.7777777777777778,
                            "#fb9f3a"
                          ],
                          [
                            0.8888888888888888,
                            "#fdca26"
                          ],
                          [
                            1,
                            "#f0f921"
                          ]
                        ],
                        "type": "contour"
                      }
                    ],
                    "contourcarpet": [
                      {
                        "colorbar": {
                          "outlinewidth": 0,
                          "ticks": ""
                        },
                        "type": "contourcarpet"
                      }
                    ],
                    "heatmap": [
                      {
                        "colorbar": {
                          "outlinewidth": 0,
                          "ticks": ""
                        },
                        "colorscale": [
                          [
                            0,
                            "#0d0887"
                          ],
                          [
                            0.1111111111111111,
                            "#46039f"
                          ],
                          [
                            0.2222222222222222,
                            "#7201a8"
                          ],
                          [
                            0.3333333333333333,
                            "#9c179e"
                          ],
                          [
                            0.4444444444444444,
                            "#bd3786"
                          ],
                          [
                            0.5555555555555556,
                            "#d8576b"
                          ],
                          [
                            0.6666666666666666,
                            "#ed7953"
                          ],
                          [
                            0.7777777777777778,
                            "#fb9f3a"
                          ],
                          [
                            0.8888888888888888,
                            "#fdca26"
                          ],
                          [
                            1,
                            "#f0f921"
                          ]
                        ],
                        "type": "heatmap"
                      }
                    ],
                    "heatmapgl": [
                      {
                        "colorbar": {
                          "outlinewidth": 0,
                          "ticks": ""
                        },
                        "colorscale": [
                          [
                            0,
                            "#0d0887"
                          ],
                          [
                            0.1111111111111111,
                            "#46039f"
                          ],
                          [
                            0.2222222222222222,
                            "#7201a8"
                          ],
                          [
                            0.3333333333333333,
                            "#9c179e"
                          ],
                          [
                            0.4444444444444444,
                            "#bd3786"
                          ],
                          [
                            0.5555555555555556,
                            "#d8576b"
                          ],
                          [
                            0.6666666666666666,
                            "#ed7953"
                          ],
                          [
                            0.7777777777777778,
                            "#fb9f3a"
                          ],
                          [
                            0.8888888888888888,
                            "#fdca26"
                          ],
                          [
                            1,
                            "#f0f921"
                          ]
                        ],
                        "type": "heatmapgl"
                      }
                    ],
                    "histogram": [
                      {
                        "marker": {
                          "pattern": {
                            "fillmode": "overlay",
                            "size": 10,
                            "solidity": 0.2
                          }
                        },
                        "type": "histogram"
                      }
                    ],
                    "histogram2d": [
                      {
                        "colorbar": {
                          "outlinewidth": 0,
                          "ticks": ""
                        },
                        "colorscale": [
                          [
                            0,
                            "#0d0887"
                          ],
                          [
                            0.1111111111111111,
                            "#46039f"
                          ],
                          [
                            0.2222222222222222,
                            "#7201a8"
                          ],
                          [
                            0.3333333333333333,
                            "#9c179e"
                          ],
                          [
                            0.4444444444444444,
                            "#bd3786"
                          ],
                          [
                            0.5555555555555556,
                            "#d8576b"
                          ],
                          [
                            0.6666666666666666,
                            "#ed7953"
                          ],
                          [
                            0.7777777777777778,
                            "#fb9f3a"
                          ],
                          [
                            0.8888888888888888,
                            "#fdca26"
                          ],
                          [
                            1,
                            "#f0f921"
                          ]
                        ],
                        "type": "histogram2d"
                      }
                    ],
                    "histogram2dcontour": [
                      {
                        "colorbar": {
                          "outlinewidth": 0,
                          "ticks": ""
                        },
                        "colorscale": [
                          [
                            0,
                            "#0d0887"
                          ],
                          [
                            0.1111111111111111,
                            "#46039f"
                          ],
                          [
                            0.2222222222222222,
                            "#7201a8"
                          ],
                          [
                            0.3333333333333333,
                            "#9c179e"
                          ],
                          [
                            0.4444444444444444,
                            "#bd3786"
                          ],
                          [
                            0.5555555555555556,
                            "#d8576b"
                          ],
                          [
                            0.6666666666666666,
                            "#ed7953"
                          ],
                          [
                            0.7777777777777778,
                            "#fb9f3a"
                          ],
                          [
                            0.8888888888888888,
                            "#fdca26"
                          ],
                          [
                            1,
                            "#f0f921"
                          ]
                        ],
                        "type": "histogram2dcontour"
                      }
                    ],
                    "mesh3d": [
                      {
                        "colorbar": {
                          "outlinewidth": 0,
                          "ticks": ""
                        },
                        "type": "mesh3d"
                      }
                    ],
                    "parcoords": [
                      {
                        "line": {
                          "colorbar": {
                            "outlinewidth": 0,
                            "ticks": ""
                          }
                        },
                        "type": "parcoords"
                      }
                    ],
                    "pie": [
                      {
                        "automargin": true,
                        "type": "pie"
                      }
                    ],
                    "scatter": [
                      {
                        "fillpattern": {
                          "fillmode": "overlay",
                          "size": 10,
                          "solidity": 0.2
                        },
                        "type": "scatter"
                      }
                    ],
                    "scatter3d": [
                      {
                        "line": {
                          "colorbar": {
                            "outlinewidth": 0,
                            "ticks": ""
                          }
                        },
                        "marker": {
                          "colorbar": {
                            "outlinewidth": 0,
                            "ticks": ""
                          }
                        },
                        "type": "scatter3d"
                      }
                    ],
                    "scattercarpet": [
                      {
                        "marker": {
                          "colorbar": {
                            "outlinewidth": 0,
                            "ticks": ""
                          }
                        },
                        "type": "scattercarpet"
                      }
                    ],
                    "scattergeo": [
                      {
                        "marker": {
                          "colorbar": {
                            "outlinewidth": 0,
                            "ticks": ""
                          }
                        },
                        "type": "scattergeo"
                      }
                    ],
                    "scattergl": [
                      {
                        "marker": {
                          "colorbar": {
                            "outlinewidth": 0,
                            "ticks": ""
                          }
                        },
                        "type": "scattergl"
                      }
                    ],
                    "scattermapbox": [
                      {
                        "marker": {
                          "colorbar": {
                            "outlinewidth": 0,
                            "ticks": ""
                          }
                        },
                        "type": "scattermapbox"
                      }
                    ],
                    "scatterpolar": [
                      {
                        "marker": {
                          "colorbar": {
                            "outlinewidth": 0,
                            "ticks": ""
                          }
                        },
                        "type": "scatterpolar"
                      }
                    ],
                    "scatterpolargl": [
                      {
                        "marker": {
                          "colorbar": {
                            "outlinewidth": 0,
                            "ticks": ""
                          }
                        },
                        "type": "scatterpolargl"
                      }
                    ],
                    "scatterternary": [
                      {
                        "marker": {
                          "colorbar": {
                            "outlinewidth": 0,
                            "ticks": ""
                          }
                        },
                        "type": "scatterternary"
                      }
                    ],
                    "surface": [
                      {
                        "colorbar": {
                          "outlinewidth": 0,
                          "ticks": ""
                        },
                        "colorscale": [
                          [
                            0,
                            "#0d0887"
                          ],
                          [
                            0.1111111111111111,
                            "#46039f"
                          ],
                          [
                            0.2222222222222222,
                            "#7201a8"
                          ],
                          [
                            0.3333333333333333,
                            "#9c179e"
                          ],
                          [
                            0.4444444444444444,
                            "#bd3786"
                          ],
                          [
                            0.5555555555555556,
                            "#d8576b"
                          ],
                          [
                            0.6666666666666666,
                            "#ed7953"
                          ],
                          [
                            0.7777777777777778,
                            "#fb9f3a"
                          ],
                          [
                            0.8888888888888888,
                            "#fdca26"
                          ],
                          [
                            1,
                            "#f0f921"
                          ]
                        ],
                        "type": "surface"
                      }
                    ],
                    "table": [
                      {
                        "cells": {
                          "fill": {
                            "color": "#EBF0F8"
                          },
                          "line": {
                            "color": "white"
                          }
                        },
                        "header": {
                          "fill": {
                            "color": "#C8D4E3"
                          },
                          "line": {
                            "color": "white"
                          }
                        },
                        "type": "table"
                      }
                    ]
                  },
                  "layout": {
                    "annotationdefaults": {
                      "arrowcolor": "#2a3f5f",
                      "arrowhead": 0,
                      "arrowwidth": 1
                    },
                    "autotypenumbers": "strict",
                    "coloraxis": {
                      "colorbar": {
                        "outlinewidth": 0,
                        "ticks": ""
                      }
                    },
                    "colorscale": {
                      "diverging": [
                        [
                          0,
                          "#8e0152"
                        ],
                        [
                          0.1,
                          "#c51b7d"
                        ],
                        [
                          0.2,
                          "#de77ae"
                        ],
                        [
                          0.3,
                          "#f1b6da"
                        ],
                        [
                          0.4,
                          "#fde0ef"
                        ],
                        [
                          0.5,
                          "#f7f7f7"
                        ],
                        [
                          0.6,
                          "#e6f5d0"
                        ],
                        [
                          0.7,
                          "#b8e186"
                        ],
                        [
                          0.8,
                          "#7fbc41"
                        ],
                        [
                          0.9,
                          "#4d9221"
                        ],
                        [
                          1,
                          "#276419"
                        ]
                      ],
                      "sequential": [
                        [
                          0,
                          "#0d0887"
                        ],
                        [
                          0.1111111111111111,
                          "#46039f"
                        ],
                        [
                          0.2222222222222222,
                          "#7201a8"
                        ],
                        [
                          0.3333333333333333,
                          "#9c179e"
                        ],
                        [
                          0.4444444444444444,
                          "#bd3786"
                        ],
                        [
                          0.5555555555555556,
                          "#d8576b"
                        ],
                        [
                          0.6666666666666666,
                          "#ed7953"
                        ],
                        [
                          0.7777777777777778,
                          "#fb9f3a"
                        ],
                        [
                          0.8888888888888888,
                          "#fdca26"
                        ],
                        [
                          1,
                          "#f0f921"
                        ]
                      ],
                      "sequentialminus": [
                        [
                          0,
                          "#0d0887"
                        ],
                        [
                          0.1111111111111111,
                          "#46039f"
                        ],
                        [
                          0.2222222222222222,
                          "#7201a8"
                        ],
                        [
                          0.3333333333333333,
                          "#9c179e"
                        ],
                        [
                          0.4444444444444444,
                          "#bd3786"
                        ],
                        [
                          0.5555555555555556,
                          "#d8576b"
                        ],
                        [
                          0.6666666666666666,
                          "#ed7953"
                        ],
                        [
                          0.7777777777777778,
                          "#fb9f3a"
                        ],
                        [
                          0.8888888888888888,
                          "#fdca26"
                        ],
                        [
                          1,
                          "#f0f921"
                        ]
                      ]
                    },
                    "colorway": [
                      "#636efa",
                      "#EF553B",
                      "#00cc96",
                      "#ab63fa",
                      "#FFA15A",
                      "#19d3f3",
                      "#FF6692",
                      "#B6E880",
                      "#FF97FF",
                      "#FECB52"
                    ],
                    "font": {
                      "color": "#2a3f5f"
                    },
                    "geo": {
                      "bgcolor": "white",
                      "lakecolor": "white",
                      "landcolor": "#E5ECF6",
                      "showlakes": true,
                      "showland": true,
                      "subunitcolor": "white"
                    },
                    "hoverlabel": {
                      "align": "left"
                    },
                    "hovermode": "closest",
                    "mapbox": {
                      "style": "light"
                    },
                    "paper_bgcolor": "white",
                    "plot_bgcolor": "#E5ECF6",
                    "polar": {
                      "angularaxis": {
                        "gridcolor": "white",
                        "linecolor": "white",
                        "ticks": ""
                      },
                      "bgcolor": "#E5ECF6",
                      "radialaxis": {
                        "gridcolor": "white",
                        "linecolor": "white",
                        "ticks": ""
                      }
                    },
                    "scene": {
                      "xaxis": {
                        "backgroundcolor": "#E5ECF6",
                        "gridcolor": "white",
                        "gridwidth": 2,
                        "linecolor": "white",
                        "showbackground": true,
                        "ticks": "",
                        "zerolinecolor": "white"
                      },
                      "yaxis": {
                        "backgroundcolor": "#E5ECF6",
                        "gridcolor": "white",
                        "gridwidth": 2,
                        "linecolor": "white",
                        "showbackground": true,
                        "ticks": "",
                        "zerolinecolor": "white"
                      },
                      "zaxis": {
                        "backgroundcolor": "#E5ECF6",
                        "gridcolor": "white",
                        "gridwidth": 2,
                        "linecolor": "white",
                        "showbackground": true,
                        "ticks": "",
                        "zerolinecolor": "white"
                      }
                    },
                    "shapedefaults": {
                      "line": {
                        "color": "#2a3f5f"
                      }
                    },
                    "ternary": {
                      "aaxis": {
                        "gridcolor": "white",
                        "linecolor": "white",
                        "ticks": ""
                      },
                      "baxis": {
                        "gridcolor": "white",
                        "linecolor": "white",
                        "ticks": ""
                      },
                      "bgcolor": "#E5ECF6",
                      "caxis": {
                        "gridcolor": "white",
                        "linecolor": "white",
                        "ticks": ""
                      }
                    },
                    "title": {
                      "x": 0.05
                    },
                    "xaxis": {
                      "automargin": true,
                      "gridcolor": "white",
                      "linecolor": "white",
                      "ticks": "",
                      "title": {
                        "standoff": 15
                      },
                      "zerolinecolor": "white",
                      "zerolinewidth": 2
                    },
                    "yaxis": {
                      "automargin": true,
                      "gridcolor": "white",
                      "linecolor": "white",
                      "ticks": "",
                      "title": {
                        "standoff": 15
                      },
                      "zerolinecolor": "white",
                      "zerolinewidth": 2
                    }
                  }
                },
                "title": {
                  "text": "Trend of various sound features over decades"
                },
                "xaxis": {
                  "anchor": "y",
                  "domain": [
                    0,
                    1
                  ],
                  "title": {
                    "text": "year"
                  }
                },
                "yaxis": {
                  "anchor": "x",
                  "domain": [
                    0,
                    1
                  ],
                  "title": {
                    "text": "value"
                  }
                }
              }
            }
          },
          "metadata": {},
          "output_type": "display_data"
        }
      ],
      "source": [
        "sound_features = ['acousticness', 'danceability', 'energy', 'instrumentalness', 'liveness', 'valence']\n",
        "fig = px.line(year_data, x='year', y=sound_features,title='Trend of various sound features over decades')\n",
        "fig.show()"
      ]
    },
    {
      "cell_type": "code",
      "execution_count": 13,
      "metadata": {
        "colab": {
          "base_uri": "https://localhost:8080/",
          "height": 542
        },
        "id": "qxSEP2EEdCof",
        "outputId": "254b7081-d2a0-495f-f60f-41b1694a77f2"
      },
      "outputs": [
        {
          "data": {
            "application/vnd.plotly.v1+json": {
              "config": {
                "plotlyServerURL": "https://plot.ly"
              },
              "data": [
                {
                  "alignmentgroup": "True",
                  "hovertemplate": "variable=valence<br>genres=%{x}<br>value=%{y}<extra></extra>",
                  "legendgroup": "valence",
                  "marker": {
                    "color": "#636efa",
                    "pattern": {
                      "shape": ""
                    }
                  },
                  "name": "valence",
                  "offsetgroup": "valence",
                  "orientation": "v",
                  "showlegend": true,
                  "textposition": "auto",
                  "type": "bar",
                  "x": [
                    "basshall",
                    "south african house",
                    "trap venezolano",
                    "turkish edm",
                    "alberta hip hop",
                    "chinese electropop",
                    "afroswing",
                    "afro soul",
                    "circuit",
                    "guaracha"
                  ],
                  "xaxis": "x",
                  "y": [
                    0.5886666666666667,
                    0.8343333333333334,
                    0.706,
                    0.364,
                    0.937,
                    0.199,
                    0.676625,
                    0.743,
                    0.556,
                    0.556
                  ],
                  "yaxis": "y"
                },
                {
                  "alignmentgroup": "True",
                  "hovertemplate": "variable=energy<br>genres=%{x}<br>value=%{y}<extra></extra>",
                  "legendgroup": "energy",
                  "marker": {
                    "color": "#EF553B",
                    "pattern": {
                      "shape": ""
                    }
                  },
                  "name": "energy",
                  "offsetgroup": "energy",
                  "orientation": "v",
                  "showlegend": true,
                  "textposition": "auto",
                  "type": "bar",
                  "x": [
                    "basshall",
                    "south african house",
                    "trap venezolano",
                    "turkish edm",
                    "alberta hip hop",
                    "chinese electropop",
                    "afroswing",
                    "afro soul",
                    "circuit",
                    "guaracha"
                  ],
                  "xaxis": "x",
                  "y": [
                    0.6301666666666668,
                    0.5623333333333332,
                    0.777,
                    0.7190000000000001,
                    0.685,
                    0.787,
                    0.5801875,
                    0.873,
                    0.972,
                    0.972
                  ],
                  "yaxis": "y"
                },
                {
                  "alignmentgroup": "True",
                  "hovertemplate": "variable=danceability<br>genres=%{x}<br>value=%{y}<extra></extra>",
                  "legendgroup": "danceability",
                  "marker": {
                    "color": "#00cc96",
                    "pattern": {
                      "shape": ""
                    }
                  },
                  "name": "danceability",
                  "offsetgroup": "danceability",
                  "orientation": "v",
                  "showlegend": true,
                  "textposition": "auto",
                  "type": "bar",
                  "x": [
                    "basshall",
                    "south african house",
                    "trap venezolano",
                    "turkish edm",
                    "alberta hip hop",
                    "chinese electropop",
                    "afroswing",
                    "afro soul",
                    "circuit",
                    "guaracha"
                  ],
                  "xaxis": "x",
                  "y": [
                    0.8180000000000001,
                    0.847,
                    0.877,
                    0.698,
                    0.885,
                    0.66,
                    0.71175,
                    0.7659999999999999,
                    0.745,
                    0.745
                  ],
                  "yaxis": "y"
                },
                {
                  "alignmentgroup": "True",
                  "hovertemplate": "variable=acousticness<br>genres=%{x}<br>value=%{y}<extra></extra>",
                  "legendgroup": "acousticness",
                  "marker": {
                    "color": "#ab63fa",
                    "pattern": {
                      "shape": ""
                    }
                  },
                  "name": "acousticness",
                  "offsetgroup": "acousticness",
                  "orientation": "v",
                  "showlegend": true,
                  "textposition": "auto",
                  "type": "bar",
                  "x": [
                    "basshall",
                    "south african house",
                    "trap venezolano",
                    "turkish edm",
                    "alberta hip hop",
                    "chinese electropop",
                    "afroswing",
                    "afro soul",
                    "circuit",
                    "guaracha"
                  ],
                  "xaxis": "x",
                  "y": [
                    0.2131666666666666,
                    0.0438333333333333,
                    0.0446,
                    0.00829,
                    0.33,
                    0.00257,
                    0.31845,
                    0.00627,
                    0.00903,
                    0.00903
                  ],
                  "yaxis": "y"
                }
              ],
              "layout": {
                "barmode": "group",
                "legend": {
                  "title": {
                    "text": "variable"
                  },
                  "tracegroupgap": 0
                },
                "template": {
                  "data": {
                    "bar": [
                      {
                        "error_x": {
                          "color": "#2a3f5f"
                        },
                        "error_y": {
                          "color": "#2a3f5f"
                        },
                        "marker": {
                          "line": {
                            "color": "#E5ECF6",
                            "width": 0.5
                          },
                          "pattern": {
                            "fillmode": "overlay",
                            "size": 10,
                            "solidity": 0.2
                          }
                        },
                        "type": "bar"
                      }
                    ],
                    "barpolar": [
                      {
                        "marker": {
                          "line": {
                            "color": "#E5ECF6",
                            "width": 0.5
                          },
                          "pattern": {
                            "fillmode": "overlay",
                            "size": 10,
                            "solidity": 0.2
                          }
                        },
                        "type": "barpolar"
                      }
                    ],
                    "carpet": [
                      {
                        "aaxis": {
                          "endlinecolor": "#2a3f5f",
                          "gridcolor": "white",
                          "linecolor": "white",
                          "minorgridcolor": "white",
                          "startlinecolor": "#2a3f5f"
                        },
                        "baxis": {
                          "endlinecolor": "#2a3f5f",
                          "gridcolor": "white",
                          "linecolor": "white",
                          "minorgridcolor": "white",
                          "startlinecolor": "#2a3f5f"
                        },
                        "type": "carpet"
                      }
                    ],
                    "choropleth": [
                      {
                        "colorbar": {
                          "outlinewidth": 0,
                          "ticks": ""
                        },
                        "type": "choropleth"
                      }
                    ],
                    "contour": [
                      {
                        "colorbar": {
                          "outlinewidth": 0,
                          "ticks": ""
                        },
                        "colorscale": [
                          [
                            0,
                            "#0d0887"
                          ],
                          [
                            0.1111111111111111,
                            "#46039f"
                          ],
                          [
                            0.2222222222222222,
                            "#7201a8"
                          ],
                          [
                            0.3333333333333333,
                            "#9c179e"
                          ],
                          [
                            0.4444444444444444,
                            "#bd3786"
                          ],
                          [
                            0.5555555555555556,
                            "#d8576b"
                          ],
                          [
                            0.6666666666666666,
                            "#ed7953"
                          ],
                          [
                            0.7777777777777778,
                            "#fb9f3a"
                          ],
                          [
                            0.8888888888888888,
                            "#fdca26"
                          ],
                          [
                            1,
                            "#f0f921"
                          ]
                        ],
                        "type": "contour"
                      }
                    ],
                    "contourcarpet": [
                      {
                        "colorbar": {
                          "outlinewidth": 0,
                          "ticks": ""
                        },
                        "type": "contourcarpet"
                      }
                    ],
                    "heatmap": [
                      {
                        "colorbar": {
                          "outlinewidth": 0,
                          "ticks": ""
                        },
                        "colorscale": [
                          [
                            0,
                            "#0d0887"
                          ],
                          [
                            0.1111111111111111,
                            "#46039f"
                          ],
                          [
                            0.2222222222222222,
                            "#7201a8"
                          ],
                          [
                            0.3333333333333333,
                            "#9c179e"
                          ],
                          [
                            0.4444444444444444,
                            "#bd3786"
                          ],
                          [
                            0.5555555555555556,
                            "#d8576b"
                          ],
                          [
                            0.6666666666666666,
                            "#ed7953"
                          ],
                          [
                            0.7777777777777778,
                            "#fb9f3a"
                          ],
                          [
                            0.8888888888888888,
                            "#fdca26"
                          ],
                          [
                            1,
                            "#f0f921"
                          ]
                        ],
                        "type": "heatmap"
                      }
                    ],
                    "heatmapgl": [
                      {
                        "colorbar": {
                          "outlinewidth": 0,
                          "ticks": ""
                        },
                        "colorscale": [
                          [
                            0,
                            "#0d0887"
                          ],
                          [
                            0.1111111111111111,
                            "#46039f"
                          ],
                          [
                            0.2222222222222222,
                            "#7201a8"
                          ],
                          [
                            0.3333333333333333,
                            "#9c179e"
                          ],
                          [
                            0.4444444444444444,
                            "#bd3786"
                          ],
                          [
                            0.5555555555555556,
                            "#d8576b"
                          ],
                          [
                            0.6666666666666666,
                            "#ed7953"
                          ],
                          [
                            0.7777777777777778,
                            "#fb9f3a"
                          ],
                          [
                            0.8888888888888888,
                            "#fdca26"
                          ],
                          [
                            1,
                            "#f0f921"
                          ]
                        ],
                        "type": "heatmapgl"
                      }
                    ],
                    "histogram": [
                      {
                        "marker": {
                          "pattern": {
                            "fillmode": "overlay",
                            "size": 10,
                            "solidity": 0.2
                          }
                        },
                        "type": "histogram"
                      }
                    ],
                    "histogram2d": [
                      {
                        "colorbar": {
                          "outlinewidth": 0,
                          "ticks": ""
                        },
                        "colorscale": [
                          [
                            0,
                            "#0d0887"
                          ],
                          [
                            0.1111111111111111,
                            "#46039f"
                          ],
                          [
                            0.2222222222222222,
                            "#7201a8"
                          ],
                          [
                            0.3333333333333333,
                            "#9c179e"
                          ],
                          [
                            0.4444444444444444,
                            "#bd3786"
                          ],
                          [
                            0.5555555555555556,
                            "#d8576b"
                          ],
                          [
                            0.6666666666666666,
                            "#ed7953"
                          ],
                          [
                            0.7777777777777778,
                            "#fb9f3a"
                          ],
                          [
                            0.8888888888888888,
                            "#fdca26"
                          ],
                          [
                            1,
                            "#f0f921"
                          ]
                        ],
                        "type": "histogram2d"
                      }
                    ],
                    "histogram2dcontour": [
                      {
                        "colorbar": {
                          "outlinewidth": 0,
                          "ticks": ""
                        },
                        "colorscale": [
                          [
                            0,
                            "#0d0887"
                          ],
                          [
                            0.1111111111111111,
                            "#46039f"
                          ],
                          [
                            0.2222222222222222,
                            "#7201a8"
                          ],
                          [
                            0.3333333333333333,
                            "#9c179e"
                          ],
                          [
                            0.4444444444444444,
                            "#bd3786"
                          ],
                          [
                            0.5555555555555556,
                            "#d8576b"
                          ],
                          [
                            0.6666666666666666,
                            "#ed7953"
                          ],
                          [
                            0.7777777777777778,
                            "#fb9f3a"
                          ],
                          [
                            0.8888888888888888,
                            "#fdca26"
                          ],
                          [
                            1,
                            "#f0f921"
                          ]
                        ],
                        "type": "histogram2dcontour"
                      }
                    ],
                    "mesh3d": [
                      {
                        "colorbar": {
                          "outlinewidth": 0,
                          "ticks": ""
                        },
                        "type": "mesh3d"
                      }
                    ],
                    "parcoords": [
                      {
                        "line": {
                          "colorbar": {
                            "outlinewidth": 0,
                            "ticks": ""
                          }
                        },
                        "type": "parcoords"
                      }
                    ],
                    "pie": [
                      {
                        "automargin": true,
                        "type": "pie"
                      }
                    ],
                    "scatter": [
                      {
                        "fillpattern": {
                          "fillmode": "overlay",
                          "size": 10,
                          "solidity": 0.2
                        },
                        "type": "scatter"
                      }
                    ],
                    "scatter3d": [
                      {
                        "line": {
                          "colorbar": {
                            "outlinewidth": 0,
                            "ticks": ""
                          }
                        },
                        "marker": {
                          "colorbar": {
                            "outlinewidth": 0,
                            "ticks": ""
                          }
                        },
                        "type": "scatter3d"
                      }
                    ],
                    "scattercarpet": [
                      {
                        "marker": {
                          "colorbar": {
                            "outlinewidth": 0,
                            "ticks": ""
                          }
                        },
                        "type": "scattercarpet"
                      }
                    ],
                    "scattergeo": [
                      {
                        "marker": {
                          "colorbar": {
                            "outlinewidth": 0,
                            "ticks": ""
                          }
                        },
                        "type": "scattergeo"
                      }
                    ],
                    "scattergl": [
                      {
                        "marker": {
                          "colorbar": {
                            "outlinewidth": 0,
                            "ticks": ""
                          }
                        },
                        "type": "scattergl"
                      }
                    ],
                    "scattermapbox": [
                      {
                        "marker": {
                          "colorbar": {
                            "outlinewidth": 0,
                            "ticks": ""
                          }
                        },
                        "type": "scattermapbox"
                      }
                    ],
                    "scatterpolar": [
                      {
                        "marker": {
                          "colorbar": {
                            "outlinewidth": 0,
                            "ticks": ""
                          }
                        },
                        "type": "scatterpolar"
                      }
                    ],
                    "scatterpolargl": [
                      {
                        "marker": {
                          "colorbar": {
                            "outlinewidth": 0,
                            "ticks": ""
                          }
                        },
                        "type": "scatterpolargl"
                      }
                    ],
                    "scatterternary": [
                      {
                        "marker": {
                          "colorbar": {
                            "outlinewidth": 0,
                            "ticks": ""
                          }
                        },
                        "type": "scatterternary"
                      }
                    ],
                    "surface": [
                      {
                        "colorbar": {
                          "outlinewidth": 0,
                          "ticks": ""
                        },
                        "colorscale": [
                          [
                            0,
                            "#0d0887"
                          ],
                          [
                            0.1111111111111111,
                            "#46039f"
                          ],
                          [
                            0.2222222222222222,
                            "#7201a8"
                          ],
                          [
                            0.3333333333333333,
                            "#9c179e"
                          ],
                          [
                            0.4444444444444444,
                            "#bd3786"
                          ],
                          [
                            0.5555555555555556,
                            "#d8576b"
                          ],
                          [
                            0.6666666666666666,
                            "#ed7953"
                          ],
                          [
                            0.7777777777777778,
                            "#fb9f3a"
                          ],
                          [
                            0.8888888888888888,
                            "#fdca26"
                          ],
                          [
                            1,
                            "#f0f921"
                          ]
                        ],
                        "type": "surface"
                      }
                    ],
                    "table": [
                      {
                        "cells": {
                          "fill": {
                            "color": "#EBF0F8"
                          },
                          "line": {
                            "color": "white"
                          }
                        },
                        "header": {
                          "fill": {
                            "color": "#C8D4E3"
                          },
                          "line": {
                            "color": "white"
                          }
                        },
                        "type": "table"
                      }
                    ]
                  },
                  "layout": {
                    "annotationdefaults": {
                      "arrowcolor": "#2a3f5f",
                      "arrowhead": 0,
                      "arrowwidth": 1
                    },
                    "autotypenumbers": "strict",
                    "coloraxis": {
                      "colorbar": {
                        "outlinewidth": 0,
                        "ticks": ""
                      }
                    },
                    "colorscale": {
                      "diverging": [
                        [
                          0,
                          "#8e0152"
                        ],
                        [
                          0.1,
                          "#c51b7d"
                        ],
                        [
                          0.2,
                          "#de77ae"
                        ],
                        [
                          0.3,
                          "#f1b6da"
                        ],
                        [
                          0.4,
                          "#fde0ef"
                        ],
                        [
                          0.5,
                          "#f7f7f7"
                        ],
                        [
                          0.6,
                          "#e6f5d0"
                        ],
                        [
                          0.7,
                          "#b8e186"
                        ],
                        [
                          0.8,
                          "#7fbc41"
                        ],
                        [
                          0.9,
                          "#4d9221"
                        ],
                        [
                          1,
                          "#276419"
                        ]
                      ],
                      "sequential": [
                        [
                          0,
                          "#0d0887"
                        ],
                        [
                          0.1111111111111111,
                          "#46039f"
                        ],
                        [
                          0.2222222222222222,
                          "#7201a8"
                        ],
                        [
                          0.3333333333333333,
                          "#9c179e"
                        ],
                        [
                          0.4444444444444444,
                          "#bd3786"
                        ],
                        [
                          0.5555555555555556,
                          "#d8576b"
                        ],
                        [
                          0.6666666666666666,
                          "#ed7953"
                        ],
                        [
                          0.7777777777777778,
                          "#fb9f3a"
                        ],
                        [
                          0.8888888888888888,
                          "#fdca26"
                        ],
                        [
                          1,
                          "#f0f921"
                        ]
                      ],
                      "sequentialminus": [
                        [
                          0,
                          "#0d0887"
                        ],
                        [
                          0.1111111111111111,
                          "#46039f"
                        ],
                        [
                          0.2222222222222222,
                          "#7201a8"
                        ],
                        [
                          0.3333333333333333,
                          "#9c179e"
                        ],
                        [
                          0.4444444444444444,
                          "#bd3786"
                        ],
                        [
                          0.5555555555555556,
                          "#d8576b"
                        ],
                        [
                          0.6666666666666666,
                          "#ed7953"
                        ],
                        [
                          0.7777777777777778,
                          "#fb9f3a"
                        ],
                        [
                          0.8888888888888888,
                          "#fdca26"
                        ],
                        [
                          1,
                          "#f0f921"
                        ]
                      ]
                    },
                    "colorway": [
                      "#636efa",
                      "#EF553B",
                      "#00cc96",
                      "#ab63fa",
                      "#FFA15A",
                      "#19d3f3",
                      "#FF6692",
                      "#B6E880",
                      "#FF97FF",
                      "#FECB52"
                    ],
                    "font": {
                      "color": "#2a3f5f"
                    },
                    "geo": {
                      "bgcolor": "white",
                      "lakecolor": "white",
                      "landcolor": "#E5ECF6",
                      "showlakes": true,
                      "showland": true,
                      "subunitcolor": "white"
                    },
                    "hoverlabel": {
                      "align": "left"
                    },
                    "hovermode": "closest",
                    "mapbox": {
                      "style": "light"
                    },
                    "paper_bgcolor": "white",
                    "plot_bgcolor": "#E5ECF6",
                    "polar": {
                      "angularaxis": {
                        "gridcolor": "white",
                        "linecolor": "white",
                        "ticks": ""
                      },
                      "bgcolor": "#E5ECF6",
                      "radialaxis": {
                        "gridcolor": "white",
                        "linecolor": "white",
                        "ticks": ""
                      }
                    },
                    "scene": {
                      "xaxis": {
                        "backgroundcolor": "#E5ECF6",
                        "gridcolor": "white",
                        "gridwidth": 2,
                        "linecolor": "white",
                        "showbackground": true,
                        "ticks": "",
                        "zerolinecolor": "white"
                      },
                      "yaxis": {
                        "backgroundcolor": "#E5ECF6",
                        "gridcolor": "white",
                        "gridwidth": 2,
                        "linecolor": "white",
                        "showbackground": true,
                        "ticks": "",
                        "zerolinecolor": "white"
                      },
                      "zaxis": {
                        "backgroundcolor": "#E5ECF6",
                        "gridcolor": "white",
                        "gridwidth": 2,
                        "linecolor": "white",
                        "showbackground": true,
                        "ticks": "",
                        "zerolinecolor": "white"
                      }
                    },
                    "shapedefaults": {
                      "line": {
                        "color": "#2a3f5f"
                      }
                    },
                    "ternary": {
                      "aaxis": {
                        "gridcolor": "white",
                        "linecolor": "white",
                        "ticks": ""
                      },
                      "baxis": {
                        "gridcolor": "white",
                        "linecolor": "white",
                        "ticks": ""
                      },
                      "bgcolor": "#E5ECF6",
                      "caxis": {
                        "gridcolor": "white",
                        "linecolor": "white",
                        "ticks": ""
                      }
                    },
                    "title": {
                      "x": 0.05
                    },
                    "xaxis": {
                      "automargin": true,
                      "gridcolor": "white",
                      "linecolor": "white",
                      "ticks": "",
                      "title": {
                        "standoff": 15
                      },
                      "zerolinecolor": "white",
                      "zerolinewidth": 2
                    },
                    "yaxis": {
                      "automargin": true,
                      "gridcolor": "white",
                      "linecolor": "white",
                      "ticks": "",
                      "title": {
                        "standoff": 15
                      },
                      "zerolinecolor": "white",
                      "zerolinewidth": 2
                    }
                  }
                },
                "title": {
                  "text": "Trend of various sound features over top 10 genres"
                },
                "xaxis": {
                  "anchor": "y",
                  "domain": [
                    0,
                    1
                  ],
                  "title": {
                    "text": "genres"
                  }
                },
                "yaxis": {
                  "anchor": "x",
                  "domain": [
                    0,
                    1
                  ],
                  "title": {
                    "text": "value"
                  }
                }
              }
            }
          },
          "metadata": {},
          "output_type": "display_data"
        }
      ],
      "source": [
        "top10_genres = genre_data.nlargest(10, 'popularity')\n",
        "\n",
        "fig = px.bar(top10_genres, x='genres', y=['valence', 'energy', 'danceability', 'acousticness'], barmode='group',\n",
        "            title='Trend of various sound features over top 10 genres')\n",
        "fig.show()"
      ]
    },
    {
      "cell_type": "markdown",
      "metadata": {
        "id": "nbxHkP85XDh5"
      },
      "source": [
        "# Clustering Genres With K-Means"
      ]
    },
    {
      "cell_type": "code",
      "execution_count": 14,
      "metadata": {
        "id": "IC6_aSZnXDO1"
      },
      "outputs": [],
      "source": [
        "from sklearn.cluster import KMeans\n",
        "from sklearn.preprocessing import StandardScaler\n",
        "from sklearn.pipeline import Pipeline\n",
        "\n",
        "cluster_pipeline = Pipeline([('scaler', StandardScaler()), ('kmeans', KMeans(n_clusters=12))])\n",
        "X = genre_data.select_dtypes(np.number)\n",
        "cluster_pipeline.fit(X)\n",
        "genre_data['cluster'] = cluster_pipeline.predict(X)"
      ]
    },
    {
      "cell_type": "code",
      "execution_count": 15,
      "metadata": {
        "colab": {
          "base_uri": "https://localhost:8080/",
          "height": 706
        },
        "id": "AfEFQeivdHI9",
        "outputId": "851f066d-54d4-4164-f911-a94ce49f0234"
      },
      "outputs": [
        {
          "name": "stdout",
          "output_type": "stream",
          "text": [
            "[t-SNE] Computing 91 nearest neighbors...\n",
            "[t-SNE] Indexed 2973 samples in 0.013s...\n",
            "[t-SNE] Computed neighbors for 2973 samples in 0.368s...\n",
            "[t-SNE] Computed conditional probabilities for sample 1000 / 2973\n",
            "[t-SNE] Computed conditional probabilities for sample 2000 / 2973\n",
            "[t-SNE] Computed conditional probabilities for sample 2973 / 2973\n",
            "[t-SNE] Mean sigma: 0.777516\n",
            "[t-SNE] KL divergence after 250 iterations with early exaggeration: 76.106125\n",
            "[t-SNE] KL divergence after 1000 iterations: 1.393279\n"
          ]
        },
        {
          "data": {
            "application/vnd.plotly.v1+json": {
              "config": {
                "plotlyServerURL": "https://plot.ly"
              },
              "data": [
                {
                  "customdata": [
                    [
                      "21st century classical"
                    ],
                    [
                      "432hz"
                    ],
                    [
                      "8-bit"
                    ],
                    [
                      "[]"
                    ],
                    [
                      "a cappella"
                    ],
                    [
                      "abstract"
                    ],
                    [
                      "abstract beats"
                    ],
                    [
                      "abstract hip hop"
                    ],
                    [
                      "accordeon"
                    ],
                    [
                      "accordion"
                    ],
                    [
                      "acid house"
                    ],
                    [
                      "acid rock"
                    ],
                    [
                      "acid trance"
                    ],
                    [
                      "acousmatic"
                    ],
                    [
                      "acoustic blues"
                    ],
                    [
                      "acoustic pop"
                    ],
                    [
                      "acoustic punk"
                    ],
                    [
                      "acoustic rock"
                    ],
                    [
                      "action rock"
                    ],
                    [
                      "adoracion"
                    ],
                    [
                      "adult standards"
                    ],
                    [
                      "adventista"
                    ],
                    [
                      "afghan pop"
                    ],
                    [
                      "afghan traditional"
                    ],
                    [
                      "african percussion"
                    ],
                    [
                      "african reggae"
                    ],
                    [
                      "african rock"
                    ],
                    [
                      "african-american classical"
                    ],
                    [
                      "afro dancehall"
                    ],
                    [
                      "afro house"
                    ],
                    [
                      "afro psych"
                    ],
                    [
                      "afro soul"
                    ],
                    [
                      "afro-funk"
                    ],
                    [
                      "afrobeat"
                    ],
                    [
                      "afrofuturism"
                    ],
                    [
                      "afrofuturismo brasileiro"
                    ],
                    [
                      "afropop"
                    ],
                    [
                      "afroswing"
                    ],
                    [
                      "aggrotech"
                    ],
                    [
                      "alabama indie"
                    ],
                    [
                      "alabama metal"
                    ],
                    [
                      "alabama rap"
                    ],
                    [
                      "alaska indie"
                    ],
                    [
                      "albanian pop"
                    ],
                    [
                      "albany ny indie"
                    ],
                    [
                      "alberta country"
                    ],
                    [
                      "alberta hip hop"
                    ],
                    [
                      "album rock"
                    ],
                    [
                      "albuquerque indie"
                    ],
                    [
                      "alt-idol"
                    ],
                    [
                      "alte"
                    ],
                    [
                      "alternative americana"
                    ],
                    [
                      "alternative country"
                    ],
                    [
                      "alternative dance"
                    ],
                    [
                      "alternative emo"
                    ],
                    [
                      "alternative hip hop"
                    ],
                    [
                      "alternative metal"
                    ],
                    [
                      "alternative pop"
                    ],
                    [
                      "alternative pop rock"
                    ],
                    [
                      "alternative r&b"
                    ],
                    [
                      "alternative rock"
                    ],
                    [
                      "alternative roots rock"
                    ],
                    [
                      "ambeat"
                    ],
                    [
                      "ambient"
                    ],
                    [
                      "ambient black metal"
                    ],
                    [
                      "ambient folk"
                    ],
                    [
                      "ambient house"
                    ],
                    [
                      "ambient idm"
                    ],
                    [
                      "ambient industrial"
                    ],
                    [
                      "ambient pop"
                    ],
                    [
                      "ambient techno"
                    ],
                    [
                      "ambient worship"
                    ],
                    [
                      "american 21st century classical"
                    ],
                    [
                      "american choir"
                    ],
                    [
                      "american classical piano"
                    ],
                    [
                      "american contemporary classical"
                    ],
                    [
                      "american early music"
                    ],
                    [
                      "american folk revival"
                    ],
                    [
                      "american metalcore"
                    ],
                    [
                      "american modern classical"
                    ],
                    [
                      "american oi"
                    ],
                    [
                      "american orchestra"
                    ],
                    [
                      "american post-rock"
                    ],
                    [
                      "american primitive"
                    ],
                    [
                      "american romanticism"
                    ],
                    [
                      "american shoegaze"
                    ],
                    [
                      "anadolu rock"
                    ],
                    [
                      "anarcho-punk"
                    ],
                    [
                      "anglican liturgy"
                    ],
                    [
                      "animal singing"
                    ],
                    [
                      "anime"
                    ],
                    [
                      "anime latino"
                    ],
                    [
                      "anime rock"
                    ],
                    [
                      "anime score"
                    ],
                    [
                      "ann arbor indie"
                    ],
                    [
                      "anthem emo"
                    ],
                    [
                      "anthem worship"
                    ],
                    [
                      "anti-folk"
                    ],
                    [
                      "antilliaanse folklore"
                    ],
                    [
                      "antiviral pop"
                    ],
                    [
                      "appalachian folk"
                    ],
                    [
                      "arab folk"
                    ],
                    [
                      "arab groove"
                    ],
                    [
                      "arab pop"
                    ],
                    [
                      "arabesk"
                    ],
                    [
                      "arabic hip hop"
                    ],
                    [
                      "arabic jazz"
                    ],
                    [
                      "argentine ambient"
                    ],
                    [
                      "argentine hardcore"
                    ],
                    [
                      "argentine heavy metal"
                    ],
                    [
                      "argentine hip hop"
                    ],
                    [
                      "argentine indie"
                    ],
                    [
                      "argentine metal"
                    ],
                    [
                      "argentine punk"
                    ],
                    [
                      "argentine reggae"
                    ],
                    [
                      "argentine rock"
                    ],
                    [
                      "argentine telepop"
                    ],
                    [
                      "arizona punk"
                    ],
                    [
                      "arkansas country"
                    ],
                    [
                      "arkansas hip hop"
                    ],
                    [
                      "arkansas indie"
                    ],
                    [
                      "armenian folk"
                    ],
                    [
                      "art pop"
                    ],
                    [
                      "art punk"
                    ],
                    [
                      "art rock"
                    ],
                    [
                      "art song"
                    ],
                    [
                      "asbury park indie"
                    ],
                    [
                      "asheville indie"
                    ],
                    [
                      "asian american hip hop"
                    ],
                    [
                      "asmr"
                    ],
                    [
                      "athens indie"
                    ],
                    [
                      "atl hip hop"
                    ],
                    [
                      "atl trap"
                    ],
                    [
                      "atlanta indie"
                    ],
                    [
                      "atlanta metal"
                    ],
                    [
                      "atlanta punk"
                    ],
                    [
                      "atmosphere"
                    ],
                    [
                      "atmospheric black metal"
                    ],
                    [
                      "atmospheric dnb"
                    ],
                    [
                      "atmospheric post-metal"
                    ],
                    [
                      "atmospheric post-rock"
                    ],
                    [
                      "atmospheric sludge"
                    ],
                    [
                      "auckland indie"
                    ],
                    [
                      "audiophile vocal"
                    ],
                    [
                      "aussietronica"
                    ],
                    [
                      "austin americana"
                    ],
                    [
                      "austin singer-songwriter"
                    ],
                    [
                      "austindie"
                    ],
                    [
                      "australian alternative pop"
                    ],
                    [
                      "australian alternative rock"
                    ],
                    [
                      "australian ambient"
                    ],
                    [
                      "australian children's music"
                    ],
                    [
                      "australian choir"
                    ],
                    [
                      "australian classical"
                    ],
                    [
                      "australian classical piano"
                    ],
                    [
                      "australian country"
                    ],
                    [
                      "australian dance"
                    ],
                    [
                      "australian electropop"
                    ],
                    [
                      "australian garage punk"
                    ],
                    [
                      "australian hip hop"
                    ],
                    [
                      "australian house"
                    ],
                    [
                      "australian indie"
                    ],
                    [
                      "australian indie folk"
                    ],
                    [
                      "australian indie rock"
                    ],
                    [
                      "australian indigenous"
                    ],
                    [
                      "australian metal"
                    ],
                    [
                      "australian metalcore"
                    ],
                    [
                      "australian pop"
                    ],
                    [
                      "australian post-hardcore"
                    ],
                    [
                      "australian post-punk"
                    ],
                    [
                      "australian psych"
                    ],
                    [
                      "australian r&b"
                    ],
                    [
                      "australian reggae fusion"
                    ],
                    [
                      "australian rock"
                    ],
                    [
                      "australian singer-songwriter"
                    ],
                    [
                      "australian ska"
                    ],
                    [
                      "australian talent show"
                    ],
                    [
                      "australian trap"
                    ],
                    [
                      "australian underground hip hop"
                    ],
                    [
                      "austrian choir"
                    ],
                    [
                      "austrian classical piano"
                    ],
                    [
                      "austrian orchestra"
                    ],
                    [
                      "austrian pop"
                    ],
                    [
                      "austro-german modernism"
                    ],
                    [
                      "austropop"
                    ],
                    [
                      "autoharp"
                    ],
                    [
                      "autonomous black metal"
                    ],
                    [
                      "avant-garde"
                    ],
                    [
                      "avant-garde jazz"
                    ],
                    [
                      "avant-garde metal"
                    ],
                    [
                      "axe"
                    ],
                    [
                      "azeri traditional"
                    ],
                    [
                      "azonto"
                    ],
                    [
                      "azontobeats"
                    ],
                    [
                      "bachata"
                    ],
                    [
                      "bachata dominicana"
                    ],
                    [
                      "background music"
                    ],
                    [
                      "background piano"
                    ],
                    [
                      "baglama"
                    ],
                    [
                      "bahai"
                    ],
                    [
                      "bahamian folk"
                    ],
                    [
                      "bahamian pop"
                    ],
                    [
                      "baiao"
                    ],
                    [
                      "bajki"
                    ],
                    [
                      "bakersfield sound"
                    ],
                    [
                      "balearic"
                    ],
                    [
                      "balkan brass"
                    ],
                    [
                      "balkan classical piano"
                    ],
                    [
                      "ballet class"
                    ],
                    [
                      "ballroom"
                    ],
                    [
                      "baltic classical"
                    ],
                    [
                      "baltimore hip hop"
                    ],
                    [
                      "baltimore indie"
                    ],
                    [
                      "banda"
                    ],
                    [
                      "banda caliente"
                    ],
                    [
                      "banda carnavalera"
                    ],
                    [
                      "bandinhas"
                    ],
                    [
                      "bandolim"
                    ],
                    [
                      "bandoneon"
                    ],
                    [
                      "bangla"
                    ],
                    [
                      "banjo"
                    ],
                    [
                      "bansuri"
                    ],
                    [
                      "barbadian pop"
                    ],
                    [
                      "barbershop"
                    ],
                    [
                      "bard"
                    ],
                    [
                      "barnmusik"
                    ],
                    [
                      "barockinterpreten"
                    ],
                    [
                      "baroque"
                    ],
                    [
                      "baroque brass"
                    ],
                    [
                      "baroque ensemble"
                    ],
                    [
                      "baroque pop"
                    ],
                    [
                      "baroque singing"
                    ],
                    [
                      "baroque violin"
                    ],
                    [
                      "baroque woodwind"
                    ],
                    [
                      "bass house"
                    ],
                    [
                      "bass music"
                    ],
                    [
                      "bass trap"
                    ],
                    [
                      "basshall"
                    ],
                    [
                      "bassline"
                    ],
                    [
                      "bath indie"
                    ],
                    [
                      "baton rouge indie"
                    ],
                    [
                      "baton rouge rap"
                    ],
                    [
                      "battle rap"
                    ],
                    [
                      "bay area hip hop"
                    ],
                    [
                      "bay area indie"
                    ],
                    [
                      "bboy"
                    ],
                    [
                      "bc underground hip hop"
                    ],
                    [
                      "beach music"
                    ],
                    [
                      "beat italiano"
                    ],
                    [
                      "beat poetry"
                    ],
                    [
                      "beatboxing"
                    ],
                    [
                      "beatlesque"
                    ],
                    [
                      "bebop"
                    ],
                    [
                      "bedroom pop"
                    ],
                    [
                      "bedroom soul"
                    ],
                    [
                      "belarusian indie"
                    ],
                    [
                      "belarusian pop"
                    ],
                    [
                      "belarusian rock"
                    ],
                    [
                      "belgian classical piano"
                    ],
                    [
                      "belgian contemporary classical"
                    ],
                    [
                      "belgian dance"
                    ],
                    [
                      "belgian edm"
                    ],
                    [
                      "belgian hardcore"
                    ],
                    [
                      "belgian indie"
                    ],
                    [
                      "belgian indie rock"
                    ],
                    [
                      "belgian jazz"
                    ],
                    [
                      "belgian new wave"
                    ],
                    [
                      "belgian pop"
                    ],
                    [
                      "belgian rock"
                    ],
                    [
                      "belgian singer-songwriter"
                    ],
                    [
                      "belgian techno"
                    ],
                    [
                      "belly dance"
                    ],
                    [
                      "bengali folk"
                    ],
                    [
                      "beninese pop"
                    ],
                    [
                      "bergen indie"
                    ],
                    [
                      "berlin minimal techno"
                    ],
                    [
                      "berlin school"
                    ],
                    [
                      "bhajan"
                    ],
                    [
                      "bhangra"
                    ],
                    [
                      "bible"
                    ],
                    [
                      "big band"
                    ],
                    [
                      "big beat"
                    ],
                    [
                      "big room"
                    ],
                    [
                      "binaural"
                    ],
                    [
                      "birdsong"
                    ],
                    [
                      "birmingham grime"
                    ],
                    [
                      "birmingham hip hop"
                    ],
                    [
                      "birmingham metal"
                    ],
                    [
                      "bitpop"
                    ],
                    [
                      "black 'n' roll"
                    ],
                    [
                      "black comedy"
                    ],
                    [
                      "black metal"
                    ],
                    [
                      "black punk"
                    ],
                    [
                      "black thrash"
                    ],
                    [
                      "blackened crust"
                    ],
                    [
                      "blackgaze"
                    ],
                    [
                      "bleep techno"
                    ],
                    [
                      "bluegrass"
                    ],
                    [
                      "bluegrass fiddle"
                    ],
                    [
                      "bluegrass gospel"
                    ],
                    [
                      "blues"
                    ],
                    [
                      "blues latinoamericano"
                    ],
                    [
                      "blues mexicano"
                    ],
                    [
                      "blues rock"
                    ],
                    [
                      "bmore"
                    ],
                    [
                      "bolero"
                    ],
                    [
                      "bolero cubano"
                    ],
                    [
                      "boogaloo"
                    ],
                    [
                      "boogie"
                    ],
                    [
                      "boogie-woogie"
                    ],
                    [
                      "boom bap"
                    ],
                    [
                      "boom bap brasileiro"
                    ],
                    [
                      "bossa nova"
                    ],
                    [
                      "bossa nova jazz"
                    ],
                    [
                      "boston folk"
                    ],
                    [
                      "boston hardcore"
                    ],
                    [
                      "boston hip hop"
                    ],
                    [
                      "boston indie"
                    ],
                    [
                      "boston metal"
                    ],
                    [
                      "boston punk"
                    ],
                    [
                      "boston rock"
                    ],
                    [
                      "bounce"
                    ],
                    [
                      "bouncy house"
                    ],
                    [
                      "bouzouki"
                    ],
                    [
                      "bow pop"
                    ],
                    [
                      "boy band"
                    ],
                    [
                      "boy pop"
                    ],
                    [
                      "boy soprano"
                    ],
                    [
                      "brain waves"
                    ],
                    [
                      "braindance"
                    ],
                    [
                      "brass band"
                    ],
                    [
                      "brass ensemble"
                    ],
                    [
                      "brass quintet"
                    ],
                    [
                      "brazilian boogie"
                    ],
                    [
                      "brazilian classical"
                    ],
                    [
                      "brazilian classical piano"
                    ],
                    [
                      "brazilian contemporary classical"
                    ],
                    [
                      "brazilian edm"
                    ],
                    [
                      "brazilian groove metal"
                    ],
                    [
                      "brazilian hip hop"
                    ],
                    [
                      "brazilian indie"
                    ],
                    [
                      "brazilian jazz"
                    ],
                    [
                      "brazilian metal"
                    ],
                    [
                      "brazilian modern jazz"
                    ],
                    [
                      "brazilian percussion"
                    ],
                    [
                      "brazilian punk"
                    ],
                    [
                      "brazilian reggae"
                    ],
                    [
                      "brazilian rock"
                    ],
                    [
                      "brazilian ska"
                    ],
                    [
                      "brazilian soul"
                    ],
                    [
                      "brazilian thrash metal"
                    ],
                    [
                      "breakbeat"
                    ],
                    [
                      "breakcore"
                    ],
                    [
                      "brega"
                    ],
                    [
                      "breton folk"
                    ],
                    [
                      "brighton indie"
                    ],
                    [
                      "brill building pop"
                    ],
                    [
                      "brisbane indie"
                    ],
                    [
                      "bristol electronic"
                    ],
                    [
                      "bristol indie"
                    ],
                    [
                      "brit funk"
                    ],
                    [
                      "british alternative rock"
                    ],
                    [
                      "british black metal"
                    ],
                    [
                      "british blues"
                    ],
                    [
                      "british children's music"
                    ],
                    [
                      "british choir"
                    ],
                    [
                      "british classical piano"
                    ],
                    [
                      "british comedy"
                    ],
                    [
                      "british contemporary classical"
                    ],
                    [
                      "british dance band"
                    ],
                    [
                      "british death metal"
                    ],
                    [
                      "british experimental"
                    ],
                    [
                      "british folk"
                    ],
                    [
                      "british grindcore"
                    ],
                    [
                      "british indie rock"
                    ],
                    [
                      "british industrial"
                    ],
                    [
                      "british invasion"
                    ],
                    [
                      "british jazz"
                    ],
                    [
                      "british modern classical"
                    ],
                    [
                      "british orchestra"
                    ],
                    [
                      "british post-rock"
                    ],
                    [
                      "british power metal"
                    ],
                    [
                      "british singer-songwriter"
                    ],
                    [
                      "british soul"
                    ],
                    [
                      "british soundtrack"
                    ],
                    [
                      "britpop"
                    ],
                    [
                      "broadway"
                    ],
                    [
                      "broken beat"
                    ],
                    [
                      "bronx hip hop"
                    ],
                    [
                      "brooklyn drill"
                    ],
                    [
                      "brooklyn indie"
                    ],
                    [
                      "brostep"
                    ],
                    [
                      "brutal death metal"
                    ],
                    [
                      "brutal deathcore"
                    ],
                    [
                      "bubble trance"
                    ],
                    [
                      "bubblegrunge"
                    ],
                    [
                      "bubblegum dance"
                    ],
                    [
                      "bubblegum pop"
                    ],
                    [
                      "buffalo hip hop"
                    ],
                    [
                      "buffalo ny indie"
                    ],
                    [
                      "buffalo ny metal"
                    ],
                    [
                      "bulgarian experimental"
                    ],
                    [
                      "burmese traditional"
                    ],
                    [
                      "bush ballad"
                    ],
                    [
                      "c-pop"
                    ],
                    [
                      "c86"
                    ],
                    [
                      "cabaret"
                    ],
                    [
                      "cajun"
                    ],
                    [
                      "calgary indie"
                    ],
                    [
                      "cali rap"
                    ],
                    [
                      "calming instrumental"
                    ],
                    [
                      "calypso"
                    ],
                    [
                      "cambodian rock"
                    ],
                    [
                      "cambridge choir"
                    ],
                    [
                      "cambridgeshire indie"
                    ],
                    [
                      "cameroonian pop"
                    ],
                    [
                      "canadian americana"
                    ],
                    [
                      "canadian blues"
                    ],
                    [
                      "canadian ccm"
                    ],
                    [
                      "canadian celtic"
                    ],
                    [
                      "canadian children's music"
                    ],
                    [
                      "canadian choir"
                    ],
                    [
                      "canadian classical"
                    ],
                    [
                      "canadian classical piano"
                    ],
                    [
                      "canadian comedy"
                    ],
                    [
                      "canadian contemporary country"
                    ],
                    [
                      "canadian contemporary r&b"
                    ],
                    [
                      "canadian country"
                    ],
                    [
                      "canadian electronic"
                    ],
                    [
                      "canadian electropop"
                    ],
                    [
                      "canadian experimental"
                    ],
                    [
                      "canadian folk"
                    ],
                    [
                      "canadian hardcore"
                    ],
                    [
                      "canadian hip hop"
                    ],
                    [
                      "canadian house"
                    ],
                    [
                      "canadian indie"
                    ],
                    [
                      "canadian indie folk"
                    ],
                    [
                      "canadian indigenous"
                    ],
                    [
                      "canadian indigenous hip hop"
                    ],
                    [
                      "canadian latin"
                    ],
                    [
                      "canadian metal"
                    ],
                    [
                      "canadian metalcore"
                    ],
                    [
                      "canadian modern jazz"
                    ],
                    [
                      "canadian pop"
                    ],
                    [
                      "canadian pop punk"
                    ],
                    [
                      "canadian post-hardcore"
                    ],
                    [
                      "canadian post-rock"
                    ],
                    [
                      "canadian psychedelic"
                    ],
                    [
                      "canadian punk"
                    ],
                    [
                      "canadian rock"
                    ],
                    [
                      "canadian rockabilly"
                    ],
                    [
                      "canadian singer-songwriter"
                    ],
                    [
                      "canadian soundtrack"
                    ],
                    [
                      "cancion melodica"
                    ],
                    [
                      "candy pop"
                    ],
                    [
                      "cantautor"
                    ],
                    [
                      "cante flamenco"
                    ],
                    [
                      "canterbury scene"
                    ],
                    [
                      "canto popular uruguayo"
                    ],
                    [
                      "cantopop"
                    ],
                    [
                      "canzone d'autore"
                    ],
                    [
                      "canzone genovese"
                    ],
                    [
                      "canzone napoletana"
                    ],
                    [
                      "cape town indie"
                    ],
                    [
                      "cape verdean folk"
                    ],
                    [
                      "capoeira"
                    ],
                    [
                      "caracas indie"
                    ],
                    [
                      "carnatic"
                    ],
                    [
                      "carnatic instrumental"
                    ],
                    [
                      "carnatic vocal"
                    ],
                    [
                      "cartoon"
                    ],
                    [
                      "cathedral choir"
                    ],
                    [
                      "caucasian classical"
                    ],
                    [
                      "caucasian classical piano"
                    ],
                    [
                      "ccm"
                    ],
                    [
                      "cedm"
                    ],
                    [
                      "cello"
                    ],
                    [
                      "celtic"
                    ],
                    [
                      "celtic harp"
                    ],
                    [
                      "celtic metal"
                    ],
                    [
                      "celtic punk"
                    ],
                    [
                      "celtic rock"
                    ],
                    [
                      "cha-cha-cha"
                    ],
                    [
                      "chakra"
                    ],
                    [
                      "chamame"
                    ],
                    [
                      "chamber choir"
                    ],
                    [
                      "chamber ensemble"
                    ],
                    [
                      "chamber folk"
                    ],
                    [
                      "chamber orchestra"
                    ],
                    [
                      "chamber pop"
                    ],
                    [
                      "chamber psych"
                    ],
                    [
                      "champeta"
                    ],
                    [
                      "channel islands indie"
                    ],
                    [
                      "channel pop"
                    ],
                    [
                      "chanson"
                    ],
                    [
                      "chanson paillarde"
                    ],
                    [
                      "chaotic hardcore"
                    ],
                    [
                      "charanga"
                    ],
                    [
                      "charango"
                    ],
                    [
                      "charlotte nc indie"
                    ],
                    [
                      "charlottesville indie"
                    ],
                    [
                      "chattanooga indie"
                    ],
                    [
                      "chicago blues"
                    ],
                    [
                      "chicago drill"
                    ],
                    [
                      "chicago hardcore"
                    ],
                    [
                      "chicago house"
                    ],
                    [
                      "chicago indie"
                    ],
                    [
                      "chicago pop punk"
                    ],
                    [
                      "chicago punk"
                    ],
                    [
                      "chicago rap"
                    ],
                    [
                      "chicago soul"
                    ],
                    [
                      "chicano punk"
                    ],
                    [
                      "chicano rap"
                    ],
                    [
                      "chicha"
                    ],
                    [
                      "chihuahua indie"
                    ],
                    [
                      "children's choir"
                    ],
                    [
                      "children's folk"
                    ],
                    [
                      "children's music"
                    ],
                    [
                      "children's story"
                    ],
                    [
                      "chilean hardcore"
                    ],
                    [
                      "chilean indie"
                    ],
                    [
                      "chilean rock"
                    ],
                    [
                      "chilena"
                    ],
                    [
                      "chill beats"
                    ],
                    [
                      "chill guitar"
                    ],
                    [
                      "chill lounge"
                    ],
                    [
                      "chill out"
                    ],
                    [
                      "chill pop"
                    ],
                    [
                      "chill r&b"
                    ],
                    [
                      "chillhop"
                    ],
                    [
                      "chillstep"
                    ],
                    [
                      "chillwave"
                    ],
                    [
                      "chinese audiophile"
                    ],
                    [
                      "chinese classical"
                    ],
                    [
                      "chinese classical performance"
                    ],
                    [
                      "chinese classical piano"
                    ],
                    [
                      "chinese electropop"
                    ],
                    [
                      "chinese hip hop"
                    ],
                    [
                      "chinese idol pop"
                    ],
                    [
                      "chinese indie"
                    ],
                    [
                      "chinese indie rock"
                    ],
                    [
                      "chinese instrumental"
                    ],
                    [
                      "chinese jazz"
                    ],
                    [
                      "chinese r&b"
                    ],
                    [
                      "chinese soundtrack"
                    ],
                    [
                      "chinese traditional"
                    ],
                    [
                      "chiptune"
                    ],
                    [
                      "chopped and screwed"
                    ],
                    [
                      "choral"
                    ],
                    [
                      "choro"
                    ],
                    [
                      "christchurch indie"
                    ],
                    [
                      "christelijk"
                    ],
                    [
                      "christian a cappella"
                    ],
                    [
                      "christian alternative rock"
                    ],
                    [
                      "christian dance"
                    ],
                    [
                      "christian hard rock"
                    ],
                    [
                      "christian hardcore"
                    ],
                    [
                      "christian hip hop"
                    ],
                    [
                      "christian indie"
                    ],
                    [
                      "christian metal"
                    ],
                    [
                      "christian metalcore"
                    ],
                    [
                      "christian music"
                    ],
                    [
                      "christian pop"
                    ],
                    [
                      "christian power metal"
                    ],
                    [
                      "christian punk"
                    ],
                    [
                      "christian relaxative"
                    ],
                    [
                      "christian rock"
                    ],
                    [
                      "christian trap"
                    ],
                    [
                      "christian uplift"
                    ],
                    [
                      "christmas instrumental"
                    ],
                    [
                      "christmas product"
                    ],
                    [
                      "chunchaca"
                    ],
                    [
                      "chutney"
                    ],
                    [
                      "cincinnati rap"
                    ],
                    [
                      "cinematic post-rock"
                    ],
                    [
                      "circuit"
                    ],
                    [
                      "circus"
                    ],
                    [
                      "classic afrobeat"
                    ],
                    [
                      "classic arab pop"
                    ],
                    [
                      "classic australian country"
                    ],
                    [
                      "classic belgian pop"
                    ],
                    [
                      "classic bhangra"
                    ],
                    [
                      "classic bollywood"
                    ],
                    [
                      "classic canadian rock"
                    ],
                    [
                      "classic cantopop"
                    ],
                    [
                      "classic colombian pop"
                    ],
                    [
                      "classic country pop"
                    ],
                    [
                      "classic czech pop"
                    ],
                    [
                      "classic danish pop"
                    ],
                    [
                      "classic dubstep"
                    ],
                    [
                      "classic eurovision"
                    ],
                    [
                      "classic finnish pop"
                    ],
                    [
                      "classic french pop"
                    ],
                    [
                      "classic garage rock"
                    ],
                    [
                      "classic girl group"
                    ],
                    [
                      "classic greek pop"
                    ],
                    [
                      "classic hardstyle"
                    ],
                    [
                      "classic icelandic pop"
                    ],
                    [
                      "classic indo pop"
                    ],
                    [
                      "classic iskelma"
                    ],
                    [
                      "classic israeli pop"
                    ],
                    [
                      "classic italian folk pop"
                    ],
                    [
                      "classic italian pop"
                    ],
                    [
                      "classic j-rock"
                    ],
                    [
                      "classic japanese jazz"
                    ],
                    [
                      "classic korean pop"
                    ],
                    [
                      "classic latvian pop"
                    ],
                    [
                      "classic mandopop"
                    ],
                    [
                      "classic norwegian pop"
                    ],
                    [
                      "classic opm"
                    ],
                    [
                      "classic pakistani pop"
                    ],
                    [
                      "classic persian pop"
                    ],
                    [
                      "classic peruvian pop"
                    ],
                    [
                      "classic polish pop"
                    ],
                    [
                      "classic praise"
                    ],
                    [
                      "classic psychedelic rock"
                    ],
                    [
                      "classic punjabi pop"
                    ],
                    [
                      "classic rock"
                    ],
                    [
                      "classic russian pop"
                    ],
                    [
                      "classic russian rock"
                    ],
                    [
                      "classic schlager"
                    ],
                    [
                      "classic soul"
                    ],
                    [
                      "classic soundtrack"
                    ],
                    [
                      "classic swedish pop"
                    ],
                    [
                      "classic thai pop"
                    ],
                    [
                      "classic tunisian pop"
                    ],
                    [
                      "classic turkish pop"
                    ],
                    [
                      "classic uk pop"
                    ],
                    [
                      "classic venezuelan pop"
                    ],
                    [
                      "classical"
                    ],
                    [
                      "classical accordion"
                    ],
                    [
                      "classical baritone"
                    ],
                    [
                      "classical bass"
                    ],
                    [
                      "classical cello"
                    ],
                    [
                      "classical clarinet"
                    ],
                    [
                      "classical contralto"
                    ],
                    [
                      "classical countertenor"
                    ],
                    [
                      "classical era"
                    ],
                    [
                      "classical flute"
                    ],
                    [
                      "classical guitar"
                    ],
                    [
                      "classical harp"
                    ],
                    [
                      "classical horn"
                    ],
                    [
                      "classical mandolin"
                    ],
                    [
                      "classical mezzo-soprano"
                    ],
                    [
                      "classical oboe"
                    ],
                    [
                      "classical organ"
                    ],
                    [
                      "classical performance"
                    ],
                    [
                      "classical piano"
                    ],
                    [
                      "classical piano duo"
                    ],
                    [
                      "classical piano trio"
                    ],
                    [
                      "classical saxophone"
                    ],
                    [
                      "classical soprano"
                    ],
                    [
                      "classical tenor"
                    ],
                    [
                      "classical trumpet"
                    ],
                    [
                      "classify"
                    ],
                    [
                      "clawhammer banjo"
                    ],
                    [
                      "clean comedy"
                    ],
                    [
                      "cleveland metal"
                    ],
                    [
                      "coco"
                    ],
                    [
                      "collage pop"
                    ],
                    [
                      "college a cappella"
                    ],
                    [
                      "colombian hip hop"
                    ],
                    [
                      "colombian pop"
                    ],
                    [
                      "colombian rock"
                    ],
                    [
                      "columbus ohio indie"
                    ],
                    [
                      "comedy"
                    ],
                    [
                      "comedy rap"
                    ],
                    [
                      "comedy rock"
                    ],
                    [
                      "comic"
                    ],
                    [
                      "comic metal"
                    ],
                    [
                      "commons"
                    ],
                    [
                      "complextro"
                    ],
                    [
                      "compositional ambient"
                    ],
                    [
                      "concepcion indie"
                    ],
                    [
                      "concert band"
                    ],
                    [
                      "connecticut hardcore"
                    ],
                    [
                      "connecticut indie"
                    ],
                    [
                      "conscious hip hop"
                    ],
                    [
                      "contemporary choir"
                    ],
                    [
                      "contemporary classical"
                    ],
                    [
                      "contemporary classical piano"
                    ],
                    [
                      "contemporary country"
                    ],
                    [
                      "contemporary folk"
                    ],
                    [
                      "contemporary gospel"
                    ],
                    [
                      "contemporary jazz"
                    ],
                    [
                      "contemporary post-bop"
                    ],
                    [
                      "contemporary vocal jazz"
                    ],
                    [
                      "contrabass"
                    ],
                    [
                      "cool jazz"
                    ],
                    [
                      "copla"
                    ],
                    [
                      "cornish folk"
                    ],
                    [
                      "cornwall indie"
                    ],
                    [
                      "corrido"
                    ],
                    [
                      "corridos cristianos"
                    ],
                    [
                      "corridos tumbados"
                    ],
                    [
                      "corrosion"
                    ],
                    [
                      "cosmic american"
                    ],
                    [
                      "cosmic post-rock"
                    ],
                    [
                      "country"
                    ],
                    [
                      "country blues"
                    ],
                    [
                      "country boogie"
                    ],
                    [
                      "country dawn"
                    ],
                    [
                      "country gospel"
                    ],
                    [
                      "country pop"
                    ],
                    [
                      "country rap"
                    ],
                    [
                      "country road"
                    ],
                    [
                      "country rock"
                    ],
                    [
                      "coverchill"
                    ],
                    [
                      "cowboy western"
                    ],
                    [
                      "cowpunk"
                    ],
                    [
                      "crack rock steady"
                    ],
                    [
                      "croatian folk"
                    ],
                    [
                      "croatian pop"
                    ],
                    [
                      "croatian rock"
                    ],
                    [
                      "crossover thrash"
                    ],
                    [
                      "crunk"
                    ],
                    [
                      "crust punk"
                    ],
                    [
                      "cuarteto"
                    ],
                    [
                      "cuatro venezolano"
                    ],
                    [
                      "cuban alternative"
                    ],
                    [
                      "cuban rumba"
                    ],
                    [
                      "cubaton"
                    ],
                    [
                      "cumbia"
                    ],
                    [
                      "cumbia andina mexicana"
                    ],
                    [
                      "cumbia chilena"
                    ],
                    [
                      "cumbia colombiana regia"
                    ],
                    [
                      "cumbia ecuatoriana"
                    ],
                    [
                      "cumbia funk"
                    ],
                    [
                      "cumbia lagunera"
                    ],
                    [
                      "cumbia paraguaya"
                    ],
                    [
                      "cumbia peruana"
                    ],
                    [
                      "cumbia pop"
                    ],
                    [
                      "cumbia ranchera"
                    ],
                    [
                      "cumbia salvadorena"
                    ],
                    [
                      "cumbia santafesina"
                    ],
                    [
                      "cumbia sonidera"
                    ],
                    [
                      "cumbia villera"
                    ],
                    [
                      "cyberpunk"
                    ],
                    [
                      "cymraeg"
                    ],
                    [
                      "cypriot pop"
                    ],
                    [
                      "czech classical"
                    ],
                    [
                      "czech classical piano"
                    ],
                    [
                      "czech contemporary classical"
                    ],
                    [
                      "d-beat"
                    ],
                    [
                      "dabke"
                    ],
                    [
                      "dakke dak"
                    ],
                    [
                      "dallas indie"
                    ],
                    [
                      "dance pop"
                    ],
                    [
                      "dance rock"
                    ],
                    [
                      "dance-punk"
                    ],
                    [
                      "dancehall"
                    ],
                    [
                      "dangdut"
                    ],
                    [
                      "danish alternative rock"
                    ],
                    [
                      "danish classical"
                    ],
                    [
                      "danish electronic"
                    ],
                    [
                      "danish electropop"
                    ],
                    [
                      "danish hip hop"
                    ],
                    [
                      "danish jazz"
                    ],
                    [
                      "danish metal"
                    ],
                    [
                      "danish pop"
                    ],
                    [
                      "danish pop rock"
                    ],
                    [
                      "danish post-punk"
                    ],
                    [
                      "danish punk"
                    ],
                    [
                      "danish rock"
                    ],
                    [
                      "danish singer-songwriter"
                    ],
                    [
                      "dansband"
                    ],
                    [
                      "danseband"
                    ],
                    [
                      "dansktop"
                    ],
                    [
                      "danspunk"
                    ],
                    [
                      "dark cabaret"
                    ],
                    [
                      "dark clubbing"
                    ],
                    [
                      "dark disco"
                    ],
                    [
                      "dark hardcore"
                    ],
                    [
                      "dark jazz"
                    ],
                    [
                      "dark minimal techno"
                    ],
                    [
                      "dark post-punk"
                    ],
                    [
                      "dark techno"
                    ],
                    [
                      "dark trap"
                    ],
                    [
                      "dark wave"
                    ],
                    [
                      "darksynth"
                    ],
                    [
                      "dayton indie"
                    ],
                    [
                      "dc hardcore"
                    ],
                    [
                      "dc indie"
                    ],
                    [
                      "death 'n' roll"
                    ],
                    [
                      "death metal"
                    ],
                    [
                      "deathcore"
                    ],
                    [
                      "deathgrass"
                    ],
                    [
                      "deathgrind"
                    ],
                    [
                      "deathrash"
                    ],
                    [
                      "deathrock"
                    ],
                    [
                      "deathstep"
                    ],
                    [
                      "deep acoustic pop"
                    ],
                    [
                      "deep adult standards"
                    ],
                    [
                      "deep big room"
                    ],
                    [
                      "deep ccm"
                    ],
                    [
                      "deep christian rock"
                    ],
                    [
                      "deep classic garage rock"
                    ],
                    [
                      "deep comedy"
                    ],
                    [
                      "deep contemporary country"
                    ],
                    [
                      "deep dance pop"
                    ],
                    [
                      "deep delta blues"
                    ],
                    [
                      "deep disco"
                    ],
                    [
                      "deep disco house"
                    ],
                    [
                      "deep dnb"
                    ],
                    [
                      "deep east coast hip hop"
                    ],
                    [
                      "deep euro house"
                    ],
                    [
                      "deep flow"
                    ],
                    [
                      "deep free jazz"
                    ],
                    [
                      "deep freestyle"
                    ],
                    [
                      "deep full on"
                    ],
                    [
                      "deep funk"
                    ],
                    [
                      "deep g funk"
                    ],
                    [
                      "deep gothic post-punk"
                    ],
                    [
                      "deep groove house"
                    ],
                    [
                      "deep house"
                    ],
                    [
                      "deep idm"
                    ],
                    [
                      "deep indian pop"
                    ],
                    [
                      "deep indie singer-songwriter"
                    ],
                    [
                      "deep latin alternative"
                    ],
                    [
                      "deep latin christian"
                    ],
                    [
                      "deep melodic metalcore"
                    ],
                    [
                      "deep minimal techno"
                    ],
                    [
                      "deep motown"
                    ],
                    [
                      "deep new americana"
                    ],
                    [
                      "deep new wave"
                    ],
                    [
                      "deep norteno"
                    ],
                    [
                      "deep northern soul"
                    ],
                    [
                      "deep pop edm"
                    ],
                    [
                      "deep progressive house"
                    ],
                    [
                      "deep psychobilly"
                    ],
                    [
                      "deep punk rock"
                    ],
                    [
                      "deep r&b"
                    ],
                    [
                      "deep ragga"
                    ],
                    [
                      "deep regional mexican"
                    ],
                    [
                      "deep smooth jazz"
                    ],
                    [
                      "deep soft rock"
                    ],
                    [
                      "deep soul house"
                    ],
                    [
                      "deep soundtrack"
                    ],
                    [
                      "deep southern soul"
                    ],
                    [
                      "deep southern trap"
                    ],
                    [
                      "deep space rock"
                    ],
                    [
                      "deep talent show"
                    ],
                    [
                      "deep tech house"
                    ],
                    [
                      "deep techno"
                    ],
                    [
                      "deep tropical house"
                    ],
                    [
                      "deep underground hip hop"
                    ],
                    [
                      "deep uplifting trance"
                    ],
                    [
                      "delta blues"
                    ],
                    [
                      "dembow"
                    ],
                    [
                      "denpa-kei"
                    ],
                    [
                      "denton tx indie"
                    ],
                    [
                      "denver indie"
                    ],
                    [
                      "depressive black metal"
                    ],
                    [
                      "derby indie"
                    ],
                    [
                      "desert blues"
                    ],
                    [
                      "desi hip hop"
                    ],
                    [
                      "desi pop"
                    ],
                    [
                      "destroy techno"
                    ],
                    [
                      "detroit hip hop"
                    ],
                    [
                      "detroit house"
                    ],
                    [
                      "detroit techno"
                    ],
                    [
                      "detroit trap"
                    ],
                    [
                      "detske pisnicky"
                    ],
                    [
                      "detskie pesni"
                    ],
                    [
                      "devon indie"
                    ],
                    [
                      "dfw rap"
                    ],
                    [
                      "dhrupad"
                    ],
                    [
                      "digital hardcore"
                    ],
                    [
                      "dinner jazz"
                    ],
                    [
                      "dirty south rap"
                    ],
                    [
                      "dirty texas rap"
                    ],
                    [
                      "disco"
                    ],
                    [
                      "disco house"
                    ],
                    [
                      "disney"
                    ],
                    [
                      "diva house"
                    ],
                    [
                      "dixieland"
                    ],
                    [
                      "diy emo"
                    ],
                    [
                      "djent"
                    ],
                    [
                      "dmv rap"
                    ],
                    [
                      "dominican pop"
                    ],
                    [
                      "dong-yo"
                    ],
                    [
                      "doo-wop"
                    ],
                    [
                      "doom metal"
                    ],
                    [
                      "double drumming"
                    ],
                    [
                      "downtempo"
                    ],
                    [
                      "drama"
                    ],
                    [
                      "dream pop"
                    ],
                    [
                      "dream trance"
                    ],
                    [
                      "dreamgaze"
                    ],
                    [
                      "dreamo"
                    ],
                    [
                      "drift"
                    ],
                    [
                      "drill"
                    ],
                    [
                      "drill and bass"
                    ],
                    [
                      "drone"
                    ],
                    [
                      "drone folk"
                    ],
                    [
                      "drone metal"
                    ],
                    [
                      "drum and bass"
                    ],
                    [
                      "dub"
                    ],
                    [
                      "dub metal"
                    ],
                    [
                      "dub poetry"
                    ],
                    [
                      "dub techno"
                    ],
                    [
                      "dubstep"
                    ],
                    [
                      "dubsteppe"
                    ],
                    [
                      "duduk"
                    ],
                    [
                      "duluth indie"
                    ],
                    [
                      "dunedin indie"
                    ],
                    [
                      "dunedin sound"
                    ],
                    [
                      "dungeon synth"
                    ],
                    [
                      "duranguense"
                    ],
                    [
                      "dusseldorf electronic"
                    ],
                    [
                      "dutch blues"
                    ],
                    [
                      "dutch cabaret"
                    ],
                    [
                      "dutch classical piano"
                    ],
                    [
                      "dutch death metal"
                    ],
                    [
                      "dutch dnb"
                    ],
                    [
                      "dutch edm"
                    ],
                    [
                      "dutch folk"
                    ],
                    [
                      "dutch hip hop"
                    ],
                    [
                      "dutch house"
                    ],
                    [
                      "dutch indie"
                    ],
                    [
                      "dutch jazz"
                    ],
                    [
                      "dutch metal"
                    ],
                    [
                      "dutch pop"
                    ],
                    [
                      "dutch prog"
                    ],
                    [
                      "dutch rap pop"
                    ],
                    [
                      "dutch rock"
                    ],
                    [
                      "dutch trance"
                    ],
                    [
                      "e6fi"
                    ],
                    [
                      "early american folk"
                    ],
                    [
                      "early avant garde"
                    ],
                    [
                      "early modern classical"
                    ],
                    [
                      "early music"
                    ],
                    [
                      "early music choir"
                    ],
                    [
                      "early music ensemble"
                    ],
                    [
                      "early reggae"
                    ],
                    [
                      "early romantic era"
                    ],
                    [
                      "early synthpop"
                    ],
                    [
                      "early us punk"
                    ],
                    [
                      "east coast hip hop"
                    ],
                    [
                      "east coast reggae"
                    ],
                    [
                      "eastern bloc groove"
                    ],
                    [
                      "easy listening"
                    ],
                    [
                      "easycore"
                    ],
                    [
                      "eau claire indie"
                    ],
                    [
                      "ebm"
                    ],
                    [
                      "ecm-style jazz"
                    ],
                    [
                      "ectofolk"
                    ],
                    [
                      "ecuadorian pop"
                    ],
                    [
                      "edm"
                    ],
                    [
                      "edmonton indie"
                    ],
                    [
                      "egyptian pop"
                    ],
                    [
                      "egyptian traditional"
                    ],
                    [
                      "el paso indie"
                    ],
                    [
                      "electra"
                    ],
                    [
                      "electric bass"
                    ],
                    [
                      "electric blues"
                    ],
                    [
                      "electro"
                    ],
                    [
                      "electro house"
                    ],
                    [
                      "electro jazz"
                    ],
                    [
                      "electro latino"
                    ],
                    [
                      "electro swing"
                    ],
                    [
                      "electro-industrial"
                    ],
                    [
                      "electro-pop francais"
                    ],
                    [
                      "electroclash"
                    ],
                    [
                      "electrofox"
                    ],
                    [
                      "electronic djent"
                    ],
                    [
                      "electronic rock"
                    ],
                    [
                      "electronic trap"
                    ],
                    [
                      "electronica"
                    ],
                    [
                      "electronica argentina"
                    ],
                    [
                      "electropop"
                    ],
                    [
                      "electropowerpop"
                    ],
                    [
                      "emo"
                    ],
                    [
                      "emo mexicano"
                    ],
                    [
                      "emo punk"
                    ],
                    [
                      "emo rap"
                    ],
                    [
                      "emocore"
                    ],
                    [
                      "english baroque"
                    ],
                    [
                      "english indie rock"
                    ],
                    [
                      "english renaissance"
                    ],
                    [
                      "enka"
                    ],
                    [
                      "entehno"
                    ],
                    [
                      "environmental"
                    ],
                    [
                      "epic doom"
                    ],
                    [
                      "epicore"
                    ],
                    [
                      "erhu"
                    ],
                    [
                      "escape room"
                    ],
                    [
                      "esperanto"
                    ],
                    [
                      "essex indie"
                    ],
                    [
                      "estonian hip hop"
                    ],
                    [
                      "estonian pop"
                    ],
                    [
                      "ethereal wave"
                    ],
                    [
                      "etherpop"
                    ],
                    [
                      "ethio-jazz"
                    ],
                    [
                      "ethiopian pop"
                    ],
                    [
                      "ethnomusicology"
                    ],
                    [
                      "ethnotronica"
                    ],
                    [
                      "eugene indie"
                    ],
                    [
                      "euphoric hardstyle"
                    ],
                    [
                      "eurobeat"
                    ],
                    [
                      "eurodance"
                    ],
                    [
                      "europop"
                    ],
                    [
                      "euroska"
                    ],
                    [
                      "eurovision"
                    ],
                    [
                      "exotica"
                    ],
                    [
                      "experimental"
                    ],
                    [
                      "experimental ambient"
                    ],
                    [
                      "experimental big band"
                    ],
                    [
                      "experimental dub"
                    ],
                    [
                      "experimental folk"
                    ],
                    [
                      "experimental guitar"
                    ],
                    [
                      "experimental hip hop"
                    ],
                    [
                      "experimental house"
                    ],
                    [
                      "experimental indie"
                    ],
                    [
                      "experimental jazz"
                    ],
                    [
                      "experimental pop"
                    ],
                    [
                      "experimental rock"
                    ],
                    [
                      "experimental vocal"
                    ],
                    [
                      "fado"
                    ],
                    [
                      "family gospel"
                    ],
                    [
                      "faroese pop"
                    ],
                    [
                      "fast melodic punk"
                    ],
                    [
                      "fidget house"
                    ],
                    [
                      "filmi"
                    ],
                    [
                      "filter house"
                    ],
                    [
                      "filthstep"
                    ],
                    [
                      "final fantasy"
                    ],
                    [
                      "fingerstyle"
                    ],
                    [
                      "finnish alternative rock"
                    ],
                    [
                      "finnish classical"
                    ],
                    [
                      "finnish contemporary classical"
                    ],
                    [
                      "finnish death metal"
                    ],
                    [
                      "finnish edm"
                    ],
                    [
                      "finnish hard rock"
                    ],
                    [
                      "finnish heavy metal"
                    ],
                    [
                      "finnish metal"
                    ],
                    [
                      "finnish power metal"
                    ],
                    [
                      "finnish soul"
                    ],
                    [
                      "flamenco"
                    ],
                    [
                      "flamenco guitar"
                    ],
                    [
                      "flick hop"
                    ],
                    [
                      "flint hip hop"
                    ],
                    [
                      "float house"
                    ],
                    [
                      "florida death metal"
                    ],
                    [
                      "florida rap"
                    ],
                    [
                      "fluxwork"
                    ],
                    [
                      "fo jing"
                    ],
                    [
                      "focus"
                    ],
                    [
                      "focus beats"
                    ],
                    [
                      "focus trance"
                    ],
                    [
                      "folclor afrocolombiano"
                    ],
                    [
                      "folclor colombiano"
                    ],
                    [
                      "folclore extremeno"
                    ],
                    [
                      "folclore jujeno"
                    ],
                    [
                      "folclore navarra"
                    ],
                    [
                      "folclore salteno"
                    ],
                    [
                      "folclore tucumano"
                    ],
                    [
                      "folk"
                    ],
                    [
                      "folk metal"
                    ],
                    [
                      "folk punk"
                    ],
                    [
                      "folk rock"
                    ],
                    [
                      "folk rock italiano"
                    ],
                    [
                      "folk-pop"
                    ],
                    [
                      "folklore argentino"
                    ],
                    [
                      "folklore boliviano"
                    ],
                    [
                      "folklore chileno"
                    ],
                    [
                      "folklore ecuatoriano"
                    ],
                    [
                      "folklore peruano"
                    ],
                    [
                      "folklore venezolano"
                    ],
                    [
                      "folklore veracruzano"
                    ],
                    [
                      "folkmusik"
                    ],
                    [
                      "folktronica"
                    ],
                    [
                      "footwork"
                    ],
                    [
                      "forro"
                    ],
                    [
                      "forro tradicional"
                    ],
                    [
                      "fort worth indie"
                    ],
                    [
                      "fourth world"
                    ],
                    [
                      "francoton"
                    ],
                    [
                      "freak folk"
                    ],
                    [
                      "freakbeat"
                    ],
                    [
                      "free folk"
                    ],
                    [
                      "free improvisation"
                    ],
                    [
                      "free jazz"
                    ],
                    [
                      "freestyle"
                    ],
                    [
                      "french baroque"
                    ],
                    [
                      "french classical piano"
                    ],
                    [
                      "french contemporary classical"
                    ],
                    [
                      "french death metal"
                    ],
                    [
                      "french dnb"
                    ],
                    [
                      "french hip hop"
                    ],
                    [
                      "french indie folk"
                    ],
                    [
                      "french indie pop"
                    ],
                    [
                      "french indietronica"
                    ],
                    [
                      "french jazz"
                    ],
                    [
                      "french metal"
                    ],
                    [
                      "french movie tunes"
                    ],
                    [
                      "french opera"
                    ],
                    [
                      "french orchestra"
                    ],
                    [
                      "french pop"
                    ],
                    [
                      "french post-punk"
                    ],
                    [
                      "french psychedelic"
                    ],
                    [
                      "french reggae"
                    ],
                    [
                      "french rock"
                    ],
                    [
                      "french romanticism"
                    ],
                    [
                      "french shoegaze"
                    ],
                    [
                      "french soundtrack"
                    ],
                    [
                      "french synthpop"
                    ],
                    [
                      "french techno"
                    ],
                    [
                      "frenchcore"
                    ],
                    [
                      "full on"
                    ],
                    [
                      "funana"
                    ],
                    [
                      "funeral doom"
                    ],
                    [
                      "funk"
                    ],
                    [
                      "funk 150 bpm"
                    ],
                    [
                      "funk carioca"
                    ],
                    [
                      "funk das antigas"
                    ],
                    [
                      "funk metal"
                    ],
                    [
                      "funk mexicano"
                    ],
                    [
                      "funk ostentacao"
                    ],
                    [
                      "funk paulista"
                    ],
                    [
                      "funk pop"
                    ],
                    [
                      "funk rock"
                    ],
                    [
                      "funky breaks"
                    ],
                    [
                      "funky tech house"
                    ],
                    [
                      "future bass"
                    ],
                    [
                      "future funk"
                    ],
                    [
                      "future garage"
                    ],
                    [
                      "future house"
                    ],
                    [
                      "future rock"
                    ],
                    [
                      "futurepop"
                    ],
                    [
                      "g funk"
                    ],
                    [
                      "gabba"
                    ],
                    [
                      "gabonese pop"
                    ],
                    [
                      "gaian doom"
                    ],
                    [
                      "gainesville indie"
                    ],
                    [
                      "gaita zuliana"
                    ],
                    [
                      "galante era"
                    ],
                    [
                      "gamelan"
                    ],
                    [
                      "gaming dubstep"
                    ],
                    [
                      "gaming edm"
                    ],
                    [
                      "gangster rap"
                    ],
                    [
                      "garage house"
                    ],
                    [
                      "garage pop"
                    ],
                    [
                      "garage psych"
                    ],
                    [
                      "garage punk"
                    ],
                    [
                      "garage punk blues"
                    ],
                    [
                      "garage rock"
                    ],
                    [
                      "garage rock revival"
                    ],
                    [
                      "gauze pop"
                    ],
                    [
                      "gbvfi"
                    ],
                    [
                      "geek folk"
                    ],
                    [
                      "geek rock"
                    ],
                    [
                      "georgian folk"
                    ],
                    [
                      "german alternative rock"
                    ],
                    [
                      "german baroque"
                    ],
                    [
                      "german choir"
                    ],
                    [
                      "german classical piano"
                    ],
                    [
                      "german country"
                    ],
                    [
                      "german dance"
                    ],
                    [
                      "german hard rock"
                    ],
                    [
                      "german heavy metal"
                    ],
                    [
                      "german house"
                    ],
                    [
                      "german indie"
                    ],
                    [
                      "german jazz"
                    ],
                    [
                      "german literature"
                    ],
                    [
                      "german metal"
                    ],
                    [
                      "german oi"
                    ],
                    [
                      "german opera"
                    ],
                    [
                      "german orchestra"
                    ],
                    [
                      "german pop"
                    ],
                    [
                      "german pop rock"
                    ],
                    [
                      "german post-hardcore"
                    ],
                    [
                      "german power metal"
                    ],
                    [
                      "german punk"
                    ],
                    [
                      "german renaissance"
                    ],
                    [
                      "german rock"
                    ],
                    [
                      "german romanticism"
                    ],
                    [
                      "german show tunes"
                    ],
                    [
                      "german soundtrack"
                    ],
                    [
                      "german techno"
                    ],
                    [
                      "german thrash metal"
                    ],
                    [
                      "german trance"
                    ],
                    [
                      "german underground rap"
                    ],
                    [
                      "ghanaian hip hop"
                    ],
                    [
                      "ghanaian traditional"
                    ],
                    [
                      "ghazal"
                    ],
                    [
                      "ghent indie"
                    ],
                    [
                      "girl group"
                    ],
                    [
                      "glam metal"
                    ],
                    [
                      "glam punk"
                    ],
                    [
                      "glam rock"
                    ],
                    [
                      "glee club"
                    ],
                    [
                      "glitch"
                    ],
                    [
                      "glitch hop"
                    ],
                    [
                      "glitch pop"
                    ],
                    [
                      "glitchcore"
                    ],
                    [
                      "go-go"
                    ],
                    [
                      "goregrind"
                    ],
                    [
                      "gospel"
                    ],
                    [
                      "gospel antigas"
                    ],
                    [
                      "gospel blues"
                    ],
                    [
                      "gospel italiano"
                    ],
                    [
                      "gospel r&b"
                    ],
                    [
                      "gospel rap"
                    ],
                    [
                      "gospel singers"
                    ],
                    [
                      "gospel soul"
                    ],
                    [
                      "gothabilly"
                    ],
                    [
                      "gothenburg indie"
                    ],
                    [
                      "gothenburg metal"
                    ],
                    [
                      "gothic alternative"
                    ],
                    [
                      "gothic americana"
                    ],
                    [
                      "gothic black metal"
                    ],
                    [
                      "gothic metal"
                    ],
                    [
                      "gothic post-punk"
                    ],
                    [
                      "gothic rock"
                    ],
                    [
                      "gothic symphonic metal"
                    ],
                    [
                      "gqom"
                    ],
                    [
                      "grand rapids indie"
                    ],
                    [
                      "grave wave"
                    ],
                    [
                      "greek clarinet"
                    ],
                    [
                      "greek contemporary classical"
                    ],
                    [
                      "greek folk"
                    ],
                    [
                      "greek guitar"
                    ],
                    [
                      "greek house"
                    ],
                    [
                      "greek jazz"
                    ],
                    [
                      "greek pop"
                    ],
                    [
                      "greek swing"
                    ],
                    [
                      "gregorian chant"
                    ],
                    [
                      "grime"
                    ],
                    [
                      "grindcore"
                    ],
                    [
                      "griot"
                    ],
                    [
                      "groove metal"
                    ],
                    [
                      "groove room"
                    ],
                    [
                      "grunge"
                    ],
                    [
                      "grunge pop"
                    ],
                    [
                      "grupera"
                    ],
                    [
                      "gruperas inmortales"
                    ],
                    [
                      "guadalajara indie"
                    ],
                    [
                      "guam indie"
                    ],
                    [
                      "guaracha"
                    ],
                    [
                      "guatemalan pop"
                    ],
                    [
                      "guidance"
                    ],
                    [
                      "guinean pop"
                    ],
                    [
                      "guitarra argentina"
                    ],
                    [
                      "guitarra clasica"
                    ],
                    [
                      "guitarra portuguesa"
                    ],
                    [
                      "gujarati garba"
                    ],
                    [
                      "gujarati pop"
                    ],
                    [
                      "guzheng"
                    ],
                    [
                      "gymcore"
                    ],
                    [
                      "gypsy"
                    ],
                    [
                      "gypsy jazz"
                    ],
                    [
                      "gypsy punk"
                    ],
                    [
                      "haitian traditional"
                    ],
                    [
                      "halifax indie"
                    ],
                    [
                      "halloween"
                    ],
                    [
                      "hamburg electronic"
                    ],
                    [
                      "hammered dulcimer"
                    ],
                    [
                      "hammond organ"
                    ],
                    [
                      "hands up"
                    ],
                    [
                      "hangpan"
                    ],
                    [
                      "happy hardcore"
                    ],
                    [
                      "hard alternative"
                    ],
                    [
                      "hard bop"
                    ],
                    [
                      "hard minimal techno"
                    ],
                    [
                      "hard rock"
                    ],
                    [
                      "hard rock brasileiro"
                    ],
                    [
                      "hardcore"
                    ],
                    [
                      "hardcore hip hop"
                    ],
                    [
                      "hardcore punk"
                    ],
                    [
                      "hardcore techno"
                    ],
                    [
                      "hardstyle"
                    ],
                    [
                      "harlem hip hop"
                    ],
                    [
                      "harlem renaissance"
                    ],
                    [
                      "harmonica blues"
                    ],
                    [
                      "harmonica jazz"
                    ],
                    [
                      "harp"
                    ],
                    [
                      "harpsichord"
                    ],
                    [
                      "haryanvi pop"
                    ],
                    [
                      "hauntology"
                    ],
                    [
                      "hawaiian"
                    ],
                    [
                      "hawaiian hip hop"
                    ],
                    [
                      "hawaiian indie"
                    ],
                    [
                      "healing"
                    ],
                    [
                      "heartland rock"
                    ],
                    [
                      "hi-nrg"
                    ],
                    [
                      "highlife"
                    ],
                    [
                      "hindi hip hop"
                    ],
                    [
                      "hindi indie"
                    ],
                    [
                      "hindustani classical"
                    ],
                    [
                      "hindustani instrumental"
                    ],
                    [
                      "hindustani vocal"
                    ],
                    [
                      "hip hop"
                    ],
                    [
                      "hip hop cubano"
                    ],
                    [
                      "hip house"
                    ],
                    [
                      "hip pop"
                    ],
                    [
                      "hiplife"
                    ],
                    [
                      "histoire pour enfants"
                    ],
                    [
                      "historic classical performance"
                    ],
                    [
                      "historic orchestral performance"
                    ],
                    [
                      "historic piano performance"
                    ],
                    [
                      "historic string quartet"
                    ],
                    [
                      "historical keyboard"
                    ],
                    [
                      "historically informed performance"
                    ],
                    [
                      "hoerspiel"
                    ],
                    [
                      "hokkien pop"
                    ],
                    [
                      "hollywood"
                    ],
                    [
                      "hong kong hip hop"
                    ],
                    [
                      "hong kong indie"
                    ],
                    [
                      "hong kong rock"
                    ],
                    [
                      "honky tonk"
                    ],
                    [
                      "honky-tonk piano"
                    ],
                    [
                      "hopebeat"
                    ],
                    [
                      "horror punk"
                    ],
                    [
                      "horror synth"
                    ],
                    [
                      "horrorcore"
                    ],
                    [
                      "house"
                    ],
                    [
                      "houston rap"
                    ],
                    [
                      "huapango"
                    ],
                    [
                      "huayno"
                    ],
                    [
                      "hula"
                    ],
                    [
                      "humppa"
                    ],
                    [
                      "hungarian choir"
                    ],
                    [
                      "hungarian classical performance"
                    ],
                    [
                      "hungarian classical piano"
                    ],
                    [
                      "hungarian contemporary classical"
                    ],
                    [
                      "hungarian edm"
                    ],
                    [
                      "hungarian folk"
                    ],
                    [
                      "hungarian pop"
                    ],
                    [
                      "hungarian rock"
                    ],
                    [
                      "hungarian techno"
                    ],
                    [
                      "hurdy-gurdy"
                    ],
                    [
                      "hyperpop"
                    ],
                    [
                      "hyphy"
                    ],
                    [
                      "icelandic classical"
                    ],
                    [
                      "icelandic electronic"
                    ],
                    [
                      "icelandic experimental"
                    ],
                    [
                      "icelandic folk"
                    ],
                    [
                      "icelandic indie"
                    ],
                    [
                      "icelandic jazz"
                    ],
                    [
                      "icelandic pop"
                    ],
                    [
                      "icelandic rock"
                    ],
                    [
                      "idaho indie"
                    ],
                    [
                      "idol"
                    ],
                    [
                      "idol rock"
                    ],
                    [
                      "ilahiler"
                    ],
                    [
                      "ilocano pop"
                    ],
                    [
                      "impressionism"
                    ],
                    [
                      "indian classical"
                    ],
                    [
                      "indian edm"
                    ],
                    [
                      "indian folk"
                    ],
                    [
                      "indian fusion"
                    ],
                    [
                      "indian indie"
                    ],
                    [
                      "indian instrumental"
                    ],
                    [
                      "indian jazz"
                    ],
                    [
                      "indiana hip hop"
                    ],
                    [
                      "indie anthem-folk"
                    ],
                    [
                      "indie cafe pop"
                    ],
                    [
                      "indie deutschrap"
                    ],
                    [
                      "indie dream pop"
                    ],
                    [
                      "indie electronica"
                    ],
                    [
                      "indie electropop"
                    ],
                    [
                      "indie folk"
                    ],
                    [
                      "indie game soundtrack"
                    ],
                    [
                      "indie garage rock"
                    ],
                    [
                      "indie hip hop"
                    ],
                    [
                      "indie jazz"
                    ],
                    [
                      "indie pop"
                    ],
                    [
                      "indie pop rap"
                    ],
                    [
                      "indie poptimism"
                    ],
                    [
                      "indie psych-pop"
                    ],
                    [
                      "indie punk"
                    ],
                    [
                      "indie quebecois"
                    ],
                    [
                      "indie r&b"
                    ],
                    [
                      "indie rock"
                    ],
                    [
                      "indie rock mexicano"
                    ],
                    [
                      "indie rockism"
                    ],
                    [
                      "indie shoegaze"
                    ],
                    [
                      "indie singer-songwriter"
                    ],
                    [
                      "indie soul"
                    ],
                    [
                      "indie surf"
                    ],
                    [
                      "indie triste"
                    ],
                    [
                      "indiecoustica"
                    ],
                    [
                      "indietronica"
                    ],
                    [
                      "indonesian hip hop"
                    ],
                    [
                      "indonesian indie"
                    ],
                    [
                      "indonesian pop"
                    ],
                    [
                      "indonesian r&b"
                    ],
                    [
                      "indonesian worship"
                    ],
                    [
                      "industrial"
                    ],
                    [
                      "industrial hardcore"
                    ],
                    [
                      "industrial hip hop"
                    ],
                    [
                      "industrial metal"
                    ],
                    [
                      "industrial rock"
                    ],
                    [
                      "indy indie"
                    ],
                    [
                      "instrumental acoustic guitar"
                    ],
                    [
                      "instrumental bluegrass"
                    ],
                    [
                      "instrumental funk"
                    ],
                    [
                      "instrumental grime"
                    ],
                    [
                      "instrumental math rock"
                    ],
                    [
                      "instrumental post-rock"
                    ],
                    [
                      "instrumental progressive metal"
                    ],
                    [
                      "instrumental rock"
                    ],
                    [
                      "instrumental soul"
                    ],
                    [
                      "instrumental stoner rock"
                    ],
                    [
                      "instrumental surf"
                    ],
                    [
                      "intelligent dance music"
                    ],
                    [
                      "iowa hip hop"
                    ],
                    [
                      "irish accordion"
                    ],
                    [
                      "irish ballad"
                    ],
                    [
                      "irish banjo"
                    ],
                    [
                      "irish classical"
                    ],
                    [
                      "irish country"
                    ],
                    [
                      "irish dance"
                    ],
                    [
                      "irish fiddle"
                    ],
                    [
                      "irish folk"
                    ],
                    [
                      "irish hip hop"
                    ],
                    [
                      "irish indie"
                    ],
                    [
                      "irish metal"
                    ],
                    [
                      "irish pop"
                    ],
                    [
                      "irish pub song"
                    ],
                    [
                      "irish rock"
                    ],
                    [
                      "irish singer-songwriter"
                    ],
                    [
                      "iskelma"
                    ],
                    [
                      "islamic recitation"
                    ],
                    [
                      "isle of wight indie"
                    ],
                    [
                      "israeli classical"
                    ],
                    [
                      "israeli classical piano"
                    ],
                    [
                      "israeli folk"
                    ],
                    [
                      "israeli hip hop"
                    ],
                    [
                      "israeli mediterranean"
                    ],
                    [
                      "israeli pop"
                    ],
                    [
                      "israeli rock"
                    ],
                    [
                      "israeli singer-songwriter"
                    ],
                    [
                      "israeli techno"
                    ],
                    [
                      "italian adult pop"
                    ],
                    [
                      "italian baritone"
                    ],
                    [
                      "italian baroque"
                    ],
                    [
                      "italian baroque ensemble"
                    ],
                    [
                      "italian bass"
                    ],
                    [
                      "italian blues"
                    ],
                    [
                      "italian classical guitar"
                    ],
                    [
                      "italian classical piano"
                    ],
                    [
                      "italian contemporary jazz"
                    ],
                    [
                      "italian disco"
                    ],
                    [
                      "italian gothic"
                    ],
                    [
                      "italian gothic metal"
                    ],
                    [
                      "italian indie pop"
                    ],
                    [
                      "italian jazz"
                    ],
                    [
                      "italian library music"
                    ],
                    [
                      "italian mandolin"
                    ],
                    [
                      "italian metal"
                    ],
                    [
                      "italian mezzo-soprano"
                    ],
                    [
                      "italian modern prog"
                    ],
                    [
                      "italian opera"
                    ],
                    [
                      "italian orchestra"
                    ],
                    [
                      "italian pop rock"
                    ],
                    [
                      "italian power metal"
                    ],
                    [
                      "italian progressive metal"
                    ],
                    [
                      "italian progressive rock"
                    ],
                    [
                      "italian renaissance"
                    ],
                    [
                      "italian romanticism"
                    ],
                    [
                      "italian soprano"
                    ],
                    [
                      "italian soundtrack"
                    ],
                    [
                      "italian techno"
                    ],
                    [
                      "italian tenor"
                    ],
                    [
                      "italian violin"
                    ],
                    [
                      "italo dance"
                    ],
                    [
                      "italo house"
                    ],
                    [
                      "j-acoustic"
                    ],
                    [
                      "j-ambient"
                    ],
                    [
                      "j-dance"
                    ],
                    [
                      "j-division"
                    ],
                    [
                      "j-idol"
                    ],
                    [
                      "j-metal"
                    ],
                    [
                      "j-pixie"
                    ],
                    [
                      "j-pop"
                    ],
                    [
                      "j-pop girl group"
                    ],
                    [
                      "j-poprock"
                    ],
                    [
                      "j-punk"
                    ],
                    [
                      "j-reggae"
                    ],
                    [
                      "j-rock"
                    ],
                    [
                      "jacksonville indie"
                    ],
                    [
                      "jam band"
                    ],
                    [
                      "jamgrass"
                    ],
                    [
                      "jamtronica"
                    ],
                    [
                      "jangle pop"
                    ],
                    [
                      "japanese alternative rock"
                    ],
                    [
                      "japanese chillhop"
                    ],
                    [
                      "japanese city pop"
                    ],
                    [
                      "japanese classical"
                    ],
                    [
                      "japanese classical performance"
                    ],
                    [
                      "japanese classical piano"
                    ],
                    [
                      "japanese concert band"
                    ],
                    [
                      "japanese dream pop"
                    ],
                    [
                      "japanese electronic"
                    ],
                    [
                      "japanese electropop"
                    ],
                    [
                      "japanese emo"
                    ],
                    [
                      "japanese experimental"
                    ],
                    [
                      "japanese folk"
                    ],
                    [
                      "japanese garage rock"
                    ],
                    [
                      "japanese girl punk"
                    ],
                    [
                      "japanese heavy metal"
                    ],
                    [
                      "japanese idm"
                    ],
                    [
                      "japanese indie folk"
                    ],
                    [
                      "japanese indie rock"
                    ],
                    [
                      "japanese instrumental"
                    ],
                    [
                      "japanese jazz"
                    ],
                    [
                      "japanese jazz fusion"
                    ],
                    [
                      "japanese jazztronica"
                    ],
                    [
                      "japanese metalcore"
                    ],
                    [
                      "japanese new wave"
                    ],
                    [
                      "japanese piano"
                    ],
                    [
                      "japanese pop punk"
                    ],
                    [
                      "japanese post-hardcore"
                    ],
                    [
                      "japanese power metal"
                    ],
                    [
                      "japanese prog"
                    ],
                    [
                      "japanese psychedelic"
                    ],
                    [
                      "japanese punk rock"
                    ],
                    [
                      "japanese r&b"
                    ],
                    [
                      "japanese rockabilly"
                    ],
                    [
                      "japanese singer-songwriter"
                    ],
                    [
                      "japanese soundtrack"
                    ],
                    [
                      "japanese traditional"
                    ],
                    [
                      "japanese vgm"
                    ],
                    [
                      "japanese vocal jazz"
                    ],
                    [
                      "jawaiian"
                    ],
                    [
                      "jazz"
                    ],
                    [
                      "jazz accordion"
                    ],
                    [
                      "jazz blues"
                    ],
                    [
                      "jazz boom bap"
                    ],
                    [
                      "jazz brass"
                    ],
                    [
                      "jazz chileno"
                    ],
                    [
                      "jazz clarinet"
                    ],
                    [
                      "jazz colombiano"
                    ],
                    [
                      "jazz cubano"
                    ],
                    [
                      "jazz double bass"
                    ],
                    [
                      "jazz drums"
                    ],
                    [
                      "jazz flute"
                    ],
                    [
                      "jazz funk"
                    ],
                    [
                      "jazz fusion"
                    ],
                    [
                      "jazz guitar"
                    ],
                    [
                      "jazz harp"
                    ],
                    [
                      "jazz metal"
                    ],
                    [
                      "jazz mexicano"
                    ],
                    [
                      "jazz orchestra"
                    ],
                    [
                      "jazz organ"
                    ],
                    [
                      "jazz piano"
                    ],
                    [
                      "jazz pop"
                    ],
                    [
                      "jazz quartet"
                    ],
                    [
                      "jazz rap"
                    ],
                    [
                      "jazz rock"
                    ],
                    [
                      "jazz saxophone"
                    ],
                    [
                      "jazz trio"
                    ],
                    [
                      "jazz trombone"
                    ],
                    [
                      "jazz trumpet"
                    ],
                    [
                      "jazz tuba"
                    ],
                    [
                      "jazz venezolano"
                    ],
                    [
                      "jazz vibraphone"
                    ],
                    [
                      "jazz violin"
                    ],
                    [
                      "jazztronica"
                    ],
                    [
                      "jewish cantorial"
                    ],
                    [
                      "jewish hip hop"
                    ],
                    [
                      "jig and reel"
                    ],
                    [
                      "jordanian pop"
                    ],
                    [
                      "joropo"
                    ],
                    [
                      "jovem guarda"
                    ],
                    [
                      "jug band"
                    ],
                    [
                      "juju"
                    ],
                    [
                      "jump blues"
                    ],
                    [
                      "jump up"
                    ],
                    [
                      "k-indie"
                    ],
                    [
                      "k-pop"
                    ],
                    [
                      "k-pop boy group"
                    ],
                    [
                      "k-pop girl group"
                    ],
                    [
                      "k-rap"
                    ],
                    [
                      "kabarett"
                    ],
                    [
                      "kabyle"
                    ],
                    [
                      "kaneka"
                    ],
                    [
                      "kannada bhava geethe"
                    ],
                    [
                      "kansas city hip hop"
                    ],
                    [
                      "kashmiri pop"
                    ],
                    [
                      "kawaii future bass"
                    ],
                    [
                      "kawaii metal"
                    ],
                    [
                      "kayokyoku"
                    ],
                    [
                      "kc indie"
                    ],
                    [
                      "kent indie"
                    ],
                    [
                      "kentucky hip hop"
                    ],
                    [
                      "kentucky indie"
                    ],
                    [
                      "kentucky metal"
                    ],
                    [
                      "kentucky mountain folk"
                    ],
                    [
                      "kentucky punk"
                    ],
                    [
                      "kentucky roots"
                    ],
                    [
                      "keroncong"
                    ],
                    [
                      "khaleeji iraqi"
                    ],
                    [
                      "khmer"
                    ],
                    [
                      "kids dance party"
                    ],
                    [
                      "kindie rock"
                    ],
                    [
                      "kingston on indie"
                    ],
                    [
                      "kirtan"
                    ],
                    [
                      "kiwi rock"
                    ],
                    [
                      "kizomba antigas"
                    ],
                    [
                      "kleine hoerspiel"
                    ],
                    [
                      "klezmer"
                    ],
                    [
                      "knoxville indie"
                    ],
                    [
                      "kodomo no ongaku"
                    ],
                    [
                      "kolsche karneval"
                    ],
                    [
                      "komedi"
                    ],
                    [
                      "kompa"
                    ],
                    [
                      "kora"
                    ],
                    [
                      "korean classical performance"
                    ],
                    [
                      "korean classical piano"
                    ],
                    [
                      "korean indie rock"
                    ],
                    [
                      "korean mask singer"
                    ],
                    [
                      "korean pop"
                    ],
                    [
                      "korean r&b"
                    ],
                    [
                      "korean trap"
                    ],
                    [
                      "koto"
                    ],
                    [
                      "krautrock"
                    ],
                    [
                      "kundiman"
                    ],
                    [
                      "la indie"
                    ],
                    [
                      "la pop"
                    ],
                    [
                      "laboratorio"
                    ],
                    [
                      "lafayette indie"
                    ],
                    [
                      "laiko"
                    ],
                    [
                      "lancashire indie"
                    ],
                    [
                      "lancaster pa indie"
                    ],
                    [
                      "late romantic era"
                    ],
                    [
                      "latin"
                    ],
                    [
                      "latin afrobeat"
                    ],
                    [
                      "latin alternative"
                    ],
                    [
                      "latin american classical piano"
                    ],
                    [
                      "latin arena pop"
                    ],
                    [
                      "latin christian"
                    ],
                    [
                      "latin classical"
                    ],
                    [
                      "latin funk"
                    ],
                    [
                      "latin hip hop"
                    ],
                    [
                      "latin house"
                    ],
                    [
                      "latin jazz"
                    ],
                    [
                      "latin metal"
                    ],
                    [
                      "latin pop"
                    ],
                    [
                      "latin rock"
                    ],
                    [
                      "latin ska"
                    ],
                    [
                      "latin soundtrack"
                    ],
                    [
                      "latin talent show"
                    ],
                    [
                      "latin tech house"
                    ],
                    [
                      "latin viral pop"
                    ],
                    [
                      "latin worship"
                    ],
                    [
                      "latincore"
                    ],
                    [
                      "latino comedy"
                    ],
                    [
                      "latintronica"
                    ],
                    [
                      "latinx alternative"
                    ],
                    [
                      "latvian pop"
                    ],
                    [
                      "lds"
                    ],
                    [
                      "lds youth"
                    ],
                    [
                      "lebanese pop"
                    ],
                    [
                      "leicester indie"
                    ],
                    [
                      "lexington ky indie"
                    ],
                    [
                      "lgbtq+ hip hop"
                    ],
                    [
                      "library music"
                    ],
                    [
                      "liedermacher"
                    ],
                    [
                      "light music"
                    ],
                    [
                      "lilith"
                    ],
                    [
                      "liquid funk"
                    ],
                    [
                      "lithuanian electronic"
                    ],
                    [
                      "liverpool indie"
                    ],
                    [
                      "livetronica"
                    ],
                    [
                      "lldm"
                    ],
                    [
                      "lo star"
                    ],
                    [
                      "lo-fi"
                    ],
                    [
                      "lo-fi beats"
                    ],
                    [
                      "lo-fi brasileiro"
                    ],
                    [
                      "lo-fi chill"
                    ],
                    [
                      "lo-fi cover"
                    ],
                    [
                      "lo-fi emo"
                    ],
                    [
                      "lo-fi house"
                    ],
                    [
                      "lo-fi indie"
                    ],
                    [
                      "lo-fi vgm"
                    ],
                    [
                      "london rap"
                    ],
                    [
                      "louisiana blues"
                    ],
                    [
                      "louisiana metal"
                    ],
                    [
                      "louisville indie"
                    ],
                    [
                      "louisville underground"
                    ],
                    [
                      "lounge"
                    ],
                    [
                      "louvor"
                    ],
                    [
                      "lovers rock"
                    ],
                    [
                      "lullaby"
                    ],
                    [
                      "lund indie"
                    ],
                    [
                      "lute"
                    ],
                    [
                      "macedonian folk"
                    ],
                    [
                      "madchester"
                    ],
                    [
                      "madrigal"
                    ],
                    [
                      "magyar alternative"
                    ],
                    [
                      "maine hip hop"
                    ],
                    [
                      "maine indie"
                    ],
                    [
                      "mainland chinese pop"
                    ],
                    [
                      "makossa"
                    ],
                    [
                      "malaysian mandopop"
                    ],
                    [
                      "malaysian pop"
                    ],
                    [
                      "malian blues"
                    ],
                    [
                      "mallet"
                    ],
                    [
                      "malmo indie"
                    ],
                    [
                      "mambo"
                    ],
                    [
                      "manchester hip hop"
                    ],
                    [
                      "manchester indie"
                    ],
                    [
                      "mande pop"
                    ],
                    [
                      "mandolin"
                    ],
                    [
                      "mandopop"
                    ],
                    [
                      "manguebeat"
                    ],
                    [
                      "manila sound"
                    ],
                    [
                      "manitoba indie"
                    ],
                    [
                      "mantra"
                    ],
                    [
                      "marathi pop"
                    ],
                    [
                      "marathi traditional"
                    ],
                    [
                      "marching band"
                    ],
                    [
                      "mariachi"
                    ],
                    [
                      "mariachi cristiano"
                    ],
                    [
                      "marimba orquesta"
                    ],
                    [
                      "martial industrial"
                    ],
                    [
                      "mashup"
                    ],
                    [
                      "math rock"
                    ],
                    [
                      "mathcore"
                    ],
                    [
                      "mbalax"
                    ],
                    [
                      "medieval"
                    ],
                    [
                      "medieval folk"
                    ],
                    [
                      "medieval rock"
                    ],
                    [
                      "meditation"
                    ],
                    [
                      "melancholia"
                    ],
                    [
                      "melbourne bounce"
                    ],
                    [
                      "melbourne bounce international"
                    ],
                    [
                      "melbourne indie"
                    ],
                    [
                      "mellow gold"
                    ],
                    [
                      "melodic death metal"
                    ],
                    [
                      "melodic deathcore"
                    ],
                    [
                      "melodic dubstep"
                    ],
                    [
                      "melodic groove metal"
                    ],
                    [
                      "melodic hard rock"
                    ],
                    [
                      "melodic hardcore"
                    ],
                    [
                      "melodic metal"
                    ],
                    [
                      "melodic metalcore"
                    ],
                    [
                      "melodic power metal"
                    ],
                    [
                      "melodic rap"
                    ],
                    [
                      "melodic thrash"
                    ],
                    [
                      "meme rap"
                    ],
                    [
                      "memphis americana"
                    ],
                    [
                      "memphis blues"
                    ],
                    [
                      "memphis hip hop"
                    ],
                    [
                      "memphis indie"
                    ],
                    [
                      "memphis soul"
                    ],
                    [
                      "mento"
                    ],
                    [
                      "merengue"
                    ],
                    [
                      "merengue tipico"
                    ],
                    [
                      "merseybeat"
                    ],
                    [
                      "messianic praise"
                    ],
                    [
                      "metal"
                    ],
                    [
                      "metal guitar"
                    ],
                    [
                      "metal mineiro"
                    ],
                    [
                      "metalcore"
                    ],
                    [
                      "metropopolis"
                    ],
                    [
                      "mexican classic rock"
                    ],
                    [
                      "mexican classical"
                    ],
                    [
                      "mexican hip hop"
                    ],
                    [
                      "mexican indie"
                    ],
                    [
                      "mexican pop"
                    ],
                    [
                      "mexican pop punk"
                    ],
                    [
                      "mexican rock"
                    ],
                    [
                      "mexican rock-and-roll"
                    ],
                    [
                      "mexican son"
                    ],
                    [
                      "mexican traditional"
                    ],
                    [
                      "miami bass"
                    ],
                    [
                      "miami hip hop"
                    ],
                    [
                      "miami indie"
                    ],
                    [
                      "miami metal"
                    ],
                    [
                      "michigan indie"
                    ],
                    [
                      "microhouse"
                    ],
                    [
                      "microtonal"
                    ],
                    [
                      "middle earth"
                    ],
                    [
                      "middle east hip hop"
                    ],
                    [
                      "middle eastern traditional"
                    ],
                    [
                      "midwest americana"
                    ],
                    [
                      "midwest emo"
                    ],
                    [
                      "military cadence"
                    ],
                    [
                      "military rap"
                    ],
                    [
                      "milwaukee indie"
                    ],
                    [
                      "mindfulness"
                    ],
                    [
                      "minecraft"
                    ],
                    [
                      "minimal melodic techno"
                    ],
                    [
                      "minimal tech house"
                    ],
                    [
                      "minimal techno"
                    ],
                    [
                      "minimal wave"
                    ],
                    [
                      "minimalism"
                    ],
                    [
                      "minneapolis indie"
                    ],
                    [
                      "minneapolis metal"
                    ],
                    [
                      "minneapolis punk"
                    ],
                    [
                      "minneapolis sound"
                    ],
                    [
                      "minnesota hip hop"
                    ],
                    [
                      "mississippi hip hop"
                    ],
                    [
                      "mississippi indie"
                    ],
                    [
                      "mizrahi"
                    ],
                    [
                      "mod revival"
                    ],
                    [
                      "modern alternative pop"
                    ],
                    [
                      "modern alternative rock"
                    ],
                    [
                      "modern big band"
                    ],
                    [
                      "modern blues"
                    ],
                    [
                      "modern blues rock"
                    ],
                    [
                      "modern bollywood"
                    ],
                    [
                      "modern country rock"
                    ],
                    [
                      "modern dream pop"
                    ],
                    [
                      "modern folk rock"
                    ],
                    [
                      "modern funk"
                    ],
                    [
                      "modern hard rock"
                    ],
                    [
                      "modern indie pop"
                    ],
                    [
                      "modern jazz piano"
                    ],
                    [
                      "modern jazz trio"
                    ],
                    [
                      "modern old-time"
                    ],
                    [
                      "modern performance"
                    ],
                    [
                      "modern power pop"
                    ],
                    [
                      "modern psychedelic folk"
                    ],
                    [
                      "modern reggae"
                    ],
                    [
                      "modern rock"
                    ],
                    [
                      "modern salsa"
                    ],
                    [
                      "modern ska punk"
                    ],
                    [
                      "modern southern rock"
                    ],
                    [
                      "modern string quartet"
                    ],
                    [
                      "modern swing"
                    ],
                    [
                      "modern uplift"
                    ],
                    [
                      "modular synth"
                    ],
                    [
                      "moldovan pop"
                    ],
                    [
                      "mollywood"
                    ],
                    [
                      "mongolian hip hop"
                    ],
                    [
                      "mongolian pop"
                    ],
                    [
                      "monterrey indie"
                    ],
                    [
                      "montreal indie"
                    ],
                    [
                      "moog"
                    ],
                    [
                      "moombahton"
                    ],
                    [
                      "morna"
                    ],
                    [
                      "motivation"
                    ],
                    [
                      "motown"
                    ],
                    [
                      "mountain dulcimer"
                    ],
                    [
                      "movie tunes"
                    ],
                    [
                      "mpb"
                    ],
                    [
                      "music box"
                    ],
                    [
                      "music hall"
                    ],
                    [
                      "musica afroperuana"
                    ],
                    [
                      "musica alagoana"
                    ],
                    [
                      "musica andina"
                    ],
                    [
                      "musica andina colombiana"
                    ],
                    [
                      "musica antigua"
                    ],
                    [
                      "musica aragonesa"
                    ],
                    [
                      "musica ayacuchana"
                    ],
                    [
                      "musica canaria"
                    ],
                    [
                      "musica costarricense"
                    ],
                    [
                      "musica costena"
                    ],
                    [
                      "musica cristiana guatemalteca"
                    ],
                    [
                      "musica de fondo"
                    ],
                    [
                      "musica gaucha tradicionalista"
                    ],
                    [
                      "musica hondurena"
                    ],
                    [
                      "musica infantil"
                    ],
                    [
                      "musica jibara"
                    ],
                    [
                      "musica juiz-forana"
                    ],
                    [
                      "musica llanera"
                    ],
                    [
                      "musica nicaraguense"
                    ],
                    [
                      "musica para criancas"
                    ],
                    [
                      "musica para ninos"
                    ],
                    [
                      "musica paraibana"
                    ],
                    [
                      "musica piemonteisa"
                    ],
                    [
                      "musica popular colombiana"
                    ],
                    [
                      "musica popular mineira"
                    ],
                    [
                      "musica popular paraense"
                    ],
                    [
                      "musica potosina"
                    ],
                    [
                      "musica prehispanica"
                    ],
                    [
                      "musica sarda"
                    ],
                    [
                      "musica tradicional cubana"
                    ],
                    [
                      "musica tropical guatemalteca"
                    ],
                    [
                      "musical advocacy"
                    ],
                    [
                      "musikkorps"
                    ],
                    [
                      "musique concrete"
                    ],
                    [
                      "musique peule"
                    ],
                    [
                      "musique pour enfant quebecois"
                    ],
                    [
                      "musique pour enfants"
                    ],
                    [
                      "musique touareg"
                    ],
                    [
                      "muzica populara"
                    ],
                    [
                      "muzika l'yeladim"
                    ],
                    [
                      "naija worship"
                    ],
                    [
                      "nantes indie"
                    ],
                    [
                      "narodna muzika"
                    ],
                    [
                      "nashville americana"
                    ],
                    [
                      "nashville hip hop"
                    ],
                    [
                      "nashville indie"
                    ],
                    [
                      "nashville singer-songwriter"
                    ],
                    [
                      "nashville sound"
                    ],
                    [
                      "native american"
                    ],
                    [
                      "native american contemporary"
                    ],
                    [
                      "native american flute"
                    ],
                    [
                      "native american hip hop"
                    ],
                    [
                      "native american spiritual"
                    ],
                    [
                      "navajo"
                    ],
                    [
                      "nederlandse hardstyle"
                    ],
                    [
                      "nederpop"
                    ],
                    [
                      "neo classical metal"
                    ],
                    [
                      "neo kyma"
                    ],
                    [
                      "neo mellow"
                    ],
                    [
                      "neo r&b"
                    ],
                    [
                      "neo soul"
                    ],
                    [
                      "neo-classical"
                    ],
                    [
                      "neo-kraut"
                    ],
                    [
                      "neo-pagan"
                    ],
                    [
                      "neo-progressive"
                    ],
                    [
                      "neo-psychedelic"
                    ],
                    [
                      "neo-rockabilly"
                    ],
                    [
                      "neo-singer-songwriter"
                    ],
                    [
                      "neo-synthpop"
                    ],
                    [
                      "neo-trad metal"
                    ],
                    [
                      "neo-traditional bluegrass"
                    ],
                    [
                      "neo-traditional country"
                    ],
                    [
                      "neoclassical darkwave"
                    ],
                    [
                      "neoclassicism"
                    ],
                    [
                      "neofolk"
                    ],
                    [
                      "neon pop punk"
                    ],
                    [
                      "neotango"
                    ],
                    [
                      "nepali indie"
                    ],
                    [
                      "nepali pop"
                    ],
                    [
                      "nerdcore"
                    ],
                    [
                      "neue deutsche harte"
                    ],
                    [
                      "neue deutsche todeskunst"
                    ],
                    [
                      "neue deutsche welle"
                    ],
                    [
                      "neurofunk"
                    ],
                    [
                      "new age"
                    ],
                    [
                      "new age piano"
                    ],
                    [
                      "new americana"
                    ],
                    [
                      "new beat"
                    ],
                    [
                      "new comedy"
                    ],
                    [
                      "new england americana"
                    ],
                    [
                      "new england emo"
                    ],
                    [
                      "new french touch"
                    ],
                    [
                      "new isolationism"
                    ],
                    [
                      "new jack swing"
                    ],
                    [
                      "new jersey hardcore"
                    ],
                    [
                      "new jersey indie"
                    ],
                    [
                      "new jersey punk"
                    ],
                    [
                      "new jersey rap"
                    ],
                    [
                      "new mexico music"
                    ],
                    [
                      "new orleans blues"
                    ],
                    [
                      "new orleans funk"
                    ],
                    [
                      "new orleans indie"
                    ],
                    [
                      "new orleans jazz"
                    ],
                    [
                      "new orleans rap"
                    ],
                    [
                      "new rave"
                    ],
                    [
                      "new romantic"
                    ],
                    [
                      "new tribe"
                    ],
                    [
                      "new wave"
                    ],
                    [
                      "new wave of thrash metal"
                    ],
                    [
                      "new wave pop"
                    ],
                    [
                      "new weird america"
                    ],
                    [
                      "new york death metal"
                    ],
                    [
                      "new york drill"
                    ],
                    [
                      "new zealand classical"
                    ],
                    [
                      "newcastle indie"
                    ],
                    [
                      "newcastle nsw indie"
                    ],
                    [
                      "nigerian hip hop"
                    ],
                    [
                      "nigerian pop"
                    ],
                    [
                      "nightcore"
                    ],
                    [
                      "nightrun"
                    ],
                    [
                      "ninja"
                    ],
                    [
                      "nintendocore"
                    ],
                    [
                      "nisiotika"
                    ],
                    [
                      "nl folk"
                    ],
                    [
                      "no wave"
                    ],
                    [
                      "noise pop"
                    ],
                    [
                      "noise punk"
                    ],
                    [
                      "noise rock"
                    ],
                    [
                      "nordic classical piano"
                    ],
                    [
                      "nordic contemporary classical"
                    ],
                    [
                      "nordic folk"
                    ],
                    [
                      "nordic house"
                    ],
                    [
                      "nordic orchestra"
                    ],
                    [
                      "nordic post-rock"
                    ],
                    [
                      "nordic soundtrack"
                    ],
                    [
                      "norman ok indie"
                    ],
                    [
                      "norsk lovsang"
                    ],
                    [
                      "norteno"
                    ],
                    [
                      "norteno-sax"
                    ],
                    [
                      "north carolina emo"
                    ],
                    [
                      "north carolina hip hop"
                    ],
                    [
                      "north carolina indie"
                    ],
                    [
                      "north carolina metal"
                    ],
                    [
                      "north carolina roots"
                    ],
                    [
                      "north east england indie"
                    ],
                    [
                      "northern irish indie"
                    ],
                    [
                      "northern irish punk"
                    ],
                    [
                      "northern soul"
                    ],
                    [
                      "norwegian black metal"
                    ],
                    [
                      "norwegian choir"
                    ],
                    [
                      "norwegian classical"
                    ],
                    [
                      "norwegian contemporary jazz"
                    ],
                    [
                      "norwegian death metal"
                    ],
                    [
                      "norwegian experimental"
                    ],
                    [
                      "norwegian hip hop"
                    ],
                    [
                      "norwegian indie"
                    ],
                    [
                      "norwegian jazz"
                    ],
                    [
                      "norwegian metal"
                    ],
                    [
                      "norwegian pop"
                    ],
                    [
                      "norwegian pop rap"
                    ],
                    [
                      "norwegian punk rock"
                    ],
                    [
                      "norwegian rock"
                    ],
                    [
                      "norwegian singer-songwriter"
                    ],
                    [
                      "norwegian space disco"
                    ],
                    [
                      "nottingham indie"
                    ],
                    [
                      "nouvelle chanson francaise"
                    ],
                    [
                      "nova canco"
                    ],
                    [
                      "nova mpb"
                    ],
                    [
                      "nova musica pernambucana"
                    ],
                    [
                      "novelty"
                    ],
                    [
                      "nu age"
                    ],
                    [
                      "nu disco"
                    ],
                    [
                      "nu gaze"
                    ],
                    [
                      "nu jazz"
                    ],
                    [
                      "nu metal"
                    ],
                    [
                      "nu skool breaks"
                    ],
                    [
                      "nu-cumbia"
                    ],
                    [
                      "nu-metalcore"
                    ],
                    [
                      "nubian traditional"
                    ],
                    [
                      "nueva cancion"
                    ],
                    [
                      "nueva ola chilena"
                    ],
                    [
                      "nueva ola peruana"
                    ],
                    [
                      "nuevo flamenco"
                    ],
                    [
                      "nuevo folklore mexicano"
                    ],
                    [
                      "nuevo regional mexicano"
                    ],
                    [
                      "nuevo tango"
                    ],
                    [
                      "nursery"
                    ],
                    [
                      "nwobhm"
                    ],
                    [
                      "nwothm"
                    ],
                    [
                      "ny roots"
                    ],
                    [
                      "nyc pop"
                    ],
                    [
                      "nyc rap"
                    ],
                    [
                      "nyhc"
                    ],
                    [
                      "nz christian"
                    ],
                    [
                      "nz folk"
                    ],
                    [
                      "nz hardcore"
                    ],
                    [
                      "nz indie"
                    ],
                    [
                      "nz pop"
                    ],
                    [
                      "nz punk"
                    ],
                    [
                      "nz reggae"
                    ],
                    [
                      "nz singer-songwriter"
                    ],
                    [
                      "oakland hip hop"
                    ],
                    [
                      "oakland indie"
                    ],
                    [
                      "oc indie"
                    ],
                    [
                      "oc rap"
                    ],
                    [
                      "oceania soundtrack"
                    ],
                    [
                      "ohio hip hop"
                    ],
                    [
                      "ohio indie"
                    ],
                    [
                      "oi"
                    ],
                    [
                      "ok indie"
                    ],
                    [
                      "okc indie"
                    ],
                    [
                      "okinawan pop"
                    ],
                    [
                      "oklahoma country"
                    ],
                    [
                      "old school dancehall"
                    ],
                    [
                      "old school hip hop"
                    ],
                    [
                      "old school rap francais"
                    ],
                    [
                      "old school thrash"
                    ],
                    [
                      "old school uk hip hop"
                    ],
                    [
                      "old west"
                    ],
                    [
                      "old-time"
                    ],
                    [
                      "old-time fiddle"
                    ],
                    [
                      "olympia wa indie"
                    ],
                    [
                      "omaha indie"
                    ],
                    [
                      "one-person band"
                    ],
                    [
                      "ontario indie"
                    ],
                    [
                      "opera"
                    ],
                    [
                      "opera chorus"
                    ],
                    [
                      "opera metal"
                    ],
                    [
                      "operatic pop"
                    ],
                    [
                      "operetta"
                    ],
                    [
                      "opm"
                    ],
                    [
                      "oratory"
                    ],
                    [
                      "orchestra"
                    ],
                    [
                      "orchestral performance"
                    ],
                    [
                      "orebro indie"
                    ],
                    [
                      "organic ambient"
                    ],
                    [
                      "organic electronic"
                    ],
                    [
                      "organic house"
                    ],
                    [
                      "orgcore"
                    ],
                    [
                      "oriental classical"
                    ],
                    [
                      "orkney and shetland folk"
                    ],
                    [
                      "orlando indie"
                    ],
                    [
                      "orquesta tipica"
                    ],
                    [
                      "orthodox chant"
                    ],
                    [
                      "oshare kei"
                    ],
                    [
                      "otacore"
                    ],
                    [
                      "oth indie"
                    ],
                    [
                      "ottawa indie"
                    ],
                    [
                      "ottawa rap"
                    ],
                    [
                      "oud"
                    ],
                    [
                      "outer hip hop"
                    ],
                    [
                      "outlaw country"
                    ],
                    [
                      "outsider"
                    ],
                    [
                      "outsider house"
                    ],
                    [
                      "oxford choir"
                    ],
                    [
                      "oxford indie"
                    ],
                    [
                      "p funk"
                    ],
                    [
                      "pagan black metal"
                    ],
                    [
                      "pagode"
                    ],
                    [
                      "pagode baiano"
                    ],
                    [
                      "paisley underground"
                    ],
                    [
                      "pakistani folk"
                    ],
                    [
                      "pakistani hip hop"
                    ],
                    [
                      "pakistani pop"
                    ],
                    [
                      "palestinian pop"
                    ],
                    [
                      "palm desert scene"
                    ],
                    [
                      "panamanian pop"
                    ],
                    [
                      "panamanian rock"
                    ],
                    [
                      "panpipe"
                    ],
                    [
                      "papuri"
                    ],
                    [
                      "parody"
                    ],
                    [
                      "partido alto"
                    ],
                    [
                      "partyschlager"
                    ],
                    [
                      "pei indie"
                    ],
                    [
                      "permanent wave"
                    ],
                    [
                      "perreo"
                    ],
                    [
                      "persian pop"
                    ],
                    [
                      "persian traditional"
                    ],
                    [
                      "perth indie"
                    ],
                    [
                      "peruvian hip hop"
                    ],
                    [
                      "peruvian rock"
                    ],
                    [
                      "pet calming"
                    ],
                    [
                      "philly indie"
                    ],
                    [
                      "philly rap"
                    ],
                    [
                      "philly soul"
                    ],
                    [
                      "phoenix indie"
                    ],
                    [
                      "phonk"
                    ],
                    [
                      "pianissimo"
                    ],
                    [
                      "piano blues"
                    ],
                    [
                      "piano cover"
                    ],
                    [
                      "piano mpb"
                    ],
                    [
                      "piano rock"
                    ],
                    [
                      "pibroch"
                    ],
                    [
                      "piedmont blues"
                    ],
                    [
                      "pinoy hip hop"
                    ],
                    [
                      "pinoy indie"
                    ],
                    [
                      "pinoy pop punk"
                    ],
                    [
                      "pinoy praise"
                    ],
                    [
                      "pinoy r&b"
                    ],
                    [
                      "pinoy reggae"
                    ],
                    [
                      "pinoy rock"
                    ],
                    [
                      "pinoy traditional"
                    ],
                    [
                      "pinoy trap"
                    ],
                    [
                      "pirate"
                    ],
                    [
                      "pittsburgh indie"
                    ],
                    [
                      "pittsburgh rap"
                    ],
                    [
                      "pittsburgh rock"
                    ],
                    [
                      "pixie"
                    ],
                    [
                      "plunderphonics"
                    ],
                    [
                      "poetry"
                    ],
                    [
                      "polca paraguaya"
                    ],
                    [
                      "polish blues"
                    ],
                    [
                      "polish classical"
                    ],
                    [
                      "polish classical piano"
                    ],
                    [
                      "polish contemporary classical"
                    ],
                    [
                      "polish jazz"
                    ],
                    [
                      "polish modern jazz"
                    ],
                    [
                      "polish pop"
                    ],
                    [
                      "polish post-rock"
                    ],
                    [
                      "polish reggae"
                    ],
                    [
                      "polish rock"
                    ],
                    [
                      "political hip hop"
                    ],
                    [
                      "polka"
                    ],
                    [
                      "polynesian hip hop"
                    ],
                    [
                      "polynesian pop"
                    ],
                    [
                      "polyphony"
                    ],
                    [
                      "pony"
                    ],
                    [
                      "pop"
                    ],
                    [
                      "pop argentino"
                    ],
                    [
                      "pop chileno"
                    ],
                    [
                      "pop dance"
                    ],
                    [
                      "pop edm"
                    ],
                    [
                      "pop electronico"
                    ],
                    [
                      "pop emo"
                    ],
                    [
                      "pop flamenco"
                    ],
                    [
                      "pop folk"
                    ],
                    [
                      "pop house"
                    ],
                    [
                      "pop nacional"
                    ],
                    [
                      "pop nacional antigas"
                    ],
                    [
                      "pop peruano"
                    ],
                    [
                      "pop punk"
                    ],
                    [
                      "pop quebecois"
                    ],
                    [
                      "pop r&b"
                    ],
                    [
                      "pop rap"
                    ],
                    [
                      "pop reggaeton"
                    ],
                    [
                      "pop rock"
                    ],
                    [
                      "pop rock brasileiro"
                    ],
                    [
                      "pop romantico"
                    ],
                    [
                      "pop soul"
                    ],
                    [
                      "pop venezolano"
                    ],
                    [
                      "pop violin"
                    ],
                    [
                      "popgaze"
                    ],
                    [
                      "popping"
                    ],
                    [
                      "pops orchestra"
                    ],
                    [
                      "popwave"
                    ],
                    [
                      "pornogrind"
                    ],
                    [
                      "porro"
                    ],
                    [
                      "portland hip hop"
                    ],
                    [
                      "portland indie"
                    ],
                    [
                      "portland metal"
                    ],
                    [
                      "portland punk"
                    ],
                    [
                      "portuguese early music"
                    ],
                    [
                      "post-disco"
                    ],
                    [
                      "post-disco soul"
                    ],
                    [
                      "post-doom metal"
                    ],
                    [
                      "post-grunge"
                    ],
                    [
                      "post-hardcore"
                    ],
                    [
                      "post-metal"
                    ],
                    [
                      "post-minimalism"
                    ],
                    [
                      "post-post-hardcore"
                    ],
                    [
                      "post-punk"
                    ],
                    [
                      "post-punk argentina"
                    ],
                    [
                      "post-rock"
                    ],
                    [
                      "post-romantic era"
                    ],
                    [
                      "post-screamo"
                    ],
                    [
                      "post-teen pop"
                    ],
                    [
                      "power metal"
                    ],
                    [
                      "power pop"
                    ],
                    [
                      "power thrash"
                    ],
                    [
                      "power-pop punk"
                    ],
                    [
                      "praise"
                    ],
                    [
                      "prepared piano"
                    ],
                    [
                      "preschool children's music"
                    ],
                    [
                      "prog quebec"
                    ],
                    [
                      "progressive alternative"
                    ],
                    [
                      "progressive bluegrass"
                    ],
                    [
                      "progressive deathcore"
                    ],
                    [
                      "progressive electro house"
                    ],
                    [
                      "progressive groove metal"
                    ],
                    [
                      "progressive house"
                    ],
                    [
                      "progressive jazz fusion"
                    ],
                    [
                      "progressive metal"
                    ],
                    [
                      "progressive metalcore"
                    ],
                    [
                      "progressive post-hardcore"
                    ],
                    [
                      "progressive power metal"
                    ],
                    [
                      "progressive psytrance"
                    ],
                    [
                      "progressive rock"
                    ],
                    [
                      "progressive sludge"
                    ],
                    [
                      "progressive trance"
                    ],
                    [
                      "progressive trance house"
                    ],
                    [
                      "progressive uplifting trance"
                    ],
                    [
                      "proto-rap"
                    ],
                    [
                      "proto-techno"
                    ],
                    [
                      "protopunk"
                    ],
                    [
                      "psalmen"
                    ],
                    [
                      "psicodelia brasileira"
                    ],
                    [
                      "psybass"
                    ],
                    [
                      "psychedelic blues-rock"
                    ],
                    [
                      "psychedelic doom"
                    ],
                    [
                      "psychedelic folk"
                    ],
                    [
                      "psychedelic folk rock"
                    ],
                    [
                      "psychedelic hip hop"
                    ],
                    [
                      "psychedelic pop"
                    ],
                    [
                      "psychedelic punk"
                    ],
                    [
                      "psychedelic rock"
                    ],
                    [
                      "psychedelic soul"
                    ],
                    [
                      "psychedelic trance"
                    ],
                    [
                      "psychill"
                    ],
                    [
                      "psychobilly"
                    ],
                    [
                      "pub rock"
                    ],
                    [
                      "puerto rican folk"
                    ],
                    [
                      "puerto rican pop"
                    ],
                    [
                      "puerto rican rock"
                    ],
                    [
                      "punjabi folk"
                    ],
                    [
                      "punjabi hip hop"
                    ],
                    [
                      "punjabi pop"
                    ],
                    [
                      "punk"
                    ],
                    [
                      "punk 'n' roll"
                    ],
                    [
                      "punk blues"
                    ],
                    [
                      "punk rock italiano"
                    ],
                    [
                      "punk rock mexicano"
                    ],
                    [
                      "punta"
                    ],
                    [
                      "purple sound"
                    ],
                    [
                      "qawwali"
                    ],
                    [
                      "quartetto d'archi"
                    ],
                    [
                      "quatuor a cordes"
                    ],
                    [
                      "quebec death metal"
                    ],
                    [
                      "quebec indie"
                    ],
                    [
                      "queens hip hop"
                    ],
                    [
                      "queer country"
                    ],
                    [
                      "queercore"
                    ],
                    [
                      "quiet storm"
                    ],
                    [
                      "quran"
                    ],
                    [
                      "r&b"
                    ],
                    [
                      "r&b en espanol"
                    ],
                    [
                      "rabindra sangeet"
                    ],
                    [
                      "radio symphony"
                    ],
                    [
                      "ragtime"
                    ],
                    [
                      "rai"
                    ],
                    [
                      "ranchera"
                    ],
                    [
                      "rap"
                    ],
                    [
                      "rap chileno"
                    ],
                    [
                      "rap conciencia"
                    ],
                    [
                      "rap conscient"
                    ],
                    [
                      "rap cristiano"
                    ],
                    [
                      "rap dominicano"
                    ],
                    [
                      "rap kreyol"
                    ],
                    [
                      "rap latina"
                    ],
                    [
                      "rap metal"
                    ],
                    [
                      "rap nacional antigo"
                    ],
                    [
                      "rap napoletano"
                    ],
                    [
                      "rap rock"
                    ],
                    [
                      "rap underground mexicano"
                    ],
                    [
                      "rare groove"
                    ],
                    [
                      "rave"
                    ],
                    [
                      "rawstyle"
                    ],
                    [
                      "reading"
                    ],
                    [
                      "reading indie"
                    ],
                    [
                      "rebel blues"
                    ],
                    [
                      "rebetiko"
                    ],
                    [
                      "recorder"
                    ],
                    [
                      "red dirt"
                    ],
                    [
                      "redneck"
                    ],
                    [
                      "reggae"
                    ],
                    [
                      "reggae en espanol"
                    ],
                    [
                      "reggae fusion"
                    ],
                    [
                      "reggae rock"
                    ],
                    [
                      "reggaeton"
                    ],
                    [
                      "reggaeton colombiano"
                    ],
                    [
                      "reggaeton cristiano"
                    ],
                    [
                      "reggaeton flow"
                    ],
                    [
                      "reggaeton mexicano"
                    ],
                    [
                      "regional mexican"
                    ],
                    [
                      "relaxative"
                    ],
                    [
                      "renaissance"
                    ],
                    [
                      "rennes indie"
                    ],
                    [
                      "retro metal"
                    ],
                    [
                      "retro soul"
                    ],
                    [
                      "rhode island indie"
                    ],
                    [
                      "rhode island rap"
                    ],
                    [
                      "rhythm and blues"
                    ],
                    [
                      "riddim"
                    ],
                    [
                      "rif"
                    ],
                    [
                      "riot grrrl"
                    ],
                    [
                      "ritmo kombina"
                    ],
                    [
                      "rochester mn indie"
                    ],
                    [
                      "rochester ny indie"
                    ],
                    [
                      "rock"
                    ],
                    [
                      "rock alternatif francais"
                    ],
                    [
                      "rock alternativo brasileiro"
                    ],
                    [
                      "rock andaluz"
                    ],
                    [
                      "rock baiano"
                    ],
                    [
                      "rock brasiliense"
                    ],
                    [
                      "rock chapin"
                    ],
                    [
                      "rock cristiano"
                    ],
                    [
                      "rock drums"
                    ],
                    [
                      "rock en espanol"
                    ],
                    [
                      "rock gaucho"
                    ],
                    [
                      "rock independant francais"
                    ],
                    [
                      "rock kapak"
                    ],
                    [
                      "rock keyboard"
                    ],
                    [
                      "rock nacional"
                    ],
                    [
                      "rock nacional brasileiro"
                    ],
                    [
                      "rock pernambucano"
                    ],
                    [
                      "rock progressif francais"
                    ],
                    [
                      "rock steady"
                    ],
                    [
                      "rock urbano mexicano"
                    ],
                    [
                      "rock-and-roll"
                    ],
                    [
                      "rockabilly"
                    ],
                    [
                      "rockabilly en espanol"
                    ],
                    [
                      "roda de samba"
                    ],
                    [
                      "romanian classical piano"
                    ],
                    [
                      "romanian electronic"
                    ],
                    [
                      "romanian folk"
                    ],
                    [
                      "romanian pop"
                    ],
                    [
                      "romanian rock"
                    ],
                    [
                      "romantico"
                    ],
                    [
                      "roots americana"
                    ],
                    [
                      "roots reggae"
                    ],
                    [
                      "roots rock"
                    ],
                    [
                      "roots worship"
                    ],
                    [
                      "rosary"
                    ],
                    [
                      "rumba"
                    ],
                    [
                      "rumba congolaise"
                    ],
                    [
                      "rune folk"
                    ],
                    [
                      "russian alternative rock"
                    ],
                    [
                      "russian ccm"
                    ],
                    [
                      "russian chanson"
                    ],
                    [
                      "russian choir"
                    ],
                    [
                      "russian classical piano"
                    ],
                    [
                      "russian dance"
                    ],
                    [
                      "russian edm"
                    ],
                    [
                      "russian folk"
                    ],
                    [
                      "russian folk rock"
                    ],
                    [
                      "russian jazz"
                    ],
                    [
                      "russian metal"
                    ],
                    [
                      "russian metalcore"
                    ],
                    [
                      "russian modern classical"
                    ],
                    [
                      "russian orchestra"
                    ],
                    [
                      "russian pop"
                    ],
                    [
                      "russian post-punk"
                    ],
                    [
                      "russian punk"
                    ],
                    [
                      "russian rock"
                    ],
                    [
                      "russian romanticism"
                    ],
                    [
                      "russian shoegaze"
                    ],
                    [
                      "russian trance"
                    ],
                    [
                      "rva indie"
                    ],
                    [
                      "rwandan traditional"
                    ],
                    [
                      "ryukyu ongaku"
                    ],
                    [
                      "sacramento hip hop"
                    ],
                    [
                      "sacramento indie"
                    ],
                    [
                      "sacred steel"
                    ],
                    [
                      "sad rap"
                    ],
                    [
                      "salsa"
                    ],
                    [
                      "salsa choke"
                    ],
                    [
                      "salsa colombiana"
                    ],
                    [
                      "salsa cubana"
                    ],
                    [
                      "salsa international"
                    ],
                    [
                      "salsa peruana"
                    ],
                    [
                      "salsa puertorriquena"
                    ],
                    [
                      "salsa venezolana"
                    ],
                    [
                      "samba"
                    ],
                    [
                      "samba de roda"
                    ],
                    [
                      "samba moderno"
                    ],
                    [
                      "samba-enredo"
                    ],
                    [
                      "samba-jazz"
                    ],
                    [
                      "samba-rock"
                    ],
                    [
                      "san antonio rap"
                    ],
                    [
                      "san diego indie"
                    ],
                    [
                      "san diego rap"
                    ],
                    [
                      "san marcos tx indie"
                    ],
                    [
                      "sandalwood"
                    ],
                    [
                      "sarod"
                    ],
                    [
                      "saskatchewan indie"
                    ],
                    [
                      "scam rap"
                    ],
                    [
                      "scandinavian r&b"
                    ],
                    [
                      "scandipop"
                    ],
                    [
                      "schlager"
                    ],
                    [
                      "scorecore"
                    ],
                    [
                      "scottish electronic"
                    ],
                    [
                      "scottish fiddle"
                    ],
                    [
                      "scottish folk"
                    ],
                    [
                      "scottish hip hop"
                    ],
                    [
                      "scottish indie"
                    ],
                    [
                      "scottish jazz"
                    ],
                    [
                      "scottish metal"
                    ],
                    [
                      "scottish new wave"
                    ],
                    [
                      "scottish rock"
                    ],
                    [
                      "scottish singer-songwriter"
                    ],
                    [
                      "scratch"
                    ],
                    [
                      "scream rap"
                    ],
                    [
                      "screamo"
                    ],
                    [
                      "seattle hip hop"
                    ],
                    [
                      "seattle indie"
                    ],
                    [
                      "second line"
                    ],
                    [
                      "sefardi"
                    ],
                    [
                      "serbian electronic"
                    ],
                    [
                      "serialism"
                    ],
                    [
                      "sertanejo"
                    ],
                    [
                      "sertanejo pop"
                    ],
                    [
                      "sertanejo tradicional"
                    ],
                    [
                      "sertanejo universitario"
                    ],
                    [
                      "sevdah"
                    ],
                    [
                      "sevillanas"
                    ],
                    [
                      "shaabi"
                    ],
                    [
                      "shabad"
                    ],
                    [
                      "shakuhachi"
                    ],
                    [
                      "shamanic"
                    ],
                    [
                      "shanty"
                    ],
                    [
                      "sheffield indie"
                    ],
                    [
                      "shibuya-kei"
                    ],
                    [
                      "shimmer pop"
                    ],
                    [
                      "shimmer psych"
                    ],
                    [
                      "shiver pop"
                    ],
                    [
                      "shoegaze"
                    ],
                    [
                      "show tunes"
                    ],
                    [
                      "shred"
                    ],
                    [
                      "shush"
                    ],
                    [
                      "sierreno"
                    ],
                    [
                      "singaporean mandopop"
                    ],
                    [
                      "singaporean pop"
                    ],
                    [
                      "singaporean singer-songwriter"
                    ],
                    [
                      "singer-songwriter"
                    ],
                    [
                      "singing bowl"
                    ],
                    [
                      "sitar"
                    ],
                    [
                      "ska"
                    ],
                    [
                      "ska argentino"
                    ],
                    [
                      "ska chileno"
                    ],
                    [
                      "ska jazz"
                    ],
                    [
                      "ska mexicano"
                    ],
                    [
                      "ska punk"
                    ],
                    [
                      "ska revival"
                    ],
                    [
                      "skate punk"
                    ],
                    [
                      "skiffle"
                    ],
                    [
                      "skramz"
                    ],
                    [
                      "sky room"
                    ],
                    [
                      "slack-key guitar"
                    ],
                    [
                      "slam poetry"
                    ],
                    [
                      "slamming deathcore"
                    ],
                    [
                      "slavic folk metal"
                    ],
                    [
                      "slayer"
                    ],
                    [
                      "slc indie"
                    ],
                    [
                      "sleaze rock"
                    ],
                    [
                      "sleep"
                    ],
                    [
                      "slovak electronic"
                    ],
                    [
                      "slovenian electronic"
                    ],
                    [
                      "slovenian metal"
                    ],
                    [
                      "slow game"
                    ],
                    [
                      "slowcore"
                    ],
                    [
                      "sludge metal"
                    ],
                    [
                      "small room"
                    ],
                    [
                      "smooth jazz"
                    ],
                    [
                      "smooth saxophone"
                    ],
                    [
                      "smooth soul"
                    ],
                    [
                      "soca"
                    ],
                    [
                      "socal pop punk"
                    ],
                    [
                      "social media pop"
                    ],
                    [
                      "soda pop"
                    ],
                    [
                      "soft rock"
                    ],
                    [
                      "solipsynthm"
                    ],
                    [
                      "son cubano"
                    ],
                    [
                      "son cubano clasico"
                    ],
                    [
                      "son jarocho"
                    ],
                    [
                      "sophisti-pop"
                    ],
                    [
                      "sotalaulut"
                    ],
                    [
                      "soukous"
                    ],
                    [
                      "soul"
                    ],
                    [
                      "soul blues"
                    ],
                    [
                      "soul flow"
                    ],
                    [
                      "soul jazz"
                    ],
                    [
                      "souldies"
                    ],
                    [
                      "sound"
                    ],
                    [
                      "sound art"
                    ],
                    [
                      "sound effects"
                    ],
                    [
                      "sound team"
                    ],
                    [
                      "soundtrack"
                    ],
                    [
                      "south african alternative"
                    ],
                    [
                      "south african choral"
                    ],
                    [
                      "south african country"
                    ],
                    [
                      "south african hip hop"
                    ],
                    [
                      "south african house"
                    ],
                    [
                      "south african jazz"
                    ],
                    [
                      "south african pop"
                    ],
                    [
                      "south african pop dance"
                    ],
                    [
                      "south african rock"
                    ],
                    [
                      "south carolina hip hop"
                    ],
                    [
                      "south carolina indie"
                    ],
                    [
                      "south carolina metal"
                    ],
                    [
                      "south dakota indie"
                    ],
                    [
                      "southampton indie"
                    ],
                    [
                      "southern americana"
                    ],
                    [
                      "southern gospel"
                    ],
                    [
                      "southern hip hop"
                    ],
                    [
                      "southern metal"
                    ],
                    [
                      "southern rock"
                    ],
                    [
                      "southern soul"
                    ],
                    [
                      "southern soul blues"
                    ],
                    [
                      "soviet synthpop"
                    ],
                    [
                      "sovietwave"
                    ],
                    [
                      "spa"
                    ],
                    [
                      "space age pop"
                    ],
                    [
                      "space ambient"
                    ],
                    [
                      "space rock"
                    ],
                    [
                      "spanish baroque"
                    ],
                    [
                      "spanish classical"
                    ],
                    [
                      "spanish classical piano"
                    ],
                    [
                      "spanish folk metal"
                    ],
                    [
                      "spanish hip hop"
                    ],
                    [
                      "spanish indie pop"
                    ],
                    [
                      "spanish invasion"
                    ],
                    [
                      "spanish metal"
                    ],
                    [
                      "spanish modern rock"
                    ],
                    [
                      "spanish new wave"
                    ],
                    [
                      "spanish noise pop"
                    ],
                    [
                      "spanish pop"
                    ],
                    [
                      "spanish pop rock"
                    ],
                    [
                      "spanish renaissance"
                    ],
                    [
                      "spanish rock"
                    ],
                    [
                      "spanish synthpop"
                    ],
                    [
                      "spanish techno"
                    ],
                    [
                      "speed garage"
                    ],
                    [
                      "speed metal"
                    ],
                    [
                      "speedcore"
                    ],
                    [
                      "spiritual hip hop"
                    ],
                    [
                      "spiritual jazz"
                    ],
                    [
                      "spirituals"
                    ],
                    [
                      "springfield mo indie"
                    ],
                    [
                      "spytrack"
                    ],
                    [
                      "st louis rap"
                    ],
                    [
                      "steampunk"
                    ],
                    [
                      "steel guitar"
                    ],
                    [
                      "steelpan"
                    ],
                    [
                      "stl indie"
                    ],
                    [
                      "stomp and flutter"
                    ],
                    [
                      "stomp and holler"
                    ],
                    [
                      "stomp and whittle"
                    ],
                    [
                      "stomp pop"
                    ],
                    [
                      "stoner metal"
                    ],
                    [
                      "stoner rock"
                    ],
                    [
                      "straight edge"
                    ],
                    [
                      "straight-ahead jazz"
                    ],
                    [
                      "street band"
                    ],
                    [
                      "street punk"
                    ],
                    [
                      "streichquartett"
                    ],
                    [
                      "stride"
                    ],
                    [
                      "string band"
                    ],
                    [
                      "string folk"
                    ],
                    [
                      "string orchestra"
                    ],
                    [
                      "string quartet"
                    ],
                    [
                      "strut"
                    ],
                    [
                      "substep"
                    ],
                    [
                      "sudanese pop"
                    ],
                    [
                      "sufi"
                    ],
                    [
                      "sufi chant"
                    ],
                    [
                      "sunshine pop"
                    ],
                    [
                      "supergroup"
                    ],
                    [
                      "surf music"
                    ],
                    [
                      "surf punk"
                    ],
                    [
                      "svensk progg"
                    ],
                    [
                      "swamp blues"
                    ],
                    [
                      "swamp pop"
                    ],
                    [
                      "swamp rock"
                    ],
                    [
                      "swancore"
                    ],
                    [
                      "swedish alternative rock"
                    ],
                    [
                      "swedish americana"
                    ],
                    [
                      "swedish black metal"
                    ],
                    [
                      "swedish choir"
                    ],
                    [
                      "swedish country"
                    ],
                    [
                      "swedish dancehall"
                    ],
                    [
                      "swedish death metal"
                    ],
                    [
                      "swedish doom metal"
                    ],
                    [
                      "swedish electronic"
                    ],
                    [
                      "swedish electropop"
                    ],
                    [
                      "swedish eurodance"
                    ],
                    [
                      "swedish garage rock"
                    ],
                    [
                      "swedish hard rock"
                    ],
                    [
                      "swedish hardcore"
                    ],
                    [
                      "swedish heavy metal"
                    ],
                    [
                      "swedish house"
                    ],
                    [
                      "swedish idol pop"
                    ],
                    [
                      "swedish indie folk"
                    ],
                    [
                      "swedish indie pop"
                    ],
                    [
                      "swedish indie rock"
                    ],
                    [
                      "swedish jazz"
                    ],
                    [
                      "swedish jazz orkester"
                    ],
                    [
                      "swedish melodic rock"
                    ],
                    [
                      "swedish metal"
                    ],
                    [
                      "swedish metalcore"
                    ],
                    [
                      "swedish pop"
                    ],
                    [
                      "swedish post-hardcore"
                    ],
                    [
                      "swedish power metal"
                    ],
                    [
                      "swedish prog"
                    ],
                    [
                      "swedish progressive metal"
                    ],
                    [
                      "swedish rock-and-roll"
                    ],
                    [
                      "swedish singer-songwriter"
                    ],
                    [
                      "swedish soul"
                    ],
                    [
                      "swedish stoner rock"
                    ],
                    [
                      "swedish synth"
                    ],
                    [
                      "swedish synthpop"
                    ],
                    [
                      "swedish tropical house"
                    ],
                    [
                      "swedish underground rap"
                    ],
                    [
                      "swing"
                    ],
                    [
                      "swing italiano"
                    ],
                    [
                      "swing revival"
                    ],
                    [
                      "swiss black metal"
                    ],
                    [
                      "swiss classical piano"
                    ],
                    [
                      "swiss country"
                    ],
                    [
                      "swiss metal"
                    ],
                    [
                      "swiss pop"
                    ],
                    [
                      "swiss rock"
                    ],
                    [
                      "swiss worship"
                    ],
                    [
                      "sydney indie"
                    ],
                    [
                      "symphonic black metal"
                    ],
                    [
                      "symphonic metal"
                    ],
                    [
                      "symphonic rock"
                    ],
                    [
                      "synth funk"
                    ],
                    [
                      "synthpop"
                    ],
                    [
                      "synthwave"
                    ],
                    [
                      "syrian pop"
                    ],
                    [
                      "tabla"
                    ],
                    [
                      "tagalog rap"
                    ],
                    [
                      "tagalog worship"
                    ],
                    [
                      "taiwan campus folk"
                    ],
                    [
                      "taiwan classical performance"
                    ],
                    [
                      "taiwan hip hop"
                    ],
                    [
                      "taiwan indie"
                    ],
                    [
                      "taiwan pop"
                    ],
                    [
                      "taiwan singer-songwriter"
                    ],
                    [
                      "tajik pop"
                    ],
                    [
                      "talent show"
                    ],
                    [
                      "tamaulipas indie"
                    ],
                    [
                      "tamaulipas rap"
                    ],
                    [
                      "tamborazo"
                    ],
                    [
                      "tamil hip hop"
                    ],
                    [
                      "tamil pop"
                    ],
                    [
                      "tamil worship"
                    ],
                    [
                      "tampa indie"
                    ],
                    [
                      "tango"
                    ],
                    [
                      "tango cancion"
                    ],
                    [
                      "tape club"
                    ],
                    [
                      "tech house"
                    ],
                    [
                      "technical death metal"
                    ],
                    [
                      "technical deathcore"
                    ],
                    [
                      "technical groove metal"
                    ],
                    [
                      "technical melodic death metal"
                    ],
                    [
                      "technical thrash"
                    ],
                    [
                      "techno"
                    ],
                    [
                      "techno kayo"
                    ],
                    [
                      "tecnobanda"
                    ],
                    [
                      "teen pop"
                    ],
                    [
                      "tejano"
                    ],
                    [
                      "tempe indie"
                    ],
                    [
                      "tennessee hip hop"
                    ],
                    [
                      "tennessee metal"
                    ],
                    [
                      "tex-mex"
                    ],
                    [
                      "texas blues"
                    ],
                    [
                      "texas country"
                    ],
                    [
                      "texas latin rap"
                    ],
                    [
                      "texas pop punk"
                    ],
                    [
                      "texas punk"
                    ],
                    [
                      "thai folk"
                    ],
                    [
                      "thai folk rock"
                    ],
                    [
                      "thai idol"
                    ],
                    [
                      "thai indie rock"
                    ],
                    [
                      "thai pop"
                    ],
                    [
                      "thall"
                    ],
                    [
                      "theme"
                    ],
                    [
                      "theremin"
                    ],
                    [
                      "thrash core"
                    ],
                    [
                      "thrash metal"
                    ],
                    [
                      "timba"
                    ],
                    [
                      "tin pan alley"
                    ],
                    [
                      "tipico"
                    ],
                    [
                      "tolkien metal"
                    ],
                    [
                      "tollywood"
                    ],
                    [
                      "tone"
                    ],
                    [
                      "torch song"
                    ],
                    [
                      "toronto indie"
                    ],
                    [
                      "toronto rap"
                    ],
                    [
                      "trad jazz catala"
                    ],
                    [
                      "traditional bluegrass"
                    ],
                    [
                      "traditional blues"
                    ],
                    [
                      "traditional british folk"
                    ],
                    [
                      "traditional country"
                    ],
                    [
                      "traditional folk"
                    ],
                    [
                      "traditional funk"
                    ],
                    [
                      "traditional rockabilly"
                    ],
                    [
                      "traditional ska"
                    ],
                    [
                      "traditional soul"
                    ],
                    [
                      "trance"
                    ],
                    [
                      "trance mexicano"
                    ],
                    [
                      "trancecore"
                    ],
                    [
                      "transpop"
                    ],
                    [
                      "trap"
                    ],
                    [
                      "trap argentino"
                    ],
                    [
                      "trap chileno"
                    ],
                    [
                      "trap dominicano"
                    ],
                    [
                      "trap latino"
                    ],
                    [
                      "trap mexicano"
                    ],
                    [
                      "trap queen"
                    ],
                    [
                      "trap soul"
                    ],
                    [
                      "trap triste"
                    ],
                    [
                      "trap venezolano"
                    ],
                    [
                      "traprun"
                    ],
                    [
                      "trash rock"
                    ],
                    [
                      "triangle indie"
                    ],
                    [
                      "tribal house"
                    ],
                    [
                      "trinidadian reggae"
                    ],
                    [
                      "trio cubano"
                    ],
                    [
                      "trip hop"
                    ],
                    [
                      "trival"
                    ],
                    [
                      "tropical"
                    ],
                    [
                      "tropical house"
                    ],
                    [
                      "tropicalia"
                    ],
                    [
                      "trova"
                    ],
                    [
                      "trova mexicana"
                    ],
                    [
                      "truck-driving country"
                    ],
                    [
                      "tuareg guitar"
                    ],
                    [
                      "tucson indie"
                    ],
                    [
                      "tulsa indie"
                    ],
                    [
                      "tuna estudiantil"
                    ],
                    [
                      "tunisian pop"
                    ],
                    [
                      "turbo folk"
                    ],
                    [
                      "turkish classical"
                    ],
                    [
                      "turkish classical performance"
                    ],
                    [
                      "turkish edm"
                    ],
                    [
                      "turkish experimental"
                    ],
                    [
                      "turkish folk"
                    ],
                    [
                      "turkish jazz"
                    ],
                    [
                      "turkish modern jazz"
                    ],
                    [
                      "turkish pop"
                    ],
                    [
                      "turkish psych"
                    ],
                    [
                      "turkish trap"
                    ],
                    [
                      "turkish trap pop"
                    ],
                    [
                      "turntablism"
                    ],
                    [
                      "twee pop"
                    ],
                    [
                      "twoubadou"
                    ],
                    [
                      "tzadik"
                    ],
                    [
                      "ugandan pop"
                    ],
                    [
                      "uilleann pipes"
                    ],
                    [
                      "uk alternative hip hop"
                    ],
                    [
                      "uk alternative pop"
                    ],
                    [
                      "uk americana"
                    ],
                    [
                      "uk contemporary jazz"
                    ],
                    [
                      "uk contemporary r&b"
                    ],
                    [
                      "uk dance"
                    ],
                    [
                      "uk dancehall"
                    ],
                    [
                      "uk diy punk"
                    ],
                    [
                      "uk dnb"
                    ],
                    [
                      "uk doom metal"
                    ],
                    [
                      "uk dub"
                    ],
                    [
                      "uk experimental electronic"
                    ],
                    [
                      "uk funky"
                    ],
                    [
                      "uk garage"
                    ],
                    [
                      "uk hip hop"
                    ],
                    [
                      "uk house"
                    ],
                    [
                      "uk metalcore"
                    ],
                    [
                      "uk noise rock"
                    ],
                    [
                      "uk pop"
                    ],
                    [
                      "uk pop punk"
                    ],
                    [
                      "uk post-hardcore"
                    ],
                    [
                      "uk post-punk"
                    ],
                    [
                      "uk reggae"
                    ],
                    [
                      "uk rockabilly"
                    ],
                    [
                      "uk stoner rock"
                    ],
                    [
                      "uk worship"
                    ],
                    [
                      "uk82"
                    ],
                    [
                      "ukrainian choir"
                    ],
                    [
                      "ukrainian classical"
                    ],
                    [
                      "ukrainian classical piano"
                    ],
                    [
                      "ukrainian electronic"
                    ],
                    [
                      "ukrainian pop"
                    ],
                    [
                      "ukulele"
                    ],
                    [
                      "umbanda"
                    ],
                    [
                      "underground hip hop"
                    ],
                    [
                      "underground power pop"
                    ],
                    [
                      "underground rap"
                    ],
                    [
                      "university choir"
                    ],
                    [
                      "uplifting trance"
                    ],
                    [
                      "uptempo hardcore"
                    ],
                    [
                      "urban contemporary"
                    ],
                    [
                      "urbano espanol"
                    ],
                    [
                      "us power metal"
                    ],
                    [
                      "utah indie"
                    ],
                    [
                      "uzbek pop"
                    ],
                    [
                      "uzbek traditional"
                    ],
                    [
                      "v-pop"
                    ],
                    [
                      "vallenato"
                    ],
                    [
                      "vallenato moderno"
                    ],
                    [
                      "vancouver indie"
                    ],
                    [
                      "vancouver metal"
                    ],
                    [
                      "vancouver punk"
                    ],
                    [
                      "vapor pop"
                    ],
                    [
                      "vapor soul"
                    ],
                    [
                      "vapor trap"
                    ],
                    [
                      "vapor twitch"
                    ],
                    [
                      "vaporwave"
                    ],
                    [
                      "variete francaise"
                    ],
                    [
                      "vaudeville"
                    ],
                    [
                      "vbs"
                    ],
                    [
                      "veena"
                    ],
                    [
                      "vegan straight edge"
                    ],
                    [
                      "vegas indie"
                    ],
                    [
                      "velha guarda"
                    ],
                    [
                      "venezuelan hip hop"
                    ],
                    [
                      "venezuelan indie"
                    ],
                    [
                      "venezuelan rock"
                    ],
                    [
                      "veracruz indie"
                    ],
                    [
                      "vermont indie"
                    ],
                    [
                      "vgm instrumental"
                    ],
                    [
                      "vgm remix"
                    ],
                    [
                      "victoria bc indie"
                    ],
                    [
                      "victorian britain"
                    ],
                    [
                      "video game music"
                    ],
                    [
                      "vienna indie"
                    ],
                    [
                      "vietnamese bolero"
                    ],
                    [
                      "vietnamese pop"
                    ],
                    [
                      "viking black metal"
                    ],
                    [
                      "viking folk"
                    ],
                    [
                      "viking metal"
                    ],
                    [
                      "villancicos"
                    ],
                    [
                      "vintage chanson"
                    ],
                    [
                      "vintage chinese pop"
                    ],
                    [
                      "vintage classical singing"
                    ],
                    [
                      "vintage country folk"
                    ],
                    [
                      "vintage dutch pop"
                    ],
                    [
                      "vintage french electronic"
                    ],
                    [
                      "vintage gospel"
                    ],
                    [
                      "vintage hollywood"
                    ],
                    [
                      "vintage italian pop"
                    ],
                    [
                      "vintage italian soundtrack"
                    ],
                    [
                      "vintage jazz"
                    ],
                    [
                      "vintage old-time"
                    ],
                    [
                      "vintage rockabilly"
                    ],
                    [
                      "vintage schlager"
                    ],
                    [
                      "vintage spanish pop"
                    ],
                    [
                      "vintage swedish pop"
                    ],
                    [
                      "vintage swing"
                    ],
                    [
                      "vintage tango"
                    ],
                    [
                      "viola"
                    ],
                    [
                      "violao"
                    ],
                    [
                      "violao classico"
                    ],
                    [
                      "violin"
                    ],
                    [
                      "viral pop"
                    ],
                    [
                      "viral rap"
                    ],
                    [
                      "viral trap"
                    ],
                    [
                      "virgin islands reggae"
                    ],
                    [
                      "virginia hip hop"
                    ],
                    [
                      "virginia metal"
                    ],
                    [
                      "virginia punk"
                    ],
                    [
                      "visor"
                    ],
                    [
                      "visual kei"
                    ],
                    [
                      "vocal ensemble"
                    ],
                    [
                      "vocal harmony group"
                    ],
                    [
                      "vocal house"
                    ],
                    [
                      "vocal jazz"
                    ],
                    [
                      "vocal trance"
                    ],
                    [
                      "vocaloid"
                    ],
                    [
                      "vogue"
                    ],
                    [
                      "volksmusik"
                    ],
                    [
                      "warm drone"
                    ],
                    [
                      "washboard"
                    ],
                    [
                      "washington indie"
                    ],
                    [
                      "wassoulou"
                    ],
                    [
                      "water"
                    ],
                    [
                      "wave"
                    ],
                    [
                      "welsh folk"
                    ],
                    [
                      "welsh indie"
                    ],
                    [
                      "welsh metal"
                    ],
                    [
                      "welsh rock"
                    ],
                    [
                      "west african jazz"
                    ],
                    [
                      "west australian hip hop"
                    ],
                    [
                      "west coast rap"
                    ],
                    [
                      "west coast reggae"
                    ],
                    [
                      "west coast trap"
                    ],
                    [
                      "west end"
                    ],
                    [
                      "west virginia indie"
                    ],
                    [
                      "western americana"
                    ],
                    [
                      "western mass indie"
                    ],
                    [
                      "western saharan folk"
                    ],
                    [
                      "western swing"
                    ],
                    [
                      "white noise"
                    ],
                    [
                      "wind ensemble"
                    ],
                    [
                      "wind quintet"
                    ],
                    [
                      "wisconsin indie"
                    ],
                    [
                      "witch house"
                    ],
                    [
                      "women's choir"
                    ],
                    [
                      "women's music"
                    ],
                    [
                      "wonky"
                    ],
                    [
                      "worcester ma indie"
                    ],
                    [
                      "world"
                    ],
                    [
                      "world fusion"
                    ],
                    [
                      "world meditation"
                    ],
                    [
                      "world worship"
                    ],
                    [
                      "worship"
                    ],
                    [
                      "wrestling"
                    ],
                    [
                      "wu fam"
                    ],
                    [
                      "wyoming indie"
                    ],
                    [
                      "wyoming roots"
                    ],
                    [
                      "xhosa"
                    ],
                    [
                      "xtra raw"
                    ],
                    [
                      "yacht rock"
                    ],
                    [
                      "ye ye"
                    ],
                    [
                      "yiddish folk"
                    ],
                    [
                      "yodeling"
                    ],
                    [
                      "yoga"
                    ],
                    [
                      "yoik"
                    ],
                    [
                      "york indie"
                    ],
                    [
                      "yorkshire folk"
                    ],
                    [
                      "yugoslav new wave"
                    ],
                    [
                      "yugoslav rock"
                    ],
                    [
                      "zambian pop"
                    ],
                    [
                      "zeuhl"
                    ],
                    [
                      "zhongguo feng"
                    ],
                    [
                      "zimdancehall"
                    ],
                    [
                      "zolo"
                    ],
                    [
                      "zouglou"
                    ],
                    [
                      "zouk"
                    ],
                    [
                      "zurich indie"
                    ],
                    [
                      "zydeco"
                    ]
                  ],
                  "hovertemplate": "x=%{x}<br>y=%{y}<br>genres=%{customdata[0]}<br>cluster=%{marker.color}<extra></extra>",
                  "legendgroup": "",
                  "marker": {
                    "color": [
                      8,
                      6,
                      2,
                      9,
                      9,
                      6,
                      2,
                      11,
                      10,
                      9,
                      0,
                      5,
                      2,
                      3,
                      9,
                      2,
                      2,
                      2,
                      0,
                      2,
                      9,
                      9,
                      2,
                      9,
                      0,
                      2,
                      2,
                      8,
                      0,
                      2,
                      2,
                      0,
                      5,
                      5,
                      2,
                      0,
                      2,
                      0,
                      5,
                      2,
                      4,
                      11,
                      2,
                      0,
                      6,
                      5,
                      0,
                      2,
                      2,
                      4,
                      5,
                      2,
                      2,
                      5,
                      4,
                      11,
                      5,
                      4,
                      2,
                      2,
                      4,
                      2,
                      0,
                      8,
                      6,
                      3,
                      0,
                      6,
                      5,
                      8,
                      0,
                      3,
                      8,
                      3,
                      8,
                      8,
                      3,
                      9,
                      4,
                      3,
                      10,
                      8,
                      6,
                      3,
                      3,
                      6,
                      10,
                      4,
                      8,
                      9,
                      5,
                      5,
                      4,
                      5,
                      2,
                      4,
                      2,
                      2,
                      9,
                      5,
                      9,
                      3,
                      10,
                      10,
                      2,
                      1,
                      10,
                      10,
                      2,
                      4,
                      11,
                      2,
                      11,
                      2,
                      2,
                      2,
                      2,
                      4,
                      2,
                      0,
                      5,
                      8,
                      2,
                      2,
                      2,
                      3,
                      5,
                      5,
                      11,
                      8,
                      2,
                      11,
                      11,
                      2,
                      5,
                      2,
                      8,
                      6,
                      5,
                      1,
                      0,
                      1,
                      5,
                      3,
                      0,
                      2,
                      2,
                      2,
                      5,
                      5,
                      8,
                      2,
                      3,
                      3,
                      8,
                      5,
                      0,
                      0,
                      2,
                      2,
                      5,
                      2,
                      5,
                      5,
                      5,
                      4,
                      4,
                      5,
                      2,
                      2,
                      5,
                      5,
                      0,
                      2,
                      2,
                      4,
                      2,
                      11,
                      11,
                      8,
                      8,
                      8,
                      10,
                      3,
                      0,
                      1,
                      6,
                      8,
                      3,
                      4,
                      2,
                      10,
                      0,
                      2,
                      2,
                      2,
                      8,
                      3,
                      9,
                      9,
                      9,
                      0,
                      9,
                      9,
                      9,
                      6,
                      2,
                      8,
                      3,
                      3,
                      8,
                      11,
                      4,
                      2,
                      2,
                      5,
                      9,
                      9,
                      9,
                      9,
                      9,
                      8,
                      2,
                      9,
                      3,
                      1,
                      3,
                      3,
                      8,
                      3,
                      2,
                      8,
                      3,
                      10,
                      5,
                      6,
                      2,
                      11,
                      0,
                      5,
                      2,
                      11,
                      11,
                      0,
                      2,
                      2,
                      0,
                      9,
                      5,
                      9,
                      11,
                      2,
                      3,
                      2,
                      2,
                      5,
                      4,
                      4,
                      8,
                      3,
                      0,
                      0,
                      5,
                      2,
                      6,
                      3,
                      6,
                      0,
                      10,
                      10,
                      6,
                      2,
                      3,
                      2,
                      2,
                      6,
                      8,
                      9,
                      5,
                      8,
                      9,
                      2,
                      0,
                      8,
                      1,
                      0,
                      11,
                      4,
                      0,
                      4,
                      7,
                      4,
                      4,
                      4,
                      4,
                      6,
                      0,
                      9,
                      9,
                      9,
                      9,
                      4,
                      4,
                      2,
                      5,
                      9,
                      9,
                      5,
                      0,
                      9,
                      11,
                      11,
                      9,
                      10,
                      2,
                      2,
                      11,
                      2,
                      4,
                      4,
                      5,
                      11,
                      4,
                      9,
                      3,
                      5,
                      5,
                      8,
                      8,
                      10,
                      9,
                      3,
                      8,
                      2,
                      3,
                      8,
                      8,
                      2,
                      4,
                      11,
                      2,
                      9,
                      4,
                      3,
                      9,
                      11,
                      2,
                      2,
                      4,
                      0,
                      4,
                      4,
                      2,
                      9,
                      8,
                      2,
                      9,
                      5,
                      10,
                      4,
                      2,
                      2,
                      4,
                      2,
                      2,
                      8,
                      8,
                      2,
                      8,
                      9,
                      6,
                      5,
                      5,
                      4,
                      5,
                      5,
                      2,
                      6,
                      8,
                      8,
                      6,
                      4,
                      3,
                      2,
                      8,
                      2,
                      9,
                      2,
                      11,
                      11,
                      2,
                      5,
                      6,
                      2,
                      6,
                      5,
                      2,
                      2,
                      11,
                      0,
                      4,
                      7,
                      3,
                      3,
                      2,
                      2,
                      9,
                      9,
                      0,
                      11,
                      8,
                      9,
                      5,
                      8,
                      10,
                      2,
                      3,
                      2,
                      5,
                      2,
                      9,
                      8,
                      8,
                      8,
                      9,
                      2,
                      2,
                      5,
                      5,
                      0,
                      3,
                      2,
                      4,
                      11,
                      1,
                      2,
                      9,
                      5,
                      0,
                      2,
                      4,
                      4,
                      0,
                      5,
                      4,
                      4,
                      6,
                      2,
                      4,
                      4,
                      0,
                      2,
                      3,
                      2,
                      2,
                      2,
                      9,
                      6,
                      3,
                      2,
                      2,
                      9,
                      3,
                      4,
                      5,
                      11,
                      5,
                      9,
                      9,
                      9,
                      11,
                      8,
                      3,
                      8,
                      2,
                      5,
                      3,
                      9,
                      8,
                      0,
                      2,
                      2,
                      9,
                      8,
                      9,
                      8,
                      3,
                      2,
                      8,
                      2,
                      2,
                      2,
                      2,
                      2,
                      9,
                      0,
                      4,
                      9,
                      0,
                      11,
                      2,
                      9,
                      9,
                      11,
                      0,
                      0,
                      5,
                      4,
                      4,
                      11,
                      9,
                      4,
                      11,
                      0,
                      2,
                      3,
                      9,
                      5,
                      7,
                      2,
                      0,
                      0,
                      5,
                      6,
                      8,
                      9,
                      6,
                      9,
                      2,
                      2,
                      4,
                      2,
                      3,
                      3,
                      8,
                      8,
                      0,
                      2,
                      0,
                      2,
                      4,
                      8,
                      5,
                      2,
                      3,
                      3,
                      3,
                      11,
                      8,
                      9,
                      2,
                      3,
                      2,
                      2,
                      0,
                      4,
                      5,
                      11,
                      5,
                      4,
                      4,
                      5,
                      5,
                      4,
                      5,
                      3,
                      4,
                      11,
                      2,
                      3,
                      9,
                      2,
                      2,
                      11,
                      5,
                      11,
                      0,
                      5,
                      3,
                      9,
                      2,
                      0,
                      9,
                      5,
                      2,
                      10,
                      9,
                      3,
                      9,
                      4,
                      3,
                      0,
                      0,
                      2,
                      2,
                      10,
                      0,
                      1,
                      4,
                      10,
                      2,
                      3,
                      9,
                      6,
                      3,
                      3,
                      3,
                      2,
                      2,
                      5,
                      9,
                      10,
                      9,
                      10,
                      3,
                      4,
                      2,
                      2,
                      10,
                      4,
                      9,
                      2,
                      3,
                      5,
                      4,
                      5,
                      10,
                      2,
                      2,
                      8,
                      5,
                      3,
                      3,
                      8,
                      8,
                      3,
                      8,
                      3,
                      8,
                      8,
                      8,
                      8,
                      3,
                      3,
                      8,
                      8,
                      8,
                      8,
                      8,
                      8,
                      3,
                      3,
                      3,
                      3,
                      3,
                      9,
                      7,
                      4,
                      2,
                      2,
                      0,
                      11,
                      2,
                      5,
                      2,
                      7,
                      11,
                      5,
                      11,
                      5,
                      9,
                      4,
                      8,
                      0,
                      1,
                      4,
                      2,
                      11,
                      8,
                      8,
                      8,
                      2,
                      5,
                      5,
                      3,
                      3,
                      3,
                      8,
                      3,
                      9,
                      9,
                      4,
                      2,
                      2,
                      0,
                      4,
                      9,
                      6,
                      2,
                      9,
                      9,
                      2,
                      9,
                      2,
                      2,
                      2,
                      2,
                      9,
                      9,
                      2,
                      4,
                      3,
                      2,
                      2,
                      4,
                      11,
                      4,
                      2,
                      9,
                      0,
                      9,
                      2,
                      2,
                      2,
                      2,
                      2,
                      0,
                      0,
                      2,
                      2,
                      9,
                      2,
                      9,
                      2,
                      0,
                      2,
                      2,
                      6,
                      5,
                      9,
                      8,
                      8,
                      3,
                      4,
                      3,
                      0,
                      5,
                      2,
                      2,
                      2,
                      11,
                      4,
                      4,
                      8,
                      4,
                      8,
                      0,
                      8,
                      4,
                      0,
                      1,
                      6,
                      2,
                      5,
                      6,
                      9,
                      4,
                      9,
                      2,
                      2,
                      5,
                      0,
                      4,
                      8,
                      6,
                      4,
                      6,
                      11,
                      5,
                      6,
                      4,
                      4,
                      10,
                      4,
                      4,
                      4,
                      2,
                      6,
                      4,
                      4,
                      0,
                      4,
                      9,
                      0,
                      4,
                      3,
                      5,
                      7,
                      2,
                      11,
                      3,
                      0,
                      5,
                      4,
                      0,
                      2,
                      5,
                      9,
                      2,
                      6,
                      5,
                      0,
                      6,
                      2,
                      2,
                      10,
                      9,
                      4,
                      9,
                      10,
                      4,
                      6,
                      9,
                      2,
                      5,
                      2,
                      3,
                      2,
                      1,
                      6,
                      5,
                      4,
                      11,
                      2,
                      10,
                      2,
                      6,
                      8,
                      9,
                      11,
                      10,
                      2,
                      10,
                      6,
                      0,
                      11,
                      6,
                      9,
                      11,
                      2,
                      5,
                      5,
                      6,
                      0,
                      2,
                      0,
                      2,
                      2,
                      11,
                      5,
                      6,
                      0,
                      3,
                      10,
                      2,
                      11,
                      3,
                      0,
                      10,
                      11,
                      11,
                      2,
                      0,
                      5,
                      2,
                      9,
                      4,
                      4,
                      0,
                      2,
                      11,
                      9,
                      4,
                      4,
                      2,
                      9,
                      6,
                      2,
                      4,
                      4,
                      8,
                      11,
                      6,
                      8,
                      3,
                      6,
                      4,
                      2,
                      6,
                      0,
                      6,
                      4,
                      6,
                      8,
                      2,
                      9,
                      11,
                      6,
                      2,
                      6,
                      4,
                      7,
                      8,
                      4,
                      4,
                      2,
                      9,
                      2,
                      5,
                      3,
                      1,
                      4,
                      0,
                      0,
                      0,
                      2,
                      0,
                      2,
                      9,
                      7,
                      8,
                      8,
                      8,
                      3,
                      9,
                      3,
                      5,
                      4,
                      11,
                      2,
                      5,
                      3,
                      4,
                      2,
                      6,
                      8,
                      2,
                      2,
                      2,
                      11,
                      0,
                      3,
                      0,
                      2,
                      9,
                      2,
                      11,
                      2,
                      2,
                      2,
                      2,
                      6,
                      2,
                      2,
                      2,
                      6,
                      0,
                      5,
                      2,
                      0,
                      2,
                      4,
                      4,
                      4,
                      4,
                      11,
                      4,
                      3,
                      0,
                      8,
                      10,
                      9,
                      1,
                      4,
                      10,
                      3,
                      11,
                      8,
                      6,
                      9,
                      4,
                      6,
                      0,
                      5,
                      8,
                      9,
                      6,
                      5,
                      0,
                      4,
                      0,
                      2,
                      4,
                      0,
                      9,
                      5,
                      8,
                      10,
                      0,
                      1,
                      8,
                      2,
                      0,
                      6,
                      3,
                      2,
                      2,
                      3,
                      9,
                      5,
                      3,
                      4,
                      0,
                      9,
                      5,
                      5,
                      5,
                      8,
                      0,
                      8,
                      8,
                      4,
                      0,
                      5,
                      5,
                      4,
                      0,
                      5,
                      9,
                      10,
                      8,
                      11,
                      6,
                      4,
                      11,
                      6,
                      10,
                      8,
                      2,
                      6,
                      0,
                      5,
                      9,
                      10,
                      3,
                      9,
                      5,
                      2,
                      4,
                      5,
                      2,
                      2,
                      5,
                      9,
                      0,
                      3,
                      10,
                      2,
                      9,
                      2,
                      3,
                      2,
                      11,
                      9,
                      9,
                      4,
                      8,
                      2,
                      2,
                      2,
                      6,
                      3,
                      3,
                      2,
                      3,
                      8,
                      9,
                      4,
                      4,
                      11,
                      6,
                      2,
                      5,
                      9,
                      4,
                      10,
                      3,
                      8,
                      2,
                      0,
                      4,
                      2,
                      2,
                      3,
                      4,
                      3,
                      2,
                      0,
                      4,
                      6,
                      0,
                      11,
                      2,
                      10,
                      0,
                      0,
                      4,
                      5,
                      10,
                      11,
                      0,
                      2,
                      0,
                      6,
                      5,
                      2,
                      0,
                      11,
                      4,
                      2,
                      11,
                      4,
                      5,
                      6,
                      5,
                      2,
                      3,
                      8,
                      11,
                      0,
                      11,
                      2,
                      4,
                      2,
                      4,
                      4,
                      4,
                      2,
                      0,
                      2,
                      2,
                      2,
                      5,
                      4,
                      3,
                      3,
                      8,
                      2,
                      0,
                      0,
                      4,
                      0,
                      5,
                      3,
                      7,
                      0,
                      4,
                      3,
                      3,
                      2,
                      5,
                      2,
                      4,
                      2,
                      8,
                      5,
                      3,
                      3,
                      3,
                      2,
                      4,
                      2,
                      11,
                      0,
                      7,
                      9,
                      6,
                      2,
                      4,
                      4,
                      2,
                      2,
                      6,
                      4,
                      5,
                      2,
                      0,
                      4,
                      5,
                      9,
                      9,
                      7,
                      5,
                      1,
                      9,
                      9,
                      4,
                      5,
                      4,
                      0,
                      2,
                      0,
                      0,
                      0,
                      4,
                      0,
                      2,
                      5,
                      2,
                      9,
                      3,
                      9,
                      3,
                      1,
                      3,
                      10,
                      10,
                      3,
                      11,
                      6,
                      0,
                      4,
                      2,
                      4,
                      4,
                      2,
                      2,
                      0,
                      0,
                      11,
                      5,
                      7,
                      10,
                      3,
                      8,
                      10,
                      1,
                      5,
                      8,
                      5,
                      9,
                      9,
                      2,
                      9,
                      4,
                      11,
                      0,
                      8,
                      5,
                      2,
                      8,
                      4,
                      4,
                      3,
                      6,
                      4,
                      5,
                      4,
                      11,
                      4,
                      4,
                      4,
                      11,
                      9,
                      9,
                      3,
                      8,
                      3,
                      3,
                      8,
                      9,
                      11,
                      5,
                      8,
                      2,
                      2,
                      2,
                      6,
                      0,
                      3,
                      3,
                      3,
                      11,
                      11,
                      2,
                      11,
                      0,
                      7,
                      3,
                      8,
                      8,
                      3,
                      8,
                      3,
                      7,
                      1,
                      2,
                      0,
                      2,
                      2,
                      9,
                      9,
                      2,
                      4,
                      3,
                      0,
                      2,
                      11,
                      2,
                      2,
                      3,
                      0,
                      8,
                      8,
                      8,
                      8,
                      6,
                      7,
                      9,
                      9,
                      6,
                      6,
                      2,
                      11,
                      8,
                      6,
                      3,
                      3,
                      3,
                      5,
                      3,
                      6,
                      6,
                      5,
                      4,
                      10,
                      9,
                      8,
                      3,
                      0,
                      5,
                      8,
                      2,
                      9,
                      10,
                      11,
                      2,
                      5,
                      10,
                      5,
                      6,
                      2,
                      2,
                      6,
                      5,
                      11,
                      2,
                      2,
                      11,
                      2,
                      5,
                      5,
                      2,
                      2,
                      2,
                      4,
                      2,
                      6,
                      5,
                      2,
                      5,
                      5,
                      2,
                      2,
                      5,
                      4,
                      10,
                      11,
                      8,
                      5,
                      0,
                      11,
                      5,
                      5,
                      2,
                      3,
                      9,
                      5,
                      0,
                      4,
                      6,
                      5,
                      6,
                      2,
                      6,
                      4,
                      6,
                      1,
                      5,
                      3,
                      1,
                      3,
                      5,
                      6,
                      9,
                      9,
                      2,
                      8,
                      6,
                      2,
                      9,
                      5,
                      3,
                      0,
                      9,
                      3,
                      10,
                      8,
                      3,
                      2,
                      4,
                      5,
                      5,
                      9,
                      6,
                      2,
                      3,
                      8,
                      3,
                      3,
                      5,
                      8,
                      8,
                      5,
                      0,
                      0,
                      0,
                      5,
                      8,
                      10,
                      10,
                      0,
                      3,
                      6,
                      3,
                      3,
                      2,
                      0,
                      3,
                      6,
                      8,
                      3,
                      3,
                      3,
                      6,
                      3,
                      3,
                      2,
                      0,
                      1,
                      8,
                      2,
                      4,
                      5,
                      4,
                      4,
                      4,
                      2,
                      5,
                      4,
                      0,
                      4,
                      2,
                      2,
                      2,
                      0,
                      2,
                      2,
                      11,
                      2,
                      8,
                      8,
                      8,
                      8,
                      6,
                      8,
                      2,
                      4,
                      5,
                      5,
                      1,
                      4,
                      0,
                      8,
                      9,
                      4,
                      3,
                      3,
                      6,
                      4,
                      4,
                      0,
                      6,
                      4,
                      4,
                      4,
                      4,
                      6,
                      5,
                      0,
                      1,
                      2,
                      10,
                      8,
                      6,
                      5,
                      2,
                      3,
                      3,
                      9,
                      11,
                      3,
                      9,
                      3,
                      10,
                      9,
                      10,
                      3,
                      3,
                      9,
                      3,
                      3,
                      3,
                      4,
                      3,
                      3,
                      9,
                      3,
                      3,
                      9,
                      11,
                      4,
                      3,
                      3,
                      9,
                      9,
                      9,
                      9,
                      3,
                      9,
                      2,
                      3,
                      0,
                      9,
                      0,
                      2,
                      2,
                      9,
                      0,
                      9,
                      4,
                      5,
                      2,
                      0,
                      0,
                      11,
                      10,
                      10,
                      2,
                      9,
                      11,
                      9,
                      5,
                      4,
                      2,
                      4,
                      5,
                      11,
                      2,
                      11,
                      9,
                      0,
                      2,
                      9,
                      1,
                      5,
                      11,
                      9,
                      2,
                      8,
                      2,
                      5,
                      7,
                      9,
                      5,
                      3,
                      3,
                      3,
                      10,
                      3,
                      8,
                      8,
                      0,
                      5,
                      2,
                      11,
                      11,
                      8,
                      3,
                      9,
                      2,
                      2,
                      3,
                      0,
                      10,
                      10,
                      5,
                      3,
                      2,
                      2,
                      2,
                      8,
                      5,
                      2,
                      3,
                      2,
                      11,
                      2,
                      9,
                      4,
                      5,
                      2,
                      2,
                      10,
                      2,
                      1,
                      5,
                      2,
                      2,
                      7,
                      2,
                      5,
                      3,
                      3,
                      2,
                      10,
                      4,
                      2,
                      11,
                      3,
                      2,
                      3,
                      2,
                      4,
                      6,
                      9,
                      2,
                      3,
                      5,
                      2,
                      9,
                      2,
                      2,
                      10,
                      2,
                      6,
                      5,
                      10,
                      2,
                      9,
                      4,
                      5,
                      6,
                      3,
                      2,
                      2,
                      8,
                      3,
                      3,
                      9,
                      2,
                      3,
                      7,
                      1,
                      5,
                      2,
                      2,
                      5,
                      0,
                      2,
                      10,
                      6,
                      9,
                      2,
                      4,
                      2,
                      9,
                      5,
                      2,
                      9,
                      2,
                      3,
                      5,
                      9,
                      3,
                      5,
                      2,
                      2,
                      10,
                      2,
                      2,
                      4,
                      10,
                      8,
                      3,
                      4,
                      8,
                      2,
                      11,
                      2,
                      5,
                      2,
                      4,
                      4,
                      4,
                      4,
                      4,
                      4,
                      0,
                      4,
                      4,
                      11,
                      4,
                      11,
                      5,
                      9,
                      0,
                      0,
                      5,
                      9,
                      2,
                      2,
                      2,
                      3,
                      4,
                      6,
                      4,
                      4,
                      5,
                      2,
                      8,
                      11,
                      5,
                      2,
                      2,
                      2,
                      9,
                      1,
                      9,
                      11,
                      11,
                      2,
                      0,
                      5,
                      6,
                      8,
                      8,
                      1,
                      1,
                      0,
                      4,
                      9,
                      2,
                      2,
                      1,
                      2,
                      6,
                      2,
                      6,
                      6,
                      8,
                      2,
                      4,
                      4,
                      2,
                      2,
                      11,
                      2,
                      10,
                      4,
                      0,
                      5,
                      2,
                      2,
                      2,
                      2,
                      2,
                      5,
                      2,
                      5,
                      2,
                      11,
                      8,
                      8,
                      2,
                      8,
                      4,
                      0,
                      0,
                      2,
                      0,
                      4,
                      2,
                      8,
                      4,
                      4,
                      1,
                      5,
                      9,
                      9,
                      9,
                      10,
                      11,
                      3,
                      5,
                      5,
                      7,
                      5,
                      3,
                      9,
                      5,
                      3,
                      9,
                      0,
                      2,
                      10,
                      5,
                      8,
                      0,
                      2,
                      11,
                      5,
                      5,
                      2,
                      8,
                      9,
                      5,
                      9,
                      9,
                      2,
                      2,
                      10,
                      5,
                      5,
                      1,
                      9,
                      2,
                      10,
                      5,
                      2,
                      9,
                      10,
                      9,
                      1,
                      5,
                      9,
                      0,
                      0,
                      9,
                      7,
                      3,
                      9,
                      9,
                      1,
                      1,
                      0,
                      5,
                      11,
                      2,
                      2,
                      9,
                      10,
                      2,
                      8,
                      11,
                      10,
                      10,
                      4,
                      2,
                      4,
                      10,
                      5,
                      0,
                      2,
                      8,
                      10,
                      3,
                      3,
                      2,
                      9,
                      2,
                      2,
                      4,
                      2,
                      1,
                      3,
                      8,
                      10,
                      5,
                      0,
                      10,
                      10,
                      5,
                      5,
                      0,
                      2,
                      4,
                      8,
                      8,
                      2,
                      0,
                      7,
                      5,
                      5,
                      5,
                      8,
                      2,
                      4,
                      2,
                      4,
                      11,
                      9,
                      9,
                      2,
                      2,
                      9,
                      11,
                      2,
                      2,
                      6,
                      2,
                      4,
                      2,
                      2,
                      6,
                      11,
                      8,
                      4,
                      4,
                      0,
                      2,
                      4,
                      0,
                      5,
                      0,
                      10,
                      2,
                      2,
                      4,
                      4,
                      4,
                      8,
                      1,
                      10,
                      0,
                      8,
                      6,
                      8,
                      9,
                      4,
                      2,
                      2,
                      4,
                      11,
                      2,
                      4,
                      2,
                      4,
                      5,
                      4,
                      5,
                      6,
                      10,
                      8,
                      3,
                      4,
                      8,
                      0,
                      2,
                      8,
                      6,
                      0,
                      0,
                      4,
                      4,
                      0,
                      1,
                      10,
                      5,
                      2,
                      5,
                      2,
                      9,
                      8,
                      5,
                      4,
                      2,
                      5,
                      4,
                      5,
                      4,
                      3,
                      2,
                      9,
                      2,
                      2,
                      9,
                      2,
                      10,
                      9,
                      4,
                      4,
                      5,
                      2,
                      11,
                      4,
                      3,
                      2,
                      4,
                      5,
                      5,
                      4,
                      5,
                      5,
                      11,
                      2,
                      4,
                      2,
                      8,
                      11,
                      2,
                      4,
                      0,
                      0,
                      2,
                      2,
                      11,
                      11,
                      11,
                      4,
                      2,
                      10,
                      9,
                      3,
                      5,
                      4,
                      2,
                      2,
                      3,
                      3,
                      4,
                      3,
                      3,
                      2,
                      7,
                      8,
                      8,
                      6,
                      3,
                      1,
                      6,
                      4,
                      10,
                      3,
                      10,
                      9,
                      8,
                      4,
                      5,
                      6,
                      0,
                      5,
                      3,
                      0,
                      2,
                      9,
                      10,
                      8,
                      4,
                      2,
                      6,
                      2,
                      0,
                      2,
                      9,
                      0,
                      9,
                      1,
                      5,
                      2,
                      2,
                      8,
                      3,
                      2,
                      11,
                      5,
                      3,
                      2,
                      11,
                      9,
                      10,
                      0,
                      11,
                      2,
                      10,
                      5,
                      11,
                      5,
                      2,
                      11,
                      5,
                      9,
                      8,
                      10,
                      2,
                      3,
                      9,
                      2,
                      2,
                      5,
                      4,
                      10,
                      2,
                      2,
                      10,
                      9,
                      2,
                      2,
                      11,
                      5,
                      4,
                      4,
                      7,
                      10,
                      0,
                      3,
                      8,
                      8,
                      10,
                      8,
                      10,
                      4,
                      9,
                      0,
                      11,
                      9,
                      0,
                      2,
                      8,
                      0,
                      5,
                      2,
                      5,
                      2,
                      2,
                      0,
                      4,
                      5,
                      3,
                      0,
                      0,
                      2,
                      5,
                      5,
                      5,
                      2,
                      11,
                      2,
                      2,
                      2,
                      5,
                      5,
                      5,
                      2,
                      2,
                      2,
                      3,
                      2,
                      3,
                      0,
                      2,
                      2,
                      4,
                      2,
                      3,
                      2,
                      2,
                      6,
                      4,
                      4,
                      6,
                      8,
                      4,
                      2,
                      2,
                      6,
                      8,
                      4,
                      2,
                      4,
                      5,
                      4,
                      4,
                      5,
                      8,
                      9,
                      3,
                      5,
                      9,
                      4,
                      4,
                      4,
                      0,
                      6,
                      4,
                      5,
                      4,
                      6,
                      6,
                      5,
                      4,
                      0,
                      6,
                      6,
                      0,
                      6,
                      2,
                      3,
                      9,
                      1,
                      4,
                      6,
                      3,
                      2,
                      11,
                      2,
                      4,
                      5,
                      5,
                      6,
                      6,
                      4,
                      2,
                      9,
                      2,
                      1,
                      9,
                      0,
                      0,
                      4,
                      4,
                      4,
                      4,
                      4,
                      5,
                      11,
                      3,
                      3,
                      3,
                      6,
                      2,
                      11,
                      2,
                      2,
                      2,
                      9,
                      5,
                      11,
                      3,
                      8,
                      9,
                      6,
                      5,
                      11,
                      11,
                      11,
                      11,
                      5,
                      2,
                      11,
                      11,
                      4,
                      11,
                      3,
                      5,
                      11,
                      2,
                      4,
                      4,
                      7,
                      6,
                      0,
                      9,
                      9,
                      2,
                      2,
                      2,
                      5,
                      11,
                      2,
                      11,
                      2,
                      4,
                      0,
                      11,
                      2,
                      2,
                      8,
                      2,
                      5,
                      2,
                      2,
                      0,
                      9,
                      11,
                      0,
                      4,
                      0,
                      2,
                      0,
                      2,
                      0,
                      5,
                      2,
                      2,
                      2,
                      5,
                      4,
                      2,
                      2,
                      2,
                      2,
                      0,
                      2,
                      2,
                      2,
                      2,
                      10,
                      2,
                      5,
                      9,
                      2,
                      9,
                      9,
                      8,
                      6,
                      8,
                      5,
                      9,
                      9,
                      2,
                      2,
                      2,
                      2,
                      3,
                      10,
                      5,
                      3,
                      0,
                      5,
                      10,
                      8,
                      8,
                      6,
                      5,
                      10,
                      10,
                      10,
                      5,
                      5,
                      8,
                      8,
                      0,
                      5,
                      9,
                      10,
                      8,
                      6,
                      6,
                      5,
                      8,
                      10,
                      11,
                      2,
                      5,
                      11,
                      2,
                      11,
                      5,
                      5,
                      2,
                      2,
                      2,
                      2,
                      9,
                      9,
                      2,
                      1,
                      9,
                      0,
                      11,
                      4,
                      2,
                      2,
                      9,
                      8,
                      2,
                      2,
                      0,
                      2,
                      5,
                      3,
                      2,
                      3,
                      3,
                      11,
                      4,
                      3,
                      4,
                      2,
                      2,
                      2,
                      11,
                      11,
                      4,
                      11,
                      5,
                      2,
                      0,
                      10,
                      8,
                      2,
                      9,
                      9,
                      2,
                      10,
                      0,
                      5,
                      3,
                      8,
                      3,
                      9,
                      4,
                      5,
                      2,
                      0,
                      0,
                      6,
                      2,
                      4,
                      8,
                      2,
                      5,
                      2,
                      4,
                      2,
                      8,
                      8,
                      2,
                      2,
                      2,
                      0,
                      0,
                      4,
                      2,
                      4,
                      9,
                      10,
                      6,
                      3,
                      5,
                      4,
                      4,
                      4,
                      4,
                      4,
                      8,
                      6,
                      2,
                      4,
                      11,
                      3,
                      4,
                      2,
                      5,
                      0,
                      2,
                      11,
                      5,
                      2,
                      9,
                      2,
                      2,
                      2,
                      9,
                      2,
                      2,
                      0,
                      5,
                      5,
                      9,
                      0,
                      9,
                      9,
                      8,
                      8,
                      1,
                      5,
                      8,
                      2,
                      3,
                      5,
                      11,
                      5,
                      9,
                      5,
                      0,
                      4,
                      0,
                      2,
                      6,
                      5,
                      2,
                      2,
                      2,
                      11,
                      4,
                      2,
                      2,
                      2,
                      0,
                      5,
                      1,
                      9,
                      8,
                      6,
                      10,
                      3,
                      8,
                      0,
                      11,
                      2,
                      5,
                      0,
                      0,
                      2,
                      0,
                      5,
                      2,
                      8,
                      2,
                      2,
                      6,
                      1,
                      4,
                      0,
                      0,
                      3,
                      3,
                      0,
                      3,
                      11,
                      2,
                      3,
                      10,
                      2,
                      5,
                      2,
                      10,
                      2,
                      6,
                      6,
                      4,
                      3,
                      11,
                      4,
                      8,
                      3,
                      9,
                      3,
                      8,
                      8,
                      2,
                      0,
                      6,
                      5,
                      10,
                      9,
                      2,
                      9,
                      4,
                      4,
                      9,
                      5,
                      2,
                      4,
                      5,
                      5,
                      6,
                      8,
                      2,
                      11,
                      4,
                      4,
                      0,
                      2,
                      0,
                      4,
                      4,
                      2,
                      9,
                      0,
                      5,
                      5,
                      2,
                      5,
                      3,
                      10,
                      4,
                      4,
                      4,
                      5,
                      2,
                      0,
                      4,
                      6,
                      5,
                      5,
                      2,
                      3,
                      3,
                      2,
                      2,
                      0,
                      9,
                      9,
                      0,
                      4,
                      8,
                      3,
                      4,
                      2,
                      2,
                      3,
                      2,
                      6,
                      0,
                      5,
                      2,
                      2,
                      2,
                      3,
                      9,
                      9,
                      1,
                      2,
                      8,
                      3,
                      2,
                      2,
                      5,
                      9,
                      2,
                      2,
                      11,
                      5,
                      9,
                      9,
                      9,
                      4,
                      9,
                      9,
                      4,
                      6,
                      6,
                      2,
                      6,
                      6,
                      6,
                      6,
                      5,
                      2,
                      5,
                      2,
                      5,
                      2,
                      4,
                      2,
                      5,
                      2,
                      11,
                      2,
                      2,
                      9,
                      2,
                      9,
                      9,
                      9,
                      5,
                      3,
                      8,
                      4,
                      4,
                      9,
                      3,
                      0,
                      6,
                      9,
                      8,
                      9,
                      5,
                      0,
                      9,
                      9,
                      9,
                      9,
                      9,
                      9,
                      5,
                      9,
                      5,
                      2,
                      0,
                      1,
                      4,
                      2,
                      11,
                      2,
                      5,
                      2,
                      11,
                      11,
                      11,
                      5,
                      2,
                      11,
                      0,
                      4,
                      4,
                      5,
                      9,
                      10,
                      5,
                      11,
                      2,
                      2,
                      5,
                      2,
                      9,
                      9,
                      3,
                      2,
                      1,
                      2,
                      5,
                      0,
                      10,
                      8,
                      0,
                      0,
                      3,
                      3,
                      10,
                      10,
                      9,
                      1,
                      10,
                      11,
                      2,
                      0,
                      8,
                      5,
                      3,
                      11,
                      5,
                      5,
                      2,
                      11,
                      5,
                      0,
                      1,
                      4,
                      4,
                      0,
                      6,
                      2,
                      0,
                      11,
                      2,
                      0,
                      0,
                      2,
                      4,
                      5,
                      2,
                      2,
                      4,
                      6,
                      5,
                      4,
                      8,
                      8,
                      8,
                      6,
                      5,
                      3,
                      5,
                      11,
                      5,
                      11,
                      8,
                      6,
                      4,
                      5,
                      11,
                      4,
                      3,
                      9,
                      3,
                      0,
                      2,
                      5,
                      2,
                      4,
                      2,
                      5,
                      2,
                      11,
                      5,
                      0,
                      2,
                      1,
                      9,
                      9,
                      4,
                      4,
                      9,
                      2,
                      2,
                      2,
                      5,
                      2,
                      8,
                      6,
                      2,
                      8,
                      3,
                      10,
                      0,
                      0,
                      6,
                      10,
                      4,
                      2,
                      9,
                      9,
                      3,
                      9,
                      7,
                      2,
                      3,
                      9,
                      3,
                      3,
                      9,
                      9,
                      0,
                      9,
                      9,
                      9,
                      9,
                      9,
                      8,
                      10,
                      9,
                      3,
                      2,
                      11,
                      11,
                      5,
                      2,
                      4,
                      4,
                      3,
                      4,
                      8,
                      9,
                      2,
                      3,
                      0,
                      0,
                      5,
                      9,
                      8,
                      9,
                      2,
                      2,
                      1,
                      0,
                      10,
                      5,
                      5,
                      5,
                      10,
                      1,
                      11,
                      0,
                      11,
                      9,
                      0,
                      2,
                      2,
                      3,
                      9,
                      8,
                      8,
                      8,
                      3,
                      2,
                      4,
                      2,
                      2,
                      4,
                      2,
                      3,
                      8,
                      4,
                      2,
                      4,
                      11,
                      4,
                      2,
                      9,
                      4,
                      2,
                      9,
                      10,
                      9,
                      8,
                      10,
                      2,
                      3,
                      2,
                      2,
                      10,
                      4,
                      2,
                      0,
                      2,
                      0,
                      2,
                      10,
                      2
                    ],
                    "coloraxis": "coloraxis",
                    "symbol": "circle"
                  },
                  "mode": "markers",
                  "name": "",
                  "showlegend": false,
                  "type": "scattergl",
                  "x": [
                    47.19633,
                    42.64557,
                    -6.0807905,
                    29.754282,
                    11.2851095,
                    16.97038,
                    -18.22779,
                    -53.723717,
                    20.346024,
                    14.034368,
                    6.33728,
                    7.742366,
                    -6.85513,
                    48.102398,
                    18.830502,
                    2.58814,
                    2.5290034,
                    4.008666,
                    -1.0151823,
                    -8.526052,
                    13.181275,
                    17.49193,
                    -10.34963,
                    37.01545,
                    5.1475425,
                    -16.739662,
                    -12.416758,
                    41.829372,
                    8.105215,
                    -14.122166,
                    -11.846534,
                    13.445058,
                    -22.24121,
                    11.912781,
                    -27.714516,
                    -2.5866158,
                    -8.747665,
                    12.6085205,
                    -49.266087,
                    -18.270266,
                    -35.868477,
                    -49.749542,
                    -16.77786,
                    16.857325,
                    -0.8924083,
                    -36.215286,
                    14.478464,
                    -16.087791,
                    -13.153748,
                    -51.81131,
                    -26.23182,
                    -2.0947201,
                    5.884391,
                    -47.07759,
                    -32.710556,
                    -51.139935,
                    -46.9404,
                    -17.474115,
                    -24.311867,
                    -28.884321,
                    -19.961975,
                    -14.298951,
                    20.00453,
                    32.80701,
                    -17.443674,
                    10.144408,
                    5.7010856,
                    3.9775276,
                    12.168912,
                    40.758816,
                    18.112751,
                    15.66136,
                    52.78184,
                    43.530434,
                    52.038303,
                    50.17966,
                    41.222107,
                    17.896828,
                    -2.0121465,
                    33.51172,
                    31.021648,
                    44.112846,
                    16.516869,
                    31.306707,
                    46.406944,
                    -19.121838,
                    25.556688,
                    -38.82912,
                    45.134354,
                    17.827444,
                    -47.628834,
                    -49.14885,
                    -39.34719,
                    -3.8081553,
                    -3.5411072,
                    -32.84123,
                    -10.849562,
                    -1.630148,
                    37.722546,
                    -45.176983,
                    21.455814,
                    32.265038,
                    22.541945,
                    21.93363,
                    0.092389956,
                    21.87354,
                    37.983227,
                    15.638808,
                    -18.146511,
                    -29.413395,
                    -47.33464,
                    -12.933843,
                    -56.062523,
                    -18.212042,
                    -16.915836,
                    -14.418325,
                    -22.535458,
                    -26.665688,
                    4.4398823,
                    8.68337,
                    -1.9102398,
                    49.304478,
                    -2.4665334,
                    -16.177849,
                    -13.482938,
                    40.57141,
                    -40.277878,
                    -4.393679,
                    -45.955215,
                    43.667473,
                    -15.285542,
                    -50.952404,
                    -52.523266,
                    -19.811852,
                    -47.12532,
                    -48.15197,
                    52.967113,
                    -17.444801,
                    -21.119198,
                    22.093159,
                    20.252474,
                    22.093159,
                    -27.258741,
                    17.754747,
                    12.224816,
                    -12.101398,
                    -12.167351,
                    -14.144888,
                    0.8248461,
                    -43.825558,
                    49.074783,
                    -2.7871854,
                    39.736362,
                    40.813267,
                    36.95402,
                    6.4627485,
                    6.051953,
                    5.8106875,
                    -24.477211,
                    -28.424562,
                    -48.231495,
                    -23.918375,
                    -4.1665015,
                    -54.08496,
                    -43.385956,
                    -29.480959,
                    -28.569519,
                    -43.643646,
                    -17.032312,
                    -13.070582,
                    -48.3537,
                    -1.8742456,
                    13.058034,
                    -19.698774,
                    -16.128408,
                    -1.9694117,
                    -20.974224,
                    -55.644814,
                    -48.299854,
                    49.996056,
                    52.94774,
                    53.3412,
                    14.677813,
                    48.477356,
                    16.140455,
                    3.1602669,
                    -20.696344,
                    49.611256,
                    30.765865,
                    -19.2675,
                    -20.406622,
                    26.694508,
                    8.732891,
                    -5.5895605,
                    -13.698383,
                    -13.9636135,
                    55.17467,
                    30.090723,
                    36.27512,
                    16.093863,
                    24.788637,
                    14.01188,
                    27.089983,
                    14.665815,
                    17.363804,
                    6.208966,
                    -2.7970655,
                    41.177708,
                    35.29922,
                    34.14773,
                    46.15791,
                    -41.644737,
                    -23.947277,
                    -13.416306,
                    -12.36327,
                    -18.453575,
                    34.684723,
                    24.91552,
                    29.042587,
                    37.130024,
                    9.664873,
                    50.927616,
                    -20.414309,
                    21.922058,
                    16.007788,
                    2.3277893,
                    38.604797,
                    44.680637,
                    34.290363,
                    37.143665,
                    -12.302931,
                    43.982998,
                    35.271828,
                    29.216787,
                    -30.180195,
                    -4.8703227,
                    -27.171597,
                    -42.37867,
                    9.486518,
                    -47.625534,
                    -20.185564,
                    -50.752346,
                    -50.198586,
                    8.039654,
                    -20.448017,
                    -24.13762,
                    9.912849,
                    16.835934,
                    6.461857,
                    28.117252,
                    -36.107117,
                    -16.659859,
                    30.26887,
                    -15.731581,
                    -15.121799,
                    -39.000893,
                    -5.7801886,
                    -5.7801886,
                    54.95169,
                    30.878841,
                    4.8843303,
                    5.3931427,
                    -40.039505,
                    -10.328529,
                    7.29101,
                    37.626198,
                    -13.919628,
                    10.478271,
                    16.837194,
                    26.958155,
                    1.0845994,
                    -8.129126,
                    35.900864,
                    -18.619984,
                    -16.362003,
                    1.0047082,
                    20.017593,
                    30.724628,
                    -24.037395,
                    37.895496,
                    30.600574,
                    -10.669978,
                    4.699531,
                    55.707985,
                    23.015678,
                    12.654949,
                    -56.531147,
                    -23.366482,
                    -0.362206,
                    -1.8257005,
                    23.950487,
                    -23.034872,
                    -39.388145,
                    -22.547867,
                    -1.8257005,
                    18.647633,
                    1.2273388,
                    9.011025,
                    13.397992,
                    9.187601,
                    12.753726,
                    -1.3905793,
                    -44.750324,
                    -14.972609,
                    -28.945644,
                    15.072831,
                    17.492317,
                    10.498456,
                    18.171331,
                    25.54737,
                    3.4543827,
                    3.78869,
                    14.527227,
                    30.345928,
                    11.48128,
                    -23.118734,
                    -30.429361,
                    -26.308472,
                    -32.093697,
                    -31.367819,
                    -43.78126,
                    -32.854015,
                    -45.074562,
                    25.38962,
                    14.40976,
                    -44.812893,
                    -42.10214,
                    51.297775,
                    55.707985,
                    19.121374,
                    25.66062,
                    45.295685,
                    51.654606,
                    -8.951712,
                    38.887238,
                    50.813446,
                    36.31869,
                    -23.082476,
                    -28.048882,
                    -35.778263,
                    4.1642733,
                    24.73349,
                    -28.049395,
                    13.400468,
                    12.497885,
                    -48.52384,
                    -27.175125,
                    -11.9779005,
                    -1.7723956,
                    23.48645,
                    -28.049395,
                    -25.653772,
                    -30.649483,
                    6.4812784,
                    38.81086,
                    -15.129573,
                    6.9310446,
                    -52.623867,
                    13.090801,
                    -16.58555,
                    -14.604856,
                    -10.015012,
                    -25.54705,
                    -14.466282,
                    -21.933071,
                    44.237473,
                    51.409355,
                    -4.9344573,
                    47.26962,
                    34.422897,
                    -22.122631,
                    10.086716,
                    13.511982,
                    -23.75935,
                    -35.33768,
                    10.080091,
                    3.175419,
                    11.018692,
                    46.977287,
                    48.807884,
                    26.392694,
                    -48.63185,
                    0.911653,
                    -27.238016,
                    40.477943,
                    -21.398745,
                    10.358523,
                    -10.130073,
                    -52.070347,
                    -35.289963,
                    -22.608973,
                    -49.469246,
                    -22.400944,
                    -16.659983,
                    -10.607826,
                    -15.13707,
                    -24.505463,
                    5.1845546,
                    2.905572,
                    17.512688,
                    -23.12075,
                    41.577297,
                    39.554497,
                    19.861866,
                    4.905251,
                    -17.816914,
                    34.253193,
                    5.8577595,
                    4.7057853,
                    -54.22995,
                    33.75163,
                    28.373234,
                    -41.80147,
                    47.01703,
                    14.438713,
                    -6.131183,
                    25.612827,
                    -14.609505,
                    -37.300385,
                    -3.0405748,
                    15.0866375,
                    44.84524,
                    37.570744,
                    52.9303,
                    11.041012,
                    -22.162178,
                    8.321753,
                    7.1746683,
                    -48.678783,
                    15.19493,
                    31.965996,
                    11.495402,
                    -28.276823,
                    -51.445797,
                    0.58118933,
                    -12.611578,
                    13.987548,
                    5.892322,
                    10.743417,
                    -23.330683,
                    -45.6276,
                    -31.734142,
                    16.777184,
                    -43.439865,
                    -43.584625,
                    -35.44641,
                    43.315952,
                    -0.7462021,
                    -30.548939,
                    -27.70828,
                    22.698547,
                    8.860497,
                    30.764927,
                    7.3318295,
                    -29.779783,
                    -11.866957,
                    9.345126,
                    -9.559721,
                    11.713236,
                    3.9727888,
                    8.388514,
                    21.519436,
                    47.662624,
                    -29.750463,
                    2.0736403,
                    -5.109118,
                    -19.88121,
                    27.764729,
                    28.98351,
                    27.764175,
                    -4.057301,
                    46.361897,
                    53.88682,
                    54.940926,
                    -11.097354,
                    -47.04718,
                    30.439034,
                    9.957804,
                    36.10763,
                    1.5627013,
                    -9.142539,
                    -18.810846,
                    20.219465,
                    40.600685,
                    13.00803,
                    44.745003,
                    36.40748,
                    0.18211703,
                    49.005627,
                    4.9582744,
                    -2.9450293,
                    -29.21218,
                    -25.082357,
                    2.3291857,
                    9.301001,
                    24.135859,
                    -48.155907,
                    3.361042,
                    20.07533,
                    -52.141068,
                    -26.154163,
                    0.5701864,
                    13.309344,
                    -51.0751,
                    0.7566857,
                    17.03162,
                    -45.11587,
                    -30.22793,
                    -35.62274,
                    -52.19934,
                    7.630518,
                    -32.70241,
                    -53.801502,
                    20.889162,
                    3.448838,
                    13.065052,
                    10.411178,
                    9.960747,
                    28.278181,
                    -30.095314,
                    19.415573,
                    18.673523,
                    -19.176497,
                    -10.226437,
                    52.33071,
                    24.93641,
                    -11.324127,
                    1.8535922,
                    -30.361761,
                    -6.6135507,
                    -38.655037,
                    -11.671999,
                    13.701518,
                    41.563732,
                    54.481106,
                    53.343307,
                    8.638335,
                    -5.3023586,
                    13.064302,
                    2.2913845,
                    -45.325665,
                    42.859966,
                    0.598912,
                    1.694935,
                    41.563732,
                    38.836075,
                    29.683786,
                    -32.10861,
                    44.36567,
                    21.581146,
                    -6.046216,
                    50.705727,
                    9.8340225,
                    -12.146653,
                    11.407217,
                    -33.0516,
                    -44.80364,
                    -48.643433,
                    -5.3151193,
                    -27.123787,
                    -28.516363,
                    -5.1455693,
                    -40.54595,
                    -20.543945,
                    -41.783363,
                    31.178488,
                    -32.954426,
                    -50.318024,
                    1.1978372,
                    37.835873,
                    16.316206,
                    -15.240326,
                    -10.631054,
                    -54.57265,
                    6.901224,
                    -32.151443,
                    14.259083,
                    -24.451897,
                    28.021587,
                    10.075295,
                    -18.757833,
                    19.20425,
                    27.906235,
                    -39.04504,
                    5.169865,
                    30.139128,
                    7.1129913,
                    39.860928,
                    16.95116,
                    -38.66891,
                    38.968967,
                    26.869864,
                    11.505044,
                    2.9031851,
                    4.5796704,
                    29.437712,
                    0.45283526,
                    0.7086033,
                    -10.269383,
                    27.662043,
                    8.360845,
                    37.422096,
                    9.059466,
                    -9.808131,
                    27.15005,
                    17.880045,
                    50.45453,
                    4.891319,
                    -8.7300415,
                    -1.6922748,
                    27.78816,
                    25.595127,
                    6.4576383,
                    26.363997,
                    20.244436,
                    0.88581616,
                    4.5157857,
                    -15.147856,
                    28.200857,
                    -20.836704,
                    8.664491,
                    2.774757,
                    48.84025,
                    8.626765,
                    -9.259157,
                    -24.04134,
                    26.941206,
                    1.7048786,
                    -0.79135233,
                    50.79805,
                    -3.5273266,
                    48.440907,
                    48.38096,
                    51.160748,
                    43.989616,
                    53.04699,
                    36.895157,
                    48.791542,
                    45.387474,
                    54.07954,
                    53.968082,
                    49.778934,
                    24.500761,
                    49.191006,
                    47.69831,
                    48.586258,
                    43.765766,
                    50.897724,
                    55.404358,
                    39.772972,
                    5.0263724,
                    48.978245,
                    49.03475,
                    40.784405,
                    24.666277,
                    26.418121,
                    24.39504,
                    -28.666702,
                    10.69366,
                    -21.123762,
                    9.945985,
                    -34.117653,
                    -23.534292,
                    -20.931952,
                    -19.245653,
                    24.20098,
                    -30.846962,
                    14.7347555,
                    -5.7837887,
                    -48.297554,
                    30.707176,
                    -26.938528,
                    41.50961,
                    18.434872,
                    35.18168,
                    -34.06988,
                    -27.071686,
                    -51.09906,
                    52.78178,
                    50.60556,
                    39.922405,
                    -22.994835,
                    11.6747265,
                    3.8973136,
                    32.959034,
                    30.491276,
                    12.689471,
                    42.8971,
                    30.4826,
                    16.030058,
                    17.446115,
                    -4.991574,
                    -14.897489,
                    -20.442366,
                    13.769679,
                    -16.065136,
                    11.170758,
                    17.81605,
                    -17.4031,
                    15.570716,
                    18.741781,
                    -18.319288,
                    15.429274,
                    -23.415657,
                    -28.91507,
                    -21.675915,
                    2.104049,
                    34.19751,
                    18.739567,
                    -16.560003,
                    -8.789407,
                    47.674168,
                    -19.248964,
                    -19.249262,
                    -24.199482,
                    -51.398937,
                    -32.206894,
                    -21.538681,
                    -0.9552139,
                    8.433693,
                    21.885574,
                    -23.609407,
                    -12.937185,
                    -13.38245,
                    -20.492313,
                    -17.982567,
                    25.78747,
                    18.063831,
                    -14.337199,
                    -19.967058,
                    15.226059,
                    -24.00236,
                    7.162127,
                    -15.052692,
                    15.355212,
                    -14.391121,
                    -20.12153,
                    -15.34195,
                    -54.46934,
                    37.391808,
                    52.524384,
                    52.067184,
                    36.41937,
                    -33.391277,
                    47.149677,
                    7.0070124,
                    -42.778797,
                    -26.398262,
                    -11.640457,
                    -29.714588,
                    -50.00209,
                    -10.269383,
                    -19.438183,
                    52.134785,
                    -13.39815,
                    35.54969,
                    11.26396,
                    32.583645,
                    -23.045023,
                    9.322212,
                    1.5564699,
                    -11.637894,
                    -29.388533,
                    -46.67157,
                    -11.637894,
                    12.20121,
                    -8.833868,
                    36.556236,
                    -24.05478,
                    -27.321054,
                    13.085537,
                    17.83602,
                    -1.790819,
                    42.60417,
                    -1.7378614,
                    -14.282842,
                    -1.2207633,
                    -51.403286,
                    8.761364,
                    -9.81542,
                    -31.02337,
                    -31.904665,
                    13.353585,
                    -23.195148,
                    -24.074673,
                    -28.837145,
                    -15.413984,
                    -22.097017,
                    -23.351892,
                    -17.042122,
                    0.8689657,
                    -24.96166,
                    16.113594,
                    4.96687,
                    -6.504803,
                    5.9089203,
                    -27.538202,
                    24.307627,
                    3.6181908,
                    -53.72991,
                    38.28976,
                    18.26208,
                    5.392906,
                    -41.487785,
                    8.406473,
                    -23.219908,
                    -26.25305,
                    19.686308,
                    -14.17291,
                    -0.42329797,
                    -18.494366,
                    8.008881,
                    -16.089834,
                    -30.071404,
                    -24.361223,
                    35.54908,
                    16.457375,
                    -0.7436701,
                    5.728397,
                    14.610764,
                    -35.524445,
                    0.41396123,
                    16.65963,
                    2.881925,
                    -14.234985,
                    -12.551551,
                    17.503109,
                    -9.705829,
                    5.1723614,
                    -1.6014998,
                    -40.52336,
                    -44.336292,
                    -29.341204,
                    -13.831925,
                    21.969822,
                    -1.6023666,
                    18.025894,
                    53.1882,
                    4.3678913,
                    -33.4998,
                    28.71426,
                    -18.815573,
                    18.494852,
                    1.0845994,
                    13.18672,
                    -52.231266,
                    0.15056026,
                    21.177275,
                    -43.095856,
                    -20.449356,
                    -42.84692,
                    -43.03,
                    0.9589023,
                    17.448519,
                    4.4447045,
                    12.806233,
                    -8.723936,
                    -28.029177,
                    -49.564106,
                    10.3387575,
                    -11.739222,
                    8.866225,
                    17.42813,
                    28.575483,
                    -3.257846,
                    -54.752937,
                    37.72722,
                    3.6200166,
                    37.457424,
                    -51.62782,
                    -52.90787,
                    -10.552917,
                    11.502445,
                    12.285404,
                    -16.884123,
                    26.345272,
                    -20.770311,
                    -46.26324,
                    9.735067,
                    -14.153464,
                    -44.868504,
                    7.172329,
                    -23.193466,
                    -21.009825,
                    -6.0500793,
                    28.36188,
                    -1.9673008,
                    -11.287993,
                    -25.453861,
                    -25.907465,
                    46.911053,
                    -51.038948,
                    -9.100912,
                    41.955246,
                    30.327456,
                    -16.055082,
                    -46.058903,
                    -28.185493,
                    -18.93045,
                    9.105032,
                    25.243473,
                    -26.76995,
                    0.2216714,
                    49.30428,
                    -10.987112,
                    12.360397,
                    10.483473,
                    -17.444801,
                    -13.049879,
                    9.914716,
                    -5.6548443,
                    25.459436,
                    54.189606,
                    -26.951458,
                    -41.675518,
                    -25.57078,
                    33.154987,
                    -26.432335,
                    -49.17912,
                    14.589935,
                    20.25382,
                    -27.23578,
                    16.246363,
                    18.561258,
                    14.0744295,
                    21.384762,
                    3.2176332,
                    -14.656739,
                    15.477948,
                    28.108973,
                    50.09552,
                    48.630077,
                    42.785362,
                    43.663177,
                    1.9787624,
                    50.51634,
                    7.0222545,
                    -37.254997,
                    -51.86191,
                    -16.108559,
                    13.328033,
                    32.15096,
                    -36.10496,
                    5.522762,
                    -13.504178,
                    41.599533,
                    10.475492,
                    -18.387896,
                    -25.834047,
                    -28.964764,
                    14.814753,
                    18.80948,
                    0.71204984,
                    -28.984877,
                    26.856554,
                    -13.981017,
                    -29.799025,
                    -25.903172,
                    -5.7585196,
                    -26.779114,
                    -23.84106,
                    -13.557995,
                    -34.474415,
                    -29.159777,
                    -15.796696,
                    13.91977,
                    4.5247154,
                    -49.680305,
                    -9.45745,
                    11.827185,
                    -26.362774,
                    -30.526743,
                    -27.948992,
                    -43.86472,
                    -26.648378,
                    -49.874134,
                    -30.851206,
                    45.456184,
                    -3.5831594,
                    44.425808,
                    26.996435,
                    28.207636,
                    25.828405,
                    -26.133812,
                    16.360994,
                    46.831104,
                    -50.4238,
                    46.561657,
                    -16.089834,
                    17.363985,
                    -32.883923,
                    -1.8255558,
                    14.740433,
                    14.003287,
                    41.950104,
                    32.03936,
                    4.649782,
                    -37.42884,
                    -0.03450996,
                    -41.44098,
                    7.0399528,
                    -24.151525,
                    -48.497864,
                    20.654446,
                    32.302094,
                    10.350424,
                    47.89058,
                    37.100254,
                    9.099403,
                    -1.0016364,
                    34.547745,
                    -19.376085,
                    13.312173,
                    -0.8335068,
                    5.7811418,
                    -2.913019,
                    -3.8850536,
                    25.928732,
                    17.420534,
                    6.0815625,
                    15.690151,
                    -5.722378,
                    5.7330236,
                    16.3088,
                    -48.162605,
                    -47.69616,
                    11.716277,
                    35.73324,
                    13.023661,
                    51.523834,
                    47.977,
                    -16.885475,
                    16.252409,
                    -39.978462,
                    -39.775055,
                    -44.924755,
                    2.7766929,
                    -21.924192,
                    -0.55581343,
                    22.804392,
                    45.102345,
                    -50.978813,
                    -6.9623523,
                    -24.893984,
                    -29.044676,
                    26.103464,
                    27.872332,
                    55.16576,
                    -7.3601947,
                    -0.8496765,
                    25.729834,
                    -22.419666,
                    28.371122,
                    28.264696,
                    40.197166,
                    18.588598,
                    2.7852936,
                    8.850193,
                    -20.513746,
                    -44.421806,
                    2.6683803,
                    7.358567,
                    -3.7744913,
                    8.075431,
                    20.075287,
                    38.613396,
                    30.12727,
                    -11.364593,
                    -1.0415304,
                    10.398615,
                    36.411068,
                    -10.5339985,
                    -41.27278,
                    12.023124,
                    11.997933,
                    -33.41896,
                    41.84159,
                    -27.327457,
                    -2.0735083,
                    3.006605,
                    -7.4328785,
                    31.940365,
                    30.750399,
                    -14.388559,
                    39.45365,
                    53.881035,
                    14.651759,
                    -26.476969,
                    -32.833122,
                    -44.442562,
                    16.223913,
                    -14.267658,
                    -5.0642467,
                    32.350132,
                    -26.476969,
                    27.488136,
                    47.45636,
                    43.641174,
                    4.2673826,
                    7.143842,
                    -9.642346,
                    -14.35352,
                    -12.886358,
                    47.613716,
                    -25.412062,
                    34.892536,
                    -18.33736,
                    7.0916357,
                    -35.086624,
                    0.0813814,
                    16.410406,
                    -33.241802,
                    -9.560531,
                    29.40181,
                    10.460398,
                    5.701172,
                    -23.361141,
                    -38.369484,
                    22.800835,
                    -46.073463,
                    5.702172,
                    -18.690441,
                    7.724329,
                    -2.289487,
                    -26.725134,
                    -25.227222,
                    12.726297,
                    -27.1714,
                    -35.973515,
                    -8.6178465,
                    -52.082626,
                    -35.30329,
                    11.835552,
                    -19.307863,
                    -41.020466,
                    -11.287067,
                    36.051033,
                    45.446804,
                    -55.48373,
                    5.530646,
                    -51.829685,
                    -16.55742,
                    -36.20984,
                    -18.661247,
                    -32.747498,
                    -21.946917,
                    -28.033705,
                    -23.06818,
                    13.918341,
                    -16.999596,
                    1.4334661,
                    -9.437899,
                    10.543032,
                    -35.50065,
                    44.880768,
                    42.187992,
                    51.154346,
                    1.3259718,
                    12.270096,
                    0.7570046,
                    -22.430254,
                    14.141622,
                    -20.742933,
                    32.462296,
                    26.416449,
                    2.160506,
                    -39.93229,
                    49.799095,
                    51.73483,
                    -14.832585,
                    -42.770275,
                    -18.987345,
                    0.2362487,
                    -20.434866,
                    50.838696,
                    -44.566055,
                    50.65708,
                    50.759193,
                    30.459816,
                    -24.571005,
                    -24.628147,
                    -6.921699,
                    -46.64364,
                    12.7829275,
                    28.097471,
                    28.08778,
                    7.29101,
                    -25.907377,
                    -22.444885,
                    -36.0702,
                    -17.210451,
                    -21.58785,
                    -5.798047,
                    -13.452522,
                    13.083488,
                    -28.916304,
                    12.21536,
                    -23.965742,
                    3.8676233,
                    39.203857,
                    20.276669,
                    26.390575,
                    3.3528435,
                    -1.0097605,
                    15.018183,
                    4.8864,
                    -18.56819,
                    -6.3827324,
                    -20.54154,
                    10.9022,
                    -20.771183,
                    1.3252877,
                    0.6740569,
                    0.68394303,
                    -15.408953,
                    -2.9429202,
                    -26.197641,
                    -32.657013,
                    -11.422979,
                    36.750156,
                    34.480312,
                    37.347744,
                    32.339462,
                    5.5573535,
                    54.26501,
                    29.843046,
                    31.539371,
                    36.69863,
                    -28.301313,
                    -21.604528,
                    24.042479,
                    -28.35991,
                    -3.9891517,
                    -19.80491,
                    -26.741964,
                    -10.766996,
                    -10.991481,
                    15.430256,
                    13.708589,
                    -32.151443,
                    -11.480199,
                    26.66144,
                    21.165546,
                    38.605442,
                    40.467983,
                    31.781822,
                    20.465363,
                    1.2376119,
                    40.18302,
                    -47.27842,
                    33.564243,
                    22.415283,
                    -10.841467,
                    31.435196,
                    -48.400455,
                    -5.7079015,
                    14.437222,
                    38.247826,
                    12.791881,
                    -29.509888,
                    36.457706,
                    -35.3836,
                    -31.976482,
                    29.918516,
                    -0.9118743,
                    -22.147907,
                    1.4522395,
                    -48.771957,
                    -51.788895,
                    -32.387596,
                    -16.446848,
                    -0.9353672,
                    -31.458336,
                    34.18178,
                    20.229034,
                    37.626186,
                    34.545303,
                    39.33634,
                    39.86685,
                    44.335487,
                    19.537563,
                    -35.841698,
                    -20.120382,
                    46.09434,
                    -16.513832,
                    -15.743958,
                    -11.705386,
                    -4.6707015,
                    17.288439,
                    32.442104,
                    31.97801,
                    37.148323,
                    -51.524727,
                    -37.64748,
                    -15.383652,
                    -49.15036,
                    3.708572,
                    41.83759,
                    52.27436,
                    50.899826,
                    49.75333,
                    54.212948,
                    49.70466,
                    36.952805,
                    26.88973,
                    1.3820329,
                    9.218679,
                    10.064772,
                    2.709089,
                    2.709089,
                    17.766985,
                    33.815445,
                    -23.776867,
                    -33.642044,
                    27.33728,
                    4.4366817,
                    -24.690296,
                    -52.415024,
                    -19.010582,
                    -11.2027025,
                    20.969934,
                    26.869864,
                    48.254574,
                    48.976433,
                    50.58376,
                    55.279095,
                    0.45191994,
                    27.462818,
                    37.744144,
                    37.74413,
                    0.45191994,
                    -5.451829,
                    -29.430822,
                    -53.10117,
                    55.526646,
                    17.994051,
                    30.274345,
                    4.896294,
                    13.064401,
                    11.321452,
                    5.257802,
                    15.799971,
                    -4.685066,
                    -15.526758,
                    -40.38646,
                    33.01463,
                    22.36217,
                    50.132507,
                    32.084732,
                    17.28064,
                    -45.921474,
                    40.837063,
                    -14.9176445,
                    28.43069,
                    25.027739,
                    -53.392994,
                    2.4486115,
                    -2.8067138,
                    19.626595,
                    13.263645,
                    24.9083,
                    -27.622002,
                    3.195408,
                    -8.594571,
                    -15.24007,
                    -35.985935,
                    9.518614,
                    -20.70441,
                    -51.965096,
                    -25.949009,
                    0.11906833,
                    -44.07943,
                    -7.6194944,
                    -28.973577,
                    -20.256554,
                    -43.11057,
                    -24.226082,
                    -25.987347,
                    8.4259815,
                    -28.856722,
                    -45.042526,
                    6.019459,
                    2.0693264,
                    -23.42876,
                    -45.58232,
                    -10.269383,
                    13.970316,
                    -31.63834,
                    44.799572,
                    8.987502,
                    4.1879873,
                    -30.657028,
                    -46.161243,
                    -45.008293,
                    4.2567306,
                    25.263138,
                    12.882074,
                    12.54306,
                    13.280099,
                    -6.1289673,
                    18.23076,
                    -40.479202,
                    -15.142479,
                    26.716805,
                    -17.120098,
                    -17.747217,
                    16.026896,
                    22.750359,
                    -26.86807,
                    39.73459,
                    2.2933593,
                    39.653625,
                    5.2330823,
                    16.4135,
                    25.389114,
                    11.129967,
                    -31.533484,
                    24.360744,
                    3.577942,
                    0.9385455,
                    2.9689705,
                    -5.0522714,
                    0.34120458,
                    26.869864,
                    21.91379,
                    16.609264,
                    29.32149,
                    50.616177,
                    39.563335,
                    -20.570501,
                    -45.57654,
                    -40.58217,
                    6.573847,
                    6.2597,
                    1.1573595,
                    6.4962687,
                    48.592445,
                    48.89098,
                    33.5007,
                    48.812595,
                    -39.07409,
                    55.16929,
                    50.960045,
                    -3.5273266,
                    17.521465,
                    0.34242365,
                    0.34242365,
                    -45.13943,
                    45.7266,
                    19.83586,
                    32.648987,
                    0.34242365,
                    48.58782,
                    -26.075937,
                    43.84898,
                    43.669235,
                    3.0366545,
                    10.685311,
                    18.373413,
                    9.79884,
                    49.064663,
                    47.63889,
                    48.801987,
                    31.274529,
                    0.0038486444,
                    48.185196,
                    37.08911,
                    -24.222116,
                    16.674812,
                    -12.082795,
                    44.383965,
                    -6.430905,
                    -35.528477,
                    -32.557224,
                    -41.388542,
                    -43.395206,
                    -39.15222,
                    -20.813751,
                    -47.590725,
                    -39.527393,
                    18.097876,
                    -33.819286,
                    -26.462528,
                    -7.5720124,
                    -7.107203,
                    9.9836855,
                    -17.491333,
                    -33.899876,
                    -6.744859,
                    -12.129995,
                    33.30131,
                    50.577488,
                    52.581074,
                    45.51559,
                    -7.926946,
                    31.960241,
                    -25.495026,
                    -27.830122,
                    15.251734,
                    5.014753,
                    1.6854463,
                    -51.04206,
                    -0.5670344,
                    31.960241,
                    16.556883,
                    -43.202587,
                    27.698948,
                    27.992142,
                    -5.838142,
                    -40.072502,
                    -40.311195,
                    4.376456,
                    -12.151218,
                    -50.104084,
                    -40.481472,
                    -42.16136,
                    -16.529427,
                    7.9605136,
                    -50.708942,
                    18.0979,
                    14.880866,
                    -18.810274,
                    17.007627,
                    50.107536,
                    29.136648,
                    12.033551,
                    -3.5046477,
                    30.108707,
                    21.787077,
                    18.564714,
                    -29.641798,
                    30.984177,
                    18.095161,
                    31.371725,
                    23.847464,
                    23.322577,
                    37.307713,
                    30.140856,
                    29.11269,
                    26.131824,
                    28.572844,
                    28.897215,
                    29.640476,
                    -15.987491,
                    34.839962,
                    23.49092,
                    25.524054,
                    30.89095,
                    2.824488,
                    29.126837,
                    -30.131441,
                    -11.253344,
                    29.507458,
                    37.792004,
                    34.733635,
                    30.150398,
                    37.906197,
                    12.190584,
                    30.024548,
                    28.925041,
                    -8.311153,
                    29.627247,
                    7.9702926,
                    -1.3120339,
                    14.255277,
                    -2.364004,
                    -12.3627205,
                    22.491365,
                    18.379808,
                    17.570211,
                    -32.833122,
                    -30.632427,
                    -24.693829,
                    11.788186,
                    11.38919,
                    -49.158646,
                    31.060015,
                    27.04257,
                    -21.738613,
                    36.616028,
                    -53.426105,
                    34.21348,
                    -49.369484,
                    -51.81131,
                    8.062446,
                    1.6667988,
                    -2.5879385,
                    -34.75138,
                    6.1795354,
                    7.9658675,
                    22.443565,
                    7.995384,
                    -13.413851,
                    17.70111,
                    21.521458,
                    -41.805374,
                    -29.355865,
                    10.556059,
                    -11.336758,
                    44.37364,
                    -11.10702,
                    11.835543,
                    26.125835,
                    16.565022,
                    -42.910065,
                    42.58135,
                    49.130993,
                    49.923252,
                    21.4272,
                    36.32152,
                    39.78603,
                    55.654377,
                    6.1434164,
                    -45.335003,
                    -15.010812,
                    -29.890442,
                    -51.97273,
                    37.686363,
                    19.836153,
                    11.838388,
                    -21.94271,
                    -27.531136,
                    33.227898,
                    16.504892,
                    29.925535,
                    13.028837,
                    -5.4573407,
                    51.47033,
                    -23.208483,
                    -20.762701,
                    -22.855398,
                    52.048073,
                    -44.139496,
                    -8.65481,
                    35.387848,
                    -19.616962,
                    -47.51074,
                    -18.663961,
                    -1.49043,
                    -24.694492,
                    -44.744347,
                    -21.712223,
                    -21.636374,
                    18.307945,
                    -31.311325,
                    4.9223175,
                    -45.04749,
                    -8.810113,
                    -35.3949,
                    23.177464,
                    -22.625406,
                    -23.397524,
                    50.45453,
                    41.087616,
                    1.7096629,
                    25.48926,
                    -25.373571,
                    -21.18785,
                    -30.686647,
                    34.0069,
                    1.0365167,
                    49.800465,
                    5.448456,
                    -24.240427,
                    -41.224564,
                    6.9346585,
                    -5.644022,
                    17.117449,
                    -41.456272,
                    -3.531482,
                    -6.447572,
                    -7.3601947,
                    -6.1506023,
                    27.689857,
                    -1.4072063,
                    21.513329,
                    14.777401,
                    17.471619,
                    -27.01864,
                    11.202629,
                    -24.164581,
                    -49.14613,
                    -17.19501,
                    31.878376,
                    8.733327,
                    -28.808102,
                    38.054478,
                    5.1676626,
                    38.994846,
                    9.880146,
                    -20.909464,
                    42.227608,
                    27.462818,
                    -1.9634211,
                    -0.41298804,
                    -8.291628,
                    -10.451736,
                    0.26621142,
                    4.238638,
                    8.904303,
                    37.882732,
                    -8.5645485,
                    22.50782,
                    -22.698896,
                    -45.29242,
                    8.678736,
                    8.953961,
                    -2.2428389,
                    -6.0555806,
                    5.9910574,
                    2.7380388,
                    31.200287,
                    -18.12696,
                    37.057545,
                    33.401978,
                    11.86633,
                    -16.660284,
                    -48.685013,
                    17.36068,
                    -33.154953,
                    -3.1184278,
                    -1.6286175,
                    24.322252,
                    46.04889,
                    5.635505,
                    -12.660907,
                    46.141277,
                    5.248339,
                    -30.618017,
                    -23.408936,
                    -41.09587,
                    1.5154709,
                    -27.063776,
                    -28.954182,
                    -25.030487,
                    -30.669312,
                    -23.191202,
                    -34.047432,
                    2.6255696,
                    -28.834854,
                    -41.98006,
                    -50.454453,
                    -31.429836,
                    -53.901184,
                    -1.4080524,
                    18.967491,
                    8.968472,
                    -1.0151823,
                    11.82633,
                    28.439009,
                    -11.177652,
                    -10.78224,
                    5.469925,
                    20.073935,
                    -24.438822,
                    -20.59186,
                    -28.049164,
                    -47.494507,
                    -25.257586,
                    4.499087,
                    46.053482,
                    -29.592451,
                    -24.750967,
                    -22.847733,
                    -39.274555,
                    -29.035765,
                    7.251701,
                    1.9085697,
                    -0.46193153,
                    -31.706696,
                    -51.936092,
                    -24.001612,
                    1.7175386,
                    -43.93791,
                    25.309027,
                    42.575844,
                    46.140213,
                    21.87354,
                    21.521458,
                    13.304963,
                    -29.83725,
                    12.875769,
                    -29.43914,
                    -1.7793429,
                    23.940985,
                    -18.169203,
                    0.48052335,
                    -24.030306,
                    16.78413,
                    -12.171126,
                    43.40963,
                    -15.362671,
                    -16.641829,
                    -38.535763,
                    -14.570097,
                    -29.418076,
                    -47.89207,
                    -18.534163,
                    38.10269,
                    -36.757465,
                    15.88066,
                    -45.917343,
                    -11.035942,
                    -13.299679,
                    -20.113882,
                    -8.716728,
                    -22.733694,
                    11.810681,
                    -14.354397,
                    11.962601,
                    -21.494392,
                    -47.7577,
                    42.537178,
                    38.20778,
                    -2.9887648,
                    53.502064,
                    -31.110363,
                    16.843777,
                    8.967108,
                    -23.37515,
                    21.16584,
                    -36.973835,
                    -21.314474,
                    32.56862,
                    -36.096832,
                    -43.55729,
                    20.548826,
                    -45.268997,
                    35.67954,
                    -6.5297303,
                    -6.5297303,
                    6.2338996,
                    -32.166782,
                    33.09719,
                    -48.92486,
                    2.0736403,
                    26.66144,
                    10.232593,
                    41.750694,
                    12.373252,
                    7.8350844,
                    22.301289,
                    33.96705,
                    15.436864,
                    -11.794133,
                    24.199965,
                    -22.419666,
                    45.529324,
                    2.1890256,
                    -11.202665,
                    -22.240019,
                    -2.118672,
                    -19.51129,
                    -2.7216463,
                    52.549145,
                    34.684723,
                    -22.680437,
                    7.6812487,
                    2.2095633,
                    -2.7563958,
                    -0.69794106,
                    28.796434,
                    2.4612796,
                    11.853238,
                    2.5700505,
                    24.583921,
                    -11.678139,
                    25.477943,
                    9.454823,
                    -19.563557,
                    31.343588,
                    28.473347,
                    19.043188,
                    5.763665,
                    -3.17202,
                    15.110464,
                    7.955703,
                    -4.6055784,
                    -2.0355144,
                    41.83759,
                    20.270933,
                    36.710255,
                    11.803561,
                    -7.999716,
                    -8.268442,
                    23.603886,
                    -0.25829428,
                    -29.832348,
                    -22.416386,
                    4.4327803,
                    18.106255,
                    38.382904,
                    -1.7406228,
                    39.105698,
                    -36.333447,
                    35.87518,
                    30.564394,
                    -2.634118,
                    -17.463736,
                    -23.664198,
                    31.800453,
                    -4.366601,
                    9.664861,
                    -15.98564,
                    38.238712,
                    28.71426,
                    17.84399,
                    9.895204,
                    -22.31158,
                    2.0713744,
                    2.3423834,
                    -24.699623,
                    -34.69722,
                    4.28558,
                    2.7328923,
                    28.712929,
                    49.726845,
                    17.360636,
                    -46.218914,
                    16.57238,
                    33.74433,
                    33.74433,
                    0.043109037,
                    -45.235992,
                    3.8158019,
                    -13.505508,
                    -41.487785,
                    32.626873,
                    32.76808,
                    3.262119,
                    6.6646795,
                    24.326529,
                    7.1093693,
                    -36.523067,
                    -29.476315,
                    44.238262,
                    -15.395549,
                    -29.13479,
                    -19.615854,
                    -29.250687,
                    -33.339783,
                    8.219177,
                    14.180999,
                    -9.304853,
                    -22.914179,
                    25.811895,
                    -33.30008,
                    -24.800467,
                    -11.981306,
                    19.022476,
                    -11.581966,
                    -32.309322,
                    -12.26986,
                    9.5857,
                    -19.145092,
                    -32.181652,
                    40.98616,
                    -43.942093,
                    -24.06806,
                    7.8221593,
                    -26.850065,
                    -55.097458,
                    12.711259,
                    13.69078,
                    2.0369449,
                    31.775757,
                    6.355319,
                    -13.798538,
                    -19.728436,
                    -20.330267,
                    -20.613792,
                    54.41657,
                    22.23125,
                    18.71527,
                    13.495063,
                    46.816265,
                    7.1995263,
                    47.470238,
                    34.34192,
                    -43.88096,
                    -14.273233,
                    -19.44478,
                    -31.20222,
                    -34.64032,
                    3.9185653,
                    -36.33799,
                    4.8774014,
                    -43.947266,
                    -46.7345,
                    -36.4292,
                    9.855013,
                    -21.783009,
                    40.129524,
                    49.22765,
                    37.652714,
                    -1.8257005,
                    40.44083,
                    11.8047085,
                    -15.131696,
                    40.025154,
                    -1.275949,
                    14.342246,
                    -5.131526,
                    -41.899307,
                    -38.178997,
                    14.738608,
                    5.871369,
                    13.47307,
                    -5.6151986,
                    6.8100224,
                    6.7142444,
                    -18.517902,
                    6.571421,
                    47.680706,
                    -48.104244,
                    -12.809639,
                    -5.7789993,
                    -47.112553,
                    -13.041597,
                    -23.499332,
                    -28.018671,
                    18.80937,
                    8.708291,
                    13.343974,
                    4.7675138,
                    -0.2868585,
                    17.366636,
                    -15.232172,
                    32.3528,
                    10.302543,
                    -24.72336,
                    -35.01825,
                    -22.665194,
                    -27.905891,
                    -54.37629,
                    -30.465862,
                    42.77882,
                    -3.198215,
                    -40.665386,
                    8.217599,
                    -42.805656,
                    -40.665455,
                    -24.443047,
                    4.5498347,
                    -30.603146,
                    -24.715916,
                    -39.531178,
                    -19.541603,
                    40.994743,
                    -52.74437,
                    -15.468267,
                    -36.58843,
                    21.37196,
                    23.661383,
                    -38.113354,
                    6.0309424,
                    -29.849552,
                    -30.240547,
                    -44.442562,
                    -24.596485,
                    -23.834082,
                    16.758055,
                    20.229542,
                    41.386547,
                    -14.093329,
                    -20.8922,
                    -13.727229,
                    -16.531723,
                    49.130245,
                    41.980957,
                    -26.123957,
                    40.985405,
                    47.32483,
                    2.6013453,
                    27.83208,
                    51.531723,
                    43.812645,
                    -17.693438,
                    29.74895,
                    5.5573535,
                    -2.2100332,
                    -38.082478,
                    29.421288,
                    44.590317,
                    19.333473,
                    28.913202,
                    47.25507,
                    -19.157799,
                    -45.985703,
                    -6.44744,
                    21.03633,
                    -46.64438,
                    28.65696,
                    2.440699,
                    1.6894698,
                    13.69983,
                    35.975075,
                    44.77864,
                    -24.233482,
                    -14.059174,
                    -20.696344,
                    -6.105039,
                    10.791179,
                    -16.61776,
                    24.823854,
                    10.545481,
                    27.46997,
                    21.87352,
                    11.664296,
                    -25.797743,
                    -49.305405,
                    40.462265,
                    6.5928307,
                    -4.9846745,
                    -26.21198,
                    -45.320293,
                    14.841262,
                    -18.888409,
                    -48.1539,
                    7.2041845,
                    22.315395,
                    4.00074,
                    -33.96564,
                    -20.066353,
                    23.967901,
                    -42.110283,
                    -34.083862,
                    10.170625,
                    -16.768578,
                    -50.262283,
                    -24.115002,
                    25.397644,
                    34.80827,
                    25.668688,
                    -12.238655,
                    38.218178,
                    15.838738,
                    -12.945874,
                    -8.697455,
                    -39.20326,
                    -7.458967,
                    31.72675,
                    -0.1259152,
                    -5.9295774,
                    31.056936,
                    4.5098248,
                    -18.61348,
                    -29.859291,
                    -48.952946,
                    -43.12178,
                    -33.042816,
                    -8.732354,
                    26.9172,
                    38.791946,
                    24.408583,
                    48.59036,
                    50.53537,
                    40.78911,
                    24.838268,
                    48.54341,
                    26.501534,
                    -30.401443,
                    8.176684,
                    24.408672,
                    -50.833138,
                    20.867317,
                    9.5489855,
                    -18.279947,
                    44.244217,
                    16.038086,
                    -43.225597,
                    -31.79683,
                    -2.8767848,
                    -26.639605,
                    -26.44857,
                    13.17901,
                    -33.022724,
                    -1.7648153,
                    0.85030955,
                    5.1869335,
                    11.590503,
                    -7.525865,
                    -17.716484,
                    -46.400852,
                    -4.154897,
                    -28.582243,
                    -50.033176,
                    -19.155817,
                    -21.315903,
                    -28.127485,
                    8.217589,
                    -41.58144,
                    -32.58365,
                    -5.7768335,
                    -16.901623,
                    -18.333012,
                    39.567303,
                    -10.747656,
                    17.366272,
                    25.097683,
                    -17.639404,
                    -9.468766,
                    -25.490896,
                    -18.516554,
                    44.2365,
                    -12.0906515,
                    -13.205579,
                    -15.415209,
                    -27.025894,
                    -26.708311,
                    -15.543825,
                    55.302063,
                    -27.23535,
                    -15.84893,
                    -13.871012,
                    17.551098,
                    50.440582,
                    -32.805077,
                    -26.133593,
                    -27.99551,
                    -39.88372,
                    -26.89294,
                    -37.06823,
                    4.041156,
                    46.6388,
                    -3.4890063,
                    2.9739678,
                    6.522933,
                    8.936941,
                    -5.5833755,
                    -25.922728,
                    -25.768452,
                    3.3576791,
                    -11.695218,
                    -23.639551,
                    -47.89288,
                    -27.544447,
                    -2.7740796,
                    -2.1386201,
                    9.61688,
                    -21.531013,
                    4.3784375,
                    -2.879873,
                    0.18281433,
                    10.6881895,
                    9.112694,
                    -16.76997,
                    50.705727,
                    8.112048,
                    -14.28383,
                    -11.676574,
                    -18.025661,
                    21.78919,
                    5.2237926,
                    -49.444733,
                    -11.2647295,
                    -24.130875,
                    7.4990444,
                    7.3393574,
                    -2.542636,
                    -4.8139853,
                    -36.69431,
                    -16.849133,
                    6.5299153,
                    -11.230726,
                    0.023811724,
                    35.520576,
                    14.052959,
                    22.119755,
                    -36.643227,
                    -35.34602,
                    -35.353355,
                    -30.622255,
                    -43.864723,
                    -22.680397,
                    -57.388634,
                    24.862524,
                    36.087906,
                    37.22551,
                    -21.331825,
                    -5.1029067,
                    -51.825684,
                    -17.334436,
                    -18.417984,
                    -15.109748,
                    21.913832,
                    -46.04586,
                    -32.82987,
                    38.438927,
                    43.64368,
                    27.442133,
                    21.598763,
                    11.872986,
                    -51.571568,
                    -5.6663423,
                    -47.93946,
                    -31.837072,
                    -3.996343,
                    -21.107008,
                    -50.09427,
                    -46.6142,
                    -34.107704,
                    3.78869,
                    41.051968,
                    -47.099476,
                    -29.411533,
                    -9.442926,
                    -25.627625,
                    -39.365772,
                    26.648552,
                    -17.74521,
                    12.034637,
                    36.16044,
                    17.098635,
                    -19.717167,
                    -26.278444,
                    -28.254126,
                    -46.511604,
                    -49.33921,
                    -16.472288,
                    -47.16457,
                    -26.460459,
                    -34.528694,
                    9.505859,
                    -56.527885,
                    -14.641005,
                    11.471018,
                    44.799164,
                    -17.091597,
                    -18.579597,
                    -20.158066,
                    4.734618,
                    9.676532,
                    7.4246798,
                    -52.460476,
                    25.08587,
                    -35.86609,
                    10.9637985,
                    -30.024015,
                    14.929065,
                    -19.462313,
                    21.454645,
                    1.4522562,
                    -8.897612,
                    -2.9428992,
                    -14.182769,
                    -11.480199,
                    -8.810141,
                    -14.019242,
                    -21.873003,
                    -28.127485,
                    -23.010036,
                    23.910461,
                    -14.436107,
                    -13.804159,
                    -19.365871,
                    4.4982862,
                    19.517944,
                    -3.9552546,
                    -37.366985,
                    6.2305374,
                    5.0480695,
                    11.160765,
                    -4.716284,
                    50.902794,
                    1.9105709,
                    40.462265,
                    -18.941307,
                    30.831612,
                    30.465403,
                    -12.170008,
                    -28.724,
                    1.3897532,
                    4.6065083,
                    20.68553,
                    22.683445,
                    10.68238,
                    27.456795,
                    3.050397,
                    -10.215921,
                    25.98769,
                    54.51415,
                    50.78746,
                    -15.342445,
                    -50.308014,
                    28.031786,
                    24.107647,
                    28.782776,
                    -49.325386,
                    -49.325165,
                    50.254204,
                    51.65506,
                    17.061644,
                    -38.33326,
                    9.757068,
                    24.8015,
                    51.00593,
                    -9.987798,
                    0.5362874,
                    -21.807093,
                    47.341324,
                    34.023323,
                    -31.18008,
                    -22.125292,
                    2.3920994,
                    -30.844915,
                    -2.2573073,
                    -32.09496,
                    -17.636372,
                    -23.90203,
                    -2.0367389,
                    -10.356983,
                    -2.3616145,
                    -0.9950074,
                    11.30903,
                    18.646282,
                    -2.5413725,
                    1.4344527,
                    14.511446,
                    23.495077,
                    -35.045246,
                    -12.943277,
                    -30.11953,
                    -10.859211,
                    37.13719,
                    42.375484,
                    0.24801761,
                    -21.28205,
                    15.994652,
                    -26.812382,
                    6.659407,
                    29.862387,
                    -22.480747,
                    38.407944,
                    3.600459,
                    -57.388634,
                    -19.488111,
                    16.675104,
                    -37.68899,
                    -11.975723,
                    -19.550653,
                    -24.619339,
                    -53.90525,
                    -54.948074,
                    -28.721317,
                    -35.006264,
                    -4.8211045,
                    -26.427296,
                    23.057083,
                    1.4165034,
                    49.243546,
                    0.9972767,
                    -1.2694058,
                    18.493128,
                    0.1795512,
                    23.362514,
                    20.79084,
                    -35.819386,
                    39.522934,
                    48.63799,
                    32.047436,
                    13.965573,
                    -25.217234,
                    11.636314,
                    -23.715385,
                    18.52508,
                    13.58528,
                    -2.1309564,
                    9.785312,
                    -15.546881,
                    26.679983,
                    -15.668952,
                    -2.6572864,
                    2.8630357,
                    -7.143215,
                    8.665105,
                    46.960575,
                    49.568073,
                    -10.447651,
                    -22.586727,
                    -30.095505,
                    10.357942,
                    7.1032324,
                    -36.802307,
                    -11.21601,
                    -34.12969,
                    9.493004,
                    18.031734,
                    -3.212157,
                    22.124615,
                    -50.690876,
                    -46.034016,
                    -42.75218,
                    -28.636488,
                    3.913435,
                    -23.468445,
                    26.612726,
                    1.7000269,
                    -23.614021,
                    -5.5833755,
                    -32.51951,
                    5.154382,
                    -23.306492,
                    4.2471833,
                    14.502534,
                    17.464151,
                    -0.3741458,
                    -31.487362,
                    -46.411076,
                    -28.71411,
                    13.539141,
                    1.2810992,
                    -25.710161,
                    -1.0136876,
                    18.938364,
                    -6.632842,
                    -12.378698,
                    26.869864,
                    12.709366,
                    10.155661,
                    6.2382307,
                    4.100175,
                    28.25529,
                    8.55112,
                    26.0645,
                    49.335148,
                    25.842875,
                    -43.771515,
                    30.904299,
                    -29.72829,
                    18.376394,
                    -22.61786,
                    -31.034258,
                    -27.195835,
                    12.426046,
                    -44.42659,
                    13.75024,
                    -26.766714,
                    10.069305,
                    6.3643713,
                    0.9197971,
                    -39.93517,
                    -9.331323,
                    -14.709923,
                    7.86812,
                    -51.543148,
                    -26.925354,
                    -15.625141,
                    3.3730323,
                    -9.573283,
                    15.348747,
                    -39.000893,
                    25.829777,
                    32.340027,
                    40.60878,
                    -8.892483,
                    32.912807,
                    46.799133,
                    45.23829,
                    2.2432373,
                    -33.92962,
                    -0.21452935,
                    8.7844515,
                    2.7153013,
                    11.407323,
                    -19.443804,
                    11.407323,
                    -44.807236,
                    -13.781355,
                    43.99418,
                    -20.692062,
                    -28.589378,
                    0.30784374,
                    0.1789896,
                    -25.032684,
                    4.1879873,
                    6.5782976,
                    27.877829,
                    38.790764,
                    14.836241,
                    34.32579,
                    -29.727186,
                    -27.371555,
                    32.950573,
                    25.165085,
                    -20.882908,
                    0.43021184,
                    2.4357038,
                    25.362448,
                    -26.834604,
                    -20.194258,
                    -20.120344,
                    -32.00241,
                    33.589924,
                    -25.775534,
                    -36.498806,
                    44.296246,
                    31.136774,
                    20.560385,
                    38.732693,
                    47.631027,
                    53.529026,
                    -15.858085,
                    13.297718,
                    19.724537,
                    9.6465,
                    33.01446,
                    4.518332,
                    -19.462856,
                    -17.098463,
                    -44.361893,
                    -45.561672,
                    1.8916037,
                    10.984476,
                    0.7904419,
                    -30.279625,
                    -45.711414,
                    2.1647491,
                    -21.221548,
                    44.010998,
                    -24.522966,
                    -20.978552,
                    -26.780035,
                    -26.133812,
                    18.38725,
                    -25.280916,
                    6.371853,
                    -38.13836,
                    -22.487135,
                    -21.442585,
                    -4.466771,
                    18.38725,
                    -38.80708,
                    -0.747213,
                    -23.179554,
                    -45.669502,
                    34.46804,
                    33.128864,
                    -16.217798,
                    -24.518991,
                    1.6418518,
                    -43.813614,
                    -21.442585,
                    1.3858752,
                    -45.560543,
                    -25.842196,
                    -42.324512,
                    2.7805264,
                    -0.41500285,
                    11.071112,
                    35.147743,
                    -22.472948,
                    -10.539967,
                    6.3006396,
                    30.485874,
                    24.509987,
                    3.5429783,
                    -5.355667,
                    48.897564,
                    37.723248,
                    1.4574355,
                    -30.721533,
                    -14.773161,
                    42.20403,
                    13.33464,
                    1.1891721,
                    0.7288986,
                    9.315106,
                    -14.696681,
                    -11.893761,
                    -11.758908,
                    32.36303,
                    29.35291,
                    4.5098248,
                    1.4693382,
                    10.238464,
                    38.244785,
                    20.145184,
                    -1.1202899,
                    3.527197,
                    -1.3448938,
                    28.58145,
                    -25.350899,
                    -35.3949,
                    -34.51962,
                    -19.019196,
                    26.77516,
                    16.458727,
                    28.516226,
                    -51.505817,
                    30.65041,
                    29.635742,
                    -17.789995,
                    8.7410755,
                    -22.672112,
                    -14.707792,
                    -0.7179775,
                    -21.152933,
                    -22.730438,
                    9.682533,
                    3.9442544,
                    -12.27148,
                    -44.42801,
                    -11.552168,
                    -40.09945,
                    -29.69764,
                    -28.773643,
                    -13.561868,
                    10.418768,
                    -19.014542,
                    -29.16556,
                    -37.951874,
                    -16.665173,
                    -3.3965304,
                    -2.5668967,
                    31.517893,
                    7.5208874,
                    -2.7284508,
                    -40.479202,
                    34.265106,
                    47.759117,
                    -32.278988,
                    -23.973536,
                    -5.399044,
                    36.003357,
                    20.529747,
                    -17.897842,
                    35.577286,
                    45.506676,
                    36.50778,
                    2.8852777,
                    9.539174,
                    25.637283,
                    24.034279,
                    14.94814,
                    15.588053,
                    21.598799,
                    19.305395,
                    16.22226,
                    17.482046,
                    -20.199856,
                    1.9180441,
                    0.28646353,
                    5.988134,
                    -32.67158,
                    -9.861041,
                    -51.394722,
                    -32.629967,
                    -53.594765,
                    -8.501498,
                    -47.27122,
                    -33.05761,
                    -53.675396,
                    -49.396187,
                    -26.72891,
                    -42.77529,
                    6.5996714,
                    -36.53971,
                    -18.285501,
                    -17.621672,
                    4.6245975,
                    31.320864,
                    12.402605,
                    -32.23928,
                    -15.879923,
                    -25.836048,
                    8.637811,
                    8.991128,
                    14.344052,
                    13.546766,
                    20.270933,
                    -11.885116,
                    14.910027,
                    -2.7466013,
                    -24.041243,
                    23.422947,
                    32.142418,
                    52.741848,
                    8.7725935,
                    7.955703,
                    12.664144,
                    47.075455,
                    31.803167,
                    25.174156,
                    14.771064,
                    0.40209976,
                    1.4291443,
                    -52.646202,
                    -16.326368,
                    20.702518,
                    40.301697,
                    11.835552,
                    32.359467,
                    -32.452793,
                    -44.130768,
                    -0.99192935,
                    8.002165,
                    -30.498947,
                    -28.547606,
                    11.34167,
                    -11.97728,
                    -24.201769,
                    -25.251606,
                    9.448557,
                    16.050665,
                    -29.97023,
                    8.79594,
                    -30.167337,
                    -14.160213,
                    2.0514736,
                    5.0603695,
                    -26.768621,
                    -28.022587,
                    -48.65363,
                    -15.946395,
                    -27.348568,
                    -38.76149,
                    -18.354237,
                    -4.0469494,
                    -36.249153,
                    44.104702,
                    47.29058,
                    51.945602,
                    -1.7976179,
                    -19.795109,
                    34.74725,
                    -5.14037,
                    -51.759724,
                    -39.94197,
                    -31.682665,
                    44.77864,
                    4.2976556,
                    -1.6259795,
                    -46.01025,
                    -42.43703,
                    -34.38281,
                    2.010554,
                    28.58145,
                    36.241882,
                    21.851435,
                    -12.114038,
                    -17.22696,
                    3.9318376,
                    -19.421347,
                    -20.568316,
                    -15.362661,
                    -26.338333,
                    -53.048737,
                    -41.707222,
                    5.94222,
                    0.2086311,
                    29.510847,
                    2.5390525,
                    35.811623,
                    -23.435316,
                    -43.302856,
                    19.821617,
                    -27.608473,
                    -18.856726,
                    -12.952051,
                    -45.501423,
                    -29.884872,
                    36.60251,
                    -9.842232,
                    0.5924697,
                    52.843388,
                    15.052892,
                    15.887412,
                    21.851696,
                    21.851582,
                    -21.221548,
                    18.715227,
                    -20.964867,
                    -6.4724174,
                    35.671223,
                    11.784444,
                    47.414566,
                    33.814068,
                    25.254896,
                    -15.237276,
                    37.591423,
                    35.816654,
                    34.7932,
                    39.455517,
                    26.452719,
                    37.69283,
                    25.423906,
                    35.309166,
                    26.60587,
                    36.295166,
                    25.424364,
                    35.102917,
                    52.794334,
                    29.142498,
                    20.067816,
                    52.47194,
                    -16.268456,
                    -53.776386,
                    -54.83655,
                    -48.93713,
                    -30.08734,
                    -47.028492,
                    -34.14363,
                    41.4518,
                    -41.765198,
                    42.771416,
                    19.157673,
                    -17.032942,
                    22.778774,
                    4.892916,
                    4.450472,
                    -21.865084,
                    31.433285,
                    36.76851,
                    23.005606,
                    -18.378479,
                    -3.23523,
                    25.652607,
                    11.723161,
                    39.34212,
                    -45.46512,
                    -47.803467,
                    -47.400414,
                    24.949743,
                    -1.7653981,
                    -52.25454,
                    17.134886,
                    -53.159946,
                    11.533561,
                    11.96229,
                    6.010804,
                    -17.301514,
                    20.270933,
                    18.1412,
                    53.167755,
                    36.579742,
                    44.161816,
                    28.509874,
                    -19.951815,
                    -44.330322,
                    8.841447,
                    -18.611956,
                    -33.173546,
                    9.041548,
                    29.49024,
                    44.729485,
                    -6.561947,
                    -6.379732,
                    -34.216545,
                    -37.18871,
                    -38.211094,
                    -7.608935,
                    7.3244805,
                    -34.073914,
                    -2.853637,
                    9.882627,
                    24.985106,
                    21.402697,
                    51.014458,
                    40.129524,
                    0.4867609,
                    2.3686514,
                    -11.665853,
                    -19.235085,
                    28.185411,
                    1.1541113,
                    -8.615249,
                    10.064289,
                    -14.855157,
                    14.351724,
                    -21.257662,
                    39.47341,
                    6.5070424
                  ],
                  "xaxis": "x",
                  "y": [
                    1.6622632,
                    16.959927,
                    18.748426,
                    -24.917303,
                    -9.401706,
                    12.568443,
                    -20.569855,
                    -28.546236,
                    42.90063,
                    -22.872421,
                    54.801804,
                    9.586918,
                    17.85503,
                    -4.842833,
                    -30.891201,
                    -7.9606867,
                    -34.00114,
                    -1.2313377,
                    59.53048,
                    -1.073317,
                    -19.357029,
                    -26.646223,
                    -35.44763,
                    -29.76018,
                    43.25576,
                    -39.144493,
                    -28.68398,
                    0.9953006,
                    61.7661,
                    -38.251728,
                    -32.165154,
                    61.036644,
                    -49.36497,
                    17.181377,
                    -20.397947,
                    53.4288,
                    -32.75212,
                    63.060257,
                    -6.7546983,
                    -13.451654,
                    4.6998935,
                    -21.947895,
                    -42.392624,
                    57.146328,
                    30.958338,
                    -10.619639,
                    61.908436,
                    4.433831,
                    -18.363428,
                    3.518017,
                    -43.822742,
                    0.4365253,
                    -6.0545917,
                    -5.4228287,
                    5.4331098,
                    -28.748123,
                    2.8647392,
                    8.685103,
                    -27.244177,
                    -19.622131,
                    7.677102,
                    -3.886775,
                    52.099255,
                    8.384323,
                    27.707523,
                    -5.931724,
                    54.28963,
                    3.2891438,
                    20.621527,
                    10.149887,
                    49.65394,
                    7.3646164,
                    15.279091,
                    -15.8603945,
                    6.924222,
                    4.934964,
                    1.4197203,
                    -21.015396,
                    50.095776,
                    -6.8079114,
                    42.172596,
                    5.508098,
                    11.353272,
                    8.082167,
                    -7.9624696,
                    29.604996,
                    46.92642,
                    18.3639,
                    -8.866565,
                    -36.88544,
                    -0.9433497,
                    -0.5243654,
                    9.741993,
                    1.0963058,
                    -17.614561,
                    5.479131,
                    -2.0693762,
                    0.09719566,
                    -34.22915,
                    -15.719253,
                    -29.366127,
                    -5.63408,
                    41.714718,
                    46.546455,
                    -1.6005491,
                    17.590925,
                    28.403997,
                    40.50681,
                    -4.772268,
                    -0.8651319,
                    -21.707941,
                    -13.560716,
                    -11.0691395,
                    -4.5794263,
                    -41.905853,
                    -14.036122,
                    -24.068808,
                    9.211287,
                    -34.904522,
                    55.543858,
                    -16.714685,
                    9.117998,
                    0.98010993,
                    7.1134596,
                    4.7664876,
                    -17.402239,
                    -9.48988,
                    -14.731524,
                    -20.173103,
                    24.682028,
                    9.472664,
                    -23.25278,
                    -22.598742,
                    1.5896167,
                    3.1123083,
                    13.559232,
                    12.555519,
                    27.70835,
                    -51.474575,
                    24.977978,
                    62.128696,
                    24.977978,
                    -8.9576025,
                    -15.885141,
                    46.521194,
                    -14.964563,
                    1.8435451,
                    -21.396803,
                    -10.44542,
                    -4.328887,
                    13.916937,
                    -45.528233,
                    -17.51122,
                    3.8265579,
                    7.36947,
                    -19.748352,
                    52.083412,
                    50.354874,
                    -12.226492,
                    -16.687792,
                    -7.089713,
                    -10.411448,
                    -5.734238,
                    -8.312476,
                    -0.4920739,
                    20.380756,
                    11.763335,
                    -12.44888,
                    -15.494654,
                    7.4256835,
                    -2.306593,
                    -14.877255,
                    45.661163,
                    2.9743354,
                    -17.846523,
                    50.1416,
                    -20.127304,
                    -20.988674,
                    -29.665411,
                    -9.502057,
                    5.42371,
                    1.0057032,
                    43.03018,
                    -4.8969564,
                    59.18289,
                    16.859962,
                    24.18012,
                    4.340381,
                    -4.6829557,
                    20.811886,
                    -33.853817,
                    46.519073,
                    62.79472,
                    -30.613993,
                    -42.51196,
                    -41.7521,
                    10.93993,
                    5.128114,
                    -20.239079,
                    0.12964498,
                    -35.240932,
                    59.823753,
                    -33.33618,
                    -3.2328644,
                    -33.961803,
                    23.500952,
                    -19.599691,
                    25.097687,
                    -0.41484213,
                    -12.632673,
                    14.8591795,
                    -23.516207,
                    14.512605,
                    -44.004913,
                    -44.872944,
                    -47.436436,
                    -37.802364,
                    -33.969765,
                    -29.537851,
                    -22.620361,
                    -31.796661,
                    10.996934,
                    -38.949062,
                    -25.817902,
                    -20.02165,
                    13.469231,
                    -0.65963477,
                    -6.8520164,
                    4.941239,
                    -0.5923599,
                    -17.404942,
                    1.5889832,
                    -0.63843656,
                    49.747437,
                    -11.986105,
                    1.6387888,
                    -11.652291,
                    -23.66936,
                    56.087044,
                    -4.924589,
                    -25.528538,
                    -23.732374,
                    -29.248194,
                    64.14415,
                    -8.565452,
                    -35.559982,
                    51.687347,
                    -28.856113,
                    8.489561,
                    -20.023106,
                    -34.199776,
                    3.4400568,
                    -6.432094,
                    -20.601618,
                    -20.82457,
                    1.1664972,
                    53.354347,
                    53.354347,
                    7.2972794,
                    9.884747,
                    57.549904,
                    57.431984,
                    26.911858,
                    11.901755,
                    45.731453,
                    -10.197147,
                    20.257614,
                    51.580425,
                    42.630653,
                    43.82812,
                    35.727184,
                    -32.058136,
                    -23.651857,
                    -26.259214,
                    -43.592373,
                    28.427591,
                    11.590474,
                    -24.09146,
                    -47.295948,
                    23.908926,
                    -26.345148,
                    13.525029,
                    56.47638,
                    13.830559,
                    24.261488,
                    54.066948,
                    -12.1560755,
                    20.331972,
                    51.612183,
                    47.204998,
                    -18.370695,
                    23.58589,
                    12.84306,
                    23.49297,
                    47.204998,
                    12.0158,
                    54.935272,
                    -31.168297,
                    -30.024008,
                    -31.973452,
                    -21.689959,
                    51.968277,
                    20.010899,
                    3.9120555,
                    -8.346492,
                    -26.456484,
                    -32.4455,
                    -22.630043,
                    57.98443,
                    -26.126204,
                    62.479557,
                    63.99194,
                    -27.065477,
                    47.587696,
                    -4.9784746,
                    6.721712,
                    -30.812382,
                    -3.42475,
                    18.819904,
                    14.016987,
                    -2.4083016,
                    -34.550983,
                    16.371048,
                    -32.76862,
                    10.063433,
                    -11.88639,
                    -3.0983844,
                    4.8000903,
                    13.830559,
                    41.2136,
                    -7.1000123,
                    -4.9266653,
                    7.316835,
                    -29.172855,
                    -2.4087675,
                    7.860126,
                    8.450643,
                    -0.5957242,
                    22.367285,
                    -35.06474,
                    -35.592144,
                    -10.0286255,
                    22.367065,
                    -8.292998,
                    -40.549335,
                    -29.975887,
                    -33.916054,
                    -20.961622,
                    41.951706,
                    52.234524,
                    22.367065,
                    1.3280818,
                    0.04446999,
                    -29.412394,
                    30.781225,
                    -2.3275614,
                    -32.722733,
                    -8.662805,
                    41.270657,
                    12.895138,
                    -27.812637,
                    1.5847646,
                    31.126305,
                    3.0958772,
                    -41.166786,
                    3.3956077,
                    13.629137,
                    -41.98783,
                    3.8174367,
                    -24.390074,
                    29.094051,
                    13.066746,
                    -19.3694,
                    24.18777,
                    -3.3554137,
                    13.218974,
                    -33.466927,
                    10.352183,
                    -8.552896,
                    5.4589715,
                    8.508233,
                    1.0296125,
                    -13.601428,
                    -19.276579,
                    10.036786,
                    3.9434295,
                    -12.041182,
                    -30.91105,
                    -28.900887,
                    -31.462688,
                    3.0993907,
                    -4.7487025,
                    31.038223,
                    0.7273175,
                    16.754877,
                    -7.957266,
                    -22.642622,
                    -32.444374,
                    62.977272,
                    54.49695,
                    31.03618,
                    17.988092,
                    -11.190329,
                    -13.675984,
                    -9.605582,
                    10.875144,
                    -29.114038,
                    -27.960136,
                    52.90497,
                    -26.361485,
                    6.506022,
                    -35.117302,
                    1.4296216,
                    3.6952806,
                    44.551426,
                    -49.212425,
                    -0.029576411,
                    -24.526962,
                    -6.4277344,
                    -29.513287,
                    -34.115147,
                    2.2085652,
                    27.213158,
                    13.720151,
                    -13.512375,
                    -13.02346,
                    -11.865564,
                    -19.266312,
                    -4.5491047,
                    51.715595,
                    3.9133565,
                    -5.0058823,
                    24.3186,
                    -21.949366,
                    16.020496,
                    -17.79894,
                    -1.8443408,
                    -20.405916,
                    52.628193,
                    -29.131245,
                    4.7377133,
                    20.621616,
                    51.96053,
                    -12.389705,
                    14.967421,
                    7.0817347,
                    15.164854,
                    1.5447723,
                    6.144139,
                    6.8527617,
                    53.44184,
                    -7.8272963,
                    6.3631754,
                    -7.8117113,
                    4.657731,
                    -14.839546,
                    -34.085052,
                    7.061284,
                    -5.9985414,
                    -8.955267,
                    -6.5524497,
                    -27.363762,
                    -14.951348,
                    10.00377,
                    -18.131124,
                    -51.898426,
                    -50.991787,
                    -23.33397,
                    -31.132282,
                    -23.2981,
                    -45.72173,
                    2.858662,
                    -3.3330348,
                    15.770503,
                    -2.06787,
                    -2.6312509,
                    3.117769,
                    -10.1908865,
                    23.507004,
                    52.386078,
                    -38.467476,
                    -16.152382,
                    -32.930214,
                    22.243956,
                    -8.571292,
                    4.106042,
                    6.803294,
                    -5.8921165,
                    6.4553504,
                    -2.8659003,
                    2.3996816,
                    0.9527288,
                    -30.921806,
                    -4.105891,
                    -10.238001,
                    52.897854,
                    5.8688197,
                    -42.695366,
                    59.425888,
                    -20.24808,
                    -8.7181,
                    -19.540602,
                    -21.725111,
                    -21.22059,
                    53.268612,
                    49.23971,
                    -3.3970013,
                    9.686284,
                    14.666983,
                    -22.873676,
                    -33.524704,
                    13.241116,
                    -27.754812,
                    52.196896,
                    -26.52387,
                    -16.609035,
                    -25.153664,
                    -25.109087,
                    -20.753796,
                    -2.2975683,
                    54.978027,
                    54.931297,
                    -48.173237,
                    15.690559,
                    11.9926815,
                    -35.425434,
                    22.74723,
                    -43.515877,
                    -19.127642,
                    -22.398983,
                    22.109428,
                    11.632155,
                    -2.0273128,
                    -6.199334,
                    10.437514,
                    14.042625,
                    49.05011,
                    -17.919672,
                    51.441895,
                    -3.5142858,
                    20.47876,
                    6.8269377,
                    -23.248962,
                    -3.8760242,
                    -6.199334,
                    0.60595286,
                    7.1300607,
                    -30.533495,
                    2.8922758,
                    -32.767757,
                    7.4446034,
                    -17.076082,
                    -4.461034,
                    -2.2018673,
                    52.218384,
                    8.038734,
                    -6.648214,
                    -23.055674,
                    -11.298189,
                    11.611205,
                    15.459974,
                    -10.507421,
                    -8.058658,
                    9.622276,
                    -2.5650673,
                    4.2458353,
                    7.0961676,
                    -24.39828,
                    -9.115349,
                    4.7211995,
                    0.57036144,
                    -36.240475,
                    -42.121716,
                    -16.373957,
                    13.92002,
                    -7.488679,
                    46.52999,
                    -47.184772,
                    -9.200998,
                    -18.783339,
                    -17.391928,
                    52.208202,
                    -25.99806,
                    -3.0094166,
                    -9.709837,
                    47.80537,
                    -31.495163,
                    -21.271912,
                    -30.534481,
                    22.194702,
                    -21.211948,
                    56.463856,
                    58.816994,
                    -33.173435,
                    -34.626358,
                    46.112568,
                    40.415337,
                    15.700051,
                    31.036013,
                    52.81469,
                    -10.08573,
                    -21.533339,
                    -8.90943,
                    13.581698,
                    -2.5599434,
                    -8.600467,
                    -15.8675165,
                    -10.19557,
                    -8.836341,
                    -12.081729,
                    -25.920696,
                    44.468975,
                    -27.972834,
                    48.922783,
                    -9.055471,
                    2.1080558,
                    -36.48242,
                    4.1049047,
                    48.78021,
                    12.207023,
                    -18.801077,
                    -30.680283,
                    -3.35391,
                    -21.284851,
                    -11.846759,
                    -50.14408,
                    43.37277,
                    -30.19052,
                    -41.60785,
                    -0.6277668,
                    -8.144893,
                    -12.426734,
                    -10.993388,
                    7.5072565,
                    6.7782536,
                    -2.1720665,
                    23.429667,
                    -2.131754,
                    7.9515133,
                    8.765458,
                    10.215291,
                    12.197734,
                    -2.3455348,
                    -11.267188,
                    6.991767,
                    5.001492,
                    6.4565134,
                    12.85298,
                    12.84452,
                    24.59168,
                    3.3645878,
                    -11.913056,
                    -11.885736,
                    -3.7223303,
                    -1.9328521,
                    -29.613274,
                    -17.742899,
                    22.795443,
                    -40.330967,
                    -1.2845049,
                    62.89565,
                    -38.34235,
                    -28.68341,
                    -44.88637,
                    0.67432743,
                    -18.101385,
                    -36.933502,
                    -18.576748,
                    -35.072742,
                    2.3147159,
                    -32.16673,
                    -0.5080681,
                    8.498425,
                    56.487762,
                    23.489561,
                    15.934903,
                    -10.617348,
                    -28.461393,
                    15.27924,
                    5.3176413,
                    24.08506,
                    -12.5819845,
                    -20.019857,
                    10.442246,
                    1.6321466,
                    -5.297548,
                    -7.6187806,
                    10.208546,
                    -6.4760346,
                    -20.784136,
                    -0.9708984,
                    51.063305,
                    -43.163185,
                    -36.311546,
                    57.17804,
                    14.05955,
                    -29.252813,
                    10.466999,
                    -13.51352,
                    -22.216377,
                    -35.483974,
                    -12.5455065,
                    -22.871477,
                    -12.889511,
                    -28.86934,
                    -12.427957,
                    -29.950357,
                    -32.84687,
                    -28.553146,
                    2.060159,
                    4.207661,
                    -17.496319,
                    -14.186841,
                    -14.186881,
                    29.686499,
                    -25.137947,
                    16.46989,
                    -29.097805,
                    -41.760433,
                    65.34095,
                    -34.488487,
                    -39.887856,
                    -40.633205,
                    -43.711678,
                    -40.4449,
                    -31.512888,
                    54.010525,
                    49.64213,
                    -39.81531,
                    -39.931114,
                    -15.9913435,
                    -24.709991,
                    -41.61121,
                    -40.795746,
                    60.135956,
                    -42.084633,
                    -39.77621,
                    27.710154,
                    -8.260346,
                    -31.003775,
                    -1.9672897,
                    -1.5656896,
                    -12.344158,
                    16.792162,
                    -18.318985,
                    58.232517,
                    -4.049768,
                    -15.217691,
                    -26.00133,
                    5.5895047,
                    -25.873344,
                    31.036013,
                    16.523977,
                    -4.4838324,
                    17.299084,
                    27.11767,
                    61.439636,
                    -1.895562,
                    20.362797,
                    57.65341,
                    14.98679,
                    23.266048,
                    -5.37628,
                    2.5276272,
                    23.266048,
                    -39.44889,
                    -9.800383,
                    -26.556198,
                    -24.43504,
                    4.928442,
                    13.723535,
                    56.030838,
                    41.356438,
                    10.596111,
                    27.154127,
                    11.95699,
                    30.117315,
                    -20.367168,
                    12.373246,
                    17.783066,
                    7.9586654,
                    15.879305,
                    43.60377,
                    23.477676,
                    22.819332,
                    18.40842,
                    -2.2942154,
                    29.103642,
                    29.959293,
                    14.184729,
                    49.219322,
                    4.928926,
                    -22.471289,
                    56.750813,
                    -2.002213,
                    -13.572422,
                    -47.66644,
                    -17.834377,
                    -32.513954,
                    -16.097967,
                    -21.324146,
                    59.351734,
                    6.5529065,
                    22.368425,
                    64.56426,
                    -16.428102,
                    -44.28214,
                    -10.9656315,
                    -34.6767,
                    28.233755,
                    -46.627705,
                    53.856472,
                    33.378082,
                    -12.240982,
                    -34.88298,
                    28.77137,
                    -30.153748,
                    50.79604,
                    -23.52497,
                    45.45804,
                    3.2995086,
                    28.236084,
                    -32.740337,
                    -7.191483,
                    -35.502365,
                    -40.00991,
                    1.7474967,
                    -6.9320564,
                    27.877565,
                    29.164968,
                    4.519301,
                    17.376305,
                    -36.958347,
                    -43.97938,
                    41.482044,
                    -33.361805,
                    37.41761,
                    12.010976,
                    -43.25554,
                    -32.82506,
                    37.597237,
                    -13.154098,
                    40.937183,
                    35.727184,
                    49.968937,
                    -21.645782,
                    38.776577,
                    -29.091072,
                    -24.92317,
                    -21.905678,
                    -7.501464,
                    -6.7887154,
                    29.705736,
                    46.41502,
                    2.4421535,
                    56.73825,
                    -33.484097,
                    -10.752883,
                    -28.968168,
                    17.330956,
                    20.21638,
                    62.412315,
                    1.7522577,
                    49.117317,
                    -17.651178,
                    -22.040424,
                    -27.599394,
                    57.29585,
                    26.138674,
                    -25.05601,
                    -25.71054,
                    -33.117268,
                    56.75909,
                    -17.405073,
                    -34.641624,
                    -31.38208,
                    13.133996,
                    4.5453095,
                    51.183247,
                    -41.474113,
                    -21.834892,
                    -32.540462,
                    22.207344,
                    12.089491,
                    10.682207,
                    -20.923428,
                    4.212341,
                    14.880813,
                    25.185555,
                    10.283945,
                    11.751716,
                    -21.559221,
                    11.475848,
                    8.423663,
                    2.5157902,
                    28.778202,
                    4.5649505,
                    -37.60995,
                    23.69352,
                    66.136955,
                    6.185316,
                    -0.16543274,
                    29.150423,
                    9.118041,
                    -19.983469,
                    -16.65047,
                    -25.938381,
                    27.70835,
                    -44.75118,
                    15.707765,
                    52.79507,
                    -18.777618,
                    6.0919414,
                    31.221903,
                    21.439663,
                    -1.3933728,
                    -33.04299,
                    -30.981907,
                    -5.7488556,
                    -9.9295,
                    23.940538,
                    22.136139,
                    52.92394,
                    54.35826,
                    61.053196,
                    -35.486385,
                    56.892708,
                    2.0895338,
                    -33.90227,
                    -20.144236,
                    -1.8435618,
                    -0.55447567,
                    1.0467329,
                    2.649763,
                    -43.221745,
                    -3.371336,
                    7.1177,
                    14.5693035,
                    -28.763105,
                    -27.279665,
                    15.241513,
                    -14.044589,
                    9.805384,
                    -1.2366179,
                    19.386562,
                    7.5445485,
                    -5.0736246,
                    -30.057335,
                    -0.9318149,
                    -15.802584,
                    56.750004,
                    -13.922453,
                    52.116844,
                    -10.518808,
                    -6.3545814,
                    3.8771005,
                    -35.296257,
                    -1.0786355,
                    12.12045,
                    -23.658007,
                    -35.749527,
                    19.629265,
                    -18.121376,
                    1.0845966,
                    -46.541367,
                    12.006168,
                    55.380535,
                    -4.8175097,
                    12.315053,
                    54.775536,
                    -13.337958,
                    4.0801744,
                    11.521615,
                    16.539757,
                    14.871427,
                    -19.3733,
                    15.348215,
                    -7.571071,
                    53.26508,
                    -7.883503,
                    43.281326,
                    -27.235231,
                    22.68586,
                    33.251446,
                    42.30808,
                    -19.125322,
                    -21.200584,
                    -4.679945,
                    33.378082,
                    -16.293264,
                    1.8950219,
                    4.4197025,
                    49.925556,
                    16.025263,
                    11.046146,
                    -35.010124,
                    31.145052,
                    -6.1441207,
                    40.71363,
                    -0.9286753,
                    57.94834,
                    -22.190197,
                    15.365774,
                    51.267147,
                    -13.059862,
                    9.948551,
                    8.99163,
                    29.996813,
                    66.14396,
                    16.74955,
                    7.846044,
                    -21.332546,
                    53.082348,
                    29.579689,
                    3.2922194,
                    1.3387218,
                    4.0205083,
                    -0.039304674,
                    -26.535954,
                    -13.899437,
                    -6.7147346,
                    53.624523,
                    58.3993,
                    -30.28766,
                    -8.044058,
                    4.3449416,
                    12.612649,
                    4.210714,
                    47.721977,
                    -7.1223063,
                    -6.9590917,
                    25.1575,
                    47.729485,
                    -4.6249585,
                    -5.718596,
                    4.4790483,
                    46.425396,
                    -51.268517,
                    -37.520744,
                    40.598774,
                    -10.289798,
                    -30.216013,
                    12.736907,
                    22.657618,
                    -30.17232,
                    8.641786,
                    43.68754,
                    10.5697365,
                    -44.377865,
                    27.569107,
                    54.77678,
                    -48.566032,
                    -35.790802,
                    47.050686,
                    -21.621662,
                    -20.631487,
                    9.527478,
                    -8.551375,
                    19.475689,
                    -1.7411662,
                    -30.147411,
                    -6.201229,
                    -13.333782,
                    -15.30219,
                    59.425873,
                    -23.065481,
                    45.416195,
                    -48.49151,
                    -41.320385,
                    -40.057167,
                    -2.521013,
                    1.8799402,
                    -19.650023,
                    -40.21297,
                    -40.205135,
                    0.21018,
                    8.144278,
                    -15.617189,
                    1.3118093,
                    -33.10275,
                    14.764664,
                    -3.9729986,
                    -4.8048053,
                    -34.589287,
                    -8.474191,
                    10.083862,
                    -3.2032182,
                    31.363274,
                    29.87762,
                    -28.433393,
                    9.165033,
                    -15.308812,
                    11.400457,
                    -12.300977,
                    31.363274,
                    44.19282,
                    -9.073087,
                    4.9769816,
                    -7.6696,
                    60.370846,
                    -0.39733934,
                    -39.528122,
                    -22.095646,
                    -9.270942,
                    11.629116,
                    -13.6706,
                    -34.416542,
                    46.157257,
                    25.94597,
                    37.52956,
                    61.618946,
                    24.423403,
                    -32.845924,
                    31.771736,
                    55.75055,
                    68.43264,
                    8.899584,
                    -6.8342133,
                    45.9575,
                    -22.272396,
                    68.419,
                    3.2452462,
                    59.144894,
                    29.898205,
                    -9.342127,
                    -2.919425,
                    45.389297,
                    -23.89253,
                    7.0404673,
                    -26.568426,
                    -28.279022,
                    26.016218,
                    20.150646,
                    30.459473,
                    -12.0395,
                    -45.232742,
                    -12.464486,
                    -4.5495024,
                    -16.29579,
                    50.929325,
                    -27.213934,
                    -35.741386,
                    13.581942,
                    8.184898,
                    12.065189,
                    15.887734,
                    7.671868,
                    3.091003,
                    49.550186,
                    8.490769,
                    -8.263515,
                    -40.17255,
                    5.390307,
                    3.53557,
                    -7.126238,
                    -15.542077,
                    12.999244,
                    -5.3855624,
                    55.35202,
                    53.273724,
                    10.149791,
                    54.12053,
                    -51.680485,
                    6.209798,
                    -18.342632,
                    48.20056,
                    26.955166,
                    -10.337047,
                    -2.4353793,
                    -20.832756,
                    -14.62029,
                    -25.79801,
                    51.53239,
                    -1.5962881,
                    9.256162,
                    0.80176973,
                    -3.437163,
                    -11.951787,
                    5.818443,
                    1.0403597,
                    30.852165,
                    17.825346,
                    -26.277164,
                    56.71879,
                    -18.90995,
                    -26.044853,
                    45.731453,
                    -22.976614,
                    9.807055,
                    15.090624,
                    4.032873,
                    -10.8691435,
                    9.520573,
                    17.777903,
                    13.522849,
                    -16.820333,
                    58.429615,
                    23.863613,
                    10.319496,
                    -21.803375,
                    -27.986393,
                    -18.952978,
                    9.123473,
                    19.315046,
                    -31.93917,
                    -29.654016,
                    14.572256,
                    -11.276068,
                    19.49057,
                    57.247166,
                    -26.009268,
                    46.025105,
                    50.898117,
                    54.51199,
                    10.283472,
                    53.058456,
                    -27.028437,
                    4.672325,
                    13.552199,
                    -31.123549,
                    -10.2623825,
                    -32.001884,
                    -11.046981,
                    28.583216,
                    -3.6966908,
                    46.545143,
                    46.116993,
                    -14.440327,
                    -23.841928,
                    30.763285,
                    43.206284,
                    16.829031,
                    -26.292162,
                    8.87726,
                    12.72106,
                    -40.761086,
                    -40.739136,
                    57.616913,
                    53.2093,
                    -7.488679,
                    -8.817256,
                    -17.077797,
                    45.49456,
                    -9.602586,
                    25.577847,
                    46.22203,
                    19.421932,
                    -17.27141,
                    21.683615,
                    0.4439549,
                    -27.409206,
                    -38.46036,
                    -18.253254,
                    -30.202925,
                    15.804455,
                    -35.07505,
                    55.52308,
                    1.7090459,
                    17.287134,
                    -0.16347264,
                    11.424246,
                    26.468594,
                    10.155616,
                    -6.488226,
                    29.717659,
                    9.854115,
                    -38.118774,
                    6.5285835,
                    -29.242287,
                    13.594175,
                    18.107536,
                    40.936646,
                    -31.042618,
                    -29.678215,
                    -31.046816,
                    -10.197104,
                    2.2316473,
                    -4.1159716,
                    -23.835829,
                    10.665184,
                    -26.523527,
                    -31.963846,
                    -51.062824,
                    11.756755,
                    3.6847773,
                    -35.043606,
                    -33.720448,
                    14.0574875,
                    58.699303,
                    -6.4068866,
                    -2.865285,
                    -27.59586,
                    -27.372374,
                    -31.073372,
                    -29.03046,
                    -24.341639,
                    39.187126,
                    17.74709,
                    -3.017091,
                    -8.095349,
                    -1.1768922,
                    -0.5363087,
                    3.1732166,
                    -0.84708446,
                    -17.951578,
                    13.298061,
                    -11.751555,
                    59.201904,
                    -21.06401,
                    -21.06401,
                    -34.001667,
                    -16.178867,
                    -13.129306,
                    11.856633,
                    8.10325,
                    61.455654,
                    -0.7449805,
                    -25.559683,
                    -43.359577,
                    -48.628525,
                    -11.103408,
                    56.463856,
                    7.2492743,
                    6.469066,
                    12.669414,
                    13.625454,
                    34.64982,
                    -16.724632,
                    -34.14705,
                    -34.147022,
                    34.64982,
                    8.09924,
                    -16.903328,
                    -28.052166,
                    10.295323,
                    37.461082,
                    5.260526,
                    -11.142698,
                    -7.0002584,
                    20.170275,
                    -11.521866,
                    7.852315,
                    7.6841135,
                    -7.8089023,
                    15.555786,
                    44.515396,
                    -38.440086,
                    -7.135162,
                    -7.1380763,
                    56.534863,
                    -14.284686,
                    9.335397,
                    -22.461758,
                    -27.629177,
                    41.182392,
                    -22.831167,
                    -10.127773,
                    -13.405444,
                    47.07768,
                    12.993253,
                    6.1733704,
                    -12.626244,
                    -7.9069767,
                    15.74883,
                    -7.54053,
                    -33.59132,
                    0.60202706,
                    -10.544271,
                    -22.115297,
                    -13.026586,
                    -15.122604,
                    -2.5349605,
                    -15.318434,
                    -19.462975,
                    -9.016356,
                    18.17418,
                    -14.476603,
                    26.368778,
                    5.536818,
                    -19.893745,
                    -3.244991,
                    -15.83043,
                    -7.3059053,
                    -3.4031525,
                    -19.385353,
                    31.036013,
                    43.28714,
                    -21.82186,
                    -11.002223,
                    13.151898,
                    37.996216,
                    -30.053598,
                    2.436312,
                    2.713149,
                    -4.113171,
                    -4.6348987,
                    -30.312237,
                    16.716835,
                    61.20192,
                    48.67335,
                    10.944472,
                    4.7136884,
                    14.323682,
                    -2.44159,
                    32.546734,
                    11.8995495,
                    12.19235,
                    -18.905891,
                    -47.54346,
                    -20.976656,
                    18.044523,
                    -14.92988,
                    -18.408255,
                    9.508521,
                    -33.65037,
                    -32.235554,
                    -21.757063,
                    1.7461044,
                    46.090107,
                    -3.4019055,
                    19.29541,
                    -9.885533,
                    -13.003896,
                    56.463856,
                    -24.893707,
                    -8.204598,
                    31.864548,
                    13.63684,
                    -18.198845,
                    -26.592997,
                    20.666513,
                    -14.962937,
                    -20.214682,
                    -21.941988,
                    27.635702,
                    -6.43465,
                    -13.86075,
                    -0.75104445,
                    4.9664855,
                    -13.4127245,
                    27.836819,
                    15.742074,
                    13.5096445,
                    -8.144893,
                    59.340595,
                    50.593365,
                    50.593365,
                    -12.806062,
                    9.273909,
                    42.046803,
                    38.666687,
                    50.593365,
                    -13.402097,
                    34.01918,
                    -13.826864,
                    -14.710872,
                    -19.843897,
                    47.133923,
                    3.0163178,
                    8.256691,
                    0.5652889,
                    -13.551631,
                    -13.10737,
                    5.379446,
                    28.463078,
                    -14.487569,
                    -1.2985843,
                    -23.499207,
                    58.8417,
                    41.90201,
                    11.749619,
                    -17.814598,
                    3.2657082,
                    -14.649166,
                    15.103655,
                    15.322631,
                    9.430697,
                    -30.77074,
                    -0.595653,
                    14.162784,
                    55.19792,
                    6.5237427,
                    4.027234,
                    -27.118523,
                    -27.103554,
                    60.670296,
                    6.1708183,
                    -12.364102,
                    -22.621157,
                    -27.711168,
                    2.4652631,
                    0.29947695,
                    8.068876,
                    13.243549,
                    12.853266,
                    9.327084,
                    -21.65608,
                    7.9302263,
                    12.820556,
                    7.2839007,
                    21.67936,
                    0.0151321255,
                    52.552338,
                    9.327084,
                    -12.4287615,
                    12.3211,
                    2.7003143,
                    -2.8714657,
                    15.779429,
                    14.782094,
                    16.61843,
                    54.792797,
                    20.44492,
                    -0.029038541,
                    16.595863,
                    16.619383,
                    -0.5034297,
                    14.133353,
                    0.009144463,
                    55.19798,
                    30.636208,
                    -2.275689,
                    41.66375,
                    2.227381,
                    7.286529,
                    19.452492,
                    -33.133743,
                    -6.310678,
                    -11.419007,
                    -30.25714,
                    -32.322193,
                    -7.2235394,
                    -35.799988,
                    -8.921535,
                    50.854145,
                    -33.42785,
                    27.812994,
                    -5.576848,
                    -3.6866345,
                    -6.529393,
                    -5.126583,
                    -2.7719598,
                    -4.5780597,
                    15.2613945,
                    1.2499775,
                    -10.282451,
                    -6.47159,
                    -6.148692,
                    -12.233379,
                    -7.5480766,
                    -34.400036,
                    6.8149977,
                    -6.952109,
                    -3.0085032,
                    -30.90092,
                    -8.19348,
                    -23.530489,
                    -35.045727,
                    -7.724875,
                    -29.647106,
                    12.464761,
                    31.464924,
                    64.12096,
                    10.913586,
                    55.13504,
                    -39.883522,
                    -5.6435566,
                    -28.886114,
                    58.11481,
                    -32.582844,
                    29.87762,
                    -19.061104,
                    -27.404022,
                    55.28002,
                    55.77711,
                    -21.22682,
                    44.915016,
                    47.44349,
                    -39.55637,
                    -28.351004,
                    -24.228142,
                    -32.730614,
                    -6.559728,
                    3.518017,
                    -17.409357,
                    -1.7827262,
                    -9.239285,
                    -27.38341,
                    -8.623488,
                    67.96725,
                    -27.824333,
                    67.90654,
                    -19.152187,
                    -22.430643,
                    19.112131,
                    1.463069,
                    -38.045578,
                    -24.875217,
                    -38.121548,
                    13.36637,
                    1.175355,
                    20.150629,
                    -18.031145,
                    -22.964504,
                    -3.757032,
                    -0.99400574,
                    -14.232684,
                    -14.847486,
                    54.406807,
                    -2.3225753,
                    25.117956,
                    13.040969,
                    47.60947,
                    -19.307884,
                    -21.774775,
                    -19.346615,
                    -19.210302,
                    28.890432,
                    11.570714,
                    -22.82875,
                    -11.910868,
                    -12.555186,
                    -3.7418425,
                    61.37871,
                    46.594997,
                    41.128376,
                    -8.893688,
                    -2.12496,
                    -28.003653,
                    -33.944855,
                    -26.851519,
                    6.61556,
                    -12.822591,
                    -0.9907394,
                    -12.046648,
                    -39.45307,
                    -24.049395,
                    -38.7113,
                    -38.954556,
                    7.553919,
                    -12.98926,
                    -16.069284,
                    -30.795721,
                    42.506863,
                    -14.704095,
                    31.071373,
                    -15.736752,
                    -0.680063,
                    -14.087292,
                    -18.741018,
                    -35.986477,
                    -35.836246,
                    -15.8675165,
                    -1.2009823,
                    -9.746028,
                    45.990044,
                    8.551367,
                    -19.874521,
                    -25.786718,
                    -11.5363655,
                    12.891293,
                    -3.9332159,
                    -5.8759155,
                    14.567345,
                    -19.634583,
                    10.221328,
                    10.90968,
                    -13.12919,
                    -3.9577043,
                    2.9735272,
                    -22.329105,
                    -44.377865,
                    -22.0838,
                    42.331604,
                    2.7708848,
                    5.20837,
                    10.277899,
                    43.738632,
                    -30.529991,
                    -33.133446,
                    20.854515,
                    -2.965372,
                    29.388287,
                    -14.0694475,
                    -3.647261,
                    -37.459934,
                    5.1449275,
                    -1.5405277,
                    -8.000549,
                    -36.00007,
                    3.4776013,
                    -12.962345,
                    -16.724632,
                    19.813643,
                    -11.013468,
                    -6.622902,
                    -31.12769,
                    -10.095025,
                    50.102577,
                    -0.17933957,
                    29.838655,
                    15.801737,
                    -33.620075,
                    -17.466736,
                    8.483654,
                    -0.56112766,
                    -29.855131,
                    -11.708012,
                    -40.918835,
                    -23.72493,
                    -2.8691692,
                    -22.901175,
                    -49.036114,
                    -29.085016,
                    -12.760769,
                    -20.914543,
                    -12.095219,
                    13.6707325,
                    41.277115,
                    -12.218073,
                    3.549769,
                    50.19408,
                    43.285877,
                    -2.3247683,
                    0.7252793,
                    12.459688,
                    10.765745,
                    -2.3137066,
                    -14.737339,
                    -0.50513095,
                    -6.269974,
                    -29.65821,
                    17.705923,
                    18.86816,
                    13.850736,
                    18.75208,
                    11.839348,
                    11.124738,
                    47.18098,
                    17.144796,
                    20.934095,
                    -20.008362,
                    19.138275,
                    -20.92154,
                    -10.1646,
                    -32.079533,
                    52.13061,
                    59.53048,
                    -21.758959,
                    -36.359398,
                    -43.533737,
                    -44.568714,
                    -32.545086,
                    -8.541,
                    19.906422,
                    28.449333,
                    22.366787,
                    5.203757,
                    -9.783543,
                    -31.11491,
                    -2.5409915,
                    -31.02907,
                    -9.387165,
                    -15.979803,
                    9.074352,
                    2.7340832,
                    -32.020447,
                    18.230856,
                    -44.284367,
                    -35.320805,
                    -23.431013,
                    -41.45847,
                    56.580452,
                    -9.636105,
                    4.8451757,
                    17.047441,
                    2.9790847,
                    17.590925,
                    19.112131,
                    47.029346,
                    7.446817,
                    -12.317059,
                    -23.17476,
                    -19.490007,
                    24.020472,
                    -20.604721,
                    36.27511,
                    -8.452711,
                    14.579068,
                    15.371926,
                    7.5757437,
                    5.8993006,
                    19.908335,
                    16.972183,
                    -27.775034,
                    -29.536736,
                    -25.426685,
                    -22.063364,
                    26.517155,
                    17.505102,
                    51.490086,
                    -4.056748,
                    4.6934514,
                    3.8776155,
                    -9.319737,
                    -33.5451,
                    -12.434412,
                    13.259221,
                    -14.788563,
                    17.05288,
                    2.8316944,
                    -18.720568,
                    9.680526,
                    4.4456725,
                    -29.48328,
                    2.0387335,
                    6.575951,
                    59.910187,
                    63.494015,
                    -11.060967,
                    53.211056,
                    11.785242,
                    2.7373915,
                    7.944653,
                    25.689302,
                    14.521715,
                    24.081526,
                    -8.515561,
                    -27.133963,
                    24.13567,
                    24.13567,
                    42.26208,
                    -18.632751,
                    0.28999114,
                    -6.299513,
                    -18.131124,
                    -17.077797,
                    -21.510618,
                    -17.543036,
                    -17.43588,
                    -20.440985,
                    -12.421705,
                    -32.808464,
                    55.281677,
                    -22.868889,
                    46.132984,
                    -48.566032,
                    -3.4315872,
                    53.090107,
                    -48.628643,
                    -38.37385,
                    -10.649004,
                    -47.81626,
                    -19.756842,
                    15.51031,
                    -37.802364,
                    -45.24354,
                    -24.964672,
                    -42.5247,
                    -33.731537,
                    -41.55301,
                    46.417126,
                    -24.180695,
                    -17.984125,
                    14.368358,
                    -29.241842,
                    -42.80749,
                    48.54116,
                    -24.988375,
                    -43.226753,
                    -30.648857,
                    47.855705,
                    -32.929142,
                    23.609322,
                    -16.169024,
                    -24.272436,
                    31.7101,
                    50.81968,
                    -46.2072,
                    17.74709,
                    -4.3113,
                    -23.32623,
                    -25.929874,
                    3.104681,
                    4.630815,
                    49.512314,
                    -13.376866,
                    -31.27339,
                    -10.140491,
                    -5.7238197,
                    -28.528494,
                    26.341717,
                    -33.371883,
                    25.748209,
                    -34.686428,
                    20.884205,
                    44.645992,
                    41.072342,
                    -14.248824,
                    19.189255,
                    39.148438,
                    -12.397466,
                    63.500122,
                    -25.009138,
                    5.190198,
                    37.597237,
                    -8.574313,
                    8.146981,
                    4.2790813,
                    21.347546,
                    -4.6436133,
                    -10.292203,
                    21.436993,
                    -27.198174,
                    19.114061,
                    5.333892,
                    -7.5187106,
                    41.27706,
                    -1.5590239,
                    47.614735,
                    47.266045,
                    47.266045,
                    8.186684,
                    2.5274737,
                    54.19581,
                    -26.956255,
                    22.368425,
                    6.767926,
                    7.492249,
                    -7.4513006,
                    57.283577,
                    -17.53044,
                    -15.973064,
                    -6.5389066,
                    -10.95581,
                    3.2307527,
                    -26.310347,
                    14.7683935,
                    -8.448674,
                    15.227278,
                    -32.656136,
                    -33.860367,
                    -22.39945,
                    -29.275946,
                    -30.386534,
                    -31.87856,
                    -34.20901,
                    0.13059422,
                    -26.534771,
                    10.939767,
                    -26.118797,
                    21.793043,
                    -26.136703,
                    -7.7938967,
                    31.923101,
                    -28.761532,
                    21.27134,
                    17.861078,
                    -14.626791,
                    61.48804,
                    -28.204414,
                    -7.658911,
                    48.068584,
                    13.673164,
                    49.269707,
                    42.670826,
                    -37.17031,
                    9.176329,
                    7.9979434,
                    17.561771,
                    15.601235,
                    10.9352255,
                    20.409859,
                    39.254837,
                    51.397076,
                    10.205847,
                    13.992446,
                    8.758897,
                    -24.539822,
                    9.089452,
                    -42.870502,
                    -43.355236,
                    9.082438,
                    -31.90924,
                    -4.8540864,
                    5.2567215,
                    -8.930605,
                    18.961693,
                    -2.063748,
                    17.091642,
                    -22.155985,
                    25.454313,
                    31.80918,
                    9.180001,
                    -3.0887103,
                    47.204998,
                    23.354948,
                    52.649685,
                    -10.046881,
                    7.6049232,
                    47.435684,
                    51.26185,
                    51.19243,
                    17.894867,
                    21.72286,
                    49.858086,
                    24.16529,
                    42.01765,
                    -38.00008,
                    -8.27099,
                    -19.917557,
                    -28.82146,
                    -37.147587,
                    12.411398,
                    -8.427572,
                    12.640532,
                    11.5753145,
                    2.5964038,
                    18.213554,
                    -47.3071,
                    10.536949,
                    -13.922241,
                    -7.5289006,
                    -20.459332,
                    -29.783998,
                    -36.76902,
                    -0.697097,
                    -43.339207,
                    39.244812,
                    -17.980694,
                    19.639017,
                    21.70572,
                    -47.654205,
                    -18.278309,
                    -23.500843,
                    15.056318,
                    -3.0389938,
                    -17.567194,
                    11.874195,
                    9.477118,
                    -13.315291,
                    11.8742,
                    -7.149396,
                    -15.77271,
                    -31.240355,
                    -18.67087,
                    2.313237,
                    -21.694574,
                    3.8456364,
                    -23.624424,
                    -1.0553048,
                    16.129707,
                    49.69776,
                    43.726597,
                    10.033405,
                    -31.327147,
                    -37.104263,
                    -35.014996,
                    -28.433393,
                    22.439505,
                    -1.4045916,
                    40.189453,
                    -30.234291,
                    -13.219732,
                    -7.4959865,
                    16.343914,
                    0.7007863,
                    -13.892506,
                    -12.024297,
                    -16.072912,
                    32.91401,
                    -1.2610519,
                    -14.5011015,
                    -9.110686,
                    -15.998507,
                    -0.17504275,
                    5.871452,
                    31.705761,
                    0.7991467,
                    28.583216,
                    27.191195,
                    14.671094,
                    31.746424,
                    -13.788509,
                    47.501682,
                    -31.643522,
                    12.092526,
                    -3.636057,
                    -3.6924348,
                    16.537115,
                    50.516006,
                    -15.991626,
                    -9.631288,
                    40.60438,
                    -30.992262,
                    -21.235672,
                    29.032856,
                    24.10908,
                    7.645396,
                    -31.331717,
                    24.18012,
                    -41.025265,
                    54.66326,
                    9.026865,
                    -25.892937,
                    54.019653,
                    -9.799435,
                    17.590631,
                    13.193932,
                    -28.970078,
                    14.017933,
                    11.535264,
                    -11.052507,
                    -30.516241,
                    -47.46827,
                    -8.654538,
                    -6.284793,
                    4.267356,
                    -23.030106,
                    -24.923931,
                    46.103252,
                    51.924114,
                    -29.193638,
                    -30.98282,
                    37.850094,
                    -1.7361269,
                    -33.302563,
                    -21.300684,
                    -37.191868,
                    -20.566612,
                    -42.44334,
                    -26.22789,
                    7.5563045,
                    48.153347,
                    -2.451835,
                    1.6557033,
                    -25.475721,
                    -42.81942,
                    -6.8438025,
                    -7.9111233,
                    -3.2241035,
                    46.566402,
                    -4.4200854,
                    -3.9145935,
                    41.123013,
                    -41.86769,
                    -2.183511,
                    -27.352676,
                    -19.470642,
                    -8.906624,
                    7.221893,
                    3.7476144,
                    -18.606647,
                    28.109753,
                    57.589973,
                    -2.4888437,
                    -6.6620073,
                    21.8781,
                    36.789097,
                    10.268842,
                    48.55081,
                    11.455498,
                    -28.322123,
                    57.58996,
                    -28.62947,
                    -31.926027,
                    54.83606,
                    -29.610003,
                    1.7505983,
                    52.945736,
                    -13.607788,
                    -14.897485,
                    -10.223124,
                    -14.1577425,
                    -11.499374,
                    55.366764,
                    6.9333196,
                    16.170088,
                    -13.363753,
                    44.11566,
                    55.487617,
                    -16.369768,
                    -45.98809,
                    -1.039632,
                    -13.410359,
                    -19.37828,
                    -22.315376,
                    -30.248451,
                    -11.468354,
                    -6.371697,
                    -18.598955,
                    -13.9420805,
                    -10.215287,
                    5.853877,
                    -30.38673,
                    -28.962536,
                    -1.2977676,
                    -2.7633755,
                    -8.376611,
                    53.657738,
                    -23.441828,
                    -21.130672,
                    21.33212,
                    -8.250499,
                    -12.185599,
                    -34.025913,
                    -34.24419,
                    28.175503,
                    9.966542,
                    14.984467,
                    28.651226,
                    9.319979,
                    13.019008,
                    7.949221,
                    -13.873153,
                    10.969952,
                    -1.8254571,
                    9.030257,
                    -14.552151,
                    16.64226,
                    -2.76098,
                    22.47423,
                    15.847396,
                    10.244603,
                    -3.1487756,
                    -45.560974,
                    1.4879758,
                    -15.9687395,
                    -30.468153,
                    48.115654,
                    -0.66834813,
                    31.220837,
                    56.00726,
                    13.324236,
                    19.414145,
                    4.380515,
                    13.784327,
                    46.082024,
                    27.764168,
                    8.894368,
                    20.698807,
                    43.222397,
                    29.615805,
                    38.44648,
                    64.51237,
                    14.613696,
                    6.303334,
                    -17.076082,
                    -13.047463,
                    25.858204,
                    6.8982496,
                    31.583454,
                    -10.208267,
                    -28.309956,
                    -27.662853,
                    1.0405874,
                    18.352364,
                    9.332805,
                    8.099267,
                    27.461018,
                    10.137789,
                    13.629928,
                    5.89924,
                    -41.599052,
                    -16.797626,
                    18.261568,
                    -30.105536,
                    55.340847,
                    52.253925,
                    14.087339,
                    14.841947,
                    13.5566225,
                    14.078113,
                    16.539785,
                    -45.243675,
                    -14.234239,
                    -1.15341,
                    -6.56275,
                    8.76679,
                    25.742552,
                    -18.575712,
                    -29.300472,
                    -12.141488,
                    -15.262152,
                    -26.497707,
                    -24.893976,
                    -12.056705,
                    -27.494848,
                    -22.216795,
                    5.835113,
                    -32.202324,
                    -3.3556817,
                    -20.748657,
                    -24.397594,
                    -49.770992,
                    -26.820572,
                    -27.792736,
                    -11.795122,
                    -39.084267,
                    -22.889618,
                    -23.130999,
                    8.156935,
                    63.99194,
                    -17.28715,
                    1.3921473,
                    -33.203526,
                    -29.917925,
                    1.2598313,
                    27.36868,
                    -17.886986,
                    29.575691,
                    47.81228,
                    -31.17972,
                    -16.671326,
                    -11.019136,
                    -15.5262785,
                    -37.595585,
                    -24.323929,
                    -24.289145,
                    -38.23756,
                    -23.088352,
                    -27.919176,
                    -0.19588326,
                    51.938892,
                    -12.262904,
                    -43.042664,
                    -6.6688848,
                    -7.699788,
                    -31.327063,
                    33.78302,
                    -15.851407,
                    -27.574951,
                    50.7569,
                    -32.80188,
                    -30.145792,
                    44.117138,
                    14.313948,
                    53.421597,
                    -9.612309,
                    57.80814,
                    4.529608,
                    53.099937,
                    -38.118477,
                    -38.085033,
                    -29.500347,
                    -12.165519,
                    -8.817256,
                    -0.44048172,
                    6.06331,
                    -16.095154,
                    -6.371697,
                    5.2126555,
                    51.384342,
                    6.063683,
                    -13.955809,
                    -16.659098,
                    -44.419888,
                    41.62276,
                    -43.60701,
                    -5.6291475,
                    -32.948875,
                    -33.775837,
                    -39.046165,
                    -42.209812,
                    1.5412288,
                    35.403122,
                    11.535264,
                    -37.04357,
                    -23.98686,
                    -11.836497,
                    -17.70573,
                    -37.39125,
                    -29.429426,
                    -3.9805987,
                    -9.414064,
                    40.77634,
                    5.2952924,
                    5.071779,
                    51.317585,
                    30.95001,
                    46.995487,
                    7.362296,
                    13.388386,
                    22.144949,
                    2.2044976,
                    45.86044,
                    48.116158,
                    49.10464,
                    2.6885145,
                    2.688473,
                    -7.609501,
                    6.407283,
                    53.372204,
                    1.2213632,
                    -12.93615,
                    47.29156,
                    -0.8494959,
                    10.421131,
                    36.549606,
                    -47.60736,
                    -0.7844005,
                    47.05843,
                    -31.945797,
                    6.285058,
                    8.076334,
                    -21.24228,
                    -38.997173,
                    -37.528004,
                    -47.84673,
                    -49.29675,
                    -39.09424,
                    -35.549084,
                    -38.925552,
                    -37.556816,
                    -32.706844,
                    -15.866293,
                    -42.903545,
                    18.327795,
                    -27.563744,
                    52.363007,
                    -26.945606,
                    14.14798,
                    -28.114285,
                    -17.04319,
                    -26.23237,
                    6.183275,
                    -18.609364,
                    -22.072838,
                    50.81291,
                    -17.349756,
                    -18.34881,
                    6.3905344,
                    -8.064119,
                    1.0847863,
                    0.64632565,
                    -14.234239,
                    7.7116656,
                    -12.422918,
                    10.601218,
                    -25.89593,
                    3.6606555,
                    -18.738337,
                    -29.125874,
                    -23.10086,
                    14.013749,
                    -31.501867,
                    -11.946131,
                    -36.608437,
                    53.876137,
                    34.47076,
                    -0.94703615,
                    -32.03508,
                    10.937333,
                    -30.82262,
                    -34.212776,
                    48.829155,
                    49.222225,
                    -18.032772,
                    -23.84202,
                    5.2799664,
                    1.9355599,
                    -34.800156,
                    10.984858,
                    17.196749,
                    -11.440713,
                    46.61647,
                    49.220547,
                    4.7809305,
                    -12.083524,
                    14.51926,
                    23.02807,
                    -43.495094,
                    -12.0415,
                    -4.809085,
                    -4.362615,
                    -8.063531,
                    14.089557,
                    2.854362,
                    -39.316776,
                    -26.884018,
                    -2.2975805,
                    67.158676,
                    59.064663,
                    11.671921,
                    -40.02834,
                    11.208192,
                    -16.805803,
                    0.66380984,
                    29.38181,
                    -10.448054,
                    -3.736353,
                    5.360284,
                    17.370749,
                    12.07117,
                    3.3359952,
                    10.899147,
                    22.870535,
                    34.868465,
                    -39.669685,
                    48.115654,
                    -17.21054,
                    0.9125285,
                    21.854485,
                    -2.0936234,
                    16.180796,
                    47.73758,
                    -29.968462,
                    -37.575985,
                    -0.6798692,
                    -17.877985,
                    -40.02871,
                    -29.66192,
                    -3.2027454,
                    -33.918888,
                    -34.390984,
                    -39.85551,
                    -27.306028,
                    56.463856,
                    4.962562,
                    -21.191399,
                    -25.423248,
                    61.94996,
                    -6.150434,
                    -32.95064,
                    22.855602,
                    10.736532,
                    23.11079,
                    -4.400586,
                    6.039424,
                    -21.963604,
                    -14.173249,
                    -46.8856,
                    -29.029263,
                    -43.534298,
                    -31.017092,
                    -16.652843,
                    60.900578,
                    -7.0907273,
                    52.01947,
                    -3.386157,
                    45.296032,
                    -5.7473955,
                    -1.4285553,
                    -38.986706,
                    -8.843936,
                    -24.494324,
                    17.552805,
                    3.2007687,
                    -30.957407,
                    -33.512615,
                    56.452858,
                    1.1664972,
                    23.738834,
                    -13.268699,
                    11.3633585,
                    8.520362,
                    38.428238,
                    -15.091216,
                    12.29653,
                    53.092884,
                    -29.17613,
                    -6.851553,
                    -22.542507,
                    48.273766,
                    42.6216,
                    -2.6373525,
                    42.6216,
                    -13.368766,
                    -21.280748,
                    -6.2895975,
                    -15.572077,
                    -6.076674,
                    28.691185,
                    17.650846,
                    21.900105,
                    37.996216,
                    63.950775,
                    -5.0165195,
                    -19.785965,
                    46.865345,
                    -10.950283,
                    -23.578106,
                    5.4631014,
                    -11.853951,
                    49.57981,
                    -13.779459,
                    -13.748086,
                    -7.1173463,
                    57.063263,
                    -13.930704,
                    29.043598,
                    29.030636,
                    14.023156,
                    1.3368069,
                    -36.29777,
                    16.338438,
                    7.9935617,
                    -7.7584023,
                    -29.805275,
                    -0.19681008,
                    8.818955,
                    1.5663939,
                    -34.07998,
                    41.665157,
                    38.910507,
                    -20.36059,
                    44.51539,
                    -33.062935,
                    6.2273107,
                    11.675953,
                    4.8432875,
                    7.9632893,
                    -40.644123,
                    -22.381628,
                    -30.41338,
                    8.631761,
                    -1.7987077,
                    -13.262596,
                    24.35628,
                    24.647163,
                    -13.551818,
                    -39.820957,
                    18.151024,
                    33.251446,
                    45.61571,
                    -11.40485,
                    48.203957,
                    12.17727,
                    12.306861,
                    -5.0957823,
                    2.7859063,
                    45.61571,
                    -6.9653234,
                    -14.567022,
                    -3.7355068,
                    -0.65360355,
                    1.4157896,
                    38.28253,
                    18.091778,
                    21.604776,
                    47.64462,
                    -13.801499,
                    -5.0957823,
                    50.199806,
                    7.963225,
                    26.235018,
                    -4.9599147,
                    -10.796822,
                    -6.0265527,
                    9.494622,
                    8.308597,
                    -8.2810545,
                    -7.107434,
                    55.98037,
                    -26.397535,
                    -29.535526,
                    55.257362,
                    47.906654,
                    -1.666427,
                    3.6167283,
                    47.27711,
                    -11.508813,
                    7.747449,
                    -0.65519655,
                    -5.635419,
                    45.96122,
                    51.473892,
                    9.201307,
                    -29.008707,
                    -26.760998,
                    13.014536,
                    -21.312492,
                    -31.057484,
                    -41.86769,
                    14.278206,
                    -8.072833,
                    12.738144,
                    -9.388966,
                    -4.506022,
                    -8.655298,
                    -12.114223,
                    -37.216877,
                    -14.313184,
                    -14.087292,
                    -29.557173,
                    -46.979237,
                    -30.637741,
                    -30.001566,
                    -34.89889,
                    -3.2022386,
                    -28.753511,
                    -29.372541,
                    10.993164,
                    16.244469,
                    31.052944,
                    0.56620353,
                    48.66838,
                    26.283712,
                    24.439137,
                    16.036755,
                    7.951561,
                    -44.113228,
                    -14.32543,
                    -41.228893,
                    -2.7491944,
                    -29.478794,
                    21.302835,
                    -41.096203,
                    -21.421612,
                    -11.45364,
                    -34.64322,
                    9.690523,
                    0.25562292,
                    -26.199078,
                    -25.804138,
                    -23.754534,
                    -41.8043,
                    -25.925749,
                    4.7136884,
                    -13.136208,
                    -6.9385624,
                    16.525908,
                    29.977303,
                    -49.809204,
                    -24.546293,
                    55.55417,
                    29.48123,
                    -26.7064,
                    13.870652,
                    -21.611485,
                    -11.336774,
                    51.649372,
                    -35.468437,
                    -33.383354,
                    -22.262165,
                    -0.20245951,
                    -30.091013,
                    -26.90702,
                    0.7415176,
                    -37.272896,
                    -48.362255,
                    -34.086807,
                    39.77455,
                    28.500687,
                    9.442619,
                    -38.409332,
                    -22.938086,
                    -26.454494,
                    -8.423065,
                    3.0671344,
                    -22.55233,
                    -36.800457,
                    -21.262608,
                    -18.625477,
                    -26.729977,
                    -24.567097,
                    50.53924,
                    18.144264,
                    9.135476,
                    -35.2316,
                    -44.313812,
                    48.193676,
                    14.512157,
                    -35.16782,
                    -40.159508,
                    -2.30396,
                    -20.281853,
                    -6.089921,
                    -1.6270945,
                    -33.743637,
                    -4.3113,
                    -37.250168,
                    30.660976,
                    -43.161247,
                    -50.14419,
                    49.672165,
                    42.525883,
                    7.0254016,
                    49.093826,
                    31.7101,
                    -11.487936,
                    -18.50039,
                    36.324913,
                    46.91525,
                    -16.3215,
                    17.465815,
                    40.72701,
                    -28.558979,
                    9.979179,
                    55.826157,
                    23.556038,
                    20.150646,
                    -10.466071,
                    -27.12491,
                    -11.141381,
                    -12.378984,
                    -0.89896935,
                    -16.406605,
                    -14.910177,
                    58.90501,
                    42.06789,
                    14.6746025,
                    24.830532,
                    65.784805,
                    13.490121,
                    -15.025642,
                    52.739525,
                    -24.906841,
                    -11.341473,
                    47.76265,
                    64.00527,
                    -17.408161,
                    4.4770513,
                    5.157698,
                    8.116396,
                    -37.984425,
                    18.531155,
                    31.769733,
                    -9.827087,
                    16.305464,
                    14.1570215,
                    0.98347783,
                    8.351941,
                    28.63813,
                    -50.91911,
                    -11.137411,
                    -40.976562,
                    -21.330196,
                    -2.6463723,
                    -31.537054,
                    24.10908,
                    43.175144,
                    41.238075,
                    -11.955877,
                    -23.698147,
                    21.223898,
                    -10.479654,
                    -37.216877,
                    -19.777046,
                    58.61774,
                    -43.248837,
                    -48.222054,
                    -10.64873,
                    20.677471,
                    7.0271983,
                    -9.703605,
                    -18.495565,
                    -20.680939,
                    -12.947541,
                    55.366535,
                    -5.7904677,
                    -33.325417,
                    21.179333,
                    -29.411417,
                    6.886117,
                    14.558264,
                    -32.201157,
                    -27.645756,
                    -38.977028,
                    -41.452324,
                    -13.537393,
                    -20.53143,
                    25.745697,
                    17.770565,
                    -23.324686,
                    -1.1669452,
                    10.193357,
                    42.118244,
                    58.618134,
                    58.617718,
                    24.35628,
                    39.25494,
                    17.093246,
                    -43.904972,
                    -25.670395,
                    -11.127736,
                    -12.926607,
                    -30.73916,
                    -18.869635,
                    8.930934,
                    -20.880474,
                    -21.849613,
                    -29.236395,
                    -3.021891,
                    -31.199272,
                    -24.692013,
                    53.714962,
                    -22.069376,
                    -35.588802,
                    -21.269459,
                    -30.514166,
                    -30.651144,
                    0.87008715,
                    45.251637,
                    -13.711392,
                    2.3664947,
                    -10.07395,
                    -20.647154,
                    -16.353205,
                    -17.40038,
                    -29.343164,
                    5.711407,
                    11.913913,
                    -9.242177,
                    15.302287,
                    0.97319204,
                    -28.09917,
                    -34.30214,
                    -10.760871,
                    43.236282,
                    52.17014,
                    -50.588524,
                    -28.260263,
                    23.263811,
                    -32.66012,
                    -11.678807,
                    -36.33156,
                    22.603735,
                    63.387794,
                    27.95702,
                    0.7027932,
                    1.2284261,
                    1.8705385,
                    44.0301,
                    19.693827,
                    -27.85149,
                    57.98122,
                    -27.745779,
                    -11.774662,
                    48.757854,
                    -4.3399277,
                    -34.787846,
                    -4.3113,
                    -34.223648,
                    16.034761,
                    5.396538,
                    26.60632,
                    3.3292985,
                    -21.699997,
                    19.731976,
                    -6.4418716,
                    -19.58125,
                    1.5874782,
                    -0.19729944,
                    1.4548196,
                    11.94678,
                    -2.3242557,
                    -2.4660966,
                    7.9579883,
                    -31.27599,
                    12.352352,
                    -16.463943,
                    -36.877888,
                    25.44076,
                    -32.580208,
                    -10.558852,
                    36.645054,
                    -29.961422,
                    16.820812,
                    31.80918,
                    -18.871346,
                    1.4886386,
                    -37.809822,
                    -14.466977,
                    56.32074,
                    3.556865,
                    -7.085542,
                    59.654945,
                    4.85029,
                    58.9962,
                    -44.223976,
                    -28.550995,
                    -34.797256
                  ],
                  "yaxis": "y"
                }
              ],
              "layout": {
                "coloraxis": {
                  "colorbar": {
                    "title": {
                      "text": "cluster"
                    }
                  },
                  "colorscale": [
                    [
                      0,
                      "#0d0887"
                    ],
                    [
                      0.1111111111111111,
                      "#46039f"
                    ],
                    [
                      0.2222222222222222,
                      "#7201a8"
                    ],
                    [
                      0.3333333333333333,
                      "#9c179e"
                    ],
                    [
                      0.4444444444444444,
                      "#bd3786"
                    ],
                    [
                      0.5555555555555556,
                      "#d8576b"
                    ],
                    [
                      0.6666666666666666,
                      "#ed7953"
                    ],
                    [
                      0.7777777777777778,
                      "#fb9f3a"
                    ],
                    [
                      0.8888888888888888,
                      "#fdca26"
                    ],
                    [
                      1,
                      "#f0f921"
                    ]
                  ]
                },
                "legend": {
                  "tracegroupgap": 0
                },
                "template": {
                  "data": {
                    "bar": [
                      {
                        "error_x": {
                          "color": "#2a3f5f"
                        },
                        "error_y": {
                          "color": "#2a3f5f"
                        },
                        "marker": {
                          "line": {
                            "color": "#E5ECF6",
                            "width": 0.5
                          },
                          "pattern": {
                            "fillmode": "overlay",
                            "size": 10,
                            "solidity": 0.2
                          }
                        },
                        "type": "bar"
                      }
                    ],
                    "barpolar": [
                      {
                        "marker": {
                          "line": {
                            "color": "#E5ECF6",
                            "width": 0.5
                          },
                          "pattern": {
                            "fillmode": "overlay",
                            "size": 10,
                            "solidity": 0.2
                          }
                        },
                        "type": "barpolar"
                      }
                    ],
                    "carpet": [
                      {
                        "aaxis": {
                          "endlinecolor": "#2a3f5f",
                          "gridcolor": "white",
                          "linecolor": "white",
                          "minorgridcolor": "white",
                          "startlinecolor": "#2a3f5f"
                        },
                        "baxis": {
                          "endlinecolor": "#2a3f5f",
                          "gridcolor": "white",
                          "linecolor": "white",
                          "minorgridcolor": "white",
                          "startlinecolor": "#2a3f5f"
                        },
                        "type": "carpet"
                      }
                    ],
                    "choropleth": [
                      {
                        "colorbar": {
                          "outlinewidth": 0,
                          "ticks": ""
                        },
                        "type": "choropleth"
                      }
                    ],
                    "contour": [
                      {
                        "colorbar": {
                          "outlinewidth": 0,
                          "ticks": ""
                        },
                        "colorscale": [
                          [
                            0,
                            "#0d0887"
                          ],
                          [
                            0.1111111111111111,
                            "#46039f"
                          ],
                          [
                            0.2222222222222222,
                            "#7201a8"
                          ],
                          [
                            0.3333333333333333,
                            "#9c179e"
                          ],
                          [
                            0.4444444444444444,
                            "#bd3786"
                          ],
                          [
                            0.5555555555555556,
                            "#d8576b"
                          ],
                          [
                            0.6666666666666666,
                            "#ed7953"
                          ],
                          [
                            0.7777777777777778,
                            "#fb9f3a"
                          ],
                          [
                            0.8888888888888888,
                            "#fdca26"
                          ],
                          [
                            1,
                            "#f0f921"
                          ]
                        ],
                        "type": "contour"
                      }
                    ],
                    "contourcarpet": [
                      {
                        "colorbar": {
                          "outlinewidth": 0,
                          "ticks": ""
                        },
                        "type": "contourcarpet"
                      }
                    ],
                    "heatmap": [
                      {
                        "colorbar": {
                          "outlinewidth": 0,
                          "ticks": ""
                        },
                        "colorscale": [
                          [
                            0,
                            "#0d0887"
                          ],
                          [
                            0.1111111111111111,
                            "#46039f"
                          ],
                          [
                            0.2222222222222222,
                            "#7201a8"
                          ],
                          [
                            0.3333333333333333,
                            "#9c179e"
                          ],
                          [
                            0.4444444444444444,
                            "#bd3786"
                          ],
                          [
                            0.5555555555555556,
                            "#d8576b"
                          ],
                          [
                            0.6666666666666666,
                            "#ed7953"
                          ],
                          [
                            0.7777777777777778,
                            "#fb9f3a"
                          ],
                          [
                            0.8888888888888888,
                            "#fdca26"
                          ],
                          [
                            1,
                            "#f0f921"
                          ]
                        ],
                        "type": "heatmap"
                      }
                    ],
                    "heatmapgl": [
                      {
                        "colorbar": {
                          "outlinewidth": 0,
                          "ticks": ""
                        },
                        "colorscale": [
                          [
                            0,
                            "#0d0887"
                          ],
                          [
                            0.1111111111111111,
                            "#46039f"
                          ],
                          [
                            0.2222222222222222,
                            "#7201a8"
                          ],
                          [
                            0.3333333333333333,
                            "#9c179e"
                          ],
                          [
                            0.4444444444444444,
                            "#bd3786"
                          ],
                          [
                            0.5555555555555556,
                            "#d8576b"
                          ],
                          [
                            0.6666666666666666,
                            "#ed7953"
                          ],
                          [
                            0.7777777777777778,
                            "#fb9f3a"
                          ],
                          [
                            0.8888888888888888,
                            "#fdca26"
                          ],
                          [
                            1,
                            "#f0f921"
                          ]
                        ],
                        "type": "heatmapgl"
                      }
                    ],
                    "histogram": [
                      {
                        "marker": {
                          "pattern": {
                            "fillmode": "overlay",
                            "size": 10,
                            "solidity": 0.2
                          }
                        },
                        "type": "histogram"
                      }
                    ],
                    "histogram2d": [
                      {
                        "colorbar": {
                          "outlinewidth": 0,
                          "ticks": ""
                        },
                        "colorscale": [
                          [
                            0,
                            "#0d0887"
                          ],
                          [
                            0.1111111111111111,
                            "#46039f"
                          ],
                          [
                            0.2222222222222222,
                            "#7201a8"
                          ],
                          [
                            0.3333333333333333,
                            "#9c179e"
                          ],
                          [
                            0.4444444444444444,
                            "#bd3786"
                          ],
                          [
                            0.5555555555555556,
                            "#d8576b"
                          ],
                          [
                            0.6666666666666666,
                            "#ed7953"
                          ],
                          [
                            0.7777777777777778,
                            "#fb9f3a"
                          ],
                          [
                            0.8888888888888888,
                            "#fdca26"
                          ],
                          [
                            1,
                            "#f0f921"
                          ]
                        ],
                        "type": "histogram2d"
                      }
                    ],
                    "histogram2dcontour": [
                      {
                        "colorbar": {
                          "outlinewidth": 0,
                          "ticks": ""
                        },
                        "colorscale": [
                          [
                            0,
                            "#0d0887"
                          ],
                          [
                            0.1111111111111111,
                            "#46039f"
                          ],
                          [
                            0.2222222222222222,
                            "#7201a8"
                          ],
                          [
                            0.3333333333333333,
                            "#9c179e"
                          ],
                          [
                            0.4444444444444444,
                            "#bd3786"
                          ],
                          [
                            0.5555555555555556,
                            "#d8576b"
                          ],
                          [
                            0.6666666666666666,
                            "#ed7953"
                          ],
                          [
                            0.7777777777777778,
                            "#fb9f3a"
                          ],
                          [
                            0.8888888888888888,
                            "#fdca26"
                          ],
                          [
                            1,
                            "#f0f921"
                          ]
                        ],
                        "type": "histogram2dcontour"
                      }
                    ],
                    "mesh3d": [
                      {
                        "colorbar": {
                          "outlinewidth": 0,
                          "ticks": ""
                        },
                        "type": "mesh3d"
                      }
                    ],
                    "parcoords": [
                      {
                        "line": {
                          "colorbar": {
                            "outlinewidth": 0,
                            "ticks": ""
                          }
                        },
                        "type": "parcoords"
                      }
                    ],
                    "pie": [
                      {
                        "automargin": true,
                        "type": "pie"
                      }
                    ],
                    "scatter": [
                      {
                        "fillpattern": {
                          "fillmode": "overlay",
                          "size": 10,
                          "solidity": 0.2
                        },
                        "type": "scatter"
                      }
                    ],
                    "scatter3d": [
                      {
                        "line": {
                          "colorbar": {
                            "outlinewidth": 0,
                            "ticks": ""
                          }
                        },
                        "marker": {
                          "colorbar": {
                            "outlinewidth": 0,
                            "ticks": ""
                          }
                        },
                        "type": "scatter3d"
                      }
                    ],
                    "scattercarpet": [
                      {
                        "marker": {
                          "colorbar": {
                            "outlinewidth": 0,
                            "ticks": ""
                          }
                        },
                        "type": "scattercarpet"
                      }
                    ],
                    "scattergeo": [
                      {
                        "marker": {
                          "colorbar": {
                            "outlinewidth": 0,
                            "ticks": ""
                          }
                        },
                        "type": "scattergeo"
                      }
                    ],
                    "scattergl": [
                      {
                        "marker": {
                          "colorbar": {
                            "outlinewidth": 0,
                            "ticks": ""
                          }
                        },
                        "type": "scattergl"
                      }
                    ],
                    "scattermapbox": [
                      {
                        "marker": {
                          "colorbar": {
                            "outlinewidth": 0,
                            "ticks": ""
                          }
                        },
                        "type": "scattermapbox"
                      }
                    ],
                    "scatterpolar": [
                      {
                        "marker": {
                          "colorbar": {
                            "outlinewidth": 0,
                            "ticks": ""
                          }
                        },
                        "type": "scatterpolar"
                      }
                    ],
                    "scatterpolargl": [
                      {
                        "marker": {
                          "colorbar": {
                            "outlinewidth": 0,
                            "ticks": ""
                          }
                        },
                        "type": "scatterpolargl"
                      }
                    ],
                    "scatterternary": [
                      {
                        "marker": {
                          "colorbar": {
                            "outlinewidth": 0,
                            "ticks": ""
                          }
                        },
                        "type": "scatterternary"
                      }
                    ],
                    "surface": [
                      {
                        "colorbar": {
                          "outlinewidth": 0,
                          "ticks": ""
                        },
                        "colorscale": [
                          [
                            0,
                            "#0d0887"
                          ],
                          [
                            0.1111111111111111,
                            "#46039f"
                          ],
                          [
                            0.2222222222222222,
                            "#7201a8"
                          ],
                          [
                            0.3333333333333333,
                            "#9c179e"
                          ],
                          [
                            0.4444444444444444,
                            "#bd3786"
                          ],
                          [
                            0.5555555555555556,
                            "#d8576b"
                          ],
                          [
                            0.6666666666666666,
                            "#ed7953"
                          ],
                          [
                            0.7777777777777778,
                            "#fb9f3a"
                          ],
                          [
                            0.8888888888888888,
                            "#fdca26"
                          ],
                          [
                            1,
                            "#f0f921"
                          ]
                        ],
                        "type": "surface"
                      }
                    ],
                    "table": [
                      {
                        "cells": {
                          "fill": {
                            "color": "#EBF0F8"
                          },
                          "line": {
                            "color": "white"
                          }
                        },
                        "header": {
                          "fill": {
                            "color": "#C8D4E3"
                          },
                          "line": {
                            "color": "white"
                          }
                        },
                        "type": "table"
                      }
                    ]
                  },
                  "layout": {
                    "annotationdefaults": {
                      "arrowcolor": "#2a3f5f",
                      "arrowhead": 0,
                      "arrowwidth": 1
                    },
                    "autotypenumbers": "strict",
                    "coloraxis": {
                      "colorbar": {
                        "outlinewidth": 0,
                        "ticks": ""
                      }
                    },
                    "colorscale": {
                      "diverging": [
                        [
                          0,
                          "#8e0152"
                        ],
                        [
                          0.1,
                          "#c51b7d"
                        ],
                        [
                          0.2,
                          "#de77ae"
                        ],
                        [
                          0.3,
                          "#f1b6da"
                        ],
                        [
                          0.4,
                          "#fde0ef"
                        ],
                        [
                          0.5,
                          "#f7f7f7"
                        ],
                        [
                          0.6,
                          "#e6f5d0"
                        ],
                        [
                          0.7,
                          "#b8e186"
                        ],
                        [
                          0.8,
                          "#7fbc41"
                        ],
                        [
                          0.9,
                          "#4d9221"
                        ],
                        [
                          1,
                          "#276419"
                        ]
                      ],
                      "sequential": [
                        [
                          0,
                          "#0d0887"
                        ],
                        [
                          0.1111111111111111,
                          "#46039f"
                        ],
                        [
                          0.2222222222222222,
                          "#7201a8"
                        ],
                        [
                          0.3333333333333333,
                          "#9c179e"
                        ],
                        [
                          0.4444444444444444,
                          "#bd3786"
                        ],
                        [
                          0.5555555555555556,
                          "#d8576b"
                        ],
                        [
                          0.6666666666666666,
                          "#ed7953"
                        ],
                        [
                          0.7777777777777778,
                          "#fb9f3a"
                        ],
                        [
                          0.8888888888888888,
                          "#fdca26"
                        ],
                        [
                          1,
                          "#f0f921"
                        ]
                      ],
                      "sequentialminus": [
                        [
                          0,
                          "#0d0887"
                        ],
                        [
                          0.1111111111111111,
                          "#46039f"
                        ],
                        [
                          0.2222222222222222,
                          "#7201a8"
                        ],
                        [
                          0.3333333333333333,
                          "#9c179e"
                        ],
                        [
                          0.4444444444444444,
                          "#bd3786"
                        ],
                        [
                          0.5555555555555556,
                          "#d8576b"
                        ],
                        [
                          0.6666666666666666,
                          "#ed7953"
                        ],
                        [
                          0.7777777777777778,
                          "#fb9f3a"
                        ],
                        [
                          0.8888888888888888,
                          "#fdca26"
                        ],
                        [
                          1,
                          "#f0f921"
                        ]
                      ]
                    },
                    "colorway": [
                      "#636efa",
                      "#EF553B",
                      "#00cc96",
                      "#ab63fa",
                      "#FFA15A",
                      "#19d3f3",
                      "#FF6692",
                      "#B6E880",
                      "#FF97FF",
                      "#FECB52"
                    ],
                    "font": {
                      "color": "#2a3f5f"
                    },
                    "geo": {
                      "bgcolor": "white",
                      "lakecolor": "white",
                      "landcolor": "#E5ECF6",
                      "showlakes": true,
                      "showland": true,
                      "subunitcolor": "white"
                    },
                    "hoverlabel": {
                      "align": "left"
                    },
                    "hovermode": "closest",
                    "mapbox": {
                      "style": "light"
                    },
                    "paper_bgcolor": "white",
                    "plot_bgcolor": "#E5ECF6",
                    "polar": {
                      "angularaxis": {
                        "gridcolor": "white",
                        "linecolor": "white",
                        "ticks": ""
                      },
                      "bgcolor": "#E5ECF6",
                      "radialaxis": {
                        "gridcolor": "white",
                        "linecolor": "white",
                        "ticks": ""
                      }
                    },
                    "scene": {
                      "xaxis": {
                        "backgroundcolor": "#E5ECF6",
                        "gridcolor": "white",
                        "gridwidth": 2,
                        "linecolor": "white",
                        "showbackground": true,
                        "ticks": "",
                        "zerolinecolor": "white"
                      },
                      "yaxis": {
                        "backgroundcolor": "#E5ECF6",
                        "gridcolor": "white",
                        "gridwidth": 2,
                        "linecolor": "white",
                        "showbackground": true,
                        "ticks": "",
                        "zerolinecolor": "white"
                      },
                      "zaxis": {
                        "backgroundcolor": "#E5ECF6",
                        "gridcolor": "white",
                        "gridwidth": 2,
                        "linecolor": "white",
                        "showbackground": true,
                        "ticks": "",
                        "zerolinecolor": "white"
                      }
                    },
                    "shapedefaults": {
                      "line": {
                        "color": "#2a3f5f"
                      }
                    },
                    "ternary": {
                      "aaxis": {
                        "gridcolor": "white",
                        "linecolor": "white",
                        "ticks": ""
                      },
                      "baxis": {
                        "gridcolor": "white",
                        "linecolor": "white",
                        "ticks": ""
                      },
                      "bgcolor": "#E5ECF6",
                      "caxis": {
                        "gridcolor": "white",
                        "linecolor": "white",
                        "ticks": ""
                      }
                    },
                    "title": {
                      "x": 0.05
                    },
                    "xaxis": {
                      "automargin": true,
                      "gridcolor": "white",
                      "linecolor": "white",
                      "ticks": "",
                      "title": {
                        "standoff": 15
                      },
                      "zerolinecolor": "white",
                      "zerolinewidth": 2
                    },
                    "yaxis": {
                      "automargin": true,
                      "gridcolor": "white",
                      "linecolor": "white",
                      "ticks": "",
                      "title": {
                        "standoff": 15
                      },
                      "zerolinecolor": "white",
                      "zerolinewidth": 2
                    }
                  }
                },
                "title": {
                  "text": "Clusters of genres"
                },
                "xaxis": {
                  "anchor": "y",
                  "domain": [
                    0,
                    1
                  ],
                  "title": {
                    "text": "x"
                  }
                },
                "yaxis": {
                  "anchor": "x",
                  "domain": [
                    0,
                    1
                  ],
                  "title": {
                    "text": "y"
                  }
                }
              }
            }
          },
          "metadata": {},
          "output_type": "display_data"
        }
      ],
      "source": [
        "from sklearn.manifold import TSNE\n",
        "\n",
        "tsne_pipeline = Pipeline([('scaler', StandardScaler()), ('tsne', TSNE(n_components=2, verbose=1))])\n",
        "genre_embedding = tsne_pipeline.fit_transform(X) # returns np-array of coordinates(x,y) for each record after TSNE.\n",
        "projection = pd.DataFrame(columns=['x', 'y'], data=genre_embedding)\n",
        "projection['genres'] = genre_data['genres']\n",
        "projection['cluster'] = genre_data['cluster']\n",
        "\n",
        "fig = px.scatter(\n",
        "    projection, x='x', y='y', color='cluster', hover_data=['x', 'y', 'genres'],title='Clusters of genres')\n",
        "fig.show()"
      ]
    },
    {
      "cell_type": "markdown",
      "metadata": {
        "id": "5w8pd3JmZfsk"
      },
      "source": [
        "# Clustring Songs With K-Means"
      ]
    },
    {
      "cell_type": "code",
      "execution_count": 16,
      "metadata": {
        "id": "7DaOHd9gYf1F"
      },
      "outputs": [],
      "source": [
        "song_cluster_pipeline = Pipeline([('scaler', StandardScaler()),\n",
        "                                  ('kmeans', KMeans(n_clusters=25,\n",
        "                                   verbose=False))\n",
        "                                 ], verbose=False)\n",
        "\n",
        "X = data.select_dtypes(np.number)\n",
        "song_cluster_pipeline.fit(X)\n",
        "song_cluster_labels = song_cluster_pipeline.predict(X)\n",
        "data['cluster_label'] = song_cluster_labels"
      ]
    },
    {
      "cell_type": "code",
      "execution_count": null,
      "metadata": {
        "colab": {
          "base_uri": "https://localhost:8080/",
          "height": 542
        },
        "id": "RAJCVDcnZOXa",
        "outputId": "9ed8e86d-6cb1-404d-9502-68d474bf45cc"
      },
      "outputs": [],
      "source": [
        "from sklearn.decomposition import PCA\n",
        "\n",
        "pca_pipeline = Pipeline([('scaler', StandardScaler()), ('PCA', PCA(n_components=2))])\n",
        "song_embedding = pca_pipeline.fit_transform(X)\n",
        "projection = pd.DataFrame(columns=['x', 'y'], data=song_embedding)\n",
        "projection['title'] = data['name']\n",
        "projection['cluster'] = data['cluster_label']\n",
        "\n",
        "fig = px.scatter(\n",
        "    projection, x='x', y='y', color='cluster', hover_data=['x', 'y', 'title'],title='Clusters of songs')\n",
        "fig.show()"
      ]
    },
    {
      "cell_type": "markdown",
      "metadata": {
        "id": "zsKOeUPfZ0uR"
      },
      "source": [
        "# Build Recommender System"
      ]
    },
    {
      "cell_type": "code",
      "execution_count": 18,
      "metadata": {
        "colab": {
          "base_uri": "https://localhost:8080/"
        },
        "id": "-5vxn_LeZUO-",
        "outputId": "3ce8701b-e578-4176-888d-f73f965558af"
      },
      "outputs": [
        {
          "name": "stdout",
          "output_type": "stream",
          "text": [
            "Requirement already satisfied: spotipy in c:\\users\\ahmed abozaid\\appdata\\local\\programs\\python\\python312\\lib\\site-packages (2.24.0)\n",
            "Requirement already satisfied: redis>=3.5.3 in c:\\users\\ahmed abozaid\\appdata\\local\\programs\\python\\python312\\lib\\site-packages (from spotipy) (5.0.4)\n",
            "Requirement already satisfied: requests>=2.25.0 in c:\\users\\ahmed abozaid\\appdata\\local\\programs\\python\\python312\\lib\\site-packages (from spotipy) (2.31.0)\n",
            "Requirement already satisfied: urllib3>=1.26.0 in c:\\users\\ahmed abozaid\\appdata\\local\\programs\\python\\python312\\lib\\site-packages (from spotipy) (1.26.18)\n",
            "Requirement already satisfied: charset-normalizer<4,>=2 in c:\\users\\ahmed abozaid\\appdata\\local\\programs\\python\\python312\\lib\\site-packages (from requests>=2.25.0->spotipy) (3.3.2)\n",
            "Requirement already satisfied: idna<4,>=2.5 in c:\\users\\ahmed abozaid\\appdata\\local\\programs\\python\\python312\\lib\\site-packages (from requests>=2.25.0->spotipy) (3.6)\n",
            "Requirement already satisfied: certifi>=2017.4.17 in c:\\users\\ahmed abozaid\\appdata\\local\\programs\\python\\python312\\lib\\site-packages (from requests>=2.25.0->spotipy) (2024.2.2)\n"
          ]
        }
      ],
      "source": [
        "!pip install spotipy"
      ]
    },
    {
      "cell_type": "code",
      "execution_count": 19,
      "metadata": {
        "colab": {
          "base_uri": "https://localhost:8080/"
        },
        "id": "emIKQxAcneCq",
        "outputId": "049a2b84-2ee0-46c1-ea52-dab9ebde47d5"
      },
      "outputs": [],
      "source": [
        "from spotipy.oauth2 import SpotifyClientCredentials\n",
        "from collections import defaultdict\n",
        "\n",
        "# Prompt user for Spotify API credentials\n",
        "CLIENT_ID = input('Please enter your Spotify Client ID: ')\n",
        "CLIENT_SECRET = input('Please enter your Spotify Client Secret: ')\n",
        "\n",
        "# Initialize Spotify client credentials\n",
        "spotify = SpotifyClientCredentials(client_id=CLIENT_ID, client_secret=CLIENT_SECRET)\n"
      ]
    },
    {
      "cell_type": "code",
      "execution_count": 20,
      "metadata": {
        "id": "nWyoAhQJpOA3"
      },
      "outputs": [],
      "source": [
        "def find_song(name, year):\n",
        "    song_data = defaultdict()\n",
        "    results = sp.search(q= 'track: {} year: {}'.format(name,year), limit=1)\n",
        "    if results['tracks']['items'] == []:\n",
        "        return None\n",
        "\n",
        "    results = results['tracks']['items'][0]\n",
        "    track_id = results['id']\n",
        "    audio_features = sp.audio_features(track_id)[0]\n",
        "\n",
        "    song_data['name'] = [name]\n",
        "    song_data['year'] = [year]\n",
        "    song_data['explicit'] = [int(results['explicit'])]\n",
        "    song_data['duration_ms'] = [results['duration_ms']]\n",
        "    song_data['popularity'] = [results['popularity']]\n",
        "\n",
        "    for key, value in audio_features.items():\n",
        "        song_data[key] = value\n",
        "\n",
        "    return pd.DataFrame(song_data)"
      ]
    },
    {
      "cell_type": "code",
      "execution_count": 21,
      "metadata": {
        "id": "Ka8JuWueqgz4"
      },
      "outputs": [],
      "source": [
        "number_cols = ['valence', 'year', 'acousticness', 'danceability', 'duration_ms', 'energy', 'explicit',\n",
        " 'instrumentalness', 'key', 'liveness', 'loudness', 'mode', 'popularity', 'speechiness', 'tempo']\n",
        "\n",
        "def get_song_data(song, spotify_data):\n",
        "    try:\n",
        "        song_data = spotify_data[(spotify_data['name'] == song['name'])\n",
        "                                & (spotify_data['year'] == song['year'])].iloc[0]\n",
        "        print('Fetching song information from local dataset')\n",
        "        return song_data\n",
        "\n",
        "    except IndexError:\n",
        "        print('Fetching song information from spotify dataset')\n",
        "        return find_song(song['name'], song['year'])\n",
        "\n",
        "def get_mean_vector(song_list, spotify_data):\n",
        "    song_vectors = []\n",
        "    for song in song_list:\n",
        "        song_data = get_song_data(song, spotify_data)\n",
        "        if song_data is None:\n",
        "            print('Warning: {} does not exist in Spotify or in database'.format(song['name']))\n",
        "            continue\n",
        "        song_vector = song_data[number_cols].values\n",
        "        song_vectors.append(song_vector)\n",
        "\n",
        "    song_matrix = np.array(list(song_vectors))#nd-array where n is number of songs in list. It contains all numerical vals of songs in sep list.\n",
        "    #print(f'song_matrix {song_matrix}')\n",
        "    return np.mean(song_matrix, axis=0) # mean of each ele in list, returns 1-d array\n",
        "\n",
        "def flatten_dict_list(dict_list):\n",
        "    flattened_dict = defaultdict()\n",
        "    for key in dict_list[0].keys():\n",
        "        flattened_dict[key] = [] # 'name', 'year'\n",
        "    for dic in dict_list:\n",
        "        for key,value in dic.items():\n",
        "            flattened_dict[key].append(value) # creating list of values\n",
        "    return flattened_dict\n",
        "\n",
        "def recommend_songs( song_list, spotify_data, n_songs=10):\n",
        "\n",
        "    metadata_cols = ['name', 'year', 'artists']\n",
        "    song_dict = flatten_dict_list(song_list)\n",
        "\n",
        "    song_center = get_mean_vector(song_list, spotify_data)\n",
        "    #print(f'song_center {song_center}')\n",
        "    scaler = song_cluster_pipeline.steps[0][1] # StandardScalar()\n",
        "    scaled_data = scaler.transform(spotify_data[number_cols])\n",
        "    scaled_song_center = scaler.transform(song_center.reshape(1, -1))\n",
        "    distances = cdist(scaled_song_center, scaled_data, 'cosine')\n",
        "    #print(f'distances {distances}')\n",
        "    index = list(np.argsort(distances)[:, :n_songs][0])\n",
        "\n",
        "    rec_songs = spotify_data.iloc[index]\n",
        "    rec_songs = rec_songs[~rec_songs['name'].isin(song_dict['name'])]\n",
        "    return rec_songs[metadata_cols].to_dict(orient='records')\n",
        "\n"
      ]
    },
    {
      "cell_type": "code",
      "execution_count": 22,
      "metadata": {
        "colab": {
          "base_uri": "https://localhost:8080/"
        },
        "id": "YVXtkHbGrHNN",
        "outputId": "c4dd1de7-86e5-4b9c-a616-22622a3000ea"
      },
      "outputs": [
        {
          "name": "stdout",
          "output_type": "stream",
          "text": [
            "Fetching song information from local dataset\n",
            "Fetching song information from local dataset\n"
          ]
        },
        {
          "data": {
            "text/plain": [
              "[{'name': 'Face Down', 'year': 2006, 'artists': 'The Red Jumpsuit Apparatus'},\n",
              " {'name': 'BURN IT DOWN', 'year': 2012, 'artists': 'Linkin Park'},\n",
              " {'name': 'The Last Stand', 'year': 2016, 'artists': 'Sabaton'},\n",
              " {'name': 'In Your Eyes (feat. Kenny G) - Remix',\n",
              "  'year': 2020,\n",
              "  'artists': 'The Weeknd Kenny G'},\n",
              " {'name': 'Pray to God (feat. HAIM)',\n",
              "  'year': 2014,\n",
              "  'artists': 'Calvin Harris HAIM'},\n",
              " {'name': '空に歌えば', 'year': 2017, 'artists': 'amazarashi'},\n",
              " {'name': 'Stranded', 'year': 2016, 'artists': 'Gojira'},\n",
              " {'name': 'Tequila - R3HAB Remix', 'year': 2018, 'artists': 'Dan  Shay R3HAB'},\n",
              " {'name': 'Charlie', 'year': 2006, 'artists': 'Red Hot Chili Peppers'},\n",
              " {'name': 'War of Change', 'year': 2012, 'artists': 'Thousand Foot Krutch'}]"
            ]
          },
          "execution_count": 22,
          "metadata": {},
          "output_type": "execute_result"
        }
      ],
      "source": [
        "recommend_songs([{'name': 'I Will Follow', 'year':2010},{'name': 'Come As You Are', 'year':1991}],  data)"
      ]
    },
    {
      "cell_type": "code",
      "execution_count": null,
      "metadata": {},
      "outputs": [],
      "source": []
    }
  ],
  "metadata": {
    "colab": {
      "provenance": []
    },
    "kernelspec": {
      "display_name": "Python 3",
      "name": "python3"
    },
    "language_info": {
      "codemirror_mode": {
        "name": "ipython",
        "version": 3
      },
      "file_extension": ".py",
      "mimetype": "text/x-python",
      "name": "python",
      "nbconvert_exporter": "python",
      "pygments_lexer": "ipython3",
      "version": "3.12.2"
    }
  },
  "nbformat": 4,
  "nbformat_minor": 0
}
